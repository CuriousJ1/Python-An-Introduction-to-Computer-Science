{
 "cells": [
  {
   "cell_type": "markdown",
   "metadata": {},
   "source": [
    "# Object-Orientated Design"
   ]
  },
  {
   "cell_type": "markdown",
   "metadata": {},
   "source": [
    "## 12.2 Case Study: Racquetball Simulation"
   ]
  },
  {
   "cell_type": "markdown",
   "metadata": {},
   "source": [
    "### Full Code:"
   ]
  },
  {
   "cell_type": "code",
   "execution_count": 6,
   "metadata": {},
   "outputs": [],
   "source": [
    "# objrball.py -- Simulation of a racquet game.\n",
    "#             Illustrates design with objects.\n",
    "\n",
    "from random import random\n",
    "\n",
    "class Player:\n",
    "    # A Player keeps track of service probability and score\n",
    "    \n",
    "    def __init__(self,prob):\n",
    "        # Create a player with this probability\n",
    "        self.prob = prob\n",
    "        self.score = 0\n",
    "        \n",
    "    def winsServe(self):\n",
    "        # Returns a Boolean that is true with probability self.prob\n",
    "        return random() < self.prob\n",
    "    \n",
    "    def incScore(self):\n",
    "        # Add a point to this player's score\n",
    "        self.score = self.score + 1\n",
    "        \n",
    "    def getScore(self):\n",
    "        # Returns this player's current score\n",
    "        return self.score\n",
    "    \n",
    "\n",
    "class RBallGame:\n",
    "    # A RBallGame represents a game in progress. A game has two players\n",
    "    # and keeps track of which one is currently serving.\n",
    "    \n",
    "    def __init__(self, probA, probB):\n",
    "        # Create a new game haivng players with the given probs.\n",
    "        \n",
    "        self.playerA = Player(probA)\n",
    "        self.playerB = Player(probB)\n",
    "        self.server = self.playerA   # Player A always serves first\n",
    "        \n",
    "    def play(self):\n",
    "        # Play the game to completion\n",
    "        while not self.isOver():\n",
    "            if self.server.winsServe():\n",
    "                self.server.incScore()\n",
    "            else:\n",
    "                self.changeServer()\n",
    "                \n",
    "    def isOver(self):\n",
    "        # Returns game is finished (i.e. one of the players has won).\n",
    "        a,b = self.getScores()\n",
    "        return a == 15 or b == 15 or \\\n",
    "            (a == 7 and b == 0) or (b == 7 and a == 0)\n",
    "    \n",
    "    \n",
    "    def changeServer(self):\n",
    "        # Switch which player is serving\n",
    "        \n",
    "        if self.server == self.playerA:\n",
    "            self.server = self.playerB\n",
    "        else:\n",
    "            self.server = self.playerA\n",
    "            \n",
    "    \n",
    "    def getScores(self):\n",
    "        # Returns the current scores of player A and player B\n",
    "        \n",
    "        return self.playerA.getScore(), self.playerB.getScore()\n",
    "    \n",
    "\n",
    "class SimStats:\n",
    "    # SimStats handle accumulation of statistics across multiple\n",
    "    # (completed) games. This version tracks the wins and shutouts for\n",
    "    # each player.\n",
    "    \n",
    "    def __init__(self):\n",
    "        # Create a new accumulator for a series of games\n",
    "        \n",
    "        self.winsA = 0\n",
    "        self.winsB = 0\n",
    "        self.shutsA = 0\n",
    "        self.shutsB = 0\n",
    "        \n",
    "    def update(self, aGame):\n",
    "        # Determine the outcome of aGame and update statistics\n",
    "        \n",
    "        a, b = aGame.getScores()           \n",
    "        if a > b:                          # A won the game\n",
    "            self. winsA = self.winsA + 1\n",
    "            if b == 0:\n",
    "                self.shutsA = self.shutsA = + 1\n",
    "        \n",
    "        else:                               # B won the game\n",
    "            self.winsB = self.winsB + 1\n",
    "            if a == 0:\n",
    "                self.shutsB = self.shutsB + 1\n",
    "    \n",
    "    def printReport(self):\n",
    "        # Print a nicely formatted report\n",
    "        \n",
    "        n = self.winsA + self.winsB\n",
    "        print(\"Summary of\", n, \"games:\\n\")\n",
    "        print(\"          wins (% total) shutouts  (% wins)  \")\n",
    "        print(\"--------------------------------------------\")\n",
    "        self.printLine(\"A\", self.winsA, self.shutsA, n)\n",
    "        self.printLine(\"B\", self.winsB, self.shutsB, n)\n",
    "        \n",
    "    def printLine(self, label, wins, shuts, n):\n",
    "        template = \"Player {0}:{1:5}   ({2:5.1%})  {3:11}    ({4})\"\n",
    "        \n",
    "        if wins == 0:\n",
    "            shutStr = \"-----\"\n",
    "            \n",
    "        else:\n",
    "            shutStr = \"{0:4.1%}\".format(float(shuts)/wins)\n",
    "            \n",
    "        print(template.format(label, wins, float(wins)/n, shuts, shutStr))"
   ]
  },
  {
   "cell_type": "code",
   "execution_count": 7,
   "metadata": {},
   "outputs": [],
   "source": [
    "def printIntro():\n",
    "    print(\"This program simulates games of racquetball between two\")\n",
    "    print('players called \"A\" and \"B.\" The ability of each player is')\n",
    "    print(\"indicated by a probability (a number between 0 and 1) that\")\n",
    "    print(\"the player wins the point when serving. Player A always\")\n",
    "    print(\"has the first serve.\\n\")\n",
    "    \n",
    "def getInputs():\n",
    "    # Returns the three simulation parameters\n",
    "    \n",
    "    a = float(input(\"What is the prob. player A wins a serve? \"))\n",
    "    b = float(input(\"What is the prob. player B wins a serve? \"))\n",
    "    n = int(input(\"How many games to simulate? \"))\n",
    "    \n",
    "    return a, b, n"
   ]
  },
  {
   "cell_type": "code",
   "execution_count": 8,
   "metadata": {},
   "outputs": [
    {
     "name": "stdout",
     "output_type": "stream",
     "text": [
      "This program simulates games of racquetball between two\n",
      "players called \"A\" and \"B.\" The ability of each player is\n",
      "indicated by a probability (a number between 0 and 1) that\n",
      "the player wins the point when serving. Player A always\n",
      "has the first serve.\n",
      "\n",
      "What is the prob. player A wins a serve? .5\n",
      "What is the prob. player B wins a serve? .5\n",
      "How many games to simulate? 1000\n",
      "Summary of 1000 games:\n",
      "\n",
      "          wins (% total) shutouts  (% wins)  \n",
      "--------------------------------------------\n",
      "Player A:  523   (52.3%)            1    (0.2%)\n",
      "Player B:  477   (47.7%)           43    (9.0%)\n",
      "\n",
      "Press <Enter> to quit\n"
     ]
    },
    {
     "data": {
      "text/plain": [
       "''"
      ]
     },
     "execution_count": 8,
     "metadata": {},
     "output_type": "execute_result"
    }
   ],
   "source": [
    "def main():\n",
    "    printIntro()\n",
    "    \n",
    "    probA, probB, n = getInputs()\n",
    "    \n",
    "    \n",
    "    # Play the games\n",
    "    stats = SimStats()\n",
    "    for i in range(n):\n",
    "        theGame = RBallGame(probA, probB)  # create a new game\n",
    "        theGame.play()                     # play it\n",
    "        stats.update(theGame)              # extract info\n",
    "        \n",
    "    # Print the results\n",
    "    stats.printReport()\n",
    "    \n",
    "main()\n",
    "input(\"\\nPress <Enter> to quit\")"
   ]
  },
  {
   "cell_type": "markdown",
   "metadata": {},
   "source": [
    "### 12.2.1 Candidate Objects and Methods\n",
    "\n",
    "The code in 1. is the play method for a racquetball game."
   ]
  },
  {
   "cell_type": "code",
   "execution_count": null,
   "metadata": {},
   "outputs": [],
   "source": [
    "# 1.\n",
    "theGame = RBallGame(probA, probB)\n",
    "theGame.play()"
   ]
  },
  {
   "cell_type": "code",
   "execution_count": null,
   "metadata": {},
   "outputs": [],
   "source": [
    "def main():\n",
    "    printIntro()\n",
    "    probA, probB, n = getInputs()\n",
    "    \n",
    "    # Play the games\n",
    "    stats = SimStats()\n",
    "    for i in range(n):\n",
    "        theGame = RBallGame(probA, probB)   # Create a new game\n",
    "        theGame.play()                      # play it\n",
    "        stats.update(theGame)               # get info about completing game\n",
    "    \n",
    "    # Print the results\n",
    "    stats.printReport()"
   ]
  },
  {
   "cell_type": "markdown",
   "metadata": {},
   "source": [
    "### 12.2.2 Implementing SimStats\n",
    "\n",
    "Keeps track of all the information about a series of games.\n",
    "\n",
    "Whereas the update methods. It takes a game as a normal parameter and must update the four counts accordingly.\n",
    "\n",
    "Remember we are not allows to directly access the instance variables of aGame. We don't even know yet those instance variables will be.\n",
    "\n",
    "Our analysis suggests the need for a new method in the RBallGame class. We need to extend the interface so that aGame has a way of reporting the final score."
   ]
  },
  {
   "cell_type": "code",
   "execution_count": 4,
   "metadata": {},
   "outputs": [],
   "source": [
    "class SimStats:\n",
    "    \n",
    "    def __init__(self):\n",
    "        \n",
    "        self.winsA = 0\n",
    "        self.winsB = 0\n",
    "        self.shutsA = 0\n",
    "        self.shutsB = 0"
   ]
  },
  {
   "cell_type": "code",
   "execution_count": null,
   "metadata": {},
   "outputs": [],
   "source": [
    "def update(self, aGame):"
   ]
  },
  {
   "cell_type": "code",
   "execution_count": 5,
   "metadata": {},
   "outputs": [],
   "source": [
    "def update(self, aGame):\n",
    "    \n",
    "    a, b = aGame.getScores()\n",
    "    if a > b:                               # A won the game\n",
    "        self.winsA = self.winsA + 1\n",
    "        if b == 0:\n",
    "            self.shutsA = self.shutsA + 1\n",
    "    \n",
    "    else:                                   # B won the game\n",
    "        self.winsB = self.winsB + 1\n",
    "        if a == 0:\n",
    "            self.shutsB = self.shutsB + 1"
   ]
  },
  {
   "cell_type": "code",
   "execution_count": null,
   "metadata": {},
   "outputs": [],
   "source": [
    "def printReport(self):\n",
    "    \n",
    "    # Print a nicely formatted report\n",
    "    n = self.winsA + self.winsB\n",
    "    print(\"Summary of\", n, \"games:\\n\")\n",
    "    print(\"          wins (% total)   shutouts  (% wins)  \")\n",
    "    print(\"----------------------------------------------\")\n",
    "    self.printLine(\"A\", self.winsA, self.shutsA, n)\n",
    "    self.printLine(\"B\", self.winsB, self.shutsB, n)"
   ]
  },
  {
   "cell_type": "code",
   "execution_count": null,
   "metadata": {},
   "outputs": [],
   "source": [
    "def printLine(self, label, wins, shuts, n):\n",
    "    template = \"Player {0}:{1:5}  ({2:5.1%})  {3:11}  ({4})\"\n",
    "    \n",
    "    if wins == 0:       # Avoid division by zero!\n",
    "        shutStr = \"-----\"\n",
    "    else:\n",
    "        shutStr = \"{0:4.1%}\".format(flat(shuts)/wins)\n",
    "    \n",
    "    print(template.format(label, wins, float(wins)/n, shuts, shutStr))"
   ]
  },
  {
   "cell_type": "markdown",
   "metadata": {},
   "source": [
    "### 12.2.3 Implementing RBallGame"
   ]
  },
  {
   "cell_type": "code",
   "execution_count": null,
   "metadata": {},
   "outputs": [],
   "source": [
    "class RBallGame:\n",
    "    \n",
    "    def __init__(self, probA, probB):\n",
    "       \n",
    "        self.playerA = Player(probA)\n",
    "        self.playerB = Player(probB)\n",
    "        self.server = self.playerA      # Player A always serves first"
   ]
  },
  {
   "cell_type": "code",
   "execution_count": null,
   "metadata": {},
   "outputs": [],
   "source": [
    "theGame = RBallGame(.6,.5)"
   ]
  },
  {
   "cell_type": "code",
   "execution_count": null,
   "metadata": {},
   "outputs": [],
   "source": [
    "def play(self):\n",
    "    while not self.isOver():"
   ]
  },
  {
   "cell_type": "code",
   "execution_count": null,
   "metadata": {},
   "outputs": [],
   "source": [
    "if self.server.winsServe():"
   ]
  },
  {
   "cell_type": "code",
   "execution_count": null,
   "metadata": {},
   "outputs": [],
   "source": [
    "# Apart of Rball game\n",
    "\n",
    "def play(self):\n",
    "    \n",
    "    while not self.isOver():\n",
    "        \n",
    "        if self.server.winsServer():\n",
    "            self.server.incSCore()\n",
    "            \n",
    "        else:\n",
    "            self.changeServer() "
   ]
  },
  {
   "cell_type": "code",
   "execution_count": null,
   "metadata": {},
   "outputs": [],
   "source": [
    "# Returns the score of the 2 players\n",
    "\n",
    "def getScores(self):\n",
    "    return self.playerA.getSCore(), self.playerB.getScore()"
   ]
  },
  {
   "cell_type": "markdown",
   "metadata": {},
   "source": [
    "### 12.2.4 Implementing Player"
   ]
  },
  {
   "cell_type": "code",
   "execution_count": null,
   "metadata": {},
   "outputs": [],
   "source": [
    "def __init__(self, prob):\n",
    "    \n",
    "    # Create a player with this probability\n",
    "    self.prob = prob\n",
    "    self.score = 0"
   ]
  },
  {
   "cell_type": "code",
   "execution_count": null,
   "metadata": {},
   "outputs": [],
   "source": [
    "def winsServe(self):\n",
    "    return random() < self.prob"
   ]
  },
  {
   "cell_type": "code",
   "execution_count": null,
   "metadata": {},
   "outputs": [],
   "source": [
    "def incScore(self):\n",
    "    self.score = self.score + 1"
   ]
  },
  {
   "cell_type": "code",
   "execution_count": null,
   "metadata": {},
   "outputs": [],
   "source": [
    "def getScore(self):\n",
    "    returns self.score"
   ]
  },
  {
   "cell_type": "markdown",
   "metadata": {},
   "source": [
    "## 12.3 Case Study: Dice Poker"
   ]
  },
  {
   "cell_type": "markdown",
   "metadata": {},
   "source": [
    "### Full Code:"
   ]
  },
  {
   "cell_type": "code",
   "execution_count": null,
   "metadata": {},
   "outputs": [],
   "source": []
  },
  {
   "cell_type": "markdown",
   "metadata": {},
   "source": [
    "### 12.3.3 Implementing the Model"
   ]
  },
  {
   "cell_type": "markdown",
   "metadata": {},
   "source": [
    "#### Implement Dice\n",
    "\n",
    "The code first creates a list of five zeroes. These need to be set to some random values. Since we are going to implement a rollAll function anyways, calling it here saves duplciating code."
   ]
  },
  {
   "cell_type": "markdown",
   "metadata": {},
   "source": [
    "##### Full Code"
   ]
  },
  {
   "cell_type": "code",
   "execution_count": 58,
   "metadata": {},
   "outputs": [],
   "source": [
    "from random import randrange\n",
    "\n",
    "class Dice:\n",
    "    \n",
    "    def __init__(self):\n",
    "        self.dice = [0] * 5\n",
    "        self.rollAll()\n",
    "        \n",
    "    def roll(self, which):\n",
    "        for pos in which:\n",
    "            self.dice[pos] = randrange(1,7)\n",
    "            \n",
    "    def rollAll(self):\n",
    "        self.roll(range(5))\n",
    "        \n",
    "    def values(self):\n",
    "        return self.dice[:]\n",
    "    \n",
    "    def score(self):\n",
    "    \n",
    "    # Create the counts list\n",
    "        counts = [0] * 7\n",
    "        for value in self.dice:\n",
    "            counts[value] = counts[value] + 1\n",
    "        \n",
    "        # score the hand\n",
    "        if 5 in counts:\n",
    "             return \"Five of a Kind\", 30\n",
    "    \n",
    "        elif 4 in counts:\n",
    "            return \"Four of a Kind\", 15\n",
    "    \n",
    "        elif (3 in counts) and (2 in counts):\n",
    "            return \"Full House\", 12\n",
    "    \n",
    "        elif 3 in counts:\n",
    "            return \"Three of a Kind\", 8\n",
    "    \n",
    "        elif not (2 in counts) and (counts[1] == 0 or counts[6] == 0):\n",
    "            return \"Straight\", 20\n",
    "    \n",
    "        elif counts.count(2) == 2:\n",
    "            return \"Two Pairs\", 5\n",
    "    \n",
    "        else:\n",
    "            return \"Garbage\", 0"
   ]
  },
  {
   "cell_type": "code",
   "execution_count": 26,
   "metadata": {},
   "outputs": [],
   "source": [
    "class Dice:\n",
    "    \n",
    "    def __init__(self):\n",
    "        self.dice = [0] * 5\n",
    "        self.rollAll()"
   ]
  },
  {
   "cell_type": "code",
   "execution_count": 27,
   "metadata": {},
   "outputs": [],
   "source": [
    "def roll(self, which):\n",
    "    for pos in which:\n",
    "        self.dice[pos] = randrange(1,7)"
   ]
  },
  {
   "cell_type": "code",
   "execution_count": 32,
   "metadata": {},
   "outputs": [],
   "source": [
    "def rollAll(self):\n",
    "    self.roll(range(5))"
   ]
  },
  {
   "cell_type": "code",
   "execution_count": 29,
   "metadata": {},
   "outputs": [],
   "source": [
    "def values(self):\n",
    "    return self.dice[:]"
   ]
  },
  {
   "cell_type": "code",
   "execution_count": 30,
   "metadata": {},
   "outputs": [],
   "source": [
    "def score(self):\n",
    "    \n",
    "    # Create the counts list\n",
    "    counts = [0] * 7\n",
    "    for value in self.dice:\n",
    "        counts[value] = counts[value] + 1\n",
    "        \n",
    "    # score the hand\n",
    "    if 5 in counts:\n",
    "        return \"Five of a Kind\", 30\n",
    "    \n",
    "    elif 4 in counts:\n",
    "        return \"Four of a Kind\", 15\n",
    "    \n",
    "    elif (3 in counts) and (2 in counts):\n",
    "        return \"Full House\", 12\n",
    "    \n",
    "    elif 3 in counts:\n",
    "        return \"Three of a Kind\", 8\n",
    "    \n",
    "    elif not (2 in counts) and (counts[1] == 0 or counts[6] == 0):\n",
    "        return \"Straight\", 20\n",
    "    \n",
    "    elif counts.count(2) == 2:\n",
    "        return \"Two Pairs\", 5\n",
    "    \n",
    "    else:\n",
    "        return \"Garbage\", 0"
   ]
  },
  {
   "cell_type": "code",
   "execution_count": 59,
   "metadata": {},
   "outputs": [],
   "source": [
    "d = Dice()"
   ]
  },
  {
   "cell_type": "code",
   "execution_count": 60,
   "metadata": {},
   "outputs": [
    {
     "data": {
      "text/plain": [
       "[1, 1, 1, 6, 6]"
      ]
     },
     "execution_count": 60,
     "metadata": {},
     "output_type": "execute_result"
    }
   ],
   "source": [
    "d.values()"
   ]
  },
  {
   "cell_type": "code",
   "execution_count": 61,
   "metadata": {},
   "outputs": [
    {
     "data": {
      "text/plain": [
       "('Full House', 12)"
      ]
     },
     "execution_count": 61,
     "metadata": {},
     "output_type": "execute_result"
    }
   ],
   "source": [
    "d.score()"
   ]
  },
  {
   "cell_type": "code",
   "execution_count": 62,
   "metadata": {},
   "outputs": [],
   "source": [
    "d.roll([4])"
   ]
  },
  {
   "cell_type": "code",
   "execution_count": 63,
   "metadata": {},
   "outputs": [
    {
     "data": {
      "text/plain": [
       "[1, 1, 1, 6, 6]"
      ]
     },
     "execution_count": 63,
     "metadata": {},
     "output_type": "execute_result"
    }
   ],
   "source": [
    "d.values()"
   ]
  },
  {
   "cell_type": "code",
   "execution_count": 64,
   "metadata": {},
   "outputs": [],
   "source": [
    "d.roll([4])"
   ]
  },
  {
   "cell_type": "code",
   "execution_count": 65,
   "metadata": {},
   "outputs": [
    {
     "data": {
      "text/plain": [
       "[1, 1, 1, 6, 2]"
      ]
     },
     "execution_count": 65,
     "metadata": {},
     "output_type": "execute_result"
    }
   ],
   "source": [
    "d.values()"
   ]
  },
  {
   "cell_type": "code",
   "execution_count": 66,
   "metadata": {},
   "outputs": [
    {
     "data": {
      "text/plain": [
       "('Three of a Kind', 8)"
      ]
     },
     "execution_count": 66,
     "metadata": {},
     "output_type": "execute_result"
    }
   ],
   "source": [
    "d.score()"
   ]
  },
  {
   "cell_type": "markdown",
   "metadata": {},
   "source": [
    "#### Implement PokerApp\n",
    "\n",
    "Class initialising calls the Dice Class.\n",
    "\n",
    "The run definition runs a loop until they are out of money or chooses to quit. Since its cost is $10 a hand. Importantant to note the self.interface.close() that allows us to do any necessary cleaning up such as print a final message for the user or closing a graphics window.\n",
    "\n",
    "The playRound definition uses the $10 fee to play a round is first deducted and the interface is updates with the new amount of money remaining. The program then processes a series of rolls (doRolls), shows the user the result, and updates the amount of money accordingly.\n",
    "\n",
    "The doRolls definitions, initially all of the dice will be rolled. Then we need a loop that continues rolling user-selected dice until either the users chooses to quit rolling or the limit of three rolls is reached."
   ]
  },
  {
   "cell_type": "markdown",
   "metadata": {},
   "source": [
    "##### Full Code:"
   ]
  },
  {
   "cell_type": "code",
   "execution_count": 68,
   "metadata": {},
   "outputs": [],
   "source": [
    "class PokerApp:\n",
    "    \n",
    "    def __init__(self):\n",
    "        \n",
    "        self.dice = Dice()\n",
    "        self.money = 100\n",
    "        self.interface = PokerInterface()\n",
    "        \n",
    "    def run(self):\n",
    "    \n",
    "        while self.money >= 10 and self.interface.wantToPlay():\n",
    "            self.playRound()\n",
    "        self.interface.close()\n",
    "        \n",
    "    def playRound(self):\n",
    "    \n",
    "        self.money = self.money - 10\n",
    "        self.interface.setMoney(self.money)\n",
    "        self.doRolls()\n",
    "        result, score = self.dice.score()\n",
    "    \n",
    "        self.interface.showResult(result,score)\n",
    "        self.money = self.money + score\n",
    "        self.interface.setMoney(self.money)\n",
    "        \n",
    "    def doRolls(self):\n",
    "    \n",
    "        self.dice.rollAll()\n",
    "        roll = 1\n",
    "        self.interface.setDice(self.dice.values())\n",
    "        toRoll = self.interface.chooseDice()\n",
    "    \n",
    "        while roll < 3 and toRoll != []:\n",
    "            self.dice.roll(toRoll)\n",
    "            roll = roll + 1\n",
    "            self.interface.setDice(self.dice.values())\n",
    "            if roll < 3:\n",
    "                toRoll = self.interface.chooseDice()"
   ]
  },
  {
   "cell_type": "code",
   "execution_count": 36,
   "metadata": {},
   "outputs": [],
   "source": [
    "class PokerApp:\n",
    "    \n",
    "    def __init__(self):\n",
    "        \n",
    "        self.dice = Dice()\n",
    "        self.money = 100\n",
    "        self.interface = PokerInterface()"
   ]
  },
  {
   "cell_type": "code",
   "execution_count": 37,
   "metadata": {},
   "outputs": [],
   "source": [
    "def run(self):\n",
    "    \n",
    "    while self.money >= 10 and self.interface.wantToPlay():\n",
    "        self.playRound()\n",
    "    self.interface.close()"
   ]
  },
  {
   "cell_type": "code",
   "execution_count": 38,
   "metadata": {},
   "outputs": [],
   "source": [
    "def playRound(self):\n",
    "    \n",
    "    self.money = self.money - 10\n",
    "    self.interface.setMoney(self.money)\n",
    "    self.doRolls()\n",
    "    result, score = self.dice.score()\n",
    "    \n",
    "    self.interface.showResult(result,score)\n",
    "    self.money = self.money + score\n",
    "    self.interface.setMoney(self.money)"
   ]
  },
  {
   "cell_type": "code",
   "execution_count": 39,
   "metadata": {},
   "outputs": [],
   "source": [
    "def doRolls(self):\n",
    "    \n",
    "    self.dice.rollAll()\n",
    "    roll = 1\n",
    "    self.interface.setDice(self.dice.values())\n",
    "    toRoll = self.interface.chooseDice()\n",
    "    \n",
    "    while roll < 3 and toRoll != []:\n",
    "        self.dice.roll(toRoll)\n",
    "        roll = roll + 1\n",
    "        self.interface.setDice(self.dice.values())\n",
    "        if roll < 3:\n",
    "            toRoll = self.interface.chooseDice()"
   ]
  },
  {
   "cell_type": "markdown",
   "metadata": {},
   "source": [
    "### 12.3.4 A Text-Based UI\n",
    "\n",
    "We adjust the class pokerapp to take in a interface parameter.\n",
    "\n",
    "We create the TextInterface as test code by trying to implement each required method in the simplest possible way."
   ]
  },
  {
   "cell_type": "markdown",
   "metadata": {},
   "source": [
    "##### Full Code"
   ]
  },
  {
   "cell_type": "code",
   "execution_count": 69,
   "metadata": {},
   "outputs": [],
   "source": [
    "class PokerApp:\n",
    "    \n",
    "    def __init__(self, interface):\n",
    "        \n",
    "        self.dice = Dice()\n",
    "        self.money = 100\n",
    "        self.interface = interface()\n",
    "        \n",
    "    def run(self):\n",
    "    \n",
    "        while self.money >= 10 and self.interface.wantToPlay():\n",
    "            self.playRound()\n",
    "        self.interface.close()\n",
    "        \n",
    "    def playRound(self):\n",
    "    \n",
    "        self.money = self.money - 10\n",
    "        self.interface.setMoney(self.money)\n",
    "        self.doRolls()\n",
    "        result, score = self.dice.score()\n",
    "    \n",
    "        self.interface.showResult(result,score)\n",
    "        self.money = self.money + score\n",
    "        self.interface.setMoney(self.money)\n",
    "        \n",
    "    def doRolls(self):\n",
    "    \n",
    "        self.dice.rollAll()\n",
    "        roll = 1\n",
    "        self.interface.setDice(self.dice.values())\n",
    "        toRoll = self.interface.chooseDice()\n",
    "    \n",
    "        while roll < 3 and toRoll != []:\n",
    "            self.dice.roll(toRoll)\n",
    "            roll = roll + 1\n",
    "            self.interface.setDice(self.dice.values())\n",
    "            if roll < 3:\n",
    "                toRoll = self.interface.chooseDice()"
   ]
  },
  {
   "cell_type": "code",
   "execution_count": 41,
   "metadata": {},
   "outputs": [],
   "source": [
    "class PokerApp:\n",
    "    \n",
    "    def __init__(self, interface):\n",
    "        \n",
    "        self.dice = Dice()\n",
    "        self.money = 100\n",
    "        self.interface = interface"
   ]
  },
  {
   "cell_type": "code",
   "execution_count": 70,
   "metadata": {},
   "outputs": [],
   "source": [
    "# textpoker\n",
    "\n",
    "class TextInterface:\n",
    "    \n",
    "    def __init__(self):\n",
    "        print(\"Welcome to video poker.\")\n",
    "        \n",
    "    def setMoney(self, amt):\n",
    "        print(\"You currently have ${0}. \".format(amt))\n",
    "        \n",
    "    def setDice(self, values):\n",
    "        print(\"Dice:\", values)\n",
    "        \n",
    "    def wantToPlay(self):\n",
    "        ans = input(\"Do you wish to try your luck? \")\n",
    "        return ans[0] in \"yY\"\n",
    "    \n",
    "    def close(self):\n",
    "        print(\"\\nThanks for playing!\")\n",
    "        \n",
    "    def showResult(self, msg, score):\n",
    "        print(\"{0}. You win ${1}.\".format(msg, score))\n",
    "        \n",
    "    def chooseDice(self):\n",
    "        return eval(input(\"Enter a list of which to change ([] to stop) \"))"
   ]
  },
  {
   "cell_type": "code",
   "execution_count": 74,
   "metadata": {},
   "outputs": [
    {
     "name": "stdout",
     "output_type": "stream",
     "text": [
      "Welcome to video poker.\n",
      "Do you wish to try your luck? y\n",
      "You currently have $90. \n",
      "Dice: [3, 5, 2, 5, 2]\n",
      "Enter a list of which to change ([] to stop) [6,5,4,5]\n"
     ]
    },
    {
     "ename": "IndexError",
     "evalue": "list assignment index out of range",
     "output_type": "error",
     "traceback": [
      "\u001b[0;31m---------------------------------------------------------------------------\u001b[0m",
      "\u001b[0;31mIndexError\u001b[0m                                Traceback (most recent call last)",
      "\u001b[0;32m<ipython-input-74-101485f53657>\u001b[0m in \u001b[0;36m<module>\u001b[0;34m\u001b[0m\n\u001b[1;32m      6\u001b[0m \u001b[0minter\u001b[0m \u001b[0;34m=\u001b[0m \u001b[0mTextInterface\u001b[0m\u001b[0;34m\u001b[0m\u001b[0;34m\u001b[0m\u001b[0m\n\u001b[1;32m      7\u001b[0m \u001b[0mapp\u001b[0m \u001b[0;34m=\u001b[0m \u001b[0mPokerApp\u001b[0m\u001b[0;34m(\u001b[0m\u001b[0minter\u001b[0m\u001b[0;34m)\u001b[0m\u001b[0;34m\u001b[0m\u001b[0;34m\u001b[0m\u001b[0m\n\u001b[0;32m----> 8\u001b[0;31m \u001b[0mapp\u001b[0m\u001b[0;34m.\u001b[0m\u001b[0mrun\u001b[0m\u001b[0;34m(\u001b[0m\u001b[0;34m)\u001b[0m\u001b[0;34m\u001b[0m\u001b[0;34m\u001b[0m\u001b[0m\n\u001b[0m",
      "\u001b[0;32m<ipython-input-69-f6a9ad1ae9d9>\u001b[0m in \u001b[0;36mrun\u001b[0;34m(self)\u001b[0m\n\u001b[1;32m     10\u001b[0m \u001b[0;34m\u001b[0m\u001b[0m\n\u001b[1;32m     11\u001b[0m         \u001b[0;32mwhile\u001b[0m \u001b[0mself\u001b[0m\u001b[0;34m.\u001b[0m\u001b[0mmoney\u001b[0m \u001b[0;34m>=\u001b[0m \u001b[0;36m10\u001b[0m \u001b[0;32mand\u001b[0m \u001b[0mself\u001b[0m\u001b[0;34m.\u001b[0m\u001b[0minterface\u001b[0m\u001b[0;34m.\u001b[0m\u001b[0mwantToPlay\u001b[0m\u001b[0;34m(\u001b[0m\u001b[0;34m)\u001b[0m\u001b[0;34m:\u001b[0m\u001b[0;34m\u001b[0m\u001b[0;34m\u001b[0m\u001b[0m\n\u001b[0;32m---> 12\u001b[0;31m             \u001b[0mself\u001b[0m\u001b[0;34m.\u001b[0m\u001b[0mplayRound\u001b[0m\u001b[0;34m(\u001b[0m\u001b[0;34m)\u001b[0m\u001b[0;34m\u001b[0m\u001b[0;34m\u001b[0m\u001b[0m\n\u001b[0m\u001b[1;32m     13\u001b[0m         \u001b[0mself\u001b[0m\u001b[0;34m.\u001b[0m\u001b[0minterface\u001b[0m\u001b[0;34m.\u001b[0m\u001b[0mclose\u001b[0m\u001b[0;34m(\u001b[0m\u001b[0;34m)\u001b[0m\u001b[0;34m\u001b[0m\u001b[0;34m\u001b[0m\u001b[0m\n\u001b[1;32m     14\u001b[0m \u001b[0;34m\u001b[0m\u001b[0m\n",
      "\u001b[0;32m<ipython-input-69-f6a9ad1ae9d9>\u001b[0m in \u001b[0;36mplayRound\u001b[0;34m(self)\u001b[0m\n\u001b[1;32m     17\u001b[0m         \u001b[0mself\u001b[0m\u001b[0;34m.\u001b[0m\u001b[0mmoney\u001b[0m \u001b[0;34m=\u001b[0m \u001b[0mself\u001b[0m\u001b[0;34m.\u001b[0m\u001b[0mmoney\u001b[0m \u001b[0;34m-\u001b[0m \u001b[0;36m10\u001b[0m\u001b[0;34m\u001b[0m\u001b[0;34m\u001b[0m\u001b[0m\n\u001b[1;32m     18\u001b[0m         \u001b[0mself\u001b[0m\u001b[0;34m.\u001b[0m\u001b[0minterface\u001b[0m\u001b[0;34m.\u001b[0m\u001b[0msetMoney\u001b[0m\u001b[0;34m(\u001b[0m\u001b[0mself\u001b[0m\u001b[0;34m.\u001b[0m\u001b[0mmoney\u001b[0m\u001b[0;34m)\u001b[0m\u001b[0;34m\u001b[0m\u001b[0;34m\u001b[0m\u001b[0m\n\u001b[0;32m---> 19\u001b[0;31m         \u001b[0mself\u001b[0m\u001b[0;34m.\u001b[0m\u001b[0mdoRolls\u001b[0m\u001b[0;34m(\u001b[0m\u001b[0;34m)\u001b[0m\u001b[0;34m\u001b[0m\u001b[0;34m\u001b[0m\u001b[0m\n\u001b[0m\u001b[1;32m     20\u001b[0m         \u001b[0mresult\u001b[0m\u001b[0;34m,\u001b[0m \u001b[0mscore\u001b[0m \u001b[0;34m=\u001b[0m \u001b[0mself\u001b[0m\u001b[0;34m.\u001b[0m\u001b[0mdice\u001b[0m\u001b[0;34m.\u001b[0m\u001b[0mscore\u001b[0m\u001b[0;34m(\u001b[0m\u001b[0;34m)\u001b[0m\u001b[0;34m\u001b[0m\u001b[0;34m\u001b[0m\u001b[0m\n\u001b[1;32m     21\u001b[0m \u001b[0;34m\u001b[0m\u001b[0m\n",
      "\u001b[0;32m<ipython-input-69-f6a9ad1ae9d9>\u001b[0m in \u001b[0;36mdoRolls\u001b[0;34m(self)\u001b[0m\n\u001b[1;32m     32\u001b[0m \u001b[0;34m\u001b[0m\u001b[0m\n\u001b[1;32m     33\u001b[0m         \u001b[0;32mwhile\u001b[0m \u001b[0mroll\u001b[0m \u001b[0;34m<\u001b[0m \u001b[0;36m3\u001b[0m \u001b[0;32mand\u001b[0m \u001b[0mtoRoll\u001b[0m \u001b[0;34m!=\u001b[0m \u001b[0;34m[\u001b[0m\u001b[0;34m]\u001b[0m\u001b[0;34m:\u001b[0m\u001b[0;34m\u001b[0m\u001b[0;34m\u001b[0m\u001b[0m\n\u001b[0;32m---> 34\u001b[0;31m             \u001b[0mself\u001b[0m\u001b[0;34m.\u001b[0m\u001b[0mdice\u001b[0m\u001b[0;34m.\u001b[0m\u001b[0mroll\u001b[0m\u001b[0;34m(\u001b[0m\u001b[0mtoRoll\u001b[0m\u001b[0;34m)\u001b[0m\u001b[0;34m\u001b[0m\u001b[0;34m\u001b[0m\u001b[0m\n\u001b[0m\u001b[1;32m     35\u001b[0m             \u001b[0mroll\u001b[0m \u001b[0;34m=\u001b[0m \u001b[0mroll\u001b[0m \u001b[0;34m+\u001b[0m \u001b[0;36m1\u001b[0m\u001b[0;34m\u001b[0m\u001b[0;34m\u001b[0m\u001b[0m\n\u001b[1;32m     36\u001b[0m             \u001b[0mself\u001b[0m\u001b[0;34m.\u001b[0m\u001b[0minterface\u001b[0m\u001b[0;34m.\u001b[0m\u001b[0msetDice\u001b[0m\u001b[0;34m(\u001b[0m\u001b[0mself\u001b[0m\u001b[0;34m.\u001b[0m\u001b[0mdice\u001b[0m\u001b[0;34m.\u001b[0m\u001b[0mvalues\u001b[0m\u001b[0;34m(\u001b[0m\u001b[0;34m)\u001b[0m\u001b[0;34m)\u001b[0m\u001b[0;34m\u001b[0m\u001b[0;34m\u001b[0m\u001b[0m\n",
      "\u001b[0;32m<ipython-input-58-549bb1b6b503>\u001b[0m in \u001b[0;36mroll\u001b[0;34m(self, which)\u001b[0m\n\u001b[1;32m      9\u001b[0m     \u001b[0;32mdef\u001b[0m \u001b[0mroll\u001b[0m\u001b[0;34m(\u001b[0m\u001b[0mself\u001b[0m\u001b[0;34m,\u001b[0m \u001b[0mwhich\u001b[0m\u001b[0;34m)\u001b[0m\u001b[0;34m:\u001b[0m\u001b[0;34m\u001b[0m\u001b[0;34m\u001b[0m\u001b[0m\n\u001b[1;32m     10\u001b[0m         \u001b[0;32mfor\u001b[0m \u001b[0mpos\u001b[0m \u001b[0;32min\u001b[0m \u001b[0mwhich\u001b[0m\u001b[0;34m:\u001b[0m\u001b[0;34m\u001b[0m\u001b[0;34m\u001b[0m\u001b[0m\n\u001b[0;32m---> 11\u001b[0;31m             \u001b[0mself\u001b[0m\u001b[0;34m.\u001b[0m\u001b[0mdice\u001b[0m\u001b[0;34m[\u001b[0m\u001b[0mpos\u001b[0m\u001b[0;34m]\u001b[0m \u001b[0;34m=\u001b[0m \u001b[0mrandrange\u001b[0m\u001b[0;34m(\u001b[0m\u001b[0;36m1\u001b[0m\u001b[0;34m,\u001b[0m\u001b[0;36m7\u001b[0m\u001b[0;34m)\u001b[0m\u001b[0;34m\u001b[0m\u001b[0;34m\u001b[0m\u001b[0m\n\u001b[0m\u001b[1;32m     12\u001b[0m \u001b[0;34m\u001b[0m\u001b[0m\n\u001b[1;32m     13\u001b[0m     \u001b[0;32mdef\u001b[0m \u001b[0mrollAll\u001b[0m\u001b[0;34m(\u001b[0m\u001b[0mself\u001b[0m\u001b[0;34m)\u001b[0m\u001b[0;34m:\u001b[0m\u001b[0;34m\u001b[0m\u001b[0;34m\u001b[0m\u001b[0m\n",
      "\u001b[0;31mIndexError\u001b[0m: list assignment index out of range"
     ]
    }
   ],
   "source": [
    "# textpoker.py -- video dice poker using a text-based interface.\n",
    "\n",
    "#from pokerapp import PokerApp\n",
    "#from textpoker import TaxInterface\n",
    "\n",
    "inter = TextInterface\n",
    "app = PokerApp(inter)\n",
    "app.run()"
   ]
  },
  {
   "cell_type": "markdown",
   "metadata": {},
   "source": [
    "### 12.3.5 Developing a GUI"
   ]
  },
  {
   "cell_type": "markdown",
   "metadata": {},
   "source": [
    "#### Managing the Widgets"
   ]
  },
  {
   "cell_type": "code",
   "execution_count": 46,
   "metadata": {},
   "outputs": [
    {
     "ename": "SyntaxError",
     "evalue": "unexpected EOF while parsing (<ipython-input-46-15d80c858f97>, line 2)",
     "output_type": "error",
     "traceback": [
      "\u001b[0;36m  File \u001b[0;32m\"<ipython-input-46-15d80c858f97>\"\u001b[0;36m, line \u001b[0;32m2\u001b[0m\n\u001b[0;31m    if choice == \"Roll Dice\":\u001b[0m\n\u001b[0m                             ^\u001b[0m\n\u001b[0;31mSyntaxError\u001b[0m\u001b[0;31m:\u001b[0m unexpected EOF while parsing\n"
     ]
    }
   ],
   "source": [
    "choice = self.choose([\"Roll Dice\", \"Quit\"])\n",
    "if choice == \"Roll Dice\":"
   ]
  },
  {
   "cell_type": "code",
   "execution_count": 75,
   "metadata": {},
   "outputs": [],
   "source": [
    "def choose(self, choices):\n",
    "    buttons = self.buttons\n",
    "    \n",
    "    # activate choice buttons, deactivate others\n",
    "    for b in buttons:\n",
    "        \n",
    "        if b.getLabel() in choices:\n",
    "            b.activate()\n",
    "        else:\n",
    "            b.deactivate()\n",
    "            \n",
    "    # get mouse clicks until an active button is clicked\n",
    "    while True:\n",
    "        p = self.win.getMouse()\n",
    "        \n",
    "        for b in buttons:\n",
    "            if b.clicked(p):\n",
    "                return b.getLabel()   # function exit here."
   ]
  },
  {
   "cell_type": "code",
   "execution_count": 48,
   "metadata": {},
   "outputs": [],
   "source": [
    "def setValue(self, value):\n",
    "    \n",
    "    # Turn all the pips off  \n",
    "    for pip in self.pips:\n",
    "        pip.setFill(self.background)\n",
    "        \n",
    "    # Turn the appropriate pips back on\n",
    "    for i in self.onTable[value]:\n",
    "        self.pips[i].setFill(self.foreground)"
   ]
  },
  {
   "cell_type": "code",
   "execution_count": 49,
   "metadata": {},
   "outputs": [
    {
     "ename": "NameError",
     "evalue": "name 'value' is not defined",
     "output_type": "error",
     "traceback": [
      "\u001b[0;31m---------------------------------------------------------------------------\u001b[0m",
      "\u001b[0;31mNameError\u001b[0m                                 Traceback (most recent call last)",
      "\u001b[0;32m<ipython-input-49-b5b63a48dc94>\u001b[0m in \u001b[0;36m<module>\u001b[0;34m\u001b[0m\n\u001b[0;32m----> 1\u001b[0;31m \u001b[0mset\u001b[0m\u001b[0;34m.\u001b[0m\u001b[0mvalue\u001b[0m \u001b[0;34m=\u001b[0m \u001b[0mvalue\u001b[0m\u001b[0;34m\u001b[0m\u001b[0;34m\u001b[0m\u001b[0m\n\u001b[0m",
      "\u001b[0;31mNameError\u001b[0m: name 'value' is not defined"
     ]
    }
   ],
   "source": [
    "set.value = value"
   ]
  },
  {
   "cell_type": "code",
   "execution_count": 50,
   "metadata": {},
   "outputs": [],
   "source": [
    "def setColor(self, color):\n",
    "    self.foreground = color\n",
    "    self.setValue(self.value)"
   ]
  },
  {
   "cell_type": "markdown",
   "metadata": {},
   "source": [
    "#### Creating the interface"
   ]
  },
  {
   "cell_type": "code",
   "execution_count": 92,
   "metadata": {},
   "outputs": [],
   "source": [
    "class GraphicsInterface:\n",
    "    \n",
    "    def __init__(self):\n",
    "        self.win = GraphWin(\"Dice Poker\", 600, 400)\n",
    "        self.win.setBackground(\"green3\")\n",
    "        \n",
    "        banner = Text(Point(300,30), \"Python Poker Parlor\")\n",
    "        banner.setSize(24)\n",
    "        banner.setFill(\"yellow2\")\n",
    "        banner.setStyle(\"bold\")\n",
    "        banner.draw(self.win)\n",
    "        \n",
    "        self.msg = Text(Point(300,380), \"Welcome to the Dice Table\")\n",
    "        self.msg.setSize(18)\n",
    "        self.msg.draw(self.win)\n",
    "        self.createDice(Point(300,100), 75)\n",
    "        self.buttons = []\n",
    "        self.addDiceButtons(Point(300,170), 75, 30)\n",
    "        \n",
    "        b = Button(self.win, Point(300,230), 400, 40, \"Roll Dice\")\n",
    "        self.buttons.append(b)\n",
    "        b = Button(self.win, Point(300,280), 150, 40, \"Score\")\n",
    "        self.buttons.append(b)\n",
    "        b = Button(self.win, Point(570,375), 50, 30, \"Quit\")\n",
    "        self.buttons.appen(b)\n",
    "        \n",
    "        self.money = Text(Point(300,325), \"$100\")\n",
    "        self.money.setSize(18)\n",
    "        self.money.draw(self.win)"
   ]
  },
  {
   "cell_type": "code",
   "execution_count": 81,
   "metadata": {},
   "outputs": [],
   "source": [
    "def createDice(self, center, size):\n",
    "    \n",
    "    center.move(-3 * size, 0)\n",
    "    self.dice = []\n",
    "    \n",
    "    for i in range(5):\n",
    "        view = DieView(self.win, center, size)\n",
    "        self.dice.append(view)\n",
    "        center.move(1.5 * size, 0)\n",
    "        \n",
    "        \n",
    "def addDiceButtons(self, center, width, height):\n",
    "    \n",
    "    center.move(-3 * width, 0)\n",
    "    \n",
    "    for i in range(1,6):\n",
    "        label = \"Die {0}\".format(i)\n",
    "        b = Button(self.win, center, width, height, label)\n",
    "        self.buttons.append(b)\n",
    "        center.move(1.5 * width, 0)"
   ]
  },
  {
   "cell_type": "markdown",
   "metadata": {},
   "source": [
    "#### Implementing the Interaction"
   ]
  },
  {
   "cell_type": "code",
   "execution_count": 82,
   "metadata": {},
   "outputs": [],
   "source": [
    "def setMoney(self, amt):\n",
    "    self.money.setText(\"${0}\".format(amt))\n",
    "    \n",
    "def showResult(self, msg, score):\n",
    "    \n",
    "    if score > 0:\n",
    "        text = \"{0}! You win ${1}\".format(msg, score)\n",
    "    else:\n",
    "        text = \"You rolled {0}\".format(msg)\n",
    "    \n",
    "    self.msg.setText(text)"
   ]
  },
  {
   "cell_type": "code",
   "execution_count": 83,
   "metadata": {},
   "outputs": [],
   "source": [
    "def setDice(self, values):\n",
    "    \n",
    "    for i in range(5):\n",
    "        self.dice[i].setValue(values[i])\n",
    "        \n",
    "def wantToPlay(self):\n",
    "    \n",
    "    ans = self.choose([\"Roll Dice\", \"Quit\"])\n",
    "    self.msg.setText(\"\")\n",
    "    \n",
    "    return ans == \"Roll Dice\""
   ]
  },
  {
   "cell_type": "code",
   "execution_count": 89,
   "metadata": {},
   "outputs": [],
   "source": [
    "def chooseDice(self):\n",
    "    # choices is a list of the indexes of the selected dice\n",
    "    choices = []                                   # No dice chosen yet\n",
    "    \n",
    "    while True:\n",
    "        # wait for user to click a valid button\n",
    "        b = self.choose([\"Die 1\", \"Die 2\", \"Die 3\", \"Die 4\", \"Die 5\",\n",
    "                        \"Roll Dice\", \"Score\"])\n",
    "        \n",
    "        if b[0] == \"D\":                            # User clicked a die button\n",
    "            i = int(b[4]) - 1                      # Translate label to die index\n",
    "            \n",
    "            if i in choices:                       # Currently selected, unselect it\n",
    "                choices.remove(i)\n",
    "                self.dice[i].setColor(\"black\")\n",
    "            else:                                  # Currently deselected, select it\n",
    "                choices.append(i)\n",
    "                self.dice[i].setColor(\"gray\")\n",
    "                \n",
    "        else:                                  # User clicked Roll or Score\n",
    "            for d in self.dice:                # Revert appearance of all dice\n",
    "                    d.setColor(\"black\")\n",
    "            if b == \"Score\":                   # Score clicked, ignore choices\n",
    "                return []\n",
    "            elif choices != []:                # Don't accept Roll unless some\n",
    "                return choices                 #      dice are actually selected"
   ]
  },
  {
   "cell_type": "code",
   "execution_count": 90,
   "metadata": {},
   "outputs": [],
   "source": [
    "def close(self):\n",
    "    self.win.close()"
   ]
  },
  {
   "cell_type": "code",
   "execution_count": 94,
   "metadata": {},
   "outputs": [
    {
     "ename": "NameError",
     "evalue": "name 'GraphWin' is not defined",
     "output_type": "error",
     "traceback": [
      "\u001b[0;31m---------------------------------------------------------------------------\u001b[0m",
      "\u001b[0;31mNameError\u001b[0m                                 Traceback (most recent call last)",
      "\u001b[0;32m<ipython-input-94-084f9f4d1cc6>\u001b[0m in \u001b[0;36m<module>\u001b[0;34m\u001b[0m\n\u001b[1;32m      1\u001b[0m \u001b[0;32mimport\u001b[0m \u001b[0mgraphics\u001b[0m\u001b[0;34m\u001b[0m\u001b[0;34m\u001b[0m\u001b[0m\n\u001b[1;32m      2\u001b[0m \u001b[0;34m\u001b[0m\u001b[0m\n\u001b[0;32m----> 3\u001b[0;31m \u001b[0minter\u001b[0m \u001b[0;34m=\u001b[0m \u001b[0mGraphicsInterface\u001b[0m\u001b[0;34m(\u001b[0m\u001b[0;34m)\u001b[0m\u001b[0;34m\u001b[0m\u001b[0;34m\u001b[0m\u001b[0m\n\u001b[0m\u001b[1;32m      4\u001b[0m \u001b[0mapp\u001b[0m \u001b[0;34m=\u001b[0m \u001b[0mPokerApp\u001b[0m\u001b[0;34m(\u001b[0m\u001b[0minter\u001b[0m\u001b[0;34m)\u001b[0m\u001b[0;34m\u001b[0m\u001b[0;34m\u001b[0m\u001b[0m\n\u001b[1;32m      5\u001b[0m \u001b[0mapp\u001b[0m\u001b[0;34m.\u001b[0m\u001b[0mrun\u001b[0m\u001b[0;34m(\u001b[0m\u001b[0;34m)\u001b[0m\u001b[0;34m\u001b[0m\u001b[0;34m\u001b[0m\u001b[0m\n",
      "\u001b[0;32m<ipython-input-92-c7948c413e48>\u001b[0m in \u001b[0;36m__init__\u001b[0;34m(self)\u001b[0m\n\u001b[1;32m      2\u001b[0m \u001b[0;34m\u001b[0m\u001b[0m\n\u001b[1;32m      3\u001b[0m     \u001b[0;32mdef\u001b[0m \u001b[0m__init__\u001b[0m\u001b[0;34m(\u001b[0m\u001b[0mself\u001b[0m\u001b[0;34m)\u001b[0m\u001b[0;34m:\u001b[0m\u001b[0;34m\u001b[0m\u001b[0;34m\u001b[0m\u001b[0m\n\u001b[0;32m----> 4\u001b[0;31m         \u001b[0mself\u001b[0m\u001b[0;34m.\u001b[0m\u001b[0mwin\u001b[0m \u001b[0;34m=\u001b[0m \u001b[0mGraphWin\u001b[0m\u001b[0;34m(\u001b[0m\u001b[0;34m\"Dice Poker\"\u001b[0m\u001b[0;34m,\u001b[0m \u001b[0;36m600\u001b[0m\u001b[0;34m,\u001b[0m \u001b[0;36m400\u001b[0m\u001b[0;34m)\u001b[0m\u001b[0;34m\u001b[0m\u001b[0;34m\u001b[0m\u001b[0m\n\u001b[0m\u001b[1;32m      5\u001b[0m         \u001b[0mself\u001b[0m\u001b[0;34m.\u001b[0m\u001b[0mwin\u001b[0m\u001b[0;34m.\u001b[0m\u001b[0msetBackground\u001b[0m\u001b[0;34m(\u001b[0m\u001b[0;34m\"green3\"\u001b[0m\u001b[0;34m)\u001b[0m\u001b[0;34m\u001b[0m\u001b[0;34m\u001b[0m\u001b[0m\n\u001b[1;32m      6\u001b[0m \u001b[0;34m\u001b[0m\u001b[0m\n",
      "\u001b[0;31mNameError\u001b[0m: name 'GraphWin' is not defined"
     ]
    }
   ],
   "source": [
    "import graphics\n",
    "\n",
    "inter = GraphicsInterface()\n",
    "app = PokerApp(inter)\n",
    "app.run()"
   ]
  },
  {
   "cell_type": "markdown",
   "metadata": {},
   "source": [
    "## 12.6 Exercises"
   ]
  },
  {
   "cell_type": "markdown",
   "metadata": {},
   "source": [
    "### Review Questions"
   ]
  },
  {
   "cell_type": "markdown",
   "metadata": {},
   "source": [
    "#### True/ False"
   ]
  },
  {
   "cell_type": "markdown",
   "metadata": {},
   "source": [
    "1. Object-oriented design is the process of finding and defining a useful set of functions for solving a problem."
   ]
  },
  {
   "cell_type": "markdown",
   "metadata": {},
   "source": [
    "False.\n",
    "\n",
    "Object orientated design is the process of finding and defining a useful set of classes for a given problem. Like all design, it is part art and part science."
   ]
  },
  {
   "cell_type": "markdown",
   "metadata": {},
   "source": [
    "2. Candidate objects can be found by looking at the verbs in a problem description"
   ]
  },
  {
   "cell_type": "markdown",
   "metadata": {},
   "source": [
    "False.\n",
    "\n",
    "Objects are usually described by nouns. \n",
    "\n",
    "You might underline all of the nouns in the problem statement and consider them one by one."
   ]
  },
  {
   "cell_type": "markdown",
   "metadata": {},
   "source": [
    "3. Typically, the design process involves considerable trial and error."
   ]
  },
  {
   "cell_type": "markdown",
   "metadata": {},
   "source": [
    "True.\n",
    "\n",
    "Good design involves a lot of trial and error. When you look at the programs of others, you are seeing finished work, not the process they went through to get there. \n",
    "\n",
    "Fred Brooks, a legendary software engineer, coined the maxim: \"Plan to throw one away.\" Often you won't really know how a system should be built until you've already built it the wrong way."
   ]
  },
  {
   "cell_type": "markdown",
   "metadata": {},
   "source": [
    "4. GUIs are often built with a model-view architecture."
   ]
  },
  {
   "cell_type": "markdown",
   "metadata": {},
   "source": [
    "True.\n",
    "\n",
    "Model-view architecture divides up a GUI program by seperating the problem (model) from the user interface (view)."
   ]
  },
  {
   "cell_type": "markdown",
   "metadata": {},
   "source": [
    "5. Hiding the details of an object in a class definition is called instantiation."
   ]
  },
  {
   "cell_type": "markdown",
   "metadata": {},
   "source": [
    "False.\n",
    "\n",
    "Encapsulation seperates the implementation details of an object from how the object is used. This allows for modular design of complex programs."
   ]
  },
  {
   "cell_type": "markdown",
   "metadata": {},
   "source": [
    "6. Polymorphism literally means \"many changes.\""
   ]
  },
  {
   "cell_type": "markdown",
   "metadata": {},
   "source": [
    "False.\n",
    "\n",
    "Polymorphsism is where diferent classes may implement methods with the same signature. This makes programs more fleible, allowing a single line of code to call different methods in different situations."
   ]
  },
  {
   "cell_type": "markdown",
   "metadata": {},
   "source": [
    "7. A superclass inherits behvaiours from its subclasses."
   ]
  },
  {
   "cell_type": "markdown",
   "metadata": {},
   "source": [
    "False.\n",
    "\n",
    "Superclass is a class is a class which is being inherited from."
   ]
  },
  {
   "cell_type": "markdown",
   "metadata": {},
   "source": [
    "8. GUIs are generally easier to write than text-based interfaces."
   ]
  },
  {
   "cell_type": "markdown",
   "metadata": {},
   "source": [
    "False."
   ]
  },
  {
   "cell_type": "markdown",
   "metadata": {},
   "source": [
    "#### Multiple Choice"
   ]
  },
  {
   "cell_type": "markdown",
   "metadata": {},
   "source": [
    "1. Which of the following was not a class in the racquetball simulation?\n",
    "\n",
    "    a. Player\n",
    "    \n",
    "    b. SimStats\n",
    "    \n",
    "    c. RBallGame\n",
    "    \n",
    "    d. Score"
   ]
  },
  {
   "cell_type": "markdown",
   "metadata": {},
   "source": [
    "My Answer.\n",
    "\n",
    "d. Score"
   ]
  },
  {
   "cell_type": "markdown",
   "metadata": {},
   "source": [
    "2. What is the data type of serve in an RBallGame?\n",
    "\n",
    "    a. int\n",
    "    \n",
    "    b. Player\n",
    "    \n",
    "    c. bool\n",
    "    \n",
    "    d. SimStats"
   ]
  },
  {
   "cell_type": "markdown",
   "metadata": {},
   "source": [
    "My Answer.\n",
    "\n",
    "a. Int"
   ]
  },
  {
   "cell_type": "markdown",
   "metadata": {},
   "source": [
    "3. The isOver method is defined in which class?\n",
    "\n",
    "    a. SimStats\n",
    "    \n",
    "    b. RBallGame\n",
    "    \n",
    "    c. Player\n",
    "    \n",
    "    d. PokerApp"
   ]
  },
  {
   "cell_type": "markdown",
   "metadata": {},
   "source": [
    "My Answer.\n",
    "\n",
    "b. RBallGame."
   ]
  },
  {
   "cell_type": "markdown",
   "metadata": {},
   "source": [
    "4. Which of the following is not one of the fundamental characteristics of object-oriented design/programming?\n",
    "\n",
    "    a. inheritance\n",
    "    \n",
    "    b. polymorphism\n",
    "    \n",
    "    c. generally\n",
    "    \n",
    "    d. encapsulation"
   ]
  },
  {
   "cell_type": "markdown",
   "metadata": {},
   "source": [
    "My Answer.\n",
    "\n",
    "c. Generally."
   ]
  },
  {
   "cell_type": "markdown",
   "metadata": {},
   "source": [
    "5. Seperating the user interface from the \"guts\" of an application is called a (n)___approach.\n",
    "\n",
    "    a. abstract\n",
    "    \n",
    "    b. object-oriented\n",
    "    \n",
    "    c. model-theoretic\n",
    "    \n",
    "    d. model-view"
   ]
  },
  {
   "cell_type": "markdown",
   "metadata": {},
   "source": [
    "My Answer.\n",
    "\n",
    "d. Model-view approach."
   ]
  },
  {
   "cell_type": "markdown",
   "metadata": {},
   "source": [
    "#### Discussion"
   ]
  },
  {
   "cell_type": "markdown",
   "metadata": {},
   "source": [
    "1. In your own words, describe the process of OOD."
   ]
  },
  {
   "cell_type": "markdown",
   "metadata": {},
   "source": [
    "Object orientated design (OOD) is the process of developing a set of classes to solve a problem. It is similar to top-down design in that the goal is to develop a set of black boxes and associated interfaces. Where top-down design looks for functions, OOD looks for objects.|"
   ]
  },
  {
   "cell_type": "markdown",
   "metadata": {},
   "source": [
    "2. In your own words, define Encapsulation, Polymorphism, and Inheritance."
   ]
  },
  {
   "cell_type": "markdown",
   "metadata": {},
   "source": [
    "##### Encapsulation\n",
    "\n",
    "Seperating the implementation details of an object from how the object is used. This allows for modular design of complex programs.\n",
    "\n",
    "##### Polymorphism\n",
    "\n",
    "Different classes may implement methods with the same signature. This makes programs more flexible, allowing a single line of code to call different methods in different situations.\n",
    "\n",
    "##### Inheritance\n",
    "\n",
    "A new class can be derived from an existing class. This supports sharing of methods among classes and code reuse."
   ]
  },
  {
   "cell_type": "markdown",
   "metadata": {},
   "source": [
    "#### Programming Exercises"
   ]
  },
  {
   "cell_type": "markdown",
   "metadata": {},
   "source": [
    "3. Write a program to keep track of conference attendees. \n",
    "\n",
    "    For each atendee, your program should keep track of:\n",
    "    \n",
    "        - Name\n",
    "        \n",
    "        - Company\n",
    "        \n",
    "        - State\n",
    "        \n",
    "        - Email address\n",
    "        \n",
    "        \n",
    "     Your program should allow users to do things such as:\n",
    "     \n",
    "         - Add a new attendee\n",
    "         \n",
    "         - Display information on an attendee\n",
    "         \n",
    "         - Delete an attendee\n",
    "         \n",
    "         - list the names\n",
    "         \n",
    "         - Email address of all attendees\n",
    "         \n",
    "         - List the names and email address of all attenddees from a given state\n",
    "         \n",
    "      \n",
    "    The attendee list should be stored in a file and loaded when the program starts."
   ]
  },
  {
   "cell_type": "code",
   "execution_count": null,
   "metadata": {},
   "outputs": [],
   "source": [
    "# Name\n",
    "\n",
    "\n",
    "# Company \n",
    "\n",
    "\n",
    "# State\n",
    "\n",
    "\n",
    "# Email address"
   ]
  },
  {
   "cell_type": "markdown",
   "metadata": {},
   "source": [
    "4. Write a program that simulates and automatic teller machine (ATM).\n",
    "\n",
    "    Since you probably don't have access to a card reader, have the inital screen ask for user ID and a Pin.\n",
    "    \n",
    "    The user ID will be used to loop up the information for the users accounts (including the PIN to see whether it matches what the user types.)\n",
    "    \n",
    "    Each user will have access to a checking account and a savings account.\n",
    "    \n",
    "    The user should able to check balances, withdraw cash, and trander money between accounts.\n",
    "    \n",
    "    Design your interface to be similar to what you see on your local ATL. THe user account information should be stored in a file when the program terminates. This file is read in again when the program restarts."
   ]
  },
  {
   "cell_type": "code",
   "execution_count": null,
   "metadata": {},
   "outputs": [],
   "source": []
  }
 ],
 "metadata": {
  "kernelspec": {
   "display_name": "Python 3",
   "language": "python",
   "name": "python3"
  },
  "language_info": {
   "codemirror_mode": {
    "name": "ipython",
    "version": 3
   },
   "file_extension": ".py",
   "mimetype": "text/x-python",
   "name": "python",
   "nbconvert_exporter": "python",
   "pygments_lexer": "ipython3",
   "version": "3.7.6"
  }
 },
 "nbformat": 4,
 "nbformat_minor": 4
}
