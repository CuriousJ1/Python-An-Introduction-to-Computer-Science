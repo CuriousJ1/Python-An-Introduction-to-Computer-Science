{
 "cells": [
  {
   "cell_type": "markdown",
   "metadata": {},
   "source": [
    "## Defining Functions\n",
    "\n",
    "When Python comes to a function call, it initaites a four-step process:\n",
    "\n",
    "    1. The calling program suspends exeution at the point of the call.\n",
    "    2. THe formal parameters of the function get assigned the values supplied by the actual parameters in the call.\n",
    "    3. The body of the function is executed.\n",
    "    4. Control returns to the point just after where the function was called.\n",
    "\n",
    "When Python encounter a return, it immediatly exists the current function and returns control to the point just after whenre the function was called."
   ]
  },
  {
   "cell_type": "code",
   "execution_count": 1,
   "metadata": {},
   "outputs": [
    {
     "name": "stdout",
     "output_type": "stream",
     "text": [
      "This program plots the growth of a 10 year investment\n",
      "Enter the initial principal: 10\n",
      "Enter the annualized interest rate: 10\n",
      "Press <Enter> to quit.\n"
     ]
    }
   ],
   "source": [
    "# 6.1 The functions of function\n",
    "\n",
    "from graphics import *\n",
    "\n",
    "# futval_graph2.py\n",
    "\n",
    "def main():\n",
    "    \n",
    "    # Introductions\n",
    "    print(\"This program plots the growth of a 10 year investment\")\n",
    "    \n",
    "    # Get principal and interest rate\n",
    "    principal = float(input(\"Enter the initial principal: \"))\n",
    "    apr = float(input(\"Enter the annualized interest rate: \"))\n",
    "    \n",
    "    # Create a graphics window with labels on the left edge\n",
    "    win = GraphWin(\"Investment Growth Chart\", 320, 240)\n",
    "    win.setBackground(\"white\")\n",
    "    win.setCoords(-1.75, 200, 11.5, 10400)\n",
    "    Text(Point(-1,0), '0.0k').draw(win)\n",
    "    Text(Point(-1,2500), '2.5k').draw(win)\n",
    "    Text(Point(-1,5000), '5.0k').draw(win)\n",
    "    Text(Point(-1,7500), '7.5k').draw(win)\n",
    "    Text(Point(-1,10000), '10.0k').draw(win)\n",
    "    \n",
    "    # Draw bar for initial principal\n",
    "    bar = Rectangle(Point(0, 0), Point(1, principal))\n",
    "    bar.setFill(\"green\")\n",
    "    bar.setWidth(2)\n",
    "    bar.draw(win)\n",
    "    \n",
    "    # Draw a bar for each subsequent year\n",
    "    for year in range (1,11):\n",
    "        principal = principal * (1 + apr)\n",
    "        bar = Rectangle(Point(year, 0), Point(year + 1, principal))\n",
    "        bar.setFill(\"green\")\n",
    "        bar.setWidth(2)\n",
    "        bar.draw(win)\n",
    "        \n",
    "    input(\"Press <Enter> to quit.\")\n",
    "    win.close()\n",
    "    \n",
    "main()    "
   ]
  },
  {
   "cell_type": "code",
   "execution_count": 2,
   "metadata": {},
   "outputs": [
    {
     "name": "stdout",
     "output_type": "stream",
     "text": [
      "Happy bithday to you!\n",
      "Happy bithday to you!\n",
      "Happy bithday, dear Fred.\n",
      "Happy bithday to you!\n"
     ]
    }
   ],
   "source": [
    "# 6.2 Functions informally\n",
    "\n",
    "def main():\n",
    "    print(\"Happy bithday to you!\")\n",
    "    print(\"Happy bithday to you!\")\n",
    "    print(\"Happy bithday, dear Fred.\")\n",
    "    print(\"Happy bithday to you!\")\n",
    "\n",
    "main()"
   ]
  },
  {
   "cell_type": "code",
   "execution_count": 3,
   "metadata": {},
   "outputs": [
    {
     "name": "stdout",
     "output_type": "stream",
     "text": [
      "Happy birthday to you!\n"
     ]
    }
   ],
   "source": [
    "def happy():\n",
    "    print(\"Happy birthday to you!\")\n",
    "\n",
    "happy()"
   ]
  },
  {
   "cell_type": "code",
   "execution_count": 4,
   "metadata": {},
   "outputs": [
    {
     "name": "stdout",
     "output_type": "stream",
     "text": [
      "Happy birthday to you!\n",
      "Happy birthday to you!\n",
      "Happy birthday, dear Fred.\n",
      "Happy birthday to you!\n"
     ]
    }
   ],
   "source": [
    "def singFred():\n",
    "    happy()\n",
    "    happy()\n",
    "    print(\"Happy birthday, dear Fred.\")\n",
    "    happy()\n",
    "\n",
    "singFred()"
   ]
  },
  {
   "cell_type": "code",
   "execution_count": 5,
   "metadata": {},
   "outputs": [
    {
     "name": "stdout",
     "output_type": "stream",
     "text": [
      "Happy birthday to you!\n",
      "Happy birthday to you!\n",
      "Happy birthday, dear Lucy.\n",
      "Happy birthday to you!\n"
     ]
    }
   ],
   "source": [
    "def singLucy():\n",
    "    happy()\n",
    "    happy()\n",
    "    print(\"Happy birthday, dear Lucy.\")\n",
    "    happy()\n",
    "\n",
    "singLucy()"
   ]
  },
  {
   "cell_type": "code",
   "execution_count": 6,
   "metadata": {},
   "outputs": [
    {
     "name": "stdout",
     "output_type": "stream",
     "text": [
      "Happy birthday to you!\n",
      "Happy birthday to you!\n",
      "Happy birthday, dear Fred.\n",
      "Happy birthday to you!\n",
      "\n",
      "Happy birthday to you!\n",
      "Happy birthday to you!\n",
      "Happy birthday, dear Lucy.\n",
      "Happy birthday to you!\n"
     ]
    }
   ],
   "source": [
    "def main():\n",
    "    singFred()\n",
    "    print(\"\")\n",
    "    singLucy()\n",
    "\n",
    "main()"
   ]
  },
  {
   "cell_type": "code",
   "execution_count": 7,
   "metadata": {},
   "outputs": [
    {
     "name": "stdout",
     "output_type": "stream",
     "text": [
      "Happy birthday to you!\n",
      "Happy birthday to you!\n",
      "Happy Birthday, dear Fred.\n",
      "Happy birthday to you!\n",
      "Happy birthday to you!\n",
      "Happy birthday to you!\n",
      "Happy Birthday, dear Lucy.\n",
      "Happy birthday to you!\n"
     ]
    }
   ],
   "source": [
    "def sing(person):\n",
    "    happy()\n",
    "    happy()\n",
    "    print(\"Happy Birthday, dear\", person + \".\")\n",
    "    happy()\n",
    "\n",
    "sing(\"Fred\")\n",
    "sing(\"Lucy\")"
   ]
  },
  {
   "cell_type": "code",
   "execution_count": 8,
   "metadata": {},
   "outputs": [
    {
     "name": "stdout",
     "output_type": "stream",
     "text": [
      "Happy birthday to you!\n",
      "Happy birthday to you!\n",
      "Happy Birthday, dear Fred.\n",
      "Happy birthday to you!\n",
      " \n",
      "Happy birthday to you!\n",
      "Happy birthday to you!\n",
      "Happy Birthday, dear Lucy.\n",
      "Happy birthday to you!\n",
      " \n",
      "Happy birthday to you!\n",
      "Happy birthday to you!\n",
      "Happy Birthday, dear Elmer.\n",
      "Happy birthday to you!\n"
     ]
    }
   ],
   "source": [
    "def main():\n",
    "    sing(\"Fred\")\n",
    "    print(\" \")\n",
    "    sing(\"Lucy\")\n",
    "    print(\" \")\n",
    "    sing(\"Elmer\")\n",
    "\n",
    "main()"
   ]
  },
  {
   "cell_type": "code",
   "execution_count": 9,
   "metadata": {},
   "outputs": [
    {
     "name": "stdout",
     "output_type": "stream",
     "text": [
      "Happy Birthday to you!\n",
      "Happy Birthday to you!\n",
      "Happy birthday, dear Fred.\n",
      "Happy Birthday to you!\n",
      "\n",
      "Happy Birthday to you!\n",
      "Happy Birthday to you!\n",
      "Happy birthday, dear Lucy.\n",
      "Happy Birthday to you!\n",
      "\n",
      "Happy Birthday to you!\n",
      "Happy Birthday to you!\n",
      "Happy birthday, dear Elmer.\n",
      "Happy Birthday to you!\n"
     ]
    }
   ],
   "source": [
    "# happy.py\n",
    "\n",
    "def happy():\n",
    "    print(\"Happy Birthday to you!\")\n",
    "    \n",
    "def sing(person):\n",
    "    happy()\n",
    "    happy()\n",
    "    print(\"Happy birthday, dear\", person + \".\")\n",
    "    happy()\n",
    "\n",
    "def main():\n",
    "    sing(\"Fred\")\n",
    "    print(\"\")\n",
    "    sing(\"Lucy\")\n",
    "    print(\"\")\n",
    "    sing(\"Elmer\")\n",
    "    \n",
    "main()"
   ]
  },
  {
   "cell_type": "code",
   "execution_count": 10,
   "metadata": {},
   "outputs": [
    {
     "name": "stdout",
     "output_type": "stream",
     "text": [
      "This program plots the growth of a 10 year investment\n",
      "Enter the initial principal: 10\n",
      "Enter the annualized interest rate: 10\n"
     ]
    },
    {
     "ename": "NameError",
     "evalue": "name 'principal' is not defined",
     "output_type": "error",
     "traceback": [
      "\u001b[0;31m---------------------------------------------------------------------------\u001b[0m",
      "\u001b[0;31mNameError\u001b[0m                                 Traceback (most recent call last)",
      "\u001b[0;32m<ipython-input-10-32400562572b>\u001b[0m in \u001b[0;36m<module>\u001b[0;34m\u001b[0m\n\u001b[1;32m     40\u001b[0m     \u001b[0mwin\u001b[0m\u001b[0;34m.\u001b[0m\u001b[0mclose\u001b[0m\u001b[0;34m(\u001b[0m\u001b[0;34m)\u001b[0m\u001b[0;34m\u001b[0m\u001b[0;34m\u001b[0m\u001b[0m\n\u001b[1;32m     41\u001b[0m \u001b[0;34m\u001b[0m\u001b[0m\n\u001b[0;32m---> 42\u001b[0;31m \u001b[0mmain\u001b[0m\u001b[0;34m(\u001b[0m\u001b[0;34m)\u001b[0m\u001b[0;34m\u001b[0m\u001b[0;34m\u001b[0m\u001b[0m\n\u001b[0m",
      "\u001b[0;32m<ipython-input-10-32400562572b>\u001b[0m in \u001b[0;36mmain\u001b[0;34m()\u001b[0m\n\u001b[1;32m     32\u001b[0m \u001b[0;34m\u001b[0m\u001b[0m\n\u001b[1;32m     33\u001b[0m     \u001b[0;31m# Draw a bar for each subsequent year\u001b[0m\u001b[0;34m\u001b[0m\u001b[0;34m\u001b[0m\u001b[0;34m\u001b[0m\u001b[0m\n\u001b[0;32m---> 34\u001b[0;31m     \u001b[0mdrawBar\u001b[0m\u001b[0;34m(\u001b[0m\u001b[0mwin\u001b[0m \u001b[0;34m,\u001b[0m\u001b[0;36m0\u001b[0m \u001b[0;34m,\u001b[0m \u001b[0mprincipal\u001b[0m\u001b[0;34m)\u001b[0m\u001b[0;34m\u001b[0m\u001b[0;34m\u001b[0m\u001b[0m\n\u001b[0m\u001b[1;32m     35\u001b[0m     \u001b[0;32mfor\u001b[0m \u001b[0myear\u001b[0m \u001b[0;32min\u001b[0m \u001b[0mrange\u001b[0m \u001b[0;34m(\u001b[0m\u001b[0;36m1\u001b[0m\u001b[0;34m,\u001b[0m\u001b[0;36m11\u001b[0m\u001b[0;34m)\u001b[0m\u001b[0;34m:\u001b[0m\u001b[0;34m\u001b[0m\u001b[0;34m\u001b[0m\u001b[0m\n\u001b[1;32m     36\u001b[0m         \u001b[0mprincipal\u001b[0m \u001b[0;34m=\u001b[0m \u001b[0mprincipal\u001b[0m \u001b[0;34m*\u001b[0m \u001b[0;34m(\u001b[0m\u001b[0;36m1\u001b[0m \u001b[0;34m+\u001b[0m \u001b[0mapr\u001b[0m\u001b[0;34m)\u001b[0m\u001b[0;34m\u001b[0m\u001b[0;34m\u001b[0m\u001b[0m\n",
      "\u001b[0;32m<ipython-input-10-32400562572b>\u001b[0m in \u001b[0;36mdrawBar\u001b[0;34m(window, year, height)\u001b[0m\n\u001b[1;32m      7\u001b[0m \u001b[0;32mdef\u001b[0m \u001b[0mdrawBar\u001b[0m\u001b[0;34m(\u001b[0m\u001b[0mwindow\u001b[0m\u001b[0;34m,\u001b[0m \u001b[0myear\u001b[0m\u001b[0;34m,\u001b[0m \u001b[0mheight\u001b[0m\u001b[0;34m)\u001b[0m\u001b[0;34m:\u001b[0m\u001b[0;34m\u001b[0m\u001b[0;34m\u001b[0m\u001b[0m\n\u001b[1;32m      8\u001b[0m     \u001b[0;31m# Draw a bar in window starting at year with given height\u001b[0m\u001b[0;34m\u001b[0m\u001b[0;34m\u001b[0m\u001b[0;34m\u001b[0m\u001b[0m\n\u001b[0;32m----> 9\u001b[0;31m     \u001b[0mbar\u001b[0m \u001b[0;34m=\u001b[0m \u001b[0mRectangle\u001b[0m\u001b[0;34m(\u001b[0m\u001b[0mPoint\u001b[0m\u001b[0;34m(\u001b[0m\u001b[0myear\u001b[0m\u001b[0;34m,\u001b[0m \u001b[0;36m0\u001b[0m\u001b[0;34m)\u001b[0m\u001b[0;34m,\u001b[0m \u001b[0mPoint\u001b[0m\u001b[0;34m(\u001b[0m\u001b[0myear\u001b[0m \u001b[0;34m+\u001b[0m \u001b[0;36m1\u001b[0m\u001b[0;34m,\u001b[0m \u001b[0mprincipal\u001b[0m\u001b[0;34m)\u001b[0m\u001b[0;34m)\u001b[0m\u001b[0;34m\u001b[0m\u001b[0;34m\u001b[0m\u001b[0m\n\u001b[0m\u001b[1;32m     10\u001b[0m     \u001b[0mbar\u001b[0m\u001b[0;34m.\u001b[0m\u001b[0msetFill\u001b[0m\u001b[0;34m(\u001b[0m\u001b[0;34m\"green\"\u001b[0m\u001b[0;34m)\u001b[0m\u001b[0;34m\u001b[0m\u001b[0;34m\u001b[0m\u001b[0m\n\u001b[1;32m     11\u001b[0m     \u001b[0mbar\u001b[0m\u001b[0;34m.\u001b[0m\u001b[0msetWidth\u001b[0m\u001b[0;34m(\u001b[0m\u001b[0;36m2\u001b[0m\u001b[0;34m)\u001b[0m\u001b[0;34m\u001b[0m\u001b[0;34m\u001b[0m\u001b[0m\n",
      "\u001b[0;31mNameError\u001b[0m: name 'principal' is not defined"
     ]
    }
   ],
   "source": [
    "# 6.3 Future Value with a Function\n",
    "\n",
    "# futval_graph2.py\n",
    "\n",
    "from graphics import *\n",
    "\n",
    "def drawBar(window, year, height):\n",
    "    # Draw a bar in window starting at year with given height\n",
    "    bar = Rectangle(Point(year, 0), Point(year + 1, principal))\n",
    "    bar.setFill(\"green\")\n",
    "    bar.setWidth(2)\n",
    "    bar.draw(window)\n",
    "\n",
    "def main():\n",
    "    \n",
    "    # Introductions\n",
    "    print(\"This program plots the growth of a 10 year investment\")\n",
    "    \n",
    "    # Get principal and interest rate\n",
    "    principal = float(input(\"Enter the initial principal: \"))\n",
    "    apr = float(input(\"Enter the annualized interest rate: \"))\n",
    "    \n",
    "    # Create a graphics window with labels on the left edge\n",
    "    win = GraphWin(\"Investment Growth Chart\", 320, 240)\n",
    "    win.setBackground(\"white\")\n",
    "    win.setCoords(-1.75, 200, 11.5, 10400)\n",
    "    Text(Point(-1,0), '0.0k').draw(win)\n",
    "    Text(Point(-1,2500), '2.5k').draw(win)\n",
    "    Text(Point(-1,5000), '5.0k').draw(win)\n",
    "    Text(Point(-1,7500), '7.5k').draw(win)\n",
    "    Text(Point(-1,10000), '10.0k').draw(win)\n",
    "    \n",
    "    # Draw a bar for each subsequent year\n",
    "    drawBar(win ,0 , principal)\n",
    "    for year in range (1,11):\n",
    "        principal = principal * (1 + apr)\n",
    "        drawBar(win, year, principal)\n",
    "        \n",
    "    input(\"Press <Enter> to quit.\")\n",
    "    win.close()\n",
    "    \n",
    "main()   "
   ]
  },
  {
   "cell_type": "code",
   "execution_count": 11,
   "metadata": {},
   "outputs": [],
   "source": [
    "## 6.5 Functions that return values\n",
    "\n",
    "def square(x):\n",
    "    return x ** 2"
   ]
  },
  {
   "cell_type": "code",
   "execution_count": 12,
   "metadata": {},
   "outputs": [
    {
     "data": {
      "text/plain": [
       "9"
      ]
     },
     "execution_count": 12,
     "metadata": {},
     "output_type": "execute_result"
    }
   ],
   "source": [
    "square(3)"
   ]
  },
  {
   "cell_type": "code",
   "execution_count": 13,
   "metadata": {},
   "outputs": [
    {
     "name": "stdout",
     "output_type": "stream",
     "text": [
      "16\n"
     ]
    }
   ],
   "source": [
    "print(square(4))"
   ]
  },
  {
   "cell_type": "code",
   "execution_count": 14,
   "metadata": {},
   "outputs": [
    {
     "name": "stdout",
     "output_type": "stream",
     "text": [
      "25\n"
     ]
    }
   ],
   "source": [
    "# Constants\n",
    "x = 5\n",
    "y = square(x)\n",
    "\n",
    "# Print statement\n",
    "print(y)"
   ]
  },
  {
   "cell_type": "code",
   "execution_count": 15,
   "metadata": {},
   "outputs": [
    {
     "name": "stdout",
     "output_type": "stream",
     "text": [
      "34\n"
     ]
    }
   ],
   "source": [
    "print(square(x) + square(3))"
   ]
  },
  {
   "cell_type": "code",
   "execution_count": 16,
   "metadata": {},
   "outputs": [],
   "source": [
    "# Function that computes distance between two points\n",
    "import math\n",
    "\n",
    "def distance(p1, p2):\n",
    "    dist = math.sqrt(square(p2.getX() - p1.getX()) + square(p2.getY() - p1.getY()))\n",
    "    return dist"
   ]
  },
  {
   "cell_type": "code",
   "execution_count": 17,
   "metadata": {},
   "outputs": [
    {
     "ename": "KeyboardInterrupt",
     "evalue": "",
     "output_type": "error",
     "traceback": [
      "\u001b[0;31m---------------------------------------------------------------------------\u001b[0m",
      "\u001b[0;31mKeyboardInterrupt\u001b[0m                         Traceback (most recent call last)",
      "\u001b[0;32m<ipython-input-17-6100d299e66c>\u001b[0m in \u001b[0;36m<module>\u001b[0;34m\u001b[0m\n\u001b[1;32m     41\u001b[0m     \u001b[0mwin\u001b[0m\u001b[0;34m.\u001b[0m\u001b[0mgetMouse\u001b[0m\u001b[0;34m(\u001b[0m\u001b[0;34m)\u001b[0m\u001b[0;34m\u001b[0m\u001b[0;34m\u001b[0m\u001b[0m\n\u001b[1;32m     42\u001b[0m \u001b[0;34m\u001b[0m\u001b[0m\n\u001b[0;32m---> 43\u001b[0;31m \u001b[0mmain\u001b[0m\u001b[0;34m(\u001b[0m\u001b[0;34m)\u001b[0m\u001b[0;34m\u001b[0m\u001b[0;34m\u001b[0m\u001b[0m\n\u001b[0m",
      "\u001b[0;32m<ipython-input-17-6100d299e66c>\u001b[0m in \u001b[0;36mmain\u001b[0;34m()\u001b[0m\n\u001b[1;32m     20\u001b[0m \u001b[0;34m\u001b[0m\u001b[0m\n\u001b[1;32m     21\u001b[0m     \u001b[0;31m# Get and draw three vertices of triangle\u001b[0m\u001b[0;34m\u001b[0m\u001b[0;34m\u001b[0m\u001b[0;34m\u001b[0m\u001b[0m\n\u001b[0;32m---> 22\u001b[0;31m     \u001b[0mp1\u001b[0m \u001b[0;34m=\u001b[0m \u001b[0mwin\u001b[0m\u001b[0;34m.\u001b[0m\u001b[0mgetMouse\u001b[0m\u001b[0;34m(\u001b[0m\u001b[0;34m)\u001b[0m\u001b[0;34m\u001b[0m\u001b[0;34m\u001b[0m\u001b[0m\n\u001b[0m\u001b[1;32m     23\u001b[0m     \u001b[0mp1\u001b[0m\u001b[0;34m.\u001b[0m\u001b[0mdraw\u001b[0m\u001b[0;34m(\u001b[0m\u001b[0mwin\u001b[0m\u001b[0;34m)\u001b[0m\u001b[0;34m\u001b[0m\u001b[0;34m\u001b[0m\u001b[0m\n\u001b[1;32m     24\u001b[0m     \u001b[0mp2\u001b[0m \u001b[0;34m=\u001b[0m \u001b[0mwin\u001b[0m\u001b[0;34m.\u001b[0m\u001b[0mgetMouse\u001b[0m\u001b[0;34m(\u001b[0m\u001b[0;34m)\u001b[0m\u001b[0;34m\u001b[0m\u001b[0;34m\u001b[0m\u001b[0m\n",
      "\u001b[0;32m~/Documents/Financial Engineering/Computer science/Introduction to Computer Science/Chapter 6/graphics.py\u001b[0m in \u001b[0;36mgetMouse\u001b[0;34m(self)\u001b[0m\n\u001b[1;32m    315\u001b[0m             \u001b[0mself\u001b[0m\u001b[0;34m.\u001b[0m\u001b[0mupdate\u001b[0m\u001b[0;34m(\u001b[0m\u001b[0;34m)\u001b[0m\u001b[0;34m\u001b[0m\u001b[0;34m\u001b[0m\u001b[0m\n\u001b[1;32m    316\u001b[0m             \u001b[0;32mif\u001b[0m \u001b[0mself\u001b[0m\u001b[0;34m.\u001b[0m\u001b[0misClosed\u001b[0m\u001b[0;34m(\u001b[0m\u001b[0;34m)\u001b[0m\u001b[0;34m:\u001b[0m \u001b[0;32mraise\u001b[0m \u001b[0mGraphicsError\u001b[0m\u001b[0;34m(\u001b[0m\u001b[0;34m\"getMouse in closed window\"\u001b[0m\u001b[0;34m)\u001b[0m\u001b[0;34m\u001b[0m\u001b[0;34m\u001b[0m\u001b[0m\n\u001b[0;32m--> 317\u001b[0;31m             \u001b[0mtime\u001b[0m\u001b[0;34m.\u001b[0m\u001b[0msleep\u001b[0m\u001b[0;34m(\u001b[0m\u001b[0;36m.1\u001b[0m\u001b[0;34m)\u001b[0m \u001b[0;31m# give up thread\u001b[0m\u001b[0;34m\u001b[0m\u001b[0;34m\u001b[0m\u001b[0m\n\u001b[0m\u001b[1;32m    318\u001b[0m         \u001b[0mx\u001b[0m\u001b[0;34m,\u001b[0m\u001b[0my\u001b[0m \u001b[0;34m=\u001b[0m \u001b[0mself\u001b[0m\u001b[0;34m.\u001b[0m\u001b[0mtoWorld\u001b[0m\u001b[0;34m(\u001b[0m\u001b[0mself\u001b[0m\u001b[0;34m.\u001b[0m\u001b[0mmouseX\u001b[0m\u001b[0;34m,\u001b[0m \u001b[0mself\u001b[0m\u001b[0;34m.\u001b[0m\u001b[0mmouseY\u001b[0m\u001b[0;34m)\u001b[0m\u001b[0;34m\u001b[0m\u001b[0;34m\u001b[0m\u001b[0m\n\u001b[1;32m    319\u001b[0m         \u001b[0mself\u001b[0m\u001b[0;34m.\u001b[0m\u001b[0mmouseX\u001b[0m \u001b[0;34m=\u001b[0m \u001b[0;32mNone\u001b[0m\u001b[0;34m\u001b[0m\u001b[0;34m\u001b[0m\u001b[0m\n",
      "\u001b[0;31mKeyboardInterrupt\u001b[0m: "
     ]
    }
   ],
   "source": [
    "# Program: triangle2.py\n",
    "\n",
    "# tiangle2.pyw\n",
    "\n",
    "import math\n",
    "from graphics import *\n",
    "\n",
    "def square(x):\n",
    "    return x ** 2\n",
    "\n",
    "def distance(p1, p2):\n",
    "    dist = math.sqrt(square(p2.getX() - p1.getX()) + square(p2.getY() - p1.getY()))\n",
    "    return dist\n",
    "\n",
    "def main():\n",
    "    win = GraphWin(\"Draw a Triangle\")\n",
    "    win.setCoords(0.0, 0.0, 10.0, 10.0)\n",
    "    message = Text(Point(5,0.5), \"Click on three points\")\n",
    "    message.draw(win)\n",
    "    \n",
    "    # Get and draw three vertices of triangle\n",
    "    p1 = win.getMouse()\n",
    "    p1.draw(win)\n",
    "    p2 = win.getMouse()\n",
    "    p2.draw(win)\n",
    "    p3 = win.getMouse()\n",
    "    p3.draw(win)\n",
    "    \n",
    "    # Use Polygon object to draw the triangle\n",
    "    triangle = Polygon(p1, p2, p3)\n",
    "    triangle.setFill(\"peachpuff\")\n",
    "    triangle.setOutline(\"cyan\")\n",
    "    triangle.draw(win)\n",
    "    \n",
    "    # Calculate the perimeter of the triangle\n",
    "    perim = distance(p1, p2) + distance(p2, p3) + distance(p3, p1)\n",
    "    message.setText(\"The perimeter is: {0:0.2f}\".format(perim))\n",
    "    \n",
    "    # Wait for another click to exit\n",
    "    message.setText(\"Click anywhere to quit.\")\n",
    "    win.getMouse()\n",
    "    \n",
    "main()"
   ]
  },
  {
   "cell_type": "code",
   "execution_count": 18,
   "metadata": {
    "scrolled": true
   },
   "outputs": [
    {
     "name": "stdout",
     "output_type": "stream",
     "text": [
      "Happy Birthday to you!\n",
      "Happy Birthday to you!\n",
      "Happy bithday, dear Fred.\n",
      "Happy Birthday to you!\n",
      "\n",
      "Happy Birthday to you!\n",
      "Happy Birthday to you!\n",
      "Happy bithday, dear Lucy.\n",
      "Happy Birthday to you!\n",
      "\n",
      "Happy Birthday to you!\n",
      "Happy Birthday to you!\n",
      "Happy bithday, dear Elmer.\n",
      "Happy Birthday to you!\n",
      "\n"
     ]
    }
   ],
   "source": [
    "# happy2.py\n",
    "\n",
    "def happy():\n",
    "    return(\"Happy Birthday to you!\\n\")\n",
    "    \n",
    "def verseFor(person):\n",
    "    lyrics = happy() * 2 + \"Happy bithday, dear \" + person + \".\\n\" + happy()\n",
    "    return lyrics\n",
    "\n",
    "def main():\n",
    "    for person in [\"Fred\", \"Lucy\", \"Elmer\"]:\n",
    "        print(verseFor(person))\n",
    "    \n",
    "main()"
   ]
  },
  {
   "cell_type": "code",
   "execution_count": 19,
   "metadata": {},
   "outputs": [],
   "source": [
    "# happy2.py\n",
    "# Add file version\n",
    "\n",
    "def happy():\n",
    "    return(\"Happy Birthday to you!\\n\")\n",
    "    \n",
    "def verseFor(person):\n",
    "    lyrics = happy() * 2 + \"Happy bithday, dear \" + person + \".\\n\" + happy()\n",
    "    return lyrics\n",
    "\n",
    "def main():\n",
    "    outf = open(\"Happy_Birthday.txt\", \"w\")\n",
    "    for person in [\"Fred\", \"Lucy\", \"Elmer\"]:\n",
    "        print(verseFor(person), file=outf)\n",
    "    outf.close()\n",
    "    \n",
    "main()"
   ]
  },
  {
   "cell_type": "code",
   "execution_count": 20,
   "metadata": {},
   "outputs": [],
   "source": [
    "def sumDiff(x,y):\n",
    "    sum = x + y\n",
    "    diff = x - y\n",
    "    return sum, diff"
   ]
  },
  {
   "cell_type": "code",
   "execution_count": 21,
   "metadata": {},
   "outputs": [
    {
     "data": {
      "text/plain": [
       "(14, -4)"
      ]
     },
     "execution_count": 21,
     "metadata": {},
     "output_type": "execute_result"
    }
   ],
   "source": [
    "sumDiff(5,9)"
   ]
  },
  {
   "cell_type": "code",
   "execution_count": 23,
   "metadata": {},
   "outputs": [
    {
     "name": "stdout",
     "output_type": "stream",
     "text": [
      "Please enter two numbers (num1, num2) 200, 200\n",
      "The sum is 400.0 and the difference is 0.0\n"
     ]
    }
   ],
   "source": [
    "num1, num2 = input(\"Please enter two numbers (num1, num2) \").split(\", \")\n",
    "s, d = sumDiff(float(num1), float(num2))\n",
    "print(\"The sum is\", s, \"and the difference is\", d)"
   ]
  },
  {
   "cell_type": "code",
   "execution_count": null,
   "metadata": {},
   "outputs": [],
   "source": [
    "# 6.6 Functions that Modify Parameters"
   ]
  },
  {
   "cell_type": "code",
   "execution_count": 24,
   "metadata": {},
   "outputs": [],
   "source": [
    "# addinterest1.oy\n",
    "def addInterest(balance, rate):\n",
    "    newBalance = balance * (1+rate)\n",
    "    balance = newBalance"
   ]
  },
  {
   "cell_type": "code",
   "execution_count": 25,
   "metadata": {},
   "outputs": [],
   "source": [
    "def test():\n",
    "    amount = 1000\n",
    "    rate = 0.05\n",
    "    addInterest(amount,rate)\n",
    "    print(amount)"
   ]
  },
  {
   "cell_type": "code",
   "execution_count": 26,
   "metadata": {},
   "outputs": [
    {
     "name": "stdout",
     "output_type": "stream",
     "text": [
      "1000\n"
     ]
    }
   ],
   "source": [
    "test()"
   ]
  },
  {
   "cell_type": "code",
   "execution_count": 35,
   "metadata": {},
   "outputs": [],
   "source": [
    "# addinterest2.py\n",
    "def addInterest(balance, rate):\n",
    "    newBalance = balance * (1+rate)\n",
    "    return newBalance\n",
    "\n",
    "def test1():\n",
    "    amount = 1000\n",
    "    rate = 0.05\n",
    "    amount = addInterest(amount,rate)\n",
    "    print(amount)"
   ]
  },
  {
   "cell_type": "code",
   "execution_count": 36,
   "metadata": {},
   "outputs": [
    {
     "name": "stdout",
     "output_type": "stream",
     "text": [
      "1050.0\n"
     ]
    }
   ],
   "source": [
    "test1()"
   ]
  },
  {
   "cell_type": "markdown",
   "metadata": {},
   "source": [
    "### Examples of lists\n",
    "This works because lists are mutables. This line of code essentailly says \"multiple the values in the 0th position\"\n",
    "of the list by (1+rate) and store it back at the 0th position. This can be expressed at point 0 aswell.\n",
    "\n",
    "balance[0] = balances[0] * (1+r)\n",
    "\n",
    "balances[1] = balances[1] * (1+r)\n",
    "\n",
    "Are more genral way of updating all the balances is to use a loop that goes through position0, 1,... length- - 1. \n",
    "\n",
    "Consider the following:"
   ]
  },
  {
   "cell_type": "code",
   "execution_count": 37,
   "metadata": {},
   "outputs": [],
   "source": [
    "def addInterest(balances, rate):\n",
    "    for i in range(len(balances)):\n",
    "        balances[i] = balances[i] * (1+rate)\n",
    "        \n",
    "def test():\n",
    "    amounts = [1000, 2200, 800, 360]\n",
    "    rate = 0.05\n",
    "    addInterest(amounts, rate)\n",
    "    print(amounts)"
   ]
  },
  {
   "cell_type": "code",
   "execution_count": 39,
   "metadata": {},
   "outputs": [
    {
     "name": "stdout",
     "output_type": "stream",
     "text": [
      "[1050.0, 2310.0, 840.0, 378.0]\n"
     ]
    }
   ],
   "source": [
    "test()"
   ]
  },
  {
   "cell_type": "markdown",
   "metadata": {},
   "source": [
    "## 6.9 Exercises\n",
    "\n",
    "### Review Questions\n",
    "\n",
    "True/ False\n",
    "\n",
    "1. Programmers rarely define their own functions.\n",
    "\n",
    "False.\n",
    "\n",
    "Programmers use functions to reduce code duplication and to help structure or modularise programs.\n",
    "\n",
    "2. A function may only be called at one place in a program.\n",
    "\n",
    "False.\n",
    "\n",
    "A function can be called multiple time from many places in a program.\n",
    "\n",
    "3. Information can be passed into a function through parameters.\n",
    "\n",
    "True.\n",
    "\n",
    "Parameters allows functions to have changeable parts. The parameters appearing in the function definition are called formal parameters, and the expressions appearing in a function call are known as actual parameters.\n",
    "\n",
    "4. Every Python function returns some value.\n",
    "\n",
    "False.\n",
    "\n",
    "Functions can communicate information back to the caller through return values. In Python, funcrtions may return multiple values. Value - returning functions should generally be called from inside an expressions. Functions that don't explicitly return a value return the special object none.\n",
    "\n",
    "5. In Python, some parameters are passed by reference.\n",
    "\n",
    "False.\n",
    "\n",
    "Python passes parameters by value. If the value being passed is a mutable object, then changes made to the object may be visible to the caller.\n",
    "\n",
    "6. In Python, a function can return only one value.\n",
    "\n",
    "False.\n",
    "\n",
    "Functions can communicate information back to the caller using a return value. In Python, functions may return multiple values.\n",
    "\n",
    "7. Python functions can never modify a parameter.\n",
    "\n",
    "False\n",
    "\n",
    "Python functions can modify mutable objects like lists and objects\n",
    "\n",
    "8. One reason to use functions is to reduce code duplication.\n",
    "\n",
    "True.\n",
    "\n",
    "Programmers use function to reduce code duplication and to help structure or moularize programs.\n",
    "\n",
    "9. Variables defined in a function are local to that function.\n",
    "\n",
    "True.\n",
    "\n",
    "10. It's a bad idea to define new function if it makes a program longer.\n",
    "\n",
    "True. WRONG\n",
    "\n",
    "False.\n",
    "\n",
    "Functions may be helpful in organizing code, even if the end result is to make the program a little longer. \n",
    "\n",
    "8/10"
   ]
  },
  {
   "cell_type": "markdown",
   "metadata": {},
   "source": [
    "### Multiple Choice"
   ]
  },
  {
   "cell_type": "markdown",
   "metadata": {},
   "source": [
    "1. The part of a program that uses a function is called the\n",
    "\n",
    "    a. User\n",
    "\n",
    "    b. Caller\n",
    "\n",
    "    c. Callee\n",
    "\n",
    "    d. Statement\n",
    "        \n",
    "        - A single command in a programming language.\n",
    "    \n",
    "d. Statement - WRONG\n",
    "\n",
    "b. Caller is correct\n",
    "\n",
    "2. A Python function definition begins with\n",
    "\n",
    "    a. def\n",
    "\n",
    "    b. define\n",
    "\n",
    "    c. function\n",
    "    \n",
    "        - A subprogram within a program. Functions take parameters as input and can return values.\n",
    "\n",
    "    d. defun\n",
    "    \n",
    "    \n",
    "b. Python function start with a key word def()\n",
    "    \n",
    "    \n",
    "3. A function can sent output back to the program with a (n)\n",
    "\n",
    "    a. Return\n",
    "\n",
    "    b. print\n",
    "\n",
    "    c. assignment\n",
    "    \n",
    "        - The process of giving a value to a variable.\n",
    "\n",
    "    d. SASE\n",
    "\n",
    "\n",
    "b. Return function has an output other than none. \n",
    "\n",
    "4. Formal and actual parameters are matched up by:\n",
    "\n",
    "    Parameters allows functions to have changeable parts. \n",
    "    \n",
    "    The parameters appearing in the function definition are called formal parameters, and the expressions appearing in a function call are known as actual parameters.\n",
    "\n",
    "    a. name\n",
    "\n",
    "    b. position\n",
    "\n",
    "    c. ID\n",
    "\n",
    "    d. interest\n",
    "    \n",
    "a. name. WRONG\n",
    "\n",
    "b. Position\n",
    "\n",
    "\n",
    "5. Which of the following is not a step in the function-called process?\n",
    "\n",
    "    a. The calling program suspends.\n",
    "\n",
    "    b. The formal parameters are assigned the value of the actual parameters.\n",
    "\n",
    "    c. The body of the function executes.\n",
    "\n",
    "    d. Control returns to the point just before the function was called.\n",
    "    \n",
    "d. A call to a function initiates a four-step process:\n",
    "\n",
    "    - The calling program is suspended.\n",
    "    \n",
    "    - The values of actual parameters are assigned to the formal parameters.\n",
    "    \n",
    "    - The body of the function is executed.\n",
    "    \n",
    "    - Control returns immediately following the function call in the calling program. The value returns by the function is used as the expression result.\n",
    "  \n",
    "\n",
    "6. In Python, actual parameters are passed to functions.\n",
    "\n",
    "    a. by value\n",
    "\n",
    "    b. by reference\n",
    "    \n",
    "    c. at random\n",
    "\n",
    "    d. by networking\n",
    "    \n",
    "a. Python passes parameters by value. If the value being passed is a mutable object, then changes made to the object may be visible to the caller.\n",
    "    \n",
    "\n",
    "7. Which of the following is not a reason to use functions?\n",
    "\n",
    "    a. To reduce code duplication\n",
    "\n",
    "    b. To make a program more modular\n",
    "\n",
    "    c. To make a program more self-documenting\n",
    "\n",
    "    d. To demonstrate intellectual superiority\n",
    "    \n",
    "d. Programmers use functions to reduce code duplicat and to help structure or modularise programs. It also helps the program to be self-documenting.\n",
    "\n",
    "\n",
    "8. If a function returns a value, it should generally be called from\n",
    "\n",
    "    a. An expression\n",
    "    \n",
    "        - A part of a program that produces data\n",
    "    \n",
    "    b. A different program\n",
    "\n",
    "    c. Main\n",
    "\n",
    "    d. A cell phone\n",
    "    \n",
    "a. An expression.\n",
    "    \n",
    "    \n",
    "9. A function with no return statement returns\n",
    "\n",
    "    a. nothing\n",
    "    \n",
    "    b. its parameters\n",
    "    \n",
    "    c. its variables\n",
    "    \n",
    "    d. None\n",
    "    \n",
    "d. Functions that don't explicitly return a value return the special object None.\n",
    "    \n",
    "    \n",
    "10. A function can modify the value of an actual parameter only if its\n",
    "    \n",
    "    a. mutable\n",
    "    \n",
    "    b. a list\n",
    "    \n",
    "    c. passed by reference\n",
    "    \n",
    "    d. a variable\n",
    "    \n",
    "a. Python passes parameters by value. If the value being passed is a mutable object, then changes made to the object may be visible to the caller.\n",
    "\n",
    "\n",
    "\n",
    "8/ 10"
   ]
  },
  {
   "cell_type": "markdown",
   "metadata": {},
   "source": [
    "## Discussion\n",
    "\n",
    "1. In your own words, describe the two motivations for defining functions in your program.\n",
    "\n",
    "    The two motivations is that it keeps code very clean and readable, whilst reducing duplications and potentially making the code more effecient.\n",
    "    \n",
    "    The second motivation of the function is, they improve code reusability. Coders need not write same logic multiple times in multiple places.\n",
    "    \n",
    "\n",
    "2. We have been thinking about computer programs as sequences of instructions where the computer methodically executes one instruction and then moves on to the next one. Do programs that contain functions fit this model? Explain your answer.\n",
    "\n",
    "    In a sense yes. A function is kind of like a subprogram. Programmers use function to reduce code duplication and to help structure or modularize programs. \n",
    "\n",
    "    Once a function is defined, it may be called from many different places in a program. Paramters allows function to have changeable parts.\n",
    "    \n",
    "    The parameters appearing in the function defeiniton are called formal paramters, and the expressions appearing in a function call are known as actual parameters.\n",
    "\n",
    "\n",
    "3. Parameters are an important concept in defining functions.\n",
    "\n",
    "    a. What is the purpose of parameters?\n",
    "\n",
    "        Parameters are special variables in a function that are initialized at the time of a call with information passed from a caller.\n",
    "\n",
    "\n",
    "    b. What is the difference between a formal parameter and an actual parameter.\n",
    "\n",
    "        Parameters that appear in the function definiition are formal parameters.\n",
    "        \n",
    "        However expressions appearing in a function call are known as actual parameters.\n",
    "        \n",
    "\n",
    "    c. In what ways are parameters similar to and different from ordinary variables.\n",
    "    \n",
    "        \n",
    "\n",
    "\n",
    "4. Functions can be thought of as miniature (sub)programs inside other programs. Like any other program, we can think of function as having input and output to communicate with the main program.\n",
    "\n",
    "    a. How does a program provide \"input\" to one of its functions?\n",
    "\n",
    "        A function is created within a function providing a name and actual parameter that requieres input.\n",
    "        \n",
    "\n",
    "    b. How does a function provide \"output\" to the program?\n",
    "    \n",
    "        When a function is executed, with either a print statement ro return statement, an output is provided.\n",
    "        \n",
    "    \n",
    "5. Consider this very simple function:\n",
    "\n",
    "    def cube(x)\n",
    "        answer = x * x * x\n",
    "        return answer\n",
    "\n",
    "    a. What does this function do?\n",
    "    \n",
    "        This function cube roots x\n",
    "        \n",
    "    \n",
    "    b. Show how a program could use this function to print the value of y^3, assuming y is a variable.\n",
    "    \n",
    "        X** 3\n",
    "    \n",
    "    \n",
    "    c. Here is a fragment of a program that uses this function:\n",
    "    \n",
    "        answer = 4\n",
    "        result = cube(3)\n",
    "        print (answer, result)\n",
    "\n",
    "        The output from this fragment is 4 27. Explain why the output is not 27 27, even though cube seems to change the value of answer to 27.\n",
    "        \n",
    "        As answer is already defined as 4 in the program and result gives the cube root"
   ]
  },
  {
   "cell_type": "markdown",
   "metadata": {},
   "source": [
    "## Programming exercises"
   ]
  },
  {
   "cell_type": "markdown",
   "metadata": {},
   "source": [
    "1. Write a program to print the lyrics of the song \"Old MacDonald.\" Your program should print the lyrics for five different animals, similar tot he example verse below.\n",
    "\n",
    "    Old MacDonald has a farm, Ee-igh, Ee-igh, Oh!\n",
    "    And on that farm her had a coew, Ee-igh, Ee-igh, Oh!\n",
    "    With a moo, moo, here and a moo, moo there.\n",
    "    Here a moo, there a moo, everywhere a moo,moo.\n",
    "    Old MacDonald has a farm, Ee-igh, Ee-igh, Oh!"
   ]
  },
  {
   "cell_type": "code",
   "execution_count": 18,
   "metadata": {},
   "outputs": [],
   "source": [
    "# Old Macdonald.py\n",
    "\n",
    "def verse1():\n",
    "    print(\"Old MacDonald has a farm, Ee-igh, Ee-igh, Oh!\")\n",
    "    \n",
    "def animal(kind, noise):\n",
    "    verse1()\n",
    "    print(\"And on that farm he had a \" + kind + \"Ee-igh, Ee-igh, Oh!\")\n",
    "    print(\"With a \" + noise + \", \" + noise + \" here and a \" + noise +\", \" + noise + \" there.\")\n",
    "    print(\"Here a \" + noise + \", there a \" + noise + \", everywhere a \" + noise + \".\")\n",
    "    verse1()\n",
    "\n",
    "def main():\n",
    "    animal(\"pig\", \"oink\")\n",
    "    print()\n",
    "    animal(\"duck\", \"quack\")\n",
    "    print()\n",
    "    animal(\"sheep\", \"baah\")\n",
    "    print()\n",
    "    animal(\"cow\", \"moo\")\n",
    "    print()\n",
    "    animal(\"dog\", \"woof\")"
   ]
  },
  {
   "cell_type": "code",
   "execution_count": 19,
   "metadata": {},
   "outputs": [
    {
     "name": "stdout",
     "output_type": "stream",
     "text": [
      "Old MacDonald has a farm, Ee-igh, Ee-igh, Oh!\n",
      "And on that farm he had a pigEe-igh, Ee-igh, Oh!\n",
      "With a oink, oink here and a oink, oink there.\n",
      "Here a oink, there a oink, everywhere a oink.\n",
      "Old MacDonald has a farm, Ee-igh, Ee-igh, Oh!\n",
      "\n",
      "Old MacDonald has a farm, Ee-igh, Ee-igh, Oh!\n",
      "And on that farm he had a duckEe-igh, Ee-igh, Oh!\n",
      "With a quack, quack here and a quack, quack there.\n",
      "Here a quack, there a quack, everywhere a quack.\n",
      "Old MacDonald has a farm, Ee-igh, Ee-igh, Oh!\n",
      "\n",
      "Old MacDonald has a farm, Ee-igh, Ee-igh, Oh!\n",
      "And on that farm he had a sheepEe-igh, Ee-igh, Oh!\n",
      "With a baah, baah here and a baah, baah there.\n",
      "Here a baah, there a baah, everywhere a baah.\n",
      "Old MacDonald has a farm, Ee-igh, Ee-igh, Oh!\n",
      "\n",
      "Old MacDonald has a farm, Ee-igh, Ee-igh, Oh!\n",
      "And on that farm he had a cowEe-igh, Ee-igh, Oh!\n",
      "With a moo, moo here and a moo, moo there.\n",
      "Here a moo, there a moo, everywhere a moo.\n",
      "Old MacDonald has a farm, Ee-igh, Ee-igh, Oh!\n",
      "\n",
      "Old MacDonald has a farm, Ee-igh, Ee-igh, Oh!\n",
      "And on that farm he had a dogEe-igh, Ee-igh, Oh!\n",
      "With a woof, woof here and a woof, woof there.\n",
      "Here a woof, there a woof, everywhere a woof.\n",
      "Old MacDonald has a farm, Ee-igh, Ee-igh, Oh!\n"
     ]
    }
   ],
   "source": [
    "main()"
   ]
  },
  {
   "cell_type": "markdown",
   "metadata": {},
   "source": [
    "2. Write a program to print the lyrics for ten verses of \"The Ants Go Marching.\" A couple of sample verses are given below. You may choose your own activity for the \"little one\" in each verse, but be sure to choose something that makes the rhyme work (or almost work.)\n",
    "\n",
    "    The ants go marching one by one, hurrah! hurrah!\n",
    "    The ants go marching one by one, hurrah! hurrah!\n",
    "    The ants go marching one by one,\n",
    "    The little one stops to suck his thumb, \n",
    "    And they all go marching down...\n",
    "    In the ground....\n",
    "    To get out....\n",
    "    Of the rain.\n",
    "    Boom! Boom! Boom!\n",
    "    The ants go marching one by one, hurrah! hurrah!\n",
    "    The ants go marching one by one, hurrah! hurrah!\n",
    "    The ants go marching one by two,\n",
    "    The little one stops to tie his shoe,\n",
    "    And they all go marching down....\n",
    "    In the ground...\n",
    "    To get out...\n",
    "    Of the rain.\n",
    "    Boom! Boom! Boom!"
   ]
  },
  {
   "cell_type": "code",
   "execution_count": 25,
   "metadata": {},
   "outputs": [
    {
     "name": "stdout",
     "output_type": "stream",
     "text": [
      "The ants go marching one by one, hurrah! hurrah!\n",
      "The ants go marching one by one, hurrah! hurrah!\n",
      "The ants go marching one by one,\n",
      "The little one stops to suck his thumb,\n",
      "And they all go marching down...\n",
      "In the ground....\n",
      "To get out....\n",
      "Of the rain.\n",
      "Boom! Boom! Boom!\n",
      " \n",
      "The ants go marching one by one, hurrah! hurrah!\n",
      "The ants go marching one by one, hurrah! hurrah!\n",
      "The ants go marching one by one,\n",
      "The little one stops to tie his shoes,\n",
      "And they all go marching down...\n",
      "In the ground....\n",
      "To get out....\n",
      "Of the rain.\n",
      "Boom! Boom! Boom!\n",
      " \n"
     ]
    }
   ],
   "source": [
    "# the_ants_go_marching.py\n",
    "\n",
    "def marching_verse1():\n",
    "    print(\"The ants go marching one by one, hurrah! hurrah!\")\n",
    "    print(\"The ants go marching one by one, hurrah! hurrah!\")\n",
    "    print(\"The ants go marching one by one,\")\n",
    "\n",
    "def marching_verse2():\n",
    "    print(\"And they all go marching down...\")\n",
    "    print(\"In the ground....\")\n",
    "    print(\"To get out....\")\n",
    "    print(\"Of the rain.\")\n",
    "    print(\"Boom! Boom! Boom!\")\n",
    "\n",
    "def rhyme(verse):\n",
    "    print(\"The little one stops\" + verse)\n",
    "          \n",
    "def main():\n",
    "    marching_verse1()\n",
    "    rhyme(\" to suck his thumb,\")\n",
    "    marching_verse2()\n",
    "    print(\" \")\n",
    "    marching_verse1()\n",
    "    rhyme(\" to tie his shoes,\")\n",
    "    marching_verse2()\n",
    "    print(\" \")\n",
    "    \n",
    "    # so on so forth\n",
    "    \n",
    "main()"
   ]
  },
  {
   "cell_type": "markdown",
   "metadata": {},
   "source": [
    "3. Write definitions for these functions:\n",
    "\n",
    "    sphereArea(radius) Returns the surface area of a sphere having the given radius.\n",
    "    \n",
    "    A = 4 * pi * r ** 3\n",
    "    \n",
    "    sphereVolume(radius) Returns the volume of a sphere having the given radius.\n",
    "    \n",
    "    V = 4 * pi * r ** 2"
   ]
  },
  {
   "cell_type": "code",
   "execution_count": 34,
   "metadata": {},
   "outputs": [
    {
     "name": "stdout",
     "output_type": "stream",
     "text": [
      "Input a value for the radius: 5\n",
      "A sphere with radius 5.0 has volume 523.599 and surface area 314.159 .\n"
     ]
    }
   ],
   "source": [
    "# radius_functions2.py\n",
    "\n",
    "import math as m\n",
    "\n",
    "def sphereArea(radius):\n",
    "    area =  4 * m.pi * radius ** 2\n",
    "    return (area)\n",
    "\n",
    "def sphereVolume(radius):\n",
    "    volume = 4 / 3 * m.pi * (radius ** 3)\n",
    "    return (volume)\n",
    "\n",
    "def main():\n",
    "    radius = (float(input(\"Input a value for the radius: \")))\n",
    "    a = sphereArea(radius)\n",
    "    v = sphereVolume(radius)\n",
    "    print(\"A sphere with radius\", radius, \"has volume\", round(v, 3), \"and surface area\", round(a, 3),\".\")\n",
    "\n",
    "main()"
   ]
  },
  {
   "cell_type": "markdown",
   "metadata": {},
   "source": [
    "4. Write definitions for the following two functions:\n",
    "\n",
    "    sumN(n) returns the sum of the first n natural numbers.\n",
    "    sumNCubes(n) returns the sum of the cubes of the first n natural numbers.\n",
    "    \n",
    "    Then use these functions in a prgoram that prompts a user for an n and prints out the sum of the first n natural numbers and the sum of the cubes of the first n natural numbers"
   ]
  },
  {
   "cell_type": "code",
   "execution_count": 44,
   "metadata": {},
   "outputs": [
    {
     "name": "stdout",
     "output_type": "stream",
     "text": [
      "Enter a value: 10\n",
      "The sum of the first 10 natural numbers is 55, and the sum of the\n",
      "sum of the first 10 cubes is 3025\n"
     ]
    }
   ],
   "source": [
    "#NaturalNumber.py\n",
    "\n",
    "def sumN(n):\n",
    "    fact = 1\n",
    "    for factor in range(n,1,-1):\n",
    "    # start = n\n",
    "    # stops = 1\n",
    "    # steps = -1\n",
    "        fact = fact + factor\n",
    "    return fact\n",
    "\n",
    "def sumNCubes(n):\n",
    "    cube = 1\n",
    "    for factor in range(n,1,-1):\n",
    "    # start = n\n",
    "    # stops = 1\n",
    "    # steps = -1\n",
    "        cube = cube + factor ** 3\n",
    "    return cube\n",
    "def main():\n",
    "    n = eval(input(\"Enter a value: \"))\n",
    "    N = sumN(n)\n",
    "    NCubes = sumNCubes(n)\n",
    "    print(\"The sum of the first {0} natural numbers is {1}, and the sum of the\\n\"\n",
    "    \"sum of the first {0} cubes is {2}\".format(n, N, NCubes))\n",
    "\n",
    "main()"
   ]
  },
  {
   "cell_type": "markdown",
   "metadata": {},
   "source": [
    "5. Redo Programming Exercise 3 from Chapter 3. Use two function - one to compute the area of of a pizza, and one to compute cost per square inch."
   ]
  },
  {
   "cell_type": "code",
   "execution_count": 48,
   "metadata": {},
   "outputs": [
    {
     "name": "stdout",
     "output_type": "stream",
     "text": [
      "Enter radius of your pizza: 10\n",
      "Enter the cost of the pizza: $10\n",
      "The pizza has an area of 78.54 square inches\n",
      "The price per square inch is about $0.13.\n"
     ]
    }
   ],
   "source": [
    "#CostPerInchOfPizza2.py\n",
    "\n",
    "import math as m\n",
    "\n",
    "def areaOfPizza(diameter):\n",
    "    radius = diameter / 2\n",
    "    area = m.pi * radius ** 2\n",
    "    return area\n",
    "\n",
    "def costPerSquareInch(cost, area):\n",
    "    cost_per_sqin = cost / area\n",
    "    return cost_per_sqin\n",
    "\n",
    "def main():\n",
    "    \n",
    "    diameter = int(input(\"Enter radius of your pizza: \"))\n",
    "    cost = float(input(\"Enter the cost of the pizza: $\"))\n",
    "    \n",
    "    a = areaOfPizza(diameter)\n",
    "    cps = costPerSquareInch(cost,a)\n",
    "    \n",
    "    print(\"The pizza has an area of {0} square inches\".format(round(a, 2)))\n",
    "    print(\"The price per square inch is about ${0}.\".format(round(cps, 2)))\n",
    "    \n",
    "main() "
   ]
  },
  {
   "cell_type": "markdown",
   "metadata": {},
   "source": [
    "7. Write a function to compute the nth Fibonacci number. Use your function to solve programming exercise 16 from Chapter 3."
   ]
  },
  {
   "cell_type": "code",
   "execution_count": 73,
   "metadata": {},
   "outputs": [
    {
     "name": "stdout",
     "output_type": "stream",
     "text": [
      "0\n",
      "1\n",
      "0\n",
      "\n",
      "2\n",
      "3\n",
      "3\n"
     ]
    }
   ],
   "source": [
    "#logicTextFeb.py\n",
    "\n",
    "import math as m\n",
    "\n",
    "#Whys is y = 1?\n",
    "\n",
    "def fibonnaci(n):\n",
    "    x = 0\n",
    "    y = 1\n",
    "    z = 0\n",
    "    \n",
    "    print(x)\n",
    "    print(y)\n",
    "    print(z)\n",
    "    print(\"\")\n",
    "\n",
    "#n+1 increased n by 1\n",
    "    for i in range (n):\n",
    "        z = x + y\n",
    "        x = y\n",
    "        y = z\n",
    "    \n",
    "    print(x)\n",
    "    print(y)\n",
    "    print(z)\n",
    "\n",
    "fibonnaci(3)"
   ]
  },
  {
   "cell_type": "code",
   "execution_count": 58,
   "metadata": {},
   "outputs": [
    {
     "name": "stdout",
     "output_type": "stream",
     "text": [
      "What number in the Fibonnaci sequence would you like to see?: 0\n",
      "The 0 Fibonnaci number is 1.\n"
     ]
    }
   ],
   "source": [
    "#febseq2.py\n",
    "\n",
    "import math as m\n",
    "\n",
    "#Whys is y = 1?\n",
    "def fibonnaci(n):\n",
    "    x = 0\n",
    "    y = 1\n",
    "    z = 0\n",
    "    \n",
    "    # Whys is it n+1?\n",
    "    for i in range (n+1):\n",
    "        z = x + y\n",
    "        x = y\n",
    "        y = z\n",
    "    return y\n",
    "\n",
    "def main():\n",
    "    n = eval(input(\"What number in the Fibonnaci sequence would you like to see?: \"))\n",
    "    y = fibonnaci(n)\n",
    "    print(\"The {0} Fibonnaci number is {1}.\".format(n, y))\n",
    "main()"
   ]
  },
  {
   "cell_type": "markdown",
   "metadata": {},
   "source": [
    "10. Do Programming Exercise 4 from Chapter 5 using a function acronym(phrase) that returns on acronym for a phrase supplied as a string."
   ]
  },
  {
   "cell_type": "code",
   "execution_count": 74,
   "metadata": {},
   "outputs": [
    {
     "name": "stdout",
     "output_type": "stream",
     "text": [
      "What would you like acronymized? \n",
      "I am the man\n",
      "IATM\n"
     ]
    }
   ],
   "source": [
    "def acronym(phrase):\n",
    "    #start with an empty list\n",
    "    words = []\n",
    "    #loop for duration of input list split\n",
    "    for string in phrase.split():\n",
    "        #create a temporary variable to store the first letter of each word in upper case\n",
    "        x = string[0].upper()\n",
    "        words.append(x)\n",
    "\n",
    "    #conjoin listed output strings and print\n",
    "    acro = \"\".join(words)\n",
    "    return acro\n",
    "\n",
    "def main():\n",
    "    phrase = input(\"What would you like acronymized? \\n\")\n",
    "    x = acronym(phrase)\n",
    "    print(x)\n",
    "    \n",
    "main()"
   ]
  },
  {
   "cell_type": "markdown",
   "metadata": {},
   "source": [
    "11. Write and test a function to meet this specification.\n",
    "\n",
    "    squareEach(nums) nums is a list of numbers. Modifies the list by squaring each entry."
   ]
  },
  {
   "cell_type": "code",
   "execution_count": 89,
   "metadata": {},
   "outputs": [
    {
     "name": "stdout",
     "output_type": "stream",
     "text": [
      "[1, 4, 9, 16, 25]\n"
     ]
    }
   ],
   "source": [
    "# Note: you don't need to append to an empty list with numbers\n",
    "# can directly input it into the same list nums[x]\n",
    "\n",
    "def squareEach(nums):\n",
    "    # runs though the whole list and squares them\n",
    "    for x in range(len(nums)):\n",
    "        #x = nums ** 2\n",
    "        nums[x] = nums[x] ** 2\n",
    "    return(nums)\n",
    "\n",
    "def test():\n",
    "    list = [1,2,3,4,5]\n",
    "    y = squareEach(list)\n",
    "    print(y)\n",
    "    \n",
    "test()"
   ]
  },
  {
   "cell_type": "markdown",
   "metadata": {},
   "source": [
    "12. Write and test a function to meet this specification.\n",
    "\n",
    "    sumList(nums) nums is a list of numbers. Returns the sum of the numbers in the list."
   ]
  },
  {
   "cell_type": "code",
   "execution_count": 94,
   "metadata": {},
   "outputs": [
    {
     "name": "stdout",
     "output_type": "stream",
     "text": [
      "15\n"
     ]
    }
   ],
   "source": [
    "def sumList(nums):\n",
    "    nums = sum(nums)\n",
    "    return(nums)\n",
    "    \n",
    "    # Potential solution aswell\n",
    "    # y = 0\n",
    "    # for x in range (len(nums)):\n",
    "    #     y = nums[x] + y\n",
    "    # return(y)\n",
    "\n",
    "def test():\n",
    "    list = [1,2,3,4,5]\n",
    "    y = sumList(list)\n",
    "    print(y)\n",
    "    \n",
    "test() "
   ]
  },
  {
   "cell_type": "markdown",
   "metadata": {},
   "source": [
    "13. Write and test a function to meet this specification.\n",
    "\n",
    "    toNumbers(strList) strList is a list of strings, each of which represents a number. Modified each entry in the list by converting it to a number."
   ]
  },
  {
   "cell_type": "code",
   "execution_count": 124,
   "metadata": {},
   "outputs": [
    {
     "name": "stdout",
     "output_type": "stream",
     "text": [
      "['1', '2', '3', '4']\n",
      "[1, 2, 3, 4]\n"
     ]
    }
   ],
   "source": [
    "def toNumbers(strList):\n",
    "    for x in range (len(strList)):\n",
    "        # notice square brackets\n",
    "        strList[x] = int(strList[x])\n",
    "    return(strList)\n",
    "\n",
    "def test():\n",
    "    list = [\"1\",\"2\",\"3\",\"4\"]\n",
    "    print(list)\n",
    "    \n",
    "    y = toNumbers(list)\n",
    "    print(y)\n",
    "    \n",
    "test() "
   ]
  },
  {
   "cell_type": "markdown",
   "metadata": {},
   "source": [
    "14. Use the functions from the previous three problems to implement a program that computes the sum of the squares of numbers read from a file.Your program should prompt for a file name and print out the sum of the squares of the values in the file. Hint: Use Readlines( )"
   ]
  },
  {
   "cell_type": "code",
   "execution_count": 143,
   "metadata": {},
   "outputs": [
    {
     "name": "stdout",
     "output_type": "stream",
     "text": [
      "[1, 4, 49]\n",
      "[1, 4, 49]\n",
      "54\n"
     ]
    }
   ],
   "source": [
    "def toNumbers(strList):\n",
    "    for x in range (len(strList)):\n",
    "        # notice square brackets\n",
    "        strList[x] = int(strList[x])\n",
    "    return(strList)\n",
    "\n",
    "def squareEach(nums):\n",
    "    # runs though the whole list and squares them\n",
    "    for x in range(len(nums)):\n",
    "        #x = nums ** 2\n",
    "        nums[x] = nums[x] ** 2\n",
    "    return(nums)\n",
    "\n",
    "def sumList(nums):\n",
    "    nums = sum(nums)\n",
    "    return(nums)\n",
    "\n",
    "def main():\n",
    "    fname = (\"/Users/jjtakhar/Documents/Financial Engineering/Computer science/Introduction to Computer Science/Chapter 6/question13.txt\")\n",
    "    infile = open(fname, \"r\")\n",
    "\n",
    "    lines = []\n",
    "    for line in infile.readlines():\n",
    "        lines.append(line)\n",
    "\n",
    "    x = toNumbers(lines)\n",
    "    y = squareEach(x)\n",
    "    z = sumList(y)\n",
    "    print(x)\n",
    "    print(y)\n",
    "    print(z)\n",
    "\n",
    "    infile.close()\n",
    "main()"
   ]
  },
  {
   "cell_type": "code",
   "execution_count": 131,
   "metadata": {},
   "outputs": [
    {
     "data": {
      "text/plain": [
       "'/Users/jjtakhar/Documents/Financial Engineering/Computer science/Introduction to Computer Science/Chapter 6'"
      ]
     },
     "execution_count": 131,
     "metadata": {},
     "output_type": "execute_result"
    }
   ],
   "source": [
    "os.getcwd()"
   ]
  },
  {
   "cell_type": "code",
   "execution_count": null,
   "metadata": {},
   "outputs": [],
   "source": []
  }
 ],
 "metadata": {
  "kernelspec": {
   "display_name": "Python 3",
   "language": "python",
   "name": "python3"
  },
  "language_info": {
   "codemirror_mode": {
    "name": "ipython",
    "version": 3
   },
   "file_extension": ".py",
   "mimetype": "text/x-python",
   "name": "python",
   "nbconvert_exporter": "python",
   "pygments_lexer": "ipython3",
   "version": "3.7.6"
  }
 },
 "nbformat": 4,
 "nbformat_minor": 4
}
