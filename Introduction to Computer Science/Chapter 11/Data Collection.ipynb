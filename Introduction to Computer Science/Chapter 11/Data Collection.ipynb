{
 "cells": [
  {
   "cell_type": "markdown",
   "metadata": {},
   "source": [
    "## Data Collections"
   ]
  },
  {
   "cell_type": "markdown",
   "metadata": {},
   "source": [
    "### 11.1 Examples Problem: Simple Statistics"
   ]
  },
  {
   "cell_type": "code",
   "execution_count": 2,
   "metadata": {},
   "outputs": [
    {
     "name": "stdout",
     "output_type": "stream",
     "text": [
      "Enter a number (<Enter> to quit) >> 10\n",
      "Enter a number (<Enter> to quit) >> 10\n",
      "Enter a number (<Enter> to quit) >> 10\n",
      "Enter a number (<Enter> to quit) >> \n",
      "\n",
      "The average of the numbers is 10.0\n"
     ]
    }
   ],
   "source": [
    "# average4.py\n",
    "\n",
    "def main():\n",
    "    \n",
    "    total = 0.0\n",
    "    count = 0\n",
    "    xStr = input(\"Enter a number (<Enter> to quit) >> \")\n",
    "    \n",
    "    while xStr != \"\":\n",
    "        \n",
    "        x = float(xStr)\n",
    "        total = total + x\n",
    "        count = count + 1\n",
    "        xStr = input(\"Enter a number (<Enter> to quit) >> \")\n",
    "        \n",
    "    print(\"\\nThe average of the numbers is\", total / count)\n",
    "    \n",
    "main()"
   ]
  },
  {
   "cell_type": "markdown",
   "metadata": {},
   "source": [
    "### 11.2 Applying lists"
   ]
  },
  {
   "cell_type": "markdown",
   "metadata": {},
   "source": [
    "#### 11.2.2 List operations"
   ]
  },
  {
   "cell_type": "code",
   "execution_count": 10,
   "metadata": {},
   "outputs": [],
   "source": [
    "s = [1,2,3,4]"
   ]
  },
  {
   "cell_type": "code",
   "execution_count": 5,
   "metadata": {},
   "outputs": [
    {
     "data": {
      "text/plain": [
       "True"
      ]
     },
     "execution_count": 5,
     "metadata": {},
     "output_type": "execute_result"
    }
   ],
   "source": [
    "3 in lst"
   ]
  },
  {
   "cell_type": "code",
   "execution_count": 6,
   "metadata": {},
   "outputs": [
    {
     "data": {
      "text/plain": [
       "False"
      ]
     },
     "execution_count": 6,
     "metadata": {},
     "output_type": "execute_result"
    }
   ],
   "source": [
    "5 in lst"
   ]
  },
  {
   "cell_type": "code",
   "execution_count": 7,
   "metadata": {},
   "outputs": [],
   "source": [
    "ans = \"Y\""
   ]
  },
  {
   "cell_type": "code",
   "execution_count": 8,
   "metadata": {},
   "outputs": [
    {
     "data": {
      "text/plain": [
       "True"
      ]
     },
     "execution_count": 8,
     "metadata": {},
     "output_type": "execute_result"
    }
   ],
   "source": [
    "ans in \"Yy\""
   ]
  },
  {
   "cell_type": "code",
   "execution_count": 11,
   "metadata": {},
   "outputs": [],
   "source": [
    "total = 0\n",
    "for x in s:\n",
    "    total = total + x"
   ]
  },
  {
   "cell_type": "code",
   "execution_count": 12,
   "metadata": {},
   "outputs": [],
   "source": [
    "lst = [1, 2, 3, 4]"
   ]
  },
  {
   "cell_type": "code",
   "execution_count": 13,
   "metadata": {},
   "outputs": [
    {
     "data": {
      "text/plain": [
       "4"
      ]
     },
     "execution_count": 13,
     "metadata": {},
     "output_type": "execute_result"
    }
   ],
   "source": [
    "lst[3]"
   ]
  },
  {
   "cell_type": "code",
   "execution_count": 14,
   "metadata": {},
   "outputs": [],
   "source": [
    "lst[3] = \"Hello\""
   ]
  },
  {
   "cell_type": "code",
   "execution_count": 15,
   "metadata": {},
   "outputs": [
    {
     "data": {
      "text/plain": [
       "[1, 2, 3, 'Hello']"
      ]
     },
     "execution_count": 15,
     "metadata": {},
     "output_type": "execute_result"
    }
   ],
   "source": [
    "lst"
   ]
  },
  {
   "cell_type": "code",
   "execution_count": 16,
   "metadata": {},
   "outputs": [],
   "source": [
    "lst[2] = 7"
   ]
  },
  {
   "cell_type": "code",
   "execution_count": 17,
   "metadata": {},
   "outputs": [
    {
     "data": {
      "text/plain": [
       "[1, 2, 7, 'Hello']"
      ]
     },
     "execution_count": 17,
     "metadata": {},
     "output_type": "execute_result"
    }
   ],
   "source": [
    "lst"
   ]
  },
  {
   "cell_type": "code",
   "execution_count": 18,
   "metadata": {},
   "outputs": [
    {
     "data": {
      "text/plain": [
       "[2, 7]"
      ]
     },
     "execution_count": 18,
     "metadata": {},
     "output_type": "execute_result"
    }
   ],
   "source": [
    "lst[1:3]"
   ]
  },
  {
   "cell_type": "code",
   "execution_count": 19,
   "metadata": {},
   "outputs": [],
   "source": [
    "lst[1:3] = [\"Slice\", \"Assignment\"]"
   ]
  },
  {
   "cell_type": "code",
   "execution_count": 20,
   "metadata": {},
   "outputs": [
    {
     "data": {
      "text/plain": [
       "[1, 'Slice', 'Assignment', 'Hello']"
      ]
     },
     "execution_count": 20,
     "metadata": {},
     "output_type": "execute_result"
    }
   ],
   "source": [
    "lst"
   ]
  },
  {
   "cell_type": "code",
   "execution_count": 21,
   "metadata": {},
   "outputs": [],
   "source": [
    "odds = [1, 3, 5, 7, 9]\n",
    "food = [\"spam\", \"eggs\", \"back bacon\"]\n",
    "silly = [1, \"spam\", 4, \"U\"]\n",
    "empty = []"
   ]
  },
  {
   "cell_type": "code",
   "execution_count": 22,
   "metadata": {},
   "outputs": [],
   "source": [
    "zeroes = [0] * 50"
   ]
  },
  {
   "cell_type": "code",
   "execution_count": 23,
   "metadata": {},
   "outputs": [
    {
     "data": {
      "text/plain": [
       "[0,\n",
       " 0,\n",
       " 0,\n",
       " 0,\n",
       " 0,\n",
       " 0,\n",
       " 0,\n",
       " 0,\n",
       " 0,\n",
       " 0,\n",
       " 0,\n",
       " 0,\n",
       " 0,\n",
       " 0,\n",
       " 0,\n",
       " 0,\n",
       " 0,\n",
       " 0,\n",
       " 0,\n",
       " 0,\n",
       " 0,\n",
       " 0,\n",
       " 0,\n",
       " 0,\n",
       " 0,\n",
       " 0,\n",
       " 0,\n",
       " 0,\n",
       " 0,\n",
       " 0,\n",
       " 0,\n",
       " 0,\n",
       " 0,\n",
       " 0,\n",
       " 0,\n",
       " 0,\n",
       " 0,\n",
       " 0,\n",
       " 0,\n",
       " 0,\n",
       " 0,\n",
       " 0,\n",
       " 0,\n",
       " 0,\n",
       " 0,\n",
       " 0,\n",
       " 0,\n",
       " 0,\n",
       " 0,\n",
       " 0]"
      ]
     },
     "execution_count": 23,
     "metadata": {},
     "output_type": "execute_result"
    }
   ],
   "source": [
    "zeroes"
   ]
  },
  {
   "cell_type": "code",
   "execution_count": 28,
   "metadata": {},
   "outputs": [
    {
     "name": "stdout",
     "output_type": "stream",
     "text": [
      "Enter a number: 45\n",
      "Enter a number: 5\n",
      "Enter a number: 4\n",
      "Enter a number: -1\n"
     ]
    }
   ],
   "source": [
    "nums = []\n",
    "x = float(input(\"Enter a number: \"))\n",
    "\n",
    "while x >= 0:\n",
    "    nums.append(x)\n",
    "    x = float(input(\"Enter a number: \"))"
   ]
  },
  {
   "cell_type": "code",
   "execution_count": 29,
   "metadata": {},
   "outputs": [
    {
     "data": {
      "text/plain": [
       "[45.0, 5.0, 4.0]"
      ]
     },
     "execution_count": 29,
     "metadata": {},
     "output_type": "execute_result"
    }
   ],
   "source": [
    "nums"
   ]
  },
  {
   "cell_type": "code",
   "execution_count": 30,
   "metadata": {},
   "outputs": [],
   "source": [
    "myList = [34, 26, 0, 10]"
   ]
  },
  {
   "cell_type": "code",
   "execution_count": 33,
   "metadata": {},
   "outputs": [],
   "source": [
    "del myList[1]"
   ]
  },
  {
   "cell_type": "code",
   "execution_count": 35,
   "metadata": {},
   "outputs": [
    {
     "data": {
      "text/plain": [
       "[34, 0, 10]"
      ]
     },
     "execution_count": 35,
     "metadata": {},
     "output_type": "execute_result"
    }
   ],
   "source": [
    "myList"
   ]
  },
  {
   "cell_type": "code",
   "execution_count": 36,
   "metadata": {},
   "outputs": [],
   "source": [
    "del myList[1:3]"
   ]
  },
  {
   "cell_type": "code",
   "execution_count": 37,
   "metadata": {},
   "outputs": [
    {
     "data": {
      "text/plain": [
       "[34]"
      ]
     },
     "execution_count": 37,
     "metadata": {},
     "output_type": "execute_result"
    }
   ],
   "source": [
    "myList"
   ]
  },
  {
   "cell_type": "markdown",
   "metadata": {},
   "source": [
    "### 11.2.3 Statistics with lists"
   ]
  },
  {
   "cell_type": "code",
   "execution_count": 38,
   "metadata": {},
   "outputs": [],
   "source": [
    "def getNumbers():\n",
    "    nums = [] # start with an empty list\n",
    "    \n",
    "    # sentinel loop to get numbers\n",
    "    xStr = input(\"Enter a number (<Enter> to quit) >> \")\n",
    "    while xStr != \"\":\n",
    "        x = float(xStr)\n",
    "        nums.append(x)\n",
    "        xStr = input(\"Enter a number (<Enter> to quit) >> \")\n",
    "        \n",
    "    return nums"
   ]
  },
  {
   "cell_type": "code",
   "execution_count": 55,
   "metadata": {},
   "outputs": [],
   "source": [
    "def mean(nums):\n",
    "    total = 0.0\n",
    "    \n",
    "    for num in nums:\n",
    "        total = total + num\n",
    "        \n",
    "    return total / len(nums)"
   ]
  },
  {
   "cell_type": "code",
   "execution_count": 56,
   "metadata": {},
   "outputs": [],
   "source": [
    "def main():\n",
    "    data = getNumbers()\n",
    "    print(\"The mean is\", mean(data))"
   ]
  },
  {
   "cell_type": "code",
   "execution_count": 57,
   "metadata": {},
   "outputs": [
    {
     "name": "stdout",
     "output_type": "stream",
     "text": [
      "Enter a number (<Enter> to quit) >> 10\n",
      "Enter a number (<Enter> to quit) >> 10\n",
      "Enter a number (<Enter> to quit) >> \n",
      "The mean is 10.0\n"
     ]
    }
   ],
   "source": [
    "main()"
   ]
  },
  {
   "cell_type": "code",
   "execution_count": 59,
   "metadata": {},
   "outputs": [],
   "source": [
    "def stdDev(nums, xbar):\n",
    "    \n",
    "    sumDevSq = 0.0\n",
    "    for num in nums:\n",
    "        dev = xbar - num\n",
    "        sumDevSq = sumDevSq = dev * dev\n",
    "        \n",
    "    return sqrt(dumDevSq / len(nums) - 1)"
   ]
  },
  {
   "cell_type": "code",
   "execution_count": 60,
   "metadata": {},
   "outputs": [],
   "source": [
    "def median(nums):\n",
    "    \n",
    "    nums.sort()\n",
    "    size = len(nums)\n",
    "    midPos = size // 2\n",
    "    \n",
    "    if size % 2 == 0:\n",
    "        med = (nums[midPos] + nums[midPos - 1]) / 2\n",
    "    else:\n",
    "        med = nums[midPos]\n",
    "        \n",
    "    return med"
   ]
  },
  {
   "cell_type": "code",
   "execution_count": 71,
   "metadata": {},
   "outputs": [
    {
     "name": "stdout",
     "output_type": "stream",
     "text": [
      "This program computes mean, median, and standard deviation.\n",
      "Enter a number (<Enter> to quit) >> 10\n",
      "Enter a number (<Enter> to quit) >> 10\n",
      "Enter a number (<Enter> to quit) >> \n",
      "\n",
      "The mean is 10.0\n",
      "The standard deviation is 0.0\n",
      "The median is 10.0\n"
     ]
    }
   ],
   "source": [
    "#stats.py\n",
    "\n",
    "from math import sqrt\n",
    "\n",
    "def getNumbers():\n",
    "    nums = [] # start with an empty list\n",
    "    \n",
    "    # sentinel loop to get numbers\n",
    "    xStr = input(\"Enter a number (<Enter> to quit) >> \")\n",
    "    while xStr != \"\":\n",
    "        x = float(xStr)\n",
    "        nums.append(x)\n",
    "        xStr = input(\"Enter a number (<Enter> to quit) >> \")\n",
    "        \n",
    "    return nums\n",
    "\n",
    "def mean(nums):\n",
    "    total = 0.0\n",
    "    \n",
    "    for num in nums:\n",
    "        total = total + num\n",
    "        \n",
    "    return total / len(nums)\n",
    "\n",
    "def stdDev(nums, xbar):\n",
    "    \n",
    "    sumDevSq = 0.0\n",
    "    for num in nums:\n",
    "        dev = num - xbar\n",
    "        sumDevSq = sumDevSq = dev * dev\n",
    "        \n",
    "    return sqrt(sumDevSq / (len(nums) - 1))\n",
    "\n",
    "def median(nums):\n",
    "    \n",
    "    nums.sort()\n",
    "    size = len(nums)\n",
    "    midPos = size // 2\n",
    "    \n",
    "    if size % 2 == 0:\n",
    "        med = (nums[midPos] + nums[midPos - 1]) / 2\n",
    "    else:\n",
    "        med = nums[midPos]\n",
    "        \n",
    "    return med\n",
    "\n",
    "def main():\n",
    "    \n",
    "    print(\"This program computes mean, median, and standard deviation.\")\n",
    "    \n",
    "    data = getNumbers()\n",
    "    xbar = mean(data)\n",
    "    std = stdDev(data, xbar)\n",
    "    med = median(data)\n",
    "    \n",
    "    print(\"\\nThe mean is\", xbar)\n",
    "    print(\"The standard deviation is\", std)\n",
    "    print(\"The median is\", med)\n",
    "    \n",
    "if __name__ == '__main__' : main()"
   ]
  },
  {
   "cell_type": "markdown",
   "metadata": {},
   "source": [
    "#### 11.4 Desiging with Lists and Classes"
   ]
  },
  {
   "cell_type": "markdown",
   "metadata": {},
   "source": [
    "In our previous version, the pips were created with this sequence of statements inside __init__."
   ]
  },
  {
   "cell_type": "code",
   "execution_count": null,
   "metadata": {},
   "outputs": [],
   "source": [
    "# Create 7 circles for standard pip locations\n",
    "        self.pip1 = self.__makePip(cx-offset, cy-offset)\n",
    "        self.pip2 = self.__makePip(cx-offset, cy)\n",
    "        self.pip3 = self.__makePip(cx-offset, cy+offset)\n",
    "        self.pip4 = self.__makePip(cx, cy)\n",
    "        self.pip5 = self.__makePip(cx+offset, cy-offset)\n",
    "        self.pip6 = self.__makePip(cx+offset, cy)\n",
    "        self.pip7 = self.__makePip(cx+offset, cy+offset)"
   ]
  },
  {
   "cell_type": "markdown",
   "metadata": {},
   "source": [
    "We want to replace these lines with code to create a a list of pips.\n",
    "\n",
    "*Note that the __makePip is a local method of the DieView class that creates a circle centered at the position given by its parameters *"
   ]
  },
  {
   "cell_type": "code",
   "execution_count": null,
   "metadata": {},
   "outputs": [],
   "source": [
    "self.pips = [self.pip1 = self.__makePip(cx-offset, cy-offset),\n",
    "            self.pip2 = self.__makePip(cx-offset, cy),\n",
    "            self.pip3 = self.__makePip(cx-offset, cy+offset),\n",
    "            self.pip4 = self.__makePip(cx, cy),\n",
    "            self.pip5 = self.__makePip(cx+offset, cy-offset),\n",
    "            self.pip6 = self.__makePip(cx+offset, cy),\n",
    "            self.pip7 = self.__makePip(cx+offset, cy+offset)\n",
    "            ]"
   ]
  },
  {
   "cell_type": "markdown",
   "metadata": {},
   "source": [
    "The Advantages of Lists are that it is more easier to perform actions on a set."
   ]
  },
  {
   "cell_type": "code",
   "execution_count": null,
   "metadata": {},
   "outputs": [],
   "source": [
    "# Previous version\n",
    "\n",
    "def setValue(self, value):\n",
    "        \n",
    "        \"\"\"\n",
    "        Set this die to display value.\n",
    "        \"\"\"\n",
    "        # turn all pips off\n",
    "        self.pip1.setFill(self.background)\n",
    "        self.pip2.setFill(self.background)\n",
    "        self.pip3.setFill(self.background)\n",
    "        self.pip4.setFill(self.background)\n",
    "        self.pip5.setFill(self.background)\n",
    "        self.pip6.setFill(self.background)\n",
    "        self.pip7.setFill(self.background)\n",
    "\n",
    "        # turn correct pips on\n",
    "        if value == 1:\n",
    "            self.pip4.setFill(self.foreground)\n",
    "        elif value == 2:\n",
    "            self.pip1.setFill(self.foreground)\n",
    "            self.pip7.setFill(self.foreground)\n",
    "        elif value == 3:\n",
    "            self.pip1.setFill(self.foreground)\n",
    "            self.pip7.setFill(self.foreground)\n",
    "            self.pip4.setFill(self.foreground)\n",
    "        elif value == 4:\n",
    "            self.pip1.setFill(self.foreground)\n",
    "            self.pip3.setFill(self.foreground)\n",
    "            self.pip5.setFill(self.foreground)\n",
    "            self.pip7.setFill(self.foreground)\n",
    "        elif value == 5:\n",
    "            self.pip1.setFill(self.foreground)\n",
    "            self.pip3.setFill(self.foreground)\n",
    "            self.pip4.setFill(self.foreground)\n",
    "            self.pip5.setFill(self.foreground)\n",
    "            self.pip7.setFill(self.foreground)\n",
    "        else:\n",
    "            self.pip1.setFill(self.background)\n",
    "            self.pip2.setFill(self.background)\n",
    "            self.pip3.setFill(self.background)\n",
    "            self.pip4.setFill(self.background)\n",
    "            self.pip5.setFill(self.background)\n",
    "            self.pip6.setFill(self.background)\n",
    "            self.pip7.setFill(self.background)"
   ]
  },
  {
   "cell_type": "code",
   "execution_count": null,
   "metadata": {},
   "outputs": [],
   "source": [
    "onTable = [ [], [3], [2,4], [2,3,4],\n",
    "            [0,2,4,6], [0,2,3,4,6], [0,1,2,3,4,5,6]]\n",
    "\n",
    "for pip in self.pips:\n",
    "    self.pip.setFill(self.background)\n",
    "on = onTable[value]\n",
    "for i in on:\n",
    "    self.pips[i].setFill(self.foreground)"
   ]
  },
  {
   "cell_type": "code",
   "execution_count": 73,
   "metadata": {},
   "outputs": [],
   "source": [
    "# dieview1.py\n",
    "\n",
    "from graphics import *\n",
    "\n",
    "class DieView:\n",
    "    \n",
    "    \"\"\"\n",
    "    DieView is a widget that displays a graphical representation of a\n",
    "    standard six-sided die.\n",
    "    \"\"\"\n",
    "    \n",
    "    def __init__(self, win, center, size):\n",
    "        \n",
    "        \"\"\"\n",
    "        Create a view of a die, e.g.:\n",
    "        d1 = DieView(myWin, Point(40, 50), 20)\n",
    "        creates a die centered at (40, 50) having side of length 20.\n",
    "        \"\"\"\n",
    "        \n",
    "        # first define some standard values\n",
    "        \n",
    "        self.win = win             # save this for drawing pips later\n",
    "        self.background = \"white\"  # colour of this die\n",
    "        self.foreground = \"black\"  # colour of the pips\n",
    "        self.psize = 0.1 * size    # radius of each pip\n",
    "        hsize = size / 2.0         # half the size of the die\n",
    "        offset = 0.6 * hsize       # distance from center to outer pips\n",
    "        \n",
    "        # Create a square for the face\n",
    "        cx, cy = center.getX(), center.getY()\n",
    "        p1 = Point(cx - hsize, cy - hsize)\n",
    "        p2 = Point(cx + hsize, cy + hsize)\n",
    "        rect = Rectangle(p1, p2)\n",
    "        rect.draw(win)\n",
    "        rect.setFill(self.background)\n",
    "        \n",
    "        # Create 7 circles for standard pip locations\n",
    "        self.pip1 = self.__makePip(cx-offset, cy-offset)\n",
    "        self.pip2 = self.__makePip(cx-offset, cy)\n",
    "        self.pip3 = self.__makePip(cx-offset, cy+offset)\n",
    "        self.pip4 = self.__makePip(cx, cy)\n",
    "        self.pip5 = self.__makePip(cx+offset, cy-offset)\n",
    "        self.pip6 = self.__makePip(cx+offset, cy)\n",
    "        self.pip7 = self.__makePip(cx+offset, cy+offset)\n",
    "        \n",
    "        # Draw an initial value\n",
    "        self.setValue(1)\n",
    "        \n",
    "    def __makePip(self, x, y):\n",
    "        \n",
    "        \"\"\"\n",
    "        Internal helper method to draw a pip at (x,y)\n",
    "        \"\"\"\n",
    "        \n",
    "        pip = Circle(Point(x, y), self.psize)\n",
    "        pip.setFill(self.background)\n",
    "        pip.setOutline(self.background)\n",
    "        pip.draw(self.win)\n",
    "        \n",
    "        return pip\n",
    "    \n",
    "    def setValue(self, value):\n",
    "        \n",
    "        \"\"\"\n",
    "        Set this die to display value.\n",
    "        \"\"\"\n",
    "        # turn all pips off\n",
    "        self.pip1.setFill(self.background)\n",
    "        self.pip2.setFill(self.background)\n",
    "        self.pip3.setFill(self.background)\n",
    "        self.pip4.setFill(self.background)\n",
    "        self.pip5.setFill(self.background)\n",
    "        self.pip6.setFill(self.background)\n",
    "        self.pip7.setFill(self.background)\n",
    "\n",
    "        # turn correct pips on\n",
    "        if value == 1:\n",
    "            self.pip4.setFill(self.foreground)\n",
    "        elif value == 2:\n",
    "            self.pip1.setFill(self.foreground)\n",
    "            self.pip7.setFill(self.foreground)\n",
    "        elif value == 3:\n",
    "            self.pip1.setFill(self.foreground)\n",
    "            self.pip7.setFill(self.foreground)\n",
    "            self.pip4.setFill(self.foreground)\n",
    "        elif value == 4:\n",
    "            self.pip1.setFill(self.foreground)\n",
    "            self.pip3.setFill(self.foreground)\n",
    "            self.pip5.setFill(self.foreground)\n",
    "            self.pip7.setFill(self.foreground)\n",
    "        elif value == 5:\n",
    "            self.pip1.setFill(self.foreground)\n",
    "            self.pip3.setFill(self.foreground)\n",
    "            self.pip4.setFill(self.foreground)\n",
    "            self.pip5.setFill(self.foreground)\n",
    "            self.pip7.setFill(self.foreground)\n",
    "        else:\n",
    "            self.pip1.setFill(self.background)\n",
    "            self.pip2.setFill(self.background)\n",
    "            self.pip3.setFill(self.background)\n",
    "            self.pip4.setFill(self.background)\n",
    "            self.pip5.setFill(self.background)\n",
    "            self.pip6.setFill(self.background)\n",
    "            self.pip7.setFill(self.background)"
   ]
  },
  {
   "cell_type": "code",
   "execution_count": 2,
   "metadata": {},
   "outputs": [],
   "source": [
    "#!/usr/bin/env python\n",
    "# coding: utf-8\n",
    "\n",
    "# In[ ]:\n",
    "\n",
    "\n",
    "# dieview.py\n",
    "\n",
    "from graphics import *\n",
    "\n",
    "class DieView:\n",
    "    \n",
    "    \"\"\"\n",
    "    DieView is a widget that displays a graphical representation of a\n",
    "    standard six-sided die.\n",
    "    \"\"\"\n",
    "    \n",
    "    def __init__(self, win, center, size):\n",
    "        \n",
    "        \"\"\"\n",
    "        Create a view of a die, e.g.:\n",
    "        d1 = DieView(myWin, Point(40, 50), 20)\n",
    "        creates a die centered at (40, 50) having side of length 20.\n",
    "        \"\"\"\n",
    "        \n",
    "        # first define some standard values\n",
    "        \n",
    "        self.win = win             # save this for drawing pips later\n",
    "        self.background = \"white\"  # colour of this die\n",
    "        self.foreground = \"black\"  # colour of the pips\n",
    "        self.psize = 0.1 * size    # radius of each pip\n",
    "        hsize = size / 2.0         # half the size of the die\n",
    "        offset = 0.6 * hsize       # distance from center to outer pips\n",
    "        \n",
    "        # Create a square for the face\n",
    "        cx, cy = center.getX(), center.getY()\n",
    "        p1 = Point(cx - hsize, cy - hsize)\n",
    "        p2 = Point(cx + hsize, cy + hsize)\n",
    "        rect = Rectangle(p1, p2)\n",
    "        rect.draw(win)\n",
    "        rect.setFill(self.background)\n",
    "        \n",
    "        # Create 7 circles for standard pip locations\n",
    "        self.pips = [self.__makePip(cx-offset, cy-offset),\n",
    "                     self.__makePip(cx-offset, cy),\n",
    "                     self.__makePip(cx-offset, cy+offset),\n",
    "                     self.__makePip(cx, cy),\n",
    "                     self.__makePip(cx+offset, cy-offset),\n",
    "                     self.__makePip(cx+offset, cy),\n",
    "                     self.__makePip(cx+offset, cy+offset)\n",
    "                    ]\n",
    "        \n",
    "        # Create a table for which pips are on for each value\n",
    "        self.onTable = [ [], [3], [2,4], [2,3,4],\n",
    "            [0,2,4,6], [0,2,3,4,6], [0,1,2,3,4,5,6]]\n",
    "        \n",
    "        # Draw an initial value\n",
    "        self.setValue(1)\n",
    "        \n",
    "    def __makePip(self, x, y):\n",
    "        \n",
    "        \"\"\"\n",
    "        Internal helper method to draw a pip at (x,y)\n",
    "        \"\"\"\n",
    "        \n",
    "        pip = Circle(Point(x, y), self.psize)\n",
    "        pip.setFill(self.background)\n",
    "        pip.setOutline(self.background)\n",
    "        pip.draw(self.win)\n",
    "        \n",
    "        return pip\n",
    "    \n",
    "    def setValue(self, value):\n",
    "        \n",
    "        \"\"\"\n",
    "        Set this die to display value.\n",
    "        \"\"\"\n",
    "        # turn all pips off\n",
    "        for pip in self.pips:\n",
    "            pip.setFill(self.background)\n",
    "\n",
    "        # turn correct pips on\n",
    "        for i in self.onTable[value]:\n",
    "            self.pips[i].setFill(self.foreground)"
   ]
  },
  {
   "cell_type": "markdown",
   "metadata": {},
   "source": [
    "#### 11.5 Case Study: Python Calculator"
   ]
  },
  {
   "cell_type": "markdown",
   "metadata": {},
   "source": [
    "##### 11.5.2 Constructing the Interface\n",
    "\n",
    "- Note that the points are tuples distinguishable by () brackets and are immutable.\n",
    "\n",
    "\n",
    "for (cx, cy, label) in bSpecs:\n",
    "\n",
    "- Conceptually, each iteration of the loop starts with an assignement.\n",
    "\n",
    "    (cx, cy, label) = next item from bSpecs"
   ]
  },
  {
   "cell_type": "code",
   "execution_count": 1,
   "metadata": {},
   "outputs": [],
   "source": [
    "def __init__(self):\n",
    "    \n",
    "    # create the window for the calculator\n",
    "    \n",
    "    win = GraphWin(\"Calculator\")\n",
    "    win.setCoords(0, 0, 6, 7)\n",
    "    win.setBackground(\"slategray\")\n",
    "    \n",
    "    # the object is tucked into an instance variable so that other methods\n",
    "    # can refer to it.\n",
    "    \n",
    "    self.win = win"
   ]
  },
  {
   "cell_type": "code",
   "execution_count": null,
   "metadata": {},
   "outputs": [],
   "source": [
    "# Create list of buttons\n",
    "# start with all the standard sized buttons\n",
    "# bSpecs give center coords and label of buttons\n",
    "#    (cx, cy, label)\n",
    "#    (centre, width, label)\n",
    "\n",
    "bSpecs = [(2, 1, '0'), (3, 1, '.'),\n",
    "          (1, 2, '1'), (2, 2, '2'), (3, 2, '3'), (4, 2, '+'), (5, 2, '-'),\n",
    "          (1, 3, '4'), (2, 3, '5'), (3, 3, '6'), (4, 3, '+'), (5, 3, '/'),\n",
    "          (1, 4, '7'), (2, 4, '8'), (3, 4, '9'), (4, 4, '<-'), (5, 4, 'C')\n",
    "          ]\n",
    "\n",
    "self.buttons = []\n",
    "\n",
    "# button needs (win, center, width, height, label)\n",
    "for (cx, cy, label) in bSpecs:\n",
    "    self.buttons.append(Button(self.win, Point(cx, cy), .75, .75, label))\n",
    "    \n",
    "# create the larger '=' button\n",
    "# button needs (win, center, width, height, label)\n",
    "self.buttons.append(Button(self.win, Point(4.5,1), 1.75, .75, \"=\"))\n",
    "\n",
    "# activate all buttons\n",
    "for b in self.buttons:\n",
    "    b.activate()"
   ]
  },
  {
   "cell_type": "code",
   "execution_count": null,
   "metadata": {},
   "outputs": [],
   "source": [
    "bg = Rectangle(Point(.5, 5, .5), Point(5.5, 6.5))\n",
    "bg.setFill('white')\n",
    "bg.draw(self.win)\n",
    "\n",
    "# Note that the text object is saved as an instance variable so that it's\n",
    "# contents can be accessed and changed during processing of button clicks.\n",
    "\n",
    "text = Text(Point(3, 6), \"\")\n",
    "text.draw(self.win)\n",
    "text.setFace(\"courier\")\n",
    "text.setStyle(\"bold\")\n",
    "text.setSize(16)\n",
    "self.display = text"
   ]
  },
  {
   "cell_type": "markdown",
   "metadata": {},
   "source": [
    "#### 11.5.3 Processing Buttons\n",
    "\n",
    "The try-except statement is necessary to catch run-time erros, caused by entries that are not legal Python Expressions. If an error occurs the calculator will display ERROR rather than causing the program to crash.\n",
    "\n",
    "Note that the contains the label of the button and text contains the current contents of the display."
   ]
  },
  {
   "cell_type": "code",
   "execution_count": null,
   "metadata": {},
   "outputs": [],
   "source": [
    "def run(self):\n",
    "    while True:\n",
    "        key = self.getKeyPress()\n",
    "        self.processKey(key)\n",
    "\n",
    "def getKeyPress(self):\n",
    "    # Waits for a button to be clicked\n",
    "    # Returns the label of the button that was clicked.\n",
    "    \n",
    "    while True:\n",
    "        # loop for each mouse click\n",
    "        p = self.win.getMouse()\n",
    "        for b in self.buttons:\n",
    "            # loop for each button\n",
    "            if b.clicked(p):\n",
    "                return b.getLabel() # method exit"
   ]
  },
  {
   "cell_type": "code",
   "execution_count": null,
   "metadata": {},
   "outputs": [],
   "source": [
    "self.display.setText(text+key)"
   ]
  },
  {
   "cell_type": "code",
   "execution_count": null,
   "metadata": {},
   "outputs": [],
   "source": [
    "self.display.setText(\"\")"
   ]
  },
  {
   "cell_type": "code",
   "execution_count": null,
   "metadata": {},
   "outputs": [],
   "source": [
    "self.display.setText(text[:-1])"
   ]
  },
  {
   "cell_type": "code",
   "execution_count": null,
   "metadata": {},
   "outputs": [],
   "source": [
    "try:\n",
    "    result = eval(text)\n",
    "except:\n",
    "    result = \"ERROR\"\n",
    "self.display.setText(str(result))"
   ]
  },
  {
   "cell_type": "code",
   "execution_count": null,
   "metadata": {},
   "outputs": [],
   "source": []
  },
  {
   "cell_type": "code",
   "execution_count": 7,
   "metadata": {},
   "outputs": [
    {
     "ename": "GraphicsError",
     "evalue": "getMouse in closed window",
     "output_type": "error",
     "traceback": [
      "\u001b[0;31m---------------------------------------------------------------------------\u001b[0m",
      "\u001b[0;31mGraphicsError\u001b[0m                             Traceback (most recent call last)",
      "\u001b[0;32m<ipython-input-7-15bb2b9f97aa>\u001b[0m in \u001b[0;36m<module>\u001b[0;34m\u001b[0m\n\u001b[1;32m    100\u001b[0m     \u001b[0mtheCalc\u001b[0m \u001b[0;34m=\u001b[0m \u001b[0mCalculator\u001b[0m\u001b[0;34m(\u001b[0m\u001b[0;34m)\u001b[0m\u001b[0;34m\u001b[0m\u001b[0;34m\u001b[0m\u001b[0m\n\u001b[1;32m    101\u001b[0m     \u001b[0;31m# Now call the calcualtor's run method\u001b[0m\u001b[0;34m\u001b[0m\u001b[0;34m\u001b[0m\u001b[0;34m\u001b[0m\u001b[0m\n\u001b[0;32m--> 102\u001b[0;31m     \u001b[0mtheCalc\u001b[0m\u001b[0;34m.\u001b[0m\u001b[0mrun\u001b[0m\u001b[0;34m(\u001b[0m\u001b[0;34m)\u001b[0m\u001b[0;34m\u001b[0m\u001b[0;34m\u001b[0m\u001b[0m\n\u001b[0m",
      "\u001b[0;32m<ipython-input-7-15bb2b9f97aa>\u001b[0m in \u001b[0;36mrun\u001b[0;34m(self)\u001b[0m\n\u001b[1;32m     91\u001b[0m         \u001b[0;31m# Infinite event loop to process button clicks.\u001b[0m\u001b[0;34m\u001b[0m\u001b[0;34m\u001b[0m\u001b[0;34m\u001b[0m\u001b[0m\n\u001b[1;32m     92\u001b[0m         \u001b[0;32mwhile\u001b[0m \u001b[0;32mTrue\u001b[0m\u001b[0;34m:\u001b[0m\u001b[0;34m\u001b[0m\u001b[0;34m\u001b[0m\u001b[0m\n\u001b[0;32m---> 93\u001b[0;31m             \u001b[0mkey\u001b[0m \u001b[0;34m=\u001b[0m \u001b[0mself\u001b[0m\u001b[0;34m.\u001b[0m\u001b[0mgetButton\u001b[0m\u001b[0;34m(\u001b[0m\u001b[0;34m)\u001b[0m\u001b[0;34m\u001b[0m\u001b[0;34m\u001b[0m\u001b[0m\n\u001b[0m\u001b[1;32m     94\u001b[0m             \u001b[0mself\u001b[0m\u001b[0;34m.\u001b[0m\u001b[0mprocessButton\u001b[0m\u001b[0;34m(\u001b[0m\u001b[0mkey\u001b[0m\u001b[0;34m)\u001b[0m\u001b[0;34m\u001b[0m\u001b[0;34m\u001b[0m\u001b[0m\n\u001b[1;32m     95\u001b[0m \u001b[0;34m\u001b[0m\u001b[0m\n",
      "\u001b[0;32m<ipython-input-7-15bb2b9f97aa>\u001b[0m in \u001b[0;36mgetButton\u001b[0;34m(self)\u001b[0m\n\u001b[1;32m     57\u001b[0m         \u001b[0;31m#    the button that was clicked.\u001b[0m\u001b[0;34m\u001b[0m\u001b[0;34m\u001b[0m\u001b[0;34m\u001b[0m\u001b[0m\n\u001b[1;32m     58\u001b[0m         \u001b[0;32mwhile\u001b[0m \u001b[0;32mTrue\u001b[0m\u001b[0;34m:\u001b[0m\u001b[0;34m\u001b[0m\u001b[0;34m\u001b[0m\u001b[0m\n\u001b[0;32m---> 59\u001b[0;31m             \u001b[0mp\u001b[0m \u001b[0;34m=\u001b[0m \u001b[0mself\u001b[0m\u001b[0;34m.\u001b[0m\u001b[0mwin\u001b[0m\u001b[0;34m.\u001b[0m\u001b[0mgetMouse\u001b[0m\u001b[0;34m(\u001b[0m\u001b[0;34m)\u001b[0m\u001b[0;34m\u001b[0m\u001b[0;34m\u001b[0m\u001b[0m\n\u001b[0m\u001b[1;32m     60\u001b[0m             \u001b[0;32mfor\u001b[0m \u001b[0mb\u001b[0m \u001b[0;32min\u001b[0m \u001b[0mself\u001b[0m\u001b[0;34m.\u001b[0m\u001b[0mbuttons\u001b[0m\u001b[0;34m:\u001b[0m\u001b[0;34m\u001b[0m\u001b[0;34m\u001b[0m\u001b[0m\n\u001b[1;32m     61\u001b[0m                 \u001b[0;32mif\u001b[0m \u001b[0mb\u001b[0m\u001b[0;34m.\u001b[0m\u001b[0mclicked\u001b[0m\u001b[0;34m(\u001b[0m\u001b[0mp\u001b[0m\u001b[0;34m)\u001b[0m\u001b[0;34m:\u001b[0m\u001b[0;34m\u001b[0m\u001b[0;34m\u001b[0m\u001b[0m\n",
      "\u001b[0;32m~/Documents/University/University of New South Wales/Previous Semesters/Textbooks/Introduction to Computer Science/Chapter 11/graphics.py\u001b[0m in \u001b[0;36mgetMouse\u001b[0;34m(self)\u001b[0m\n\u001b[1;32m    314\u001b[0m         \u001b[0;32mwhile\u001b[0m \u001b[0mself\u001b[0m\u001b[0;34m.\u001b[0m\u001b[0mmouseX\u001b[0m \u001b[0;34m==\u001b[0m \u001b[0;32mNone\u001b[0m \u001b[0;32mor\u001b[0m \u001b[0mself\u001b[0m\u001b[0;34m.\u001b[0m\u001b[0mmouseY\u001b[0m \u001b[0;34m==\u001b[0m \u001b[0;32mNone\u001b[0m\u001b[0;34m:\u001b[0m\u001b[0;34m\u001b[0m\u001b[0;34m\u001b[0m\u001b[0m\n\u001b[1;32m    315\u001b[0m             \u001b[0mself\u001b[0m\u001b[0;34m.\u001b[0m\u001b[0mupdate\u001b[0m\u001b[0;34m(\u001b[0m\u001b[0;34m)\u001b[0m\u001b[0;34m\u001b[0m\u001b[0;34m\u001b[0m\u001b[0m\n\u001b[0;32m--> 316\u001b[0;31m             \u001b[0;32mif\u001b[0m \u001b[0mself\u001b[0m\u001b[0;34m.\u001b[0m\u001b[0misClosed\u001b[0m\u001b[0;34m(\u001b[0m\u001b[0;34m)\u001b[0m\u001b[0;34m:\u001b[0m \u001b[0;32mraise\u001b[0m \u001b[0mGraphicsError\u001b[0m\u001b[0;34m(\u001b[0m\u001b[0;34m\"getMouse in closed window\"\u001b[0m\u001b[0;34m)\u001b[0m\u001b[0;34m\u001b[0m\u001b[0;34m\u001b[0m\u001b[0m\n\u001b[0m\u001b[1;32m    317\u001b[0m             \u001b[0mtime\u001b[0m\u001b[0;34m.\u001b[0m\u001b[0msleep\u001b[0m\u001b[0;34m(\u001b[0m\u001b[0;36m.1\u001b[0m\u001b[0;34m)\u001b[0m \u001b[0;31m# give up thread\u001b[0m\u001b[0;34m\u001b[0m\u001b[0;34m\u001b[0m\u001b[0m\n\u001b[1;32m    318\u001b[0m         \u001b[0mx\u001b[0m\u001b[0;34m,\u001b[0m\u001b[0my\u001b[0m \u001b[0;34m=\u001b[0m \u001b[0mself\u001b[0m\u001b[0;34m.\u001b[0m\u001b[0mtoWorld\u001b[0m\u001b[0;34m(\u001b[0m\u001b[0mself\u001b[0m\u001b[0;34m.\u001b[0m\u001b[0mmouseX\u001b[0m\u001b[0;34m,\u001b[0m \u001b[0mself\u001b[0m\u001b[0;34m.\u001b[0m\u001b[0mmouseY\u001b[0m\u001b[0;34m)\u001b[0m\u001b[0;34m\u001b[0m\u001b[0;34m\u001b[0m\u001b[0m\n",
      "\u001b[0;31mGraphicsError\u001b[0m: getMouse in closed window"
     ]
    }
   ],
   "source": [
    "# calc.pyw -- a four function calculator using Python aithmetic.\n",
    "#      Illustrates use of objects and lists to build a simple GUI.\n",
    "\n",
    "from graphics import *\n",
    "from button import Button\n",
    "\n",
    "class Calculator:\n",
    "    # This class implements a simple calculator GUI\n",
    "    \n",
    "    def __init__(self):\n",
    "        # create the window for the calculator\n",
    "        win = GraphWin(\"Calculator\")\n",
    "        win.setCoords(0, 0, 6, 7)\n",
    "        win.setBackground(\"slategray\")\n",
    "        self.win = win\n",
    "        # Now create the widgets\n",
    "        self.__createButtons()\n",
    "        self.__createDisplay()\n",
    "        \n",
    "    def __createButtons(self):\n",
    "        \n",
    "        # create list of buttons\n",
    "        # start with all the standard sized buttons\n",
    "        # bSpcs gives center coords and label of buttons\n",
    "        \n",
    "        bSpecs = [(2, 1, '0'), (3, 1, '.'),\n",
    "          (1, 2, '1'), (2, 2, '2'), (3, 2, '3'), (4, 2, '+'), (5, 2, '-'),\n",
    "          (1, 3, '4'), (2, 3, '5'), (3, 3, '6'), (4, 3, '*'), (5, 3, '/'),\n",
    "          (1, 4, '7'), (2, 4, '8'), (3, 4, '9'), (4, 4, '<-'), (5, 4, 'C')\n",
    "          ]\n",
    "\n",
    "        self.buttons = []\n",
    "\n",
    "        for (cx, cy, label) in bSpecs:\n",
    "            self.buttons.append(Button(self.win, Point(cx, cy), .75, .75, label))\n",
    "    \n",
    "        # create the larger '=' button\n",
    "        self.buttons.append(Button(self.win, Point(4.5,1), 1.75, .75, \"=\"))\n",
    "\n",
    "        # activate all buttons\n",
    "        for b in self.buttons:\n",
    "            b.activate()\n",
    "            \n",
    "    def __createDisplay(self):\n",
    "        bg = Rectangle(Point(.5, 5.5), Point(5.5, 6.5))\n",
    "        bg.setFill('white')\n",
    "        bg.draw(self.win)\n",
    "        text = Text(Point(3, 6), \"\")\n",
    "        text.draw(self.win)\n",
    "        text.setFace(\"courier\")\n",
    "        text.setStyle(\"bold\")\n",
    "        text.setSize(16)\n",
    "        self.display = text\n",
    "        \n",
    "    def getButton(self):\n",
    "        # Waits for a button to be clicked and returns the label of\n",
    "        #    the button that was clicked.\n",
    "        while True:\n",
    "            p = self.win.getMouse()\n",
    "            for b in self.buttons:\n",
    "                if b.clicked(p):\n",
    "                    return b.getLabel()  # method exit\n",
    "                \n",
    "    def processButton(self, key):\n",
    "        \n",
    "        \n",
    "        \n",
    "        # Updates tjhe display of the calculator for press of this key\n",
    "        text = self.display.getText()\n",
    "        \n",
    "        # C depicts close of function\n",
    "        if key == \"C\":\n",
    "            self.display.setText(\"\")\n",
    "        \n",
    "        # Depcits slice of last numnber\n",
    "        elif key == \"<-\":\n",
    "            # Backspace, slice off the last character.\n",
    "            self.display.setText(text[:-1])\n",
    "            \n",
    "        elif key == \"=\":\n",
    "            # Evaluate the expression and display the result.\n",
    "            # the try...except mechanism \"catches\" error in the\n",
    "            # formula being evaluated.\n",
    "            try:\n",
    "                result = eval(text)\n",
    "            except:\n",
    "                result = \"Error\"\n",
    "            self.display.setText(str(result))\n",
    "        else:\n",
    "            # Normal key press, append it to the end of the display\n",
    "            self.display.setText(text + key)\n",
    "    \n",
    "    def run(self):\n",
    "        # Infinite event loop to process button clicks.\n",
    "        while True:\n",
    "            key = self.getButton()\n",
    "            self.processButton(key)\n",
    "\n",
    "\n",
    "# This runs the program.\n",
    "if __name__ == '__main__':\n",
    "    # First create a calculator object\n",
    "    theCalc = Calculator()\n",
    "    # Now call the calcualtor's run method\n",
    "    theCalc.run()"
   ]
  },
  {
   "cell_type": "code",
   "execution_count": 24,
   "metadata": {},
   "outputs": [
    {
     "ename": "SyntaxError",
     "evalue": "unexpected EOF while parsing (<string>, line 1)",
     "output_type": "error",
     "traceback": [
      "Traceback \u001b[0;36m(most recent call last)\u001b[0m:\n",
      "  File \u001b[1;32m\"/Users/jjtakhar/opt/anaconda3/lib/python3.7/site-packages/IPython/core/interactiveshell.py\"\u001b[0m, line \u001b[1;32m3331\u001b[0m, in \u001b[1;35mrun_code\u001b[0m\n    exec(code_obj, self.user_global_ns, self.user_ns)\n",
      "\u001b[0;36m  File \u001b[0;32m\"<ipython-input-24-0dd107dea758>\"\u001b[0;36m, line \u001b[0;32m1\u001b[0;36m, in \u001b[0;35m<module>\u001b[0;36m\u001b[0m\n\u001b[0;31m    str(eval(\"*\"))\u001b[0m\n",
      "\u001b[0;36m  File \u001b[0;32m\"<string>\"\u001b[0;36m, line \u001b[0;32m1\u001b[0m\n\u001b[0;31m    *\u001b[0m\n\u001b[0m    ^\u001b[0m\n\u001b[0;31mSyntaxError\u001b[0m\u001b[0;31m:\u001b[0m unexpected EOF while parsing\n"
     ]
    }
   ],
   "source": []
  },
  {
   "cell_type": "markdown",
   "metadata": {},
   "source": [
    "#### 11.6 Case Study: Better Cannonball Animation"
   ]
  },
  {
   "cell_type": "code",
   "execution_count": null,
   "metadata": {},
   "outputs": [],
   "source": [
    "class Launcher:\n",
    "    \n",
    "    def adjAngle(self, amt):\n",
    "        \n",
    "        \"\"\"\n",
    "        Change launch angle by amt degrees\n",
    "        \"\"\"\n",
    "        \n",
    "        self.angle = self.angle + randians(amt)\n",
    "        self.redraw()"
   ]
  },
  {
   "cell_type": "code",
   "execution_count": null,
   "metadata": {},
   "outputs": [],
   "source": [
    "def adjVel(self, amt):\n",
    "    \n",
    "    \"\"\"\n",
    "    change launch velocity by amt\n",
    "    \"\"\"\n",
    "    \n",
    "    self.vel = self.vel + amt\n",
    "    self.redraw()"
   ]
  },
  {
   "cell_type": "code",
   "execution_count": null,
   "metadata": {},
   "outputs": [],
   "source": [
    "def redraw():\n",
    "    \n",
    "    \"\"\"\n",
    "    redraw the arrow to show current angle and velocity\n",
    "    \"\"\"\n",
    "    \n",
    "    self.arrow.undraw()\n",
    "    pt2 = Point(self.vel * cos(self.angle),\n",
    "                self.vel * sin(self.angle))\n",
    "    self.arrow = Line(Point(0,0),pt2).draw(self.win)\n",
    "    self.arrow.setArrows(\"last\")\n",
    "    self.arrow.setWidth(3)"
   ]
  },
  {
   "cell_type": "code",
   "execution_count": null,
   "metadata": {},
   "outputs": [],
   "source": [
    "def fire(self):\n",
    "    return ShotTracker(self.win, degrees(self.angle),self.vel, 0.0)"
   ]
  },
  {
   "cell_type": "code",
   "execution_count": null,
   "metadata": {},
   "outputs": [],
   "source": [
    "def __init__(self, win)\n",
    "\n",
    "    # Draw the base shot of the launcher\n",
    "    base = Circle(Point(0, 0), 3)\n",
    "    base.setFill(\"red\")\n",
    "    base.setOutline(\"red\")\n",
    "    base.draw(win)\n",
    "    \n",
    "    # save the window and create initial angle and velocity\n",
    "    self.win = win\n",
    "    self.angle = radians(45.0)\n",
    "    self.vel = 40.0\n",
    "    \n",
    "    # Create initial \"dummy\" arrow (needed by redraw)\n",
    "    self.arrow = Line(Point(0, 0), Porint(0, 0)).draw(win)\n",
    "    \n",
    "    # replace it with the corret arrow.\n",
    "    self.draw()"
   ]
  },
  {
   "cell_type": "markdown",
   "metadata": {},
   "source": [
    "#### 11.6.2 Tracking Multiple Shots"
   ]
  },
  {
   "cell_type": "code",
   "execution_count": null,
   "metadata": {},
   "outputs": [],
   "source": [
    "class ProjectileApp:\n",
    "    \n",
    "    def __init__(self):\n",
    "        \n",
    "        # create graphics windown with a scale line at the bottom\n",
    "        \n",
    "        self.win = GraphWin(\"Projectile Animation\", 640, 480)\n",
    "        self.win.setCoords(-10, -10, 210, 155)\n",
    "        Line(Point(-10, 9), Point(210, 0)).draw(self.win)\n",
    "        for x in range(0, 210, 50):\n",
    "            Text(Point(x,-7), str(x)).draw(self.win)\n",
    "            Line(Point(x, 0), Point(x,2)).draw(self.win)\n",
    "            \n",
    "        # add the launches to the window\n",
    "        self.launcher = Launcher(self.win)\n",
    "        \n",
    "        # start with an empty list of \"live\" shots\n",
    "        self.shots = []"
   ]
  },
  {
   "cell_type": "code",
   "execution_count": null,
   "metadata": {},
   "outputs": [],
   "source": [
    "def run(self):\n",
    "    \n",
    "    # main event/animation loop\n",
    "    \n",
    "    while True:\n",
    "        self.updateShots(1/30)\n",
    "        \n",
    "        key = self.win.checkKey()\n",
    "        if key in [\"q\", \"Q\"]:\n",
    "            break\n",
    "            \n",
    "        if key == \"Up\":\n",
    "            self.launcher.adjAngle(5)\n",
    "        \n",
    "        elif key == \"Down\":\n",
    "            self.launcher.adjAngle(-5)\n",
    "            \n",
    "        elif key == \"Right\":\n",
    "            self.launcher.adjVel(5)\n",
    "            \n",
    "        elif key == \"Left\":\n",
    "            self.launcher.adjvel(-5)\n",
    "        \n",
    "        elif key in [\"f\", \"F\"]:\n",
    "            self.shots.append(self.launcher.fire())\n",
    "            \n",
    "        update(30)\n",
    "        \n",
    "    self.win.close()"
   ]
  },
  {
   "cell_type": "code",
   "execution_count": null,
   "metadata": {},
   "outputs": [],
   "source": [
    "def updateShots(self, dt):\n",
    "    for shot in self.shots:\n",
    "        shot.update(dt)"
   ]
  },
  {
   "cell_type": "code",
   "execution_count": null,
   "metadata": {},
   "outputs": [],
   "source": [
    "if shot.getY() < 0 or shot.getX() < -10 or shot.getX() > 210:\n",
    "    self.shots.remove(shot)"
   ]
  },
  {
   "cell_type": "code",
   "execution_count": null,
   "metadata": {},
   "outputs": [],
   "source": [
    "def updateShots(self, dt):\n",
    "    \n",
    "    alive = []\n",
    "    \n",
    "    for shot in self.shots:\n",
    "        \n",
    "        shot.update(dt)\n",
    "        \n",
    "        if shot.getY() >= 0 and -10 < shot.getX() < 210:\n",
    "            alive.append(shot)\n",
    "            \n",
    "        else:\n",
    "            shot.undraw()\n",
    "        \n",
    "    self.shots = alive"
   ]
  },
  {
   "cell_type": "code",
   "execution_count": null,
   "metadata": {},
   "outputs": [],
   "source": [
    "if __name__ == \"__main__\":\n",
    "    ProjectileApp().run()"
   ]
  },
  {
   "cell_type": "markdown",
   "metadata": {},
   "source": [
    "### 11.7 Non-sequential Collections"
   ]
  },
  {
   "cell_type": "markdown",
   "metadata": {},
   "source": [
    "#### 11.7.1 Dictionary Basics"
   ]
  },
  {
   "cell_type": "code",
   "execution_count": 53,
   "metadata": {},
   "outputs": [],
   "source": [
    "passwd = {\"guido\":\"superprogrammer\", \"turing\":\"genius\",\n",
    "          \"bill\":\"monopoly\"}"
   ]
  },
  {
   "cell_type": "code",
   "execution_count": 37,
   "metadata": {},
   "outputs": [
    {
     "data": {
      "text/plain": [
       "'superprogrammer'"
      ]
     },
     "execution_count": 37,
     "metadata": {},
     "output_type": "execute_result"
    }
   ],
   "source": [
    "passwd[\"guido\"]"
   ]
  },
  {
   "cell_type": "code",
   "execution_count": 38,
   "metadata": {},
   "outputs": [
    {
     "data": {
      "text/plain": [
       "'monopoly'"
      ]
     },
     "execution_count": 38,
     "metadata": {},
     "output_type": "execute_result"
    }
   ],
   "source": [
    "passwd[\"bill\"]"
   ]
  },
  {
   "cell_type": "code",
   "execution_count": 54,
   "metadata": {},
   "outputs": [],
   "source": [
    "passwd[\"bill\"] = \"bluescreen\""
   ]
  },
  {
   "cell_type": "code",
   "execution_count": 40,
   "metadata": {},
   "outputs": [
    {
     "data": {
      "text/plain": [
       "{'guido': 'superprogrammer', 'turing': 'genius', 'bill': 'bluescreen'}"
      ]
     },
     "execution_count": 40,
     "metadata": {},
     "output_type": "execute_result"
    }
   ],
   "source": [
    "passwd"
   ]
  },
  {
   "cell_type": "markdown",
   "metadata": {},
   "source": [
    "#### 11.7.2 Dictionary Operations"
   ]
  },
  {
   "cell_type": "code",
   "execution_count": 41,
   "metadata": {},
   "outputs": [],
   "source": [
    "passwd[\"newuser\"] = \"ImANewbie\""
   ]
  },
  {
   "cell_type": "code",
   "execution_count": 31,
   "metadata": {},
   "outputs": [
    {
     "data": {
      "text/plain": [
       "{'guido': 'superprogrammer',\n",
       " 'turing': 'genius',\n",
       " 'bill': 'bluescreen',\n",
       " 'newuser': 'ImANewbie'}"
      ]
     },
     "execution_count": 31,
     "metadata": {},
     "output_type": "execute_result"
    }
   ],
   "source": [
    "passwd"
   ]
  },
  {
   "cell_type": "code",
   "execution_count": 34,
   "metadata": {},
   "outputs": [
    {
     "ename": "FileNotFoundError",
     "evalue": "[Errno 2] No such file or directory: 'passwords'",
     "output_type": "error",
     "traceback": [
      "\u001b[0;31m---------------------------------------------------------------------------\u001b[0m",
      "\u001b[0;31mFileNotFoundError\u001b[0m                         Traceback (most recent call last)",
      "\u001b[0;32m<ipython-input-34-011c1cbc7f7a>\u001b[0m in \u001b[0;36m<module>\u001b[0;34m\u001b[0m\n\u001b[1;32m      1\u001b[0m \u001b[0mpasswd\u001b[0m \u001b[0;34m=\u001b[0m \u001b[0;34m{\u001b[0m\u001b[0;34m}\u001b[0m\u001b[0;34m\u001b[0m\u001b[0;34m\u001b[0m\u001b[0m\n\u001b[1;32m      2\u001b[0m \u001b[0;34m\u001b[0m\u001b[0m\n\u001b[0;32m----> 3\u001b[0;31m \u001b[0;32mfor\u001b[0m \u001b[0mline\u001b[0m \u001b[0;32min\u001b[0m \u001b[0mopen\u001b[0m\u001b[0;34m(\u001b[0m\u001b[0;34m\"passwords\"\u001b[0m\u001b[0;34m,\u001b[0m \u001b[0;34m\"r\"\u001b[0m\u001b[0;34m)\u001b[0m\u001b[0;34m:\u001b[0m\u001b[0;34m\u001b[0m\u001b[0;34m\u001b[0m\u001b[0m\n\u001b[0m\u001b[1;32m      4\u001b[0m     \u001b[0muser\u001b[0m\u001b[0;34m,\u001b[0m \u001b[0mpassw\u001b[0m \u001b[0;34m=\u001b[0m \u001b[0mline\u001b[0m\u001b[0;34m.\u001b[0m\u001b[0msplit\u001b[0m\u001b[0;34m(\u001b[0m\u001b[0;34m)\u001b[0m\u001b[0;34m\u001b[0m\u001b[0;34m\u001b[0m\u001b[0m\n\u001b[1;32m      5\u001b[0m     \u001b[0mpasswd\u001b[0m\u001b[0;34m[\u001b[0m\u001b[0muser\u001b[0m\u001b[0;34m]\u001b[0m \u001b[0;34m=\u001b[0m \u001b[0mpassw\u001b[0m\u001b[0;34m\u001b[0m\u001b[0;34m\u001b[0m\u001b[0m\n",
      "\u001b[0;31mFileNotFoundError\u001b[0m: [Errno 2] No such file or directory: 'passwords'"
     ]
    }
   ],
   "source": [
    "passwd = {}\n",
    "\n",
    "for line in open(\"passwords\", \"r\"):\n",
    "    user, passw = line.split()\n",
    "    passwd[user] = passw"
   ]
  },
  {
   "cell_type": "code",
   "execution_count": 42,
   "metadata": {},
   "outputs": [
    {
     "data": {
      "text/plain": [
       "['guido', 'turing', 'bill', 'newuser']"
      ]
     },
     "execution_count": 42,
     "metadata": {},
     "output_type": "execute_result"
    }
   ],
   "source": [
    "list(passwd.keys())"
   ]
  },
  {
   "cell_type": "code",
   "execution_count": 43,
   "metadata": {},
   "outputs": [
    {
     "data": {
      "text/plain": [
       "['superprogrammer', 'genius', 'bluescreen', 'ImANewbie']"
      ]
     },
     "execution_count": 43,
     "metadata": {},
     "output_type": "execute_result"
    }
   ],
   "source": [
    "list(passwd.values())"
   ]
  },
  {
   "cell_type": "code",
   "execution_count": 44,
   "metadata": {},
   "outputs": [
    {
     "data": {
      "text/plain": [
       "[('guido', 'superprogrammer'),\n",
       " ('turing', 'genius'),\n",
       " ('bill', 'bluescreen'),\n",
       " ('newuser', 'ImANewbie')]"
      ]
     },
     "execution_count": 44,
     "metadata": {},
     "output_type": "execute_result"
    }
   ],
   "source": [
    "list(passwd.items())"
   ]
  },
  {
   "cell_type": "code",
   "execution_count": 45,
   "metadata": {},
   "outputs": [
    {
     "data": {
      "text/plain": [
       "True"
      ]
     },
     "execution_count": 45,
     "metadata": {},
     "output_type": "execute_result"
    }
   ],
   "source": [
    "\"bill\" in passwd"
   ]
  },
  {
   "cell_type": "code",
   "execution_count": 46,
   "metadata": {},
   "outputs": [
    {
     "data": {
      "text/plain": [
       "False"
      ]
     },
     "execution_count": 46,
     "metadata": {},
     "output_type": "execute_result"
    }
   ],
   "source": [
    "\"fred\" in passwd"
   ]
  },
  {
   "cell_type": "code",
   "execution_count": 59,
   "metadata": {},
   "outputs": [
    {
     "data": {
      "text/plain": [
       "'bluescreen'"
      ]
     },
     "execution_count": 59,
     "metadata": {},
     "output_type": "execute_result"
    }
   ],
   "source": [
    "passwd.get(\"bill\")"
   ]
  },
  {
   "cell_type": "code",
   "execution_count": 48,
   "metadata": {},
   "outputs": [
    {
     "data": {
      "text/plain": [
       "'unknown'"
      ]
     },
     "execution_count": 48,
     "metadata": {},
     "output_type": "execute_result"
    }
   ],
   "source": [
    "passwd.get(\"john\", \"unknown\")"
   ]
  },
  {
   "cell_type": "code",
   "execution_count": 60,
   "metadata": {},
   "outputs": [],
   "source": [
    "passwd.clear()"
   ]
  },
  {
   "cell_type": "markdown",
   "metadata": {},
   "source": [
    "#### 11.7.3 Example program: Word Frequency"
   ]
  },
  {
   "cell_type": "code",
   "execution_count": null,
   "metadata": {},
   "outputs": [],
   "source": [
    "counts[w] = counts[w] + 1"
   ]
  },
  {
   "cell_type": "code",
   "execution_count": null,
   "metadata": {},
   "outputs": [],
   "source": [
    "if w is already in counts:\n",
    "    add one to the count for w\n",
    "else:\n",
    "    set count for w to 1"
   ]
  },
  {
   "cell_type": "code",
   "execution_count": null,
   "metadata": {},
   "outputs": [],
   "source": [
    "if w in counts:\n",
    "    counts[w] = counts[w] + 1\n",
    "else:\n",
    "    counts[w] = 1"
   ]
  },
  {
   "cell_type": "code",
   "execution_count": null,
   "metadata": {},
   "outputs": [],
   "source": [
    "counts[w] = counts.get(w,0) + 1"
   ]
  },
  {
   "cell_type": "code",
   "execution_count": null,
   "metadata": {},
   "outputs": [],
   "source": [
    "fname = input(\"File to analyze: \")\n",
    "\n",
    "# read file as one long string\n",
    "text = open(fname, \"r\").read()\n",
    "\n",
    "# convert all letter to lower case\n",
    "text = text.lower()\n",
    "\n",
    "# replace each puntuation character with a space\n",
    "for ch in '!\"#$%&()+,-./:;<=>?@[//]^{!}'\n",
    "\n",
    "# split string at whitespace to form a list of words\n",
    "words = text.split()"
   ]
  },
  {
   "cell_type": "code",
   "execution_count": null,
   "metadata": {},
   "outputs": [],
   "source": [
    "counts = {}\n",
    "for w in words:\n",
    "    counts[w] = counts.get(w,0) + 1"
   ]
  },
  {
   "cell_type": "code",
   "execution_count": null,
   "metadata": {},
   "outputs": [],
   "source": [
    "# get list of words that appear in document\n",
    "uniqueWords = list(counts.keys())\n",
    "\n",
    "# put list of words in alphabetical order\n",
    "uniqueWords.sort()\n",
    "\n",
    "# print words and associated counts\n",
    "for w in unqiueWords:\n",
    "    print(w, counts[w])"
   ]
  },
  {
   "cell_type": "code",
   "execution_count": null,
   "metadata": {},
   "outputs": [],
   "source": [
    "items = list(counts.items())"
   ]
  },
  {
   "cell_type": "code",
   "execution_count": null,
   "metadata": {},
   "outputs": [],
   "source": [
    "def byFreq(pair):\n",
    "    return pair[1]"
   ]
  },
  {
   "cell_type": "code",
   "execution_count": null,
   "metadata": {},
   "outputs": [],
   "source": [
    "items.sort(key = byFreq)"
   ]
  },
  {
   "cell_type": "code",
   "execution_count": null,
   "metadata": {},
   "outputs": [],
   "source": [
    "items.sort()                               # order pair alphabetically\n",
    "items.sort(key = byFreq, reverse = True)   # orders by frequency"
   ]
  },
  {
   "cell_type": "code",
   "execution_count": null,
   "metadata": {},
   "outputs": [],
   "source": [
    "for i in range(n):\n",
    "    word, count = items[i]\n",
    "    print(\"{0:15} {1:>5}\".format(word, count))"
   ]
  },
  {
   "cell_type": "code",
   "execution_count": null,
   "metadata": {},
   "outputs": [],
   "source": []
  },
  {
   "cell_type": "code",
   "execution_count": null,
   "metadata": {},
   "outputs": [],
   "source": [
    "def byFreq(pair):\n",
    "    return pair[1]\n",
    "\n",
    "def main():\n",
    "    \n",
    "    print(\"This program analyzes word frequency in a file\")\n",
    "    print(\"and prints a report on the n most frequent words. \\n\")\n",
    "    \n",
    "    # get the sequence of words from the file\n",
    "    \n",
    "    fname = input(\"File to analyze: \")\n",
    "    text = open(fname, \"r\").read()\n",
    "    text = text.lower()\n",
    "    for ch in '!\"#$%&()+,-./:;<=>?@[//]^{!}'\n",
    "        text = text.replace(ch, ' ')\n",
    "    words = text.split()\n",
    "    \n",
    "    # construct a dictionary of words counts\n",
    "    \n",
    "    counts = {}\n",
    "    for w in words:\n",
    "        counts[w] = counts.get(w, 0) + 1\n",
    "        \n",
    "    # output analysis of n most frequent words.\n",
    "    n = eval(input(\"Output analysis of how many words? \"))\n",
    "    \n",
    "    items = list(count.items())\n",
    "    items.sort()\n",
    "    items.sort(keys = byFreq, reverse = True)\n",
    "    \n",
    "    for i in range(n):\n",
    "        word, count = items[i]\n",
    "        print(\"{0:<15} {1:>5}\".format(word, count))\n",
    "    \n",
    "    if __name__ = '__main__' : main()"
   ]
  },
  {
   "cell_type": "markdown",
   "metadata": {},
   "source": [
    "### 11.9 Exercises\n",
    "\n",
    "#### Review Questions\n",
    "\n",
    "#### True / False"
   ]
  },
  {
   "cell_type": "markdown",
   "metadata": {},
   "source": [
    "1. The median is the average of a set of data.\n",
    "\n",
    "    False.\n",
    "    \n",
    "    The median is the middle number of a sorted list."
   ]
  },
  {
   "cell_type": "markdown",
   "metadata": {},
   "source": [
    "2. Standard Deviation measures how spread out a dataset is.\n",
    "\n",
    "    True.\n",
    "    \n",
    "    The standard deviation is the spread of a data set from the mean."
   ]
  },
  {
   "cell_type": "markdown",
   "metadata": {},
   "source": [
    "3. Arrays are usually heterogeneous, but lists are homogenous.\n",
    "\n",
    "    False.\n",
    "    \n",
    "    Heterogenous - Capable of containing more than a single data type at one time. Python lists, for example.\n",
    "    \n",
    "    Homogenous - Capable of holding values of only a single type."
   ]
  },
  {
   "cell_type": "markdown",
   "metadata": {},
   "source": [
    "4. A Python list cannot grow and shrink in size.\n",
    "\n",
    "    False.\n",
    "    \n",
    "    A list object is a mutable sequence of arbitrary objects. Items can be accessed by indexing and slcing. The items of a list can be changed by assignment."
   ]
  },
  {
   "cell_type": "markdown",
   "metadata": {},
   "source": [
    "5. Unlike strings, Python lists are not mutable.\n",
    "\n",
    "    False.\n",
    "    \n",
    "    Lists are mutable."
   ]
  },
  {
   "cell_type": "markdown",
   "metadata": {},
   "source": [
    "6. A list must contain at least one item.\n",
    "\n",
    "    False.\n",
    "    \n",
    "    You can begin with an empty list."
   ]
  },
  {
   "cell_type": "markdown",
   "metadata": {},
   "source": [
    "7. Items can be removed from a list with the del operator.\n",
    "\n",
    "    Answer = True.\n",
    "\n",
    "    WRONG.False.\n",
    "    \n",
    "    list.remove(x) is is used to delete  an occurance in the list."
   ]
  },
  {
   "cell_type": "markdown",
   "metadata": {},
   "source": [
    "8. A tuple is similar to an immmutable list.\n",
    "\n",
    "    True.\n",
    "    \n",
    "    A Python sequence type that acts like an immutable list."
   ]
  },
  {
   "cell_type": "markdown",
   "metadata": {},
   "source": [
    "9. A Python dictionary is a kind of sequence.\n",
    "\n",
    "    False.\n",
    "    \n",
    "    A Python dictionary implements an arbitrary mapping  from keys in values. This is very useful for representing non-sequential collections."
   ]
  },
  {
   "cell_type": "code",
   "execution_count": 4,
   "metadata": {},
   "outputs": [
    {
     "name": "stdout",
     "output_type": "stream",
     "text": [
      "['apples', 'oranges', 'bread']\n"
     ]
    }
   ],
   "source": [
    "grocery_list = [\"apples\", \"oranges\", \"bread\"]\n",
    "print(grocery_list)"
   ]
  },
  {
   "cell_type": "code",
   "execution_count": 5,
   "metadata": {},
   "outputs": [
    {
     "name": "stdout",
     "output_type": "stream",
     "text": [
      "['apples', 'bread']\n"
     ]
    }
   ],
   "source": [
    "del grocery_list[1]\n",
    "print(grocery_list)"
   ]
  },
  {
   "cell_type": "markdown",
   "metadata": {},
   "source": [
    "#### Multiple Choice"
   ]
  },
  {
   "cell_type": "markdown",
   "metadata": {},
   "source": [
    "1. Where mathematicians use subscripting, a computer programmers use:\n",
    "\n",
    "    Subscripting are used in formulas.\n",
    "    \n",
    "    My answer: c. Python.\n",
    "    \n",
    "    WRONG.\n",
    "    \n",
    "    Correct answer is B. Indexing\n",
    "\n",
    "    a. Slicing.\n",
    "    \n",
    "    b. Indexing.\n",
    "    \n",
    "    c. Python\n",
    "    \n",
    "    d. Caffeine"
   ]
  },
  {
   "cell_type": "markdown",
   "metadata": {},
   "source": [
    "2. Which of the following is not a built-in sequence operation in Python?\n",
    "\n",
    "    My answer. a.\n",
    "\n",
    "    a. Sorting.\n",
    "    \n",
    "        \n",
    "    b. Concatenation.\n",
    "    \n",
    "        seq + seq\n",
    "    \n",
    "    \n",
    "    c. Slicing.\n",
    "       \n",
    "        seq [:]\n",
    "      \n",
    "    \n",
    "    d. Repetition.\n",
    "    \n",
    "        seq * int-expr"
   ]
  },
  {
   "cell_type": "markdown",
   "metadata": {},
   "source": [
    "3. The method that adds a single item to the end of a list is:\n",
    "\n",
    "    My answer d. append\n",
    "    \n",
    "    \n",
    "    a. extend\n",
    "    \n",
    "    b. add\n",
    "    \n",
    "    c. plus\n",
    "    \n",
    "    d. append"
   ]
  },
  {
   "cell_type": "markdown",
   "metadata": {},
   "source": [
    "4. Which of the following is not a Python list method?\n",
    "\n",
    "    My answer. c. get\n",
    "\n",
    "    a. index\n",
    "    \n",
    "        list.index(x) Returns index of first occurrence of x.\n",
    "    \n",
    "    b. insert\n",
    "    \n",
    "        list.insert(i,x) Inserts x into list at index i.\n",
    "    \n",
    "    c. get\n",
    "    \n",
    "    d. pop\n",
    "        \n",
    "        list.pop(i) deletes the ith element of the list and returns its value."
   ]
  },
  {
   "cell_type": "markdown",
   "metadata": {},
   "source": [
    "5. Which of the following is not a characteristic of a Python list?\n",
    "\n",
    "    My Answer d. It is immutable.\n",
    "    \n",
    "\n",
    "    A list is a general Python data type for representing sequential collections. Lists are hetrogenous and can grow and shrink as needed. Items are accessed through subscripting.\n",
    "    \n",
    "    \n",
    "    Heterogenous - Capable of containing more than a single data type at one time. Python lists, for example.\n",
    "    \n",
    "\n",
    "    a. It is an object.\n",
    "    \n",
    "    b. It is a sequence.\n",
    "    \n",
    "    c. It can hold objects.\n",
    "    \n",
    "    d. It is immutable."
   ]
  },
  {
   "cell_type": "markdown",
   "metadata": {},
   "source": [
    "6. Which of the following expressions correctly tests if x is even?\n",
    "\n",
    "    My answer. a. x % 2 == 0\n",
    "\n",
    "    a. x % 2 == 0\n",
    "    \n",
    "    b. even(x)\n",
    "    \n",
    "    c. no odd(x)\n",
    "    \n",
    "    d. X % 2 == x"
   ]
  },
  {
   "cell_type": "markdown",
   "metadata": {},
   "source": [
    "7. The parameter xbar in stdDev is what?\n",
    "\n",
    "    My answer. c. Spread\n",
    "    \n",
    "    WRONG.\n",
    "    \n",
    "    The correct answer is d. mean\n",
    "    \n",
    "    a. median\n",
    "    \n",
    "    b. mode\n",
    "    \n",
    "    c. spread\n",
    "    \n",
    "    d. mean"
   ]
  },
  {
   "cell_type": "markdown",
   "metadata": {},
   "source": [
    "8. What keyboard parameter is used to send a key-function to the sort method?\n",
    "\n",
    "    In the context of data collections, a way to look up a value in a dictionary. Values are associated with key for future access.\n",
    "    \n",
    "\n",
    "    My answer. d.key\n",
    "\n",
    "    a. reverse\n",
    "    \n",
    "    b. reversed\n",
    "    \n",
    "    c. cmp\n",
    "    \n",
    "    d. key"
   ]
  },
  {
   "cell_type": "markdown",
   "metadata": {},
   "source": [
    "9. Which of the following is not a dictionary method?\n",
    "\n",
    "    My answer c. sort\n",
    "\n",
    "    a. get\n",
    "    \n",
    "        dict.get(key, default) If dictionary has key returns its value; otherwise returns default.\n",
    "    \n",
    "    b. keys\n",
    "    \n",
    "        dict.keys() Returns a sequence of keys.\n",
    "    \n",
    "    c. sort\n",
    "    \n",
    "        \n",
    "    \n",
    "    d. clear\n",
    "    \n",
    "        dict.clear() Deletes all entries."
   ]
  },
  {
   "cell_type": "markdown",
   "metadata": {},
   "source": [
    "10. The items dictionary method returns a (n)\n",
    "\n",
    "    My answer. b. Sequence tupples\n",
    "\n",
    "    dict.items() Returns a sequence of tuples (key, value) representing the key-value pairs.\n",
    "\n",
    "    a. int\n",
    "    \n",
    "    b. sequence tupples\n",
    "    \n",
    "    c. bool\n",
    "    \n",
    "    d. dictionary"
   ]
  },
  {
   "cell_type": "markdown",
   "metadata": {},
   "source": [
    "#### Discussion"
   ]
  },
  {
   "cell_type": "markdown",
   "metadata": {},
   "source": [
    "1. Given the initial statements\n",
    "\n",
    "    s1 = [2, 1, 4, 3]\n",
    "    s2 = [\"c\", \"a\", \"b\"]\n",
    "    \n",
    "    show the result of evluating each of the following sequence expressions:\n",
    "    \n",
    "    a. s1 + s2\n",
    "    \n",
    "        add the lists together.\n",
    "    \n",
    "    \n",
    "    b. 3 * s1 + 2 * s2\n",
    "    \n",
    "        Repeats the list s1 3 times and s2 2 times.\n",
    "    \n",
    "    c. s1[1]\n",
    "    \n",
    "        Returns the second number in the s1 list.\n",
    "    \n",
    "    \n",
    "    d. s1[1:3]\n",
    "    \n",
    "        Returns the second number of the list to the 3rd number of the list.\n",
    "    \n",
    "    \n",
    "    e. s1 + s2[-1]\n",
    "    \n",
    "        Does not work. Can only concatenate list (not \"str\") to list."
   ]
  },
  {
   "cell_type": "code",
   "execution_count": 74,
   "metadata": {},
   "outputs": [],
   "source": [
    "s1 = [2, 1, 4, 3]\n",
    "s2 = [\"c\", \"a\", \"b\"]"
   ]
  },
  {
   "cell_type": "code",
   "execution_count": 63,
   "metadata": {},
   "outputs": [
    {
     "data": {
      "text/plain": [
       "[2, 1, 4, 3, 'c', 'a', 'b']"
      ]
     },
     "execution_count": 63,
     "metadata": {},
     "output_type": "execute_result"
    }
   ],
   "source": [
    "s1 + s2"
   ]
  },
  {
   "cell_type": "code",
   "execution_count": 64,
   "metadata": {},
   "outputs": [
    {
     "data": {
      "text/plain": [
       "[2, 1, 4, 3, 2, 1, 4, 3, 2, 1, 4, 3, 'c', 'a', 'b', 'c', 'a', 'b']"
      ]
     },
     "execution_count": 64,
     "metadata": {},
     "output_type": "execute_result"
    }
   ],
   "source": [
    "3 * s1 + 2 * s2"
   ]
  },
  {
   "cell_type": "code",
   "execution_count": 65,
   "metadata": {},
   "outputs": [
    {
     "data": {
      "text/plain": [
       "1"
      ]
     },
     "execution_count": 65,
     "metadata": {},
     "output_type": "execute_result"
    }
   ],
   "source": [
    "s1[1]"
   ]
  },
  {
   "cell_type": "code",
   "execution_count": 66,
   "metadata": {},
   "outputs": [
    {
     "data": {
      "text/plain": [
       "[1, 4]"
      ]
     },
     "execution_count": 66,
     "metadata": {},
     "output_type": "execute_result"
    }
   ],
   "source": [
    "s1[1:3]"
   ]
  },
  {
   "cell_type": "code",
   "execution_count": 67,
   "metadata": {},
   "outputs": [
    {
     "ename": "TypeError",
     "evalue": "can only concatenate list (not \"str\") to list",
     "output_type": "error",
     "traceback": [
      "\u001b[0;31m---------------------------------------------------------------------------\u001b[0m",
      "\u001b[0;31mTypeError\u001b[0m                                 Traceback (most recent call last)",
      "\u001b[0;32m<ipython-input-67-a5f17466ee6d>\u001b[0m in \u001b[0;36m<module>\u001b[0;34m\u001b[0m\n\u001b[0;32m----> 1\u001b[0;31m \u001b[0ms1\u001b[0m \u001b[0;34m+\u001b[0m \u001b[0ms2\u001b[0m\u001b[0;34m[\u001b[0m\u001b[0;34m-\u001b[0m\u001b[0;36m1\u001b[0m\u001b[0;34m]\u001b[0m\u001b[0;34m\u001b[0m\u001b[0;34m\u001b[0m\u001b[0m\n\u001b[0m",
      "\u001b[0;31mTypeError\u001b[0m: can only concatenate list (not \"str\") to list"
     ]
    }
   ],
   "source": [
    "s1 + s2[-1]"
   ]
  },
  {
   "cell_type": "markdown",
   "metadata": {},
   "source": [
    "2. Given the same initial statements as in the previous problem, show the values of s1 and s2 after exeuting each of the following statements. Treat each part independently (i.e., assume that s1 and s2 start with their original values each time).\n",
    "\n",
    "    a. s1.remove(2)\n",
    "    \n",
    "        Removes the 3rd number in the s1 list.\n",
    "        \n",
    "    \n",
    "    b. s1.sort()\n",
    "    \n",
    "        Orders the list in an ascending order.\n",
    "        \n",
    "    \n",
    "    c. s1.append([s2.index('b')])\n",
    "    \n",
    "        adds the [] index numbers spot where \"b\" was into the list\n",
    "    \n",
    "    d. s2.pop(s1.pop(2))\n",
    "    \n",
    "        Does not work.\n",
    "        \n",
    "    \n",
    "    e. s2.insert(s1[0], 'd')\n",
    "    \n",
    "        Unsure. Inserted \"d\" into index spot [2] in the s2 list"
   ]
  },
  {
   "cell_type": "code",
   "execution_count": 103,
   "metadata": {},
   "outputs": [],
   "source": [
    "s1 = [2, 1, 4, 3]\n",
    "s2 = [\"c\", \"a\", \"b\"]"
   ]
  },
  {
   "cell_type": "code",
   "execution_count": 75,
   "metadata": {},
   "outputs": [
    {
     "data": {
      "text/plain": [
       "[2, 1, 4, 3]"
      ]
     },
     "execution_count": 75,
     "metadata": {},
     "output_type": "execute_result"
    }
   ],
   "source": [
    "s1"
   ]
  },
  {
   "cell_type": "code",
   "execution_count": 76,
   "metadata": {},
   "outputs": [],
   "source": [
    "s1.remove(2)"
   ]
  },
  {
   "cell_type": "code",
   "execution_count": 77,
   "metadata": {},
   "outputs": [
    {
     "data": {
      "text/plain": [
       "[1, 4, 3]"
      ]
     },
     "execution_count": 77,
     "metadata": {},
     "output_type": "execute_result"
    }
   ],
   "source": [
    "s1"
   ]
  },
  {
   "cell_type": "markdown",
   "metadata": {},
   "source": []
  },
  {
   "cell_type": "code",
   "execution_count": 81,
   "metadata": {},
   "outputs": [],
   "source": [
    "s1.sort()"
   ]
  },
  {
   "cell_type": "code",
   "execution_count": 82,
   "metadata": {},
   "outputs": [
    {
     "data": {
      "text/plain": [
       "[1, 2, 3, 4]"
      ]
     },
     "execution_count": 82,
     "metadata": {},
     "output_type": "execute_result"
    }
   ],
   "source": [
    "s1"
   ]
  },
  {
   "cell_type": "markdown",
   "metadata": {},
   "source": []
  },
  {
   "cell_type": "code",
   "execution_count": 86,
   "metadata": {},
   "outputs": [
    {
     "data": {
      "text/plain": [
       "[1, 2, 3, 4, [2]]"
      ]
     },
     "execution_count": 86,
     "metadata": {},
     "output_type": "execute_result"
    }
   ],
   "source": [
    "s1.append([s2.index('b')])\n",
    "s1"
   ]
  },
  {
   "cell_type": "code",
   "execution_count": 85,
   "metadata": {},
   "outputs": [
    {
     "data": {
      "text/plain": [
       "['c', 'a', 'b']"
      ]
     },
     "execution_count": 85,
     "metadata": {},
     "output_type": "execute_result"
    }
   ],
   "source": [
    "s2"
   ]
  },
  {
   "cell_type": "code",
   "execution_count": null,
   "metadata": {},
   "outputs": [],
   "source": []
  },
  {
   "cell_type": "code",
   "execution_count": 99,
   "metadata": {},
   "outputs": [
    {
     "ename": "IndexError",
     "evalue": "pop index out of range",
     "output_type": "error",
     "traceback": [
      "\u001b[0;31m---------------------------------------------------------------------------\u001b[0m",
      "\u001b[0;31mIndexError\u001b[0m                                Traceback (most recent call last)",
      "\u001b[0;32m<ipython-input-99-de6e120b878c>\u001b[0m in \u001b[0;36m<module>\u001b[0;34m\u001b[0m\n\u001b[0;32m----> 1\u001b[0;31m \u001b[0ms2\u001b[0m\u001b[0;34m.\u001b[0m\u001b[0mpop\u001b[0m\u001b[0;34m(\u001b[0m\u001b[0ms1\u001b[0m\u001b[0;34m.\u001b[0m\u001b[0mpop\u001b[0m\u001b[0;34m(\u001b[0m\u001b[0;36m2\u001b[0m\u001b[0;34m)\u001b[0m\u001b[0;34m)\u001b[0m\u001b[0;34m\u001b[0m\u001b[0;34m\u001b[0m\u001b[0m\n\u001b[0m",
      "\u001b[0;31mIndexError\u001b[0m: pop index out of range"
     ]
    }
   ],
   "source": [
    "s2.pop(s1.pop(2))"
   ]
  },
  {
   "cell_type": "code",
   "execution_count": 93,
   "metadata": {},
   "outputs": [
    {
     "data": {
      "text/plain": [
       "[2, 1]"
      ]
     },
     "execution_count": 93,
     "metadata": {},
     "output_type": "execute_result"
    }
   ],
   "source": [
    "s1"
   ]
  },
  {
   "cell_type": "code",
   "execution_count": 92,
   "metadata": {},
   "outputs": [
    {
     "data": {
      "text/plain": [
       "['c', 'a', 'b']"
      ]
     },
     "execution_count": 92,
     "metadata": {},
     "output_type": "execute_result"
    }
   ],
   "source": [
    "s2"
   ]
  },
  {
   "cell_type": "code",
   "execution_count": null,
   "metadata": {},
   "outputs": [],
   "source": []
  },
  {
   "cell_type": "code",
   "execution_count": 106,
   "metadata": {},
   "outputs": [],
   "source": [
    "s2.insert(s1[0], 'd')"
   ]
  },
  {
   "cell_type": "code",
   "execution_count": 107,
   "metadata": {},
   "outputs": [
    {
     "data": {
      "text/plain": [
       "[2, 1, 4, 3]"
      ]
     },
     "execution_count": 107,
     "metadata": {},
     "output_type": "execute_result"
    }
   ],
   "source": [
    "s1"
   ]
  },
  {
   "cell_type": "code",
   "execution_count": 108,
   "metadata": {},
   "outputs": [
    {
     "data": {
      "text/plain": [
       "['c', 'a', 'd', 'b']"
      ]
     },
     "execution_count": 108,
     "metadata": {},
     "output_type": "execute_result"
    }
   ],
   "source": [
    "s2"
   ]
  },
  {
   "cell_type": "markdown",
   "metadata": {},
   "source": [
    "#### Programming Exercises"
   ]
  },
  {
   "cell_type": "markdown",
   "metadata": {},
   "source": [
    "1. Modify the statistics program from this chapter so that client programs have more flexibility in computing the mean and/or standard deviation. Specifically, redesign the library to have the following functions:\n",
    "\n",
    "\n",
    "    mean(nums)           Returns the mean of numbers in num\n",
    "    \n",
    "    \n",
    "    stdDev(nums)         Returns the standard deviation of numbs\n",
    "    \n",
    "    \n",
    "    meanStdDev(nums)     Returns both the mean and standard devation of nums"
   ]
  },
  {
   "cell_type": "code",
   "execution_count": 9,
   "metadata": {},
   "outputs": [
    {
     "name": "stdout",
     "output_type": "stream",
     "text": [
      "Enter a series of numbers (<Enter> to move onto next stage) >> 5\n",
      "Enter a series of numbers (<Enter> to move onto next stage) >> 4\n",
      "Enter a series of numbers (<Enter> to move onto next stage) >> 5\n",
      "Enter a series of numbers (<Enter> to move onto next stage) >> 6\n",
      "Enter a series of numbers (<Enter> to move onto next stage) >> \n",
      "\n",
      "This program computes mean, median, standard deviation or mean and standard deviation.\n",
      "What would you like to decipher? <Enter> to Quit\n",
      "mean\n",
      "\n",
      "The mean is 5.0\n",
      "What would you like to decipher? <Enter> to Quit\n",
      "\n"
     ]
    }
   ],
   "source": [
    "#stats.py\n",
    "\n",
    "from math import sqrt\n",
    "\n",
    "def getNumbers():\n",
    "    \n",
    "    nums = [] # start with an empty list\n",
    "    \n",
    "    # sentinel loop to get numbers\n",
    "    xStr = input(\"Enter a series of numbers (<Enter> to move onto next stage) >> \")\n",
    "    while xStr != \"\":\n",
    "        x = float(xStr)\n",
    "        nums.append(x)\n",
    "        xStr = input(\"Enter a series of numbers (<Enter> to move onto next stage) >> \")\n",
    "        \n",
    "    return nums\n",
    "\n",
    "def mean(nums):\n",
    "    \n",
    "    total = 0.0\n",
    "    \n",
    "    for num in nums:\n",
    "        total = total + num\n",
    "        \n",
    "    return total / len(nums)\n",
    "\n",
    "def stdDev(nums, xbar):\n",
    "    \n",
    "    sumDevSq = 0.0\n",
    "    for num in nums:\n",
    "        dev = num - xbar\n",
    "        sumDevSq = sumDevSq = dev * dev\n",
    "        \n",
    "    return sqrt(sumDevSq / (len(nums) - 1))\n",
    "\n",
    "def meanStdDev(nums):\n",
    "    xbar = mean(nums)\n",
    "    std = stdDev(nums, xbar)\n",
    "\n",
    "def median(nums):\n",
    "    \n",
    "    nums.sort()\n",
    "    size = len(nums)\n",
    "    midPos = size // 2\n",
    "    \n",
    "    if size % 2 == 0:\n",
    "        med = (nums[midPos] + nums[midPos - 1]) / 2\n",
    "    else:\n",
    "        med = nums[midPos]\n",
    "        \n",
    "    return med\n",
    "\n",
    "def main():\n",
    "    \n",
    "    # Simplification\n",
    "    data = getNumbers()\n",
    "    xbar = mean(data)\n",
    "    std = stdDev(data, xbar)\n",
    "    med = median(data)\n",
    "    \n",
    "    print(\"\\nThis program computes mean, median, standard deviation or mean and standard deviation.\")\n",
    "    \n",
    "    # remember to always have an assignment of zero for variable\n",
    "    x = 0\n",
    "    while x != \"\":\n",
    "    \n",
    "        x = (input(\"What would you like to decipher? <Enter> to Quit\\n\"))\n",
    "    \n",
    "        if x == \"mean\":\n",
    "            print(\"\\nThe mean is\", xbar)\n",
    "    \n",
    "        elif x == \"standard deviation\":\n",
    "            print(\"\\nThe standard deviation is \", std)\n",
    "    \n",
    "        elif x == \"median\":\n",
    "            print(\"\\nThe median is \", med)\n",
    "        \n",
    "        elif x == \"mean and standard deviation\" :\n",
    "            print(\"\\nThe mean is: \", xbar)\n",
    "            print(\"\\nThe standard deviation is: \", std)\n",
    "    \n",
    "        elif x == \"\":\n",
    "            break\n",
    "    \n",
    "        else:\n",
    "            \"\\nPlease try again\"\n",
    "            \n",
    "if __name__ == '__main__':main()"
   ]
  },
  {
   "cell_type": "markdown",
   "metadata": {},
   "source": [
    "5. Most languages do not have the flexible built-in list (array) operations that Python has. \n",
    "\n",
    "    Write an algorithm for each of the following Python operation and test your algorithm by writing it up in a suitable function. For Example, as a function, reverse (myList) should do the same myList.reverse(). Obviously, you are not allowed to use the corresponding Python method to implement your function."
   ]
  },
  {
   "cell_type": "markdown",
   "metadata": {},
   "source": [
    "    a. count(myList, x) (like myList.count(x))"
   ]
  },
  {
   "cell_type": "code",
   "execution_count": 24,
   "metadata": {},
   "outputs": [
    {
     "data": {
      "text/plain": [
       "1"
      ]
     },
     "execution_count": 24,
     "metadata": {},
     "output_type": "execute_result"
    }
   ],
   "source": [
    "myList = [3,4,1,2,5,6]\n",
    "\n",
    "myList.count(3)"
   ]
  },
  {
   "cell_type": "code",
   "execution_count": 60,
   "metadata": {},
   "outputs": [],
   "source": [
    "myList = [3,4,1,2,5,6]\n",
    "\n",
    "def count(myList,x):\n",
    "    \n",
    "    cnt = 0\n",
    "    \n",
    "    #while x in myList:\n",
    "        #cnt = cnt + 1 \n",
    "    \n",
    "    for i in myList:\n",
    "        if i == x:\n",
    "            cnt = cnt + 1\n",
    "        \n",
    "    return cnt"
   ]
  },
  {
   "cell_type": "code",
   "execution_count": 61,
   "metadata": {},
   "outputs": [
    {
     "data": {
      "text/plain": [
       "1"
      ]
     },
     "execution_count": 61,
     "metadata": {},
     "output_type": "execute_result"
    }
   ],
   "source": [
    "count(myList,3)"
   ]
  },
  {
   "cell_type": "markdown",
   "metadata": {},
   "source": [
    "    b. isin(myList, x) (like x in myList))"
   ]
  },
  {
   "cell_type": "code",
   "execution_count": 56,
   "metadata": {},
   "outputs": [
    {
     "data": {
      "text/plain": [
       "True"
      ]
     },
     "execution_count": 56,
     "metadata": {},
     "output_type": "execute_result"
    }
   ],
   "source": [
    "myList = [3,4,1,2,5,6]\n",
    "\n",
    "3 in myList"
   ]
  },
  {
   "cell_type": "code",
   "execution_count": 66,
   "metadata": {},
   "outputs": [],
   "source": [
    "myList = [3,4,1,2,5,6]\n",
    "\n",
    "def isin(myList,x):\n",
    "\n",
    "    for i in myList:\n",
    "        if i == x:\n",
    "            return True\n",
    "    \n",
    "    else:\n",
    "        return False"
   ]
  },
  {
   "cell_type": "code",
   "execution_count": 73,
   "metadata": {},
   "outputs": [
    {
     "data": {
      "text/plain": [
       "False"
      ]
     },
     "execution_count": 73,
     "metadata": {},
     "output_type": "execute_result"
    }
   ],
   "source": [
    "isin(myList,7)"
   ]
  },
  {
   "cell_type": "markdown",
   "metadata": {},
   "source": [
    "    c. index(myList, x) (like myList.index(x))"
   ]
  },
  {
   "cell_type": "code",
   "execution_count": 77,
   "metadata": {},
   "outputs": [
    {
     "data": {
      "text/plain": [
       "0"
      ]
     },
     "execution_count": 77,
     "metadata": {},
     "output_type": "execute_result"
    }
   ],
   "source": [
    "myList = [3,4,1,2,5,6]\n",
    "\n",
    "myList.index(3)"
   ]
  },
  {
   "cell_type": "code",
   "execution_count": 84,
   "metadata": {},
   "outputs": [],
   "source": [
    "myList = [3,4,1,2,5,6]\n",
    "\n",
    "def index(myList,x):\n",
    "    \n",
    "    return myList[x]"
   ]
  },
  {
   "cell_type": "code",
   "execution_count": 94,
   "metadata": {},
   "outputs": [
    {
     "data": {
      "text/plain": [
       "2"
      ]
     },
     "execution_count": 94,
     "metadata": {},
     "output_type": "execute_result"
    }
   ],
   "source": [
    "myList.index(1)"
   ]
  },
  {
   "cell_type": "markdown",
   "metadata": {},
   "source": [
    "    d. reverse(myList) (like myList.reverse())"
   ]
  },
  {
   "cell_type": "code",
   "execution_count": 96,
   "metadata": {},
   "outputs": [
    {
     "data": {
      "text/plain": [
       "[6, 5, 2, 1, 4, 3]"
      ]
     },
     "execution_count": 96,
     "metadata": {},
     "output_type": "execute_result"
    }
   ],
   "source": [
    "myList = [3,4,1,2,5,6]\n",
    "\n",
    "myList.reverse()\n",
    "\n",
    "myList"
   ]
  },
  {
   "cell_type": "code",
   "execution_count": 124,
   "metadata": {},
   "outputs": [],
   "source": [
    "myList = [3,4,1,2,5,6]\n",
    "\n",
    "def reverse(myList):\n",
    "    \n",
    "    newList = []\n",
    "    \n",
    "    for i in range(len(myList)):\n",
    "        \n",
    "        # TRY TO UNDERSTAND THE BELOW CODE\n",
    "        # x = myList[-1]\n",
    "        x = myList[-1 * (i + 1)]\n",
    "        newList.append(x)\n",
    "        \n",
    "        # breaks itself when it hits -7\n",
    "    \n",
    "    return newList "
   ]
  },
  {
   "cell_type": "code",
   "execution_count": 112,
   "metadata": {},
   "outputs": [
    {
     "data": {
      "text/plain": [
       "6"
      ]
     },
     "execution_count": 112,
     "metadata": {},
     "output_type": "execute_result"
    }
   ],
   "source": [
    "len(myList)"
   ]
  },
  {
   "cell_type": "code",
   "execution_count": 111,
   "metadata": {},
   "outputs": [
    {
     "data": {
      "text/plain": [
       "range(0, 6)"
      ]
     },
     "execution_count": 111,
     "metadata": {},
     "output_type": "execute_result"
    }
   ],
   "source": [
    "range(len(myList))"
   ]
  },
  {
   "cell_type": "code",
   "execution_count": 128,
   "metadata": {},
   "outputs": [
    {
     "data": {
      "text/plain": [
       "-5"
      ]
     },
     "execution_count": 128,
     "metadata": {},
     "output_type": "execute_result"
    }
   ],
   "source": [
    "-1 * (4 + 1)"
   ]
  },
  {
   "cell_type": "code",
   "execution_count": 123,
   "metadata": {},
   "outputs": [
    {
     "data": {
      "text/plain": [
       "[6, 6, 6, 6, 6, 6]"
      ]
     },
     "execution_count": 123,
     "metadata": {},
     "output_type": "execute_result"
    }
   ],
   "source": [
    "reverse(myList)"
   ]
  },
  {
   "cell_type": "markdown",
   "metadata": {},
   "source": [
    "    e. sort(myList) (like myList.sort())"
   ]
  },
  {
   "cell_type": "code",
   "execution_count": 130,
   "metadata": {},
   "outputs": [
    {
     "data": {
      "text/plain": [
       "[1, 2, 3, 4, 5, 6]"
      ]
     },
     "execution_count": 130,
     "metadata": {},
     "output_type": "execute_result"
    }
   ],
   "source": [
    "myList = [3,4,1,2,5,6]\n",
    "\n",
    "myList.sort()\n",
    "\n",
    "myList"
   ]
  },
  {
   "cell_type": "code",
   "execution_count": 132,
   "metadata": {},
   "outputs": [],
   "source": [
    "def sort(myList):\n",
    "\n",
    "    newList = []\n",
    "    \n",
    "    for i in range (len(myList)):\n",
    "        \n",
    "        # use min(mylist) then append after each loop.\n",
    "        # Then deletes min(x) from list until 0.\n",
    "        \n",
    "        x = min(myList)\n",
    "        newList.append(x)\n",
    "        myList.remove(x)\n",
    "    \n",
    "    return newList"
   ]
  },
  {
   "cell_type": "code",
   "execution_count": 133,
   "metadata": {},
   "outputs": [
    {
     "data": {
      "text/plain": [
       "[1, 2, 3, 4, 5, 6]"
      ]
     },
     "execution_count": 133,
     "metadata": {},
     "output_type": "execute_result"
    }
   ],
   "source": [
    "sort(myList)"
   ]
  },
  {
   "cell_type": "markdown",
   "metadata": {},
   "source": [
    "6. Write and test a function shuffle(myList) that scrambles a list into a random order, like shuffling a deck of cards."
   ]
  },
  {
   "cell_type": "code",
   "execution_count": 157,
   "metadata": {},
   "outputs": [],
   "source": [
    "import random\n",
    "\n",
    "myList = [1,2,3,4,5,6]\n",
    "\n",
    "def shuffle(myList):\n",
    "    \n",
    "    newDeck = []\n",
    "    \n",
    "    for i in range(len(myList)):\n",
    "        \n",
    "        n = len(myList)\n",
    "        \n",
    "        x = myList[-1 * (random.randrange(0,n))]\n",
    "        newDeck.append(x)\n",
    "        myList.remove(x)\n",
    "    \n",
    "    return newDeck"
   ]
  },
  {
   "cell_type": "code",
   "execution_count": 158,
   "metadata": {},
   "outputs": [
    {
     "data": {
      "text/plain": [
       "[4, 5, 1, 2, 3, 6]"
      ]
     },
     "execution_count": 158,
     "metadata": {},
     "output_type": "execute_result"
    }
   ],
   "source": [
    "shuffle(myList)"
   ]
  },
  {
   "cell_type": "markdown",
   "metadata": {},
   "source": [
    "7. Write and test a function innerProd(x,y) that computes the inner product of two (same length) lists. The inner product of x and y is computed."
   ]
  },
  {
   "cell_type": "code",
   "execution_count": 173,
   "metadata": {},
   "outputs": [],
   "source": [
    "y = [1, 2, 3, 4, 5, 6]\n",
    "x = [6, 5, 4, 3, 2, 1]\n",
    "\n",
    "def innerProd(x,y):\n",
    "    \n",
    "    calc = []\n",
    "    n = len(y)\n",
    "    \n",
    "    for i in range(n):\n",
    "    \n",
    "        z = x[-1] * y[-1]\n",
    "        calc.append(z)\n",
    "        y.pop()\n",
    "        x.pop()\n",
    "    \n",
    "    return sum(calc)"
   ]
  },
  {
   "cell_type": "code",
   "execution_count": 174,
   "metadata": {},
   "outputs": [
    {
     "data": {
      "text/plain": [
       "56"
      ]
     },
     "execution_count": 174,
     "metadata": {},
     "output_type": "execute_result"
    }
   ],
   "source": [
    "innerProd(x,y)"
   ]
  },
  {
   "cell_type": "markdown",
   "metadata": {},
   "source": [
    "8. Write and test a function removeDuplicates(somelist) that removes duplicate values from a list."
   ]
  },
  {
   "cell_type": "code",
   "execution_count": 239,
   "metadata": {},
   "outputs": [
    {
     "data": {
      "text/plain": [
       "[1, 2, 3, 4, 5, 6]"
      ]
     },
     "execution_count": 239,
     "metadata": {},
     "output_type": "execute_result"
    }
   ],
   "source": [
    "# This is incorrect as it only gives the deleted list. \n",
    "# NOT THE NEW LIST\n",
    "\n",
    "someList = [1, 2, 3, 4, 5, 6, 1, 2, 3, 4, 5]\n",
    "\n",
    "def removeDuplicates(someList):\n",
    "    \n",
    "    final_list = []\n",
    "    \n",
    "    for number in someList:\n",
    "        \n",
    "        if number not in final_list:\n",
    "            final_list.append(number)\n",
    "            \n",
    "    return final_list\n",
    "\n",
    "removeDuplicates(someList)"
   ]
  },
  {
   "cell_type": "markdown",
   "metadata": {},
   "source": [
    "10. The size of Eratosthense is an elegant algorithm for finding all of the prime numbers up to some limit n. The basic idea is to first create a list of numbers from 2 to n. The first number is removed from the list, and announced as a prime number, and all multiples of this number up to n are removes from the list. This process continues until the list is empty.\n",
    "\n",
    "    Write a program that prompts a user for n and then uses the sieve algorithm to find all the primes less than or equal to n."
   ]
  },
  {
   "cell_type": "code",
   "execution_count": 241,
   "metadata": {},
   "outputs": [
    {
     "name": "stdout",
     "output_type": "stream",
     "text": [
      "Input value of n: 5\n",
      "[2, 3, 5]\n"
     ]
    }
   ],
   "source": [
    "# sieve.py\n",
    "\n",
    "#Sieve of Eratosthenes (finds prime numbers to range n)\n",
    "\n",
    "def sieve(list):\n",
    "    \n",
    "    newList = []\n",
    "    #take first item in list and announce as prime to initialize loop\n",
    "    \n",
    "    while len(list) != 0:\n",
    "        \n",
    "        #append newList with that number\n",
    "        newList.append(list[0])\n",
    "        #remove multiples of that first number from the list\n",
    "        #remove first number from the list\n",
    "        \n",
    "        try:\n",
    "            for i in range(len(list)):\n",
    "                if list[i] % list[0] == 0:\n",
    "                    list.remove(list[i])\n",
    "                    \n",
    "        except:\n",
    "            newList\n",
    "  \n",
    "    return newList \n",
    "\n",
    "def main():\n",
    "    n = eval(input(\"Input value of n: \"))\n",
    "    \n",
    "    list = []\n",
    "    \n",
    "    # creates the list.\n",
    "    for i in range(n-1):\n",
    "        list.append(i+2)\n",
    "    \n",
    "    list = sieve(list)\n",
    "    \n",
    "    #no idea why 4 remains after iterating through this logic....but this seems to be a nice workaround\n",
    "    list.remove(4)\n",
    "    \n",
    "    print(list)\n",
    "\n",
    "main()"
   ]
  },
  {
   "cell_type": "code",
   "execution_count": 243,
   "metadata": {},
   "outputs": [
    {
     "name": "stdout",
     "output_type": "stream",
     "text": [
      "[2, 3, 4, 5]\n"
     ]
    }
   ],
   "source": [
    "list = []\n",
    "    \n",
    "for i in range(5-1):\n",
    "    list.append(i+2)\n",
    "\n",
    "print(list)"
   ]
  },
  {
   "cell_type": "markdown",
   "metadata": {},
   "source": [
    "16. Create a class called StatSet than can be used to do simple statistical calculations. The method for the class are found in the Textbook."
   ]
  },
  {
   "cell_type": "code",
   "execution_count": 298,
   "metadata": {},
   "outputs": [],
   "source": [
    "# Get list before class\n",
    "\n",
    "import math\n",
    "\n",
    "class StatSet:\n",
    "    \n",
    "    \"\"\"\n",
    "    A class that computes simple statistical calculations.\n",
    "    \n",
    "    \"\"\"\n",
    "    \n",
    "    def __init__(self):\n",
    "        \n",
    "        \"\"\"\n",
    "        Creates an initial list.\n",
    "        \"\"\"\n",
    "        \n",
    "        self.stats = []\n",
    "    \n",
    "    \n",
    "    def addNumber(self, x):\n",
    "        \n",
    "        \"\"\"\n",
    "        Adds new numbers to the inital list.\n",
    "        \"\"\"\n",
    "        \n",
    "        # doesn't return anything\n",
    "        \n",
    "        self.stats.append(x)\n",
    "         \n",
    "    \n",
    "    def mean(self):\n",
    "       \n",
    "        \"\"\"\n",
    "        Calculates the mean of the numbers inputed.\n",
    "        \"\"\"\n",
    "    \n",
    "        # So you can input loops into classes\n",
    "    \n",
    "        sum = 0.0\n",
    "        \n",
    "        for num in self.stats:\n",
    "            sum = sum + num\n",
    "        \n",
    "        return sum / self.count() \n",
    "        \n",
    "        \n",
    "    def median(self):\n",
    "        \n",
    "        \"\"\"\n",
    "        Calculates the median of the numbers inputed.\n",
    "        \"\"\"\n",
    "        \n",
    "        # So you can input loops into classes\n",
    "        \n",
    "        self.stats.sort()\n",
    "        size = len(self.stats)\n",
    "        midPos = size // 2\n",
    "        \n",
    "        if size % 2 == 0:\n",
    "            median = (self.stats[midPos] + self.stats[midPos - 1]) / 2\n",
    "        else:\n",
    "            median = self.stats[midPos]\n",
    "        \n",
    "        return median\n",
    "\n",
    "    \n",
    "    def stdDev(self):\n",
    "        \n",
    "        \"\"\"\n",
    "        Calculates the standard deviation of the list.\n",
    "        \"\"\"\n",
    "        \n",
    "        xbar = self.mean()\n",
    "        sumDevSq = 0.0\n",
    "        \n",
    "        for num in self.stats:\n",
    "            dev = xbar - num\n",
    "            sumDevSq = sumDevSq + dev * dev\n",
    "        \n",
    "        return sqrt(sumDevSq/(len(self.stats) - 1))\n",
    "        \n",
    "        \n",
    "    def count(self):\n",
    "        \n",
    "        \"\"\"\n",
    "        Calculates amount of numbers being calculated.\n",
    "        \"\"\"\n",
    "        \n",
    "        return len(self.stats)\n",
    "    \n",
    "    \n",
    "    def min(self):\n",
    "        \n",
    "        \"\"\"\n",
    "        Calculates the smallest number in the list.\n",
    "        \"\"\"\n",
    "        \n",
    "        return min(self.stats)\n",
    "    \n",
    "    \n",
    "    def max(self):\n",
    "        \n",
    "        \"\"\"\n",
    "        Calculates the largest number in the list.\n",
    "        \"\"\"\n",
    "        \n",
    "        return max(self.stats)"
   ]
  },
  {
   "cell_type": "code",
   "execution_count": 318,
   "metadata": {},
   "outputs": [
    {
     "name": "stdout",
     "output_type": "stream",
     "text": [
      "None\n",
      "None\n",
      "None\n",
      "None\n",
      "8\n",
      "9.5\n",
      "9.5\n",
      "3.585685828003181\n",
      "5\n",
      "14\n"
     ]
    }
   ],
   "source": [
    "def main():\n",
    "    \n",
    "    data = StatSet()\n",
    "    \n",
    "    for i in range(5, 15, 3):\n",
    "        # inputs i as x\n",
    "        data.addNumber(i)\n",
    "        \n",
    "        # print(data.addNumber(i))\n",
    "    \n",
    "    print(data.count())\n",
    "    print(data.mean())\n",
    "    print(data.median())\n",
    "    print(data.stdDev())\n",
    "    print(data.min())\n",
    "    print(data.max())\n",
    "        \n",
    "main()"
   ]
  },
  {
   "cell_type": "code",
   "execution_count": 304,
   "metadata": {},
   "outputs": [
    {
     "name": "stdout",
     "output_type": "stream",
     "text": [
      "5\n",
      "8\n",
      "11\n",
      "14\n"
     ]
    }
   ],
   "source": [
    "for i in range(5, 15, 3):\n",
    "    print (i)"
   ]
  },
  {
   "cell_type": "code",
   "execution_count": null,
   "metadata": {},
   "outputs": [],
   "source": []
  },
  {
   "cell_type": "code",
   "execution_count": null,
   "metadata": {},
   "outputs": [],
   "source": []
  }
 ],
 "metadata": {
  "kernelspec": {
   "display_name": "Python 3",
   "language": "python",
   "name": "python3"
  }
 },
 "nbformat": 4,
 "nbformat_minor": 4
}
