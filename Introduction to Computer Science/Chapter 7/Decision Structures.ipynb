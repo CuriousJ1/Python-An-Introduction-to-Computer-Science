{
 "cells": [
  {
   "cell_type": "markdown",
   "metadata": {},
   "source": [
    "# Decision Structures"
   ]
  },
  {
   "cell_type": "code",
   "execution_count": 7,
   "metadata": {},
   "outputs": [
    {
     "name": "stdout",
     "output_type": "stream",
     "text": [
      "What is the Celsius temperature? 20\n",
      "The temperature is 68.0 degrees fahrenheit. \n"
     ]
    }
   ],
   "source": [
    "# convert.py\n",
    "# A program to convert Celcius temps to Fahrenheit\n",
    "# by: Susan Computewell\n",
    "\n",
    "def main():\n",
    "    celsius = float(input(\"What is the Celsius temperature? \"))\n",
    "    fahrenheit = 9/5 * celsius + 32\n",
    "    print(\"The temperature is\", fahrenheit, \"degrees fahrenheit. \")\n",
    "\n",
    "main()"
   ]
  },
  {
   "cell_type": "code",
   "execution_count": 14,
   "metadata": {},
   "outputs": [
    {
     "name": "stdout",
     "output_type": "stream",
     "text": [
      "What is the Celsius temperature? -3\n",
      "The temperature is 26.6 degrees fahrenheit. \n",
      "Brrrr. Be sure to dress warmly!\n"
     ]
    }
   ],
   "source": [
    "# convert.py\n",
    "# A program to convert Celcius temps to Fahrenheit\n",
    "# This verision issues heat and cold warnings\n",
    "\n",
    "def main():\n",
    "    celsius = float(input(\"What is the Celsius temperature? \"))\n",
    "    fahrenheit = 9/5 * celsius + 32\n",
    "    print(\"The temperature is\", fahrenheit, \"degrees fahrenheit. \")\n",
    "\n",
    "    # Print warnings for extreme temps\n",
    "    if fahrenheit > 90:\n",
    "        print(\"It's really hot out there. Be careful!\")\n",
    "    if fahrenheit < 30:\n",
    "        print(\"Brrrr. Be sure to dress warmly!\")\n",
    "    \n",
    "main()"
   ]
  },
  {
   "cell_type": "markdown",
   "metadata": {},
   "source": [
    "## Notes\n",
    "\n",
    "if condition\n",
    "\n",
    "    body\n",
    "        \n",
    "First the condition is evaluated. If the condition is True, the sequence of statements in the body is executed, and then control passes to the next statement in the program. If the condition is false, the statements in the body are skipped."
   ]
  },
  {
   "cell_type": "markdown",
   "metadata": {},
   "source": [
    "## 7.2 Two-way Decisions"
   ]
  },
  {
   "cell_type": "code",
   "execution_count": 17,
   "metadata": {},
   "outputs": [
    {
     "name": "stdout",
     "output_type": "stream",
     "text": [
      "This program finds the real solutions to a quadratic\n",
      "\n",
      "Enter coefficient a: 2\n",
      "Enter coefficient b: 3\n",
      "Enter coefficient c: 4\n"
     ]
    },
    {
     "ename": "ValueError",
     "evalue": "math domain error",
     "output_type": "error",
     "traceback": [
      "\u001b[0;31m---------------------------------------------------------------------------\u001b[0m",
      "\u001b[0;31mValueError\u001b[0m                                Traceback (most recent call last)",
      "\u001b[0;32m<ipython-input-17-690bebc93eb8>\u001b[0m in \u001b[0;36m<module>\u001b[0;34m\u001b[0m\n\u001b[1;32m     21\u001b[0m     \u001b[0mprint\u001b[0m\u001b[0;34m(\u001b[0m\u001b[0;34m\"The solutions are:\"\u001b[0m\u001b[0;34m,\u001b[0m \u001b[0mroot1\u001b[0m\u001b[0;34m,\u001b[0m \u001b[0mroot2\u001b[0m\u001b[0;34m)\u001b[0m\u001b[0;34m\u001b[0m\u001b[0;34m\u001b[0m\u001b[0m\n\u001b[1;32m     22\u001b[0m \u001b[0;34m\u001b[0m\u001b[0m\n\u001b[0;32m---> 23\u001b[0;31m \u001b[0mmain\u001b[0m\u001b[0;34m(\u001b[0m\u001b[0;34m)\u001b[0m\u001b[0;34m\u001b[0m\u001b[0;34m\u001b[0m\u001b[0m\n\u001b[0m\u001b[1;32m     24\u001b[0m \u001b[0;34m\u001b[0m\u001b[0m\n\u001b[1;32m     25\u001b[0m \u001b[0;31m# math domain error error due to not being able to square root a negative number\u001b[0m\u001b[0;34m\u001b[0m\u001b[0;34m\u001b[0m\u001b[0;34m\u001b[0m\u001b[0m\n",
      "\u001b[0;32m<ipython-input-17-690bebc93eb8>\u001b[0m in \u001b[0;36mmain\u001b[0;34m()\u001b[0m\n\u001b[1;32m     14\u001b[0m     \u001b[0mc\u001b[0m \u001b[0;34m=\u001b[0m \u001b[0mfloat\u001b[0m\u001b[0;34m(\u001b[0m\u001b[0minput\u001b[0m\u001b[0;34m(\u001b[0m\u001b[0;34m\"Enter coefficient c: \"\u001b[0m\u001b[0;34m)\u001b[0m\u001b[0;34m)\u001b[0m\u001b[0;34m\u001b[0m\u001b[0;34m\u001b[0m\u001b[0m\n\u001b[1;32m     15\u001b[0m \u001b[0;34m\u001b[0m\u001b[0m\n\u001b[0;32m---> 16\u001b[0;31m     \u001b[0mdiscRoot\u001b[0m \u001b[0;34m=\u001b[0m \u001b[0mm\u001b[0m\u001b[0;34m.\u001b[0m\u001b[0msqrt\u001b[0m\u001b[0;34m(\u001b[0m\u001b[0mb\u001b[0m \u001b[0;34m*\u001b[0m \u001b[0mb\u001b[0m \u001b[0;34m-\u001b[0m \u001b[0;36m4\u001b[0m \u001b[0;34m*\u001b[0m \u001b[0ma\u001b[0m \u001b[0;34m*\u001b[0m \u001b[0mc\u001b[0m\u001b[0;34m)\u001b[0m\u001b[0;34m\u001b[0m\u001b[0;34m\u001b[0m\u001b[0m\n\u001b[0m\u001b[1;32m     17\u001b[0m     \u001b[0mroot1\u001b[0m \u001b[0;34m=\u001b[0m \u001b[0;34m(\u001b[0m\u001b[0;34m-\u001b[0m\u001b[0mb\u001b[0m \u001b[0;34m+\u001b[0m \u001b[0mdiscRoot\u001b[0m\u001b[0;34m)\u001b[0m \u001b[0;34m/\u001b[0m \u001b[0;34m(\u001b[0m\u001b[0;36m2\u001b[0m \u001b[0;34m*\u001b[0m \u001b[0ma\u001b[0m\u001b[0;34m)\u001b[0m\u001b[0;34m\u001b[0m\u001b[0;34m\u001b[0m\u001b[0m\n\u001b[1;32m     18\u001b[0m     \u001b[0mroot2\u001b[0m \u001b[0;34m=\u001b[0m \u001b[0;34m(\u001b[0m\u001b[0;34m-\u001b[0m\u001b[0mb\u001b[0m \u001b[0;34m-\u001b[0m \u001b[0mdiscRoot\u001b[0m\u001b[0;34m)\u001b[0m \u001b[0;34m/\u001b[0m \u001b[0;34m(\u001b[0m\u001b[0;36m2\u001b[0m \u001b[0;34m*\u001b[0m \u001b[0ma\u001b[0m\u001b[0;34m)\u001b[0m\u001b[0;34m\u001b[0m\u001b[0;34m\u001b[0m\u001b[0m\n",
      "\u001b[0;31mValueError\u001b[0m: math domain error"
     ]
    }
   ],
   "source": [
    "#quadratic.py\n",
    "#     A program that computes the real roots of a quadratic equation\n",
    "#     Illustrates use of the math library\n",
    "#     Note: This program crash if the equation has no real roots\n",
    "\n",
    "import math as m  # Makes the library available.\n",
    "\n",
    "def main():\n",
    "    print(\"This program finds the real solutions to a quadratic\")\n",
    "    print()\n",
    "    \n",
    "    a = float(input(\"Enter coefficient a: \"))\n",
    "    b = float(input(\"Enter coefficient b: \"))\n",
    "    c = float(input(\"Enter coefficient c: \"))\n",
    "    \n",
    "    discRoot = m.sqrt(b * b - 4 * a * c)\n",
    "    root1 = (-b + discRoot) / (2 * a)\n",
    "    root2 = (-b - discRoot) / (2 * a)\n",
    "    \n",
    "    print()\n",
    "    print(\"The solutions are:\", root1, root2)\n",
    "    \n",
    "main()\n",
    "\n",
    "# math domain error error due to not being able to square root a negative number\n",
    "# Also tells use that the negative numbers are not in the domain of the sqrt function"
   ]
  },
  {
   "cell_type": "code",
   "execution_count": 23,
   "metadata": {},
   "outputs": [
    {
     "name": "stdout",
     "output_type": "stream",
     "text": [
      "This program finds the real solutions to a quadratic \n",
      "\n",
      "Enter coefficient a: 1\n",
      "Enter coefficient b: 2\n",
      "Enter coefficient c: 3\n"
     ]
    }
   ],
   "source": [
    "#quadratic2.py\n",
    "\n",
    "import math as m  \n",
    "\n",
    "def main():\n",
    "    print(\"This program finds the real solutions to a quadratic \\n\")\n",
    "    \n",
    "    a = float(input(\"Enter coefficient a: \"))\n",
    "    b = float(input(\"Enter coefficient b: \"))\n",
    "    c = float(input(\"Enter coefficient c: \"))\n",
    "    \n",
    "    discrim = b * b - 4 * a * c\n",
    "    if discrim >= 0:\n",
    "        discRoot = m.sqrt(b * b - 4 * a * c)\n",
    "        root1 = (-b + discRoot) / (2 * a)\n",
    "        root2 = (-b - discRoot) / (2 * a)\n",
    "        print(\"/n The solutions are:\", root1, root2)\n",
    "    \n",
    "main()\n",
    "\n",
    "# incomplete as the program just skips the calculation and goes to the next statement."
   ]
  },
  {
   "cell_type": "code",
   "execution_count": 27,
   "metadata": {},
   "outputs": [],
   "source": [
    "#quadratic3.py\n",
    "\n",
    "import math as m  \n",
    "\n",
    "def main():\n",
    "    print(\"This program finds the real solutions to a quadratic \\n\")\n",
    "    \n",
    "    a = float(input(\"Enter coefficient a: \"))\n",
    "    b = float(input(\"Enter coefficient b: \"))\n",
    "    c = float(input(\"Enter coefficient c: \"))\n",
    "    \n",
    "    discrim = b * b - 4 * a * c\n",
    "    if discrim < 0:\n",
    "        print(\"\\n The equation has no real roots!\")\n",
    "    else:    \n",
    "        discRoot = m.sqrt(b * b - 4 * a * c)\n",
    "        root1 = (-b + discRoot) / (2 * a)\n",
    "        root2 = (-b - discRoot) / (2 * a)\n",
    "        print(\"\\n The solutions are:\", root1, root2)"
   ]
  },
  {
   "cell_type": "code",
   "execution_count": 25,
   "metadata": {},
   "outputs": [
    {
     "name": "stdout",
     "output_type": "stream",
     "text": [
      "This program finds the real solutions to a quadratic \n",
      "\n",
      "Enter coefficient a: 1\n",
      "Enter coefficient b: 2\n",
      "Enter coefficient c: 3\n",
      "\n",
      " The equation has no real roots!\n"
     ]
    }
   ],
   "source": [
    "main()"
   ]
  },
  {
   "cell_type": "code",
   "execution_count": 28,
   "metadata": {},
   "outputs": [
    {
     "name": "stdout",
     "output_type": "stream",
     "text": [
      "This program finds the real solutions to a quadratic \n",
      "\n",
      "Enter coefficient a: 2\n",
      "Enter coefficient b: 4\n",
      "Enter coefficient c: 1\n",
      "\n",
      " The solutions are: -0.2928932188134524 -1.7071067811865475\n"
     ]
    }
   ],
   "source": [
    "main()"
   ]
  },
  {
   "cell_type": "markdown",
   "metadata": {},
   "source": [
    "## Notes\n",
    "\n",
    "In Python, a two way decision can be implemented by attaching an else clause onto an if clause. The result is called an if-else statement.\n",
    "\n",
    "if condition\n",
    "\n",
    "    statements\n",
    "    \n",
    "else:\n",
    "\n",
    "    statements\n",
    "    \n",
    "When the Python interpreter encounters this structure, it will first evaluation the condition. If the condition is true, the statments under the if are executed.\n",
    "\n",
    "If the condition is false, the statements under the else are executed. In either case, control then passes to the statement following the if-else."
   ]
  },
  {
   "cell_type": "markdown",
   "metadata": {},
   "source": [
    "## 7.3 Multi-Way Decisions"
   ]
  },
  {
   "cell_type": "markdown",
   "metadata": {},
   "source": [
    "## Notes\n",
    "\n",
    "Puting one compound statement inside another is called nesting.\n",
    "\n",
    "There is another way to write a multi-way decision in Python that preserves the semantics of the nested structures but gives it a more appealing look. The idea is to combine an else followed immediatly by an if into a single clause called an elif (pronounced \"ell-if\").\n",
    "\n",
    "if condition1:\n",
    "\n",
    "    case1 statements\n",
    "    \n",
    "elif condition2:\n",
    "\n",
    "    case2 statements\n",
    "    \n",
    "elif condition3:\n",
    "\n",
    "    case3 statements\n",
    "    \n",
    "....\n",
    "\n",
    "else:\n",
    "    default statements"
   ]
  },
  {
   "cell_type": "code",
   "execution_count": 32,
   "metadata": {},
   "outputs": [],
   "source": [
    "#quadratic4.py\n",
    "\n",
    "import math as m  \n",
    "\n",
    "def main():\n",
    "    print(\"This program finds the real solutions to a quadratic \\n\")\n",
    "    \n",
    "    a = float(input(\"Enter coefficient a: \"))\n",
    "    b = float(input(\"Enter coefficient b: \"))\n",
    "    c = float(input(\"Enter coefficient c: \"))\n",
    "    \n",
    "    discrim = b * b - 4 * a * c\n",
    "    if discrim < 0:\n",
    "        print(\"\\n The equation has no real roots!\")\n",
    "        \n",
    "    elif discrim == 0 :\n",
    "        root = -b / (2 * a)\n",
    "        print(\"\\n There is a double root at\", root)\n",
    "        \n",
    "    else:    \n",
    "        discRoot = m.sqrt(b * b - 4 * a * c)\n",
    "        root1 = (-b + discRoot) / (2 * a)\n",
    "        root2 = (-b - discRoot) / (2 * a)\n",
    "        print(\"\\n The solutions are:\", root1, root2)"
   ]
  },
  {
   "cell_type": "code",
   "execution_count": 33,
   "metadata": {},
   "outputs": [
    {
     "name": "stdout",
     "output_type": "stream",
     "text": [
      "This program finds the real solutions to a quadratic \n",
      "\n",
      "Enter coefficient a: 1\n",
      "Enter coefficient b: 2\n",
      "Enter coefficient c: 1\n",
      "\n",
      " There is a double root at -1.0\n"
     ]
    }
   ],
   "source": [
    "main()"
   ]
  },
  {
   "cell_type": "markdown",
   "metadata": {},
   "source": [
    "## 7.4 Exception handling\n",
    "\n",
    "A try statement has the general form:\n",
    "\n",
    "try:\n",
    "\n",
    "    body\n",
    "    \n",
    "except ErrorType:\n",
    "\n",
    "    handler\n",
    "    \n",
    "When Python encounters a try statement, it attempts to execute the statement inside the body. If these statements execute without error, control then passes to the next statement after the try... except. If an error occurs somewhere in the body, Python looks for an except clause with a mathich error type. If a suitable except is found, the handler code is executed."
   ]
  },
  {
   "cell_type": "code",
   "execution_count": 34,
   "metadata": {},
   "outputs": [
    {
     "name": "stdout",
     "output_type": "stream",
     "text": [
      "This program finds the real solutions to a quadratic \n",
      "\n",
      "Enter coefficient a: 1\n",
      "Enter coefficient b: 1\n",
      "Enter coefficient c: 1\n",
      "\n",
      " No real roots\n"
     ]
    }
   ],
   "source": [
    "#quadratic5.py\n",
    "\n",
    "import math as m\n",
    "\n",
    "def main():\n",
    "    print(\"This program finds the real solutions to a quadratic \\n\")\n",
    "    \n",
    "    try:\n",
    "        a = float(input(\"Enter coefficient a: \"))\n",
    "        b = float(input(\"Enter coefficient b: \"))\n",
    "        c = float(input(\"Enter coefficient c: \"))\n",
    "\n",
    "        discRoot = m.sqrt(b * b - 4 * a * c)\n",
    "        root1 = (-b + discRoot) / (2 * a)\n",
    "        root2 = (-b - discRoot) / (2 * a)\n",
    "\n",
    "        print(\"/n The solutions are:\", root1, root2)\n",
    "    \n",
    "    except ValueError:\n",
    "        print(\"\\n No real roots\")\n",
    "    \n",
    "main()"
   ]
  },
  {
   "cell_type": "code",
   "execution_count": 35,
   "metadata": {},
   "outputs": [
    {
     "name": "stdout",
     "output_type": "stream",
     "text": [
      "This program finds the real solutions to a quadratic \n",
      "\n",
      "Enter coefficient a: x\n",
      "\n",
      " No real roots\n"
     ]
    }
   ],
   "source": [
    "main()"
   ]
  },
  {
   "cell_type": "code",
   "execution_count": 41,
   "metadata": {},
   "outputs": [
    {
     "name": "stdout",
     "output_type": "stream",
     "text": [
      "This program finds the real solutions to a quadratic \n",
      "\n",
      "Enter coefficient a: x\n",
      "Invalid coeffecient given\n"
     ]
    }
   ],
   "source": [
    "#quadratic6.py\n",
    "\n",
    "import math as m  \n",
    "\n",
    "def main():\n",
    "    print(\"This program finds the real solutions to a quadratic \\n\")\n",
    "    \n",
    "    try:\n",
    "        a = float(input(\"Enter coefficient a: \"))\n",
    "        b = float(input(\"Enter coefficient b: \"))\n",
    "        c = float(input(\"Enter coefficient c: \"))\n",
    "        discRoot = m.sqrt(b * b - 4 * a * c)\n",
    "        root1 = (-b + discRoot) / (2 * a)\n",
    "        root2 = (-b - discRoot) / (2 * a)\n",
    "        print(\"\\n The solutions are:\", root1, root2)\n",
    "\n",
    "    except ValueError as excObj:\n",
    "        if str(excObj) == \"math domain error\":\n",
    "            print(\"No Real Roots\")\n",
    "        else:\n",
    "            print(\"Invalid coeffecient given\")\n",
    "            \n",
    "    except:\n",
    "        print(\"\\n Something went wrong, sorry!\")\n",
    "        \n",
    "main()"
   ]
  },
  {
   "cell_type": "markdown",
   "metadata": {},
   "source": [
    "## 7.5 Study in Design: Max of Three\n",
    "\n",
    "Whenever you write a decision, you should ask yourself two crucial questions.\n",
    "\n",
    "    - When the condition is true, are you absoutely certain that executing the body of the decision is rhgt right action to take? Always pay attention to border line values.\n",
    "    \n",
    "    - Are we certain that this condition is true in all cases where x1 is the max?"
   ]
  },
  {
   "cell_type": "code",
   "execution_count": 48,
   "metadata": {},
   "outputs": [
    {
     "name": "stdout",
     "output_type": "stream",
     "text": [
      "Please enter three values:1,2,3\n",
      "The larger value is (1, 2, 3)\n"
     ]
    }
   ],
   "source": [
    "def main():\n",
    "    x1, x2, x3 = eval(input(\"Please enter three values:\" ))\n",
    "    \n",
    "    \n",
    "    \n",
    "    # missing code sets maxcal to the value of the largest\n",
    "    \n",
    "    print(\"The larger value is\", maxval)\n",
    "\n",
    "main()"
   ]
  },
  {
   "cell_type": "code",
   "execution_count": 64,
   "metadata": {},
   "outputs": [
    {
     "name": "stdout",
     "output_type": "stream",
     "text": [
      "How many numbers are there? 3\n",
      "Enter a number >> 4\n",
      "Enter a number >> 5\n",
      "Enter a number >> 6\n",
      "The largest value is 6.0\n"
     ]
    }
   ],
   "source": [
    "# program max.py\n",
    "# Find the maximum of a series of numbers using sequential processing.\n",
    "\n",
    "def main():\n",
    "    n = int(input(\"How many numbers are there? \"))\n",
    "    \n",
    "    # Set maxval to be the first value\n",
    "    # Asks for the first number\n",
    "    maxval = float(input(\"Enter a number >> \"))\n",
    "    \n",
    "    # Now compare the n-1 successive values\n",
    "    # n-1 because we've ask for the first number initially\n",
    "    for i in range(n-1):\n",
    "        x = float(input(\"Enter a number >> \"))\n",
    "        if x > maxval:\n",
    "            maxval = x\n",
    "        \n",
    "    print(\"The largest value is\", maxval)\n",
    "\n",
    "main()"
   ]
  },
  {
   "cell_type": "code",
   "execution_count": 66,
   "metadata": {},
   "outputs": [
    {
     "name": "stdout",
     "output_type": "stream",
     "text": [
      "0\n",
      "1\n",
      "2\n"
     ]
    }
   ],
   "source": [
    "# for loop test\n",
    "for i in range(3):\n",
    "    print(i)"
   ]
  },
  {
   "cell_type": "code",
   "execution_count": 67,
   "metadata": {},
   "outputs": [
    {
     "name": "stdout",
     "output_type": "stream",
     "text": [
      "0\n",
      "1\n"
     ]
    }
   ],
   "source": [
    "# for loop test\n",
    "for i in range(3-1):\n",
    "    print(i)"
   ]
  },
  {
   "cell_type": "code",
   "execution_count": 69,
   "metadata": {},
   "outputs": [
    {
     "name": "stdout",
     "output_type": "stream",
     "text": [
      "Please enter three values: 2,3,4\n",
      "The largest value is 4\n"
     ]
    }
   ],
   "source": [
    "# program max2.py\n",
    "# Find the maximum of a series of numbers using Python\n",
    "\n",
    "def main():\n",
    "    x1, x2, x3 = eval(input(\"Please enter three values: \"))\n",
    "    print(\"The largest value is\", max(x1, x2, x3))\n",
    "    \n",
    "main()"
   ]
  },
  {
   "cell_type": "markdown",
   "metadata": {},
   "source": [
    "# 7.7 Exercises"
   ]
  },
  {
   "cell_type": "markdown",
   "metadata": {},
   "source": [
    "## Review Questions\n",
    "## True/ False\n",
    "\n",
    "1. A simple decision can be implemented with an if statememt.\n",
    "\n",
    "True.\n",
    "\n",
    "Decisions are implemented in Python with if statements. Simple decisions are implemented with a plain if. Two-way decisions generally use a if-else. Multi-way decisions are implemeneted with if-elif-else.\n",
    "\n",
    "2. In Python condition, = is written as /=.\n",
    "\n",
    "False. = is written as ==\n",
    "\n",
    "\n",
    "3. Strings are compared by lexicographic ordering.\n",
    "\n",
    "True. \n",
    "\n",
    "\"Lexicographic ordering\" is alphabetical according to Unicode values.\n",
    "\n",
    "4. A two-way decision is implemented using an if-elif statement.\n",
    "\n",
    "False.\n",
    "\n",
    "Two-way decisions generally use an if-else statements. Multi-way decisions are implemented with if-elif-else.\n",
    "\n",
    "5. The math.sqrt function cannot compute the square root of a negative number.\n",
    "\n",
    "True.\n",
    "\n",
    "Taking a square root of a negative number generates a error at runtime.\n",
    "\n",
    "6. A single try statement can catch multiple kinds of errors.\n",
    "\n",
    "False. WRONG\n",
    "\n",
    "Some programming languages provide exception handling mechanisms which help to make programs more \"bullet proof\". Python provides a try-except statement for exception handling.\n",
    "\n",
    "TRUE.\n",
    "\n",
    "7. Multi-way decision must be handled by nesting multiple if-else statements.\n",
    "\n",
    "False.\n",
    "\n",
    "Multi-way decisions are implemented with if-elif-else.\n",
    "\n",
    "8. There is usually only one correct solution to a problem involving decision structures.\n",
    "\n",
    "False.\n",
    "\n",
    "Usually a number of solutions are possible, and careful thought should be given to produce a correct, effecient, and understandable program.\n",
    "\n",
    "9. The condition x <= y <= z is allowed in Python.\n",
    "\n",
    "True.\n",
    "\n",
    "This is shown as a Compare Each to All approach.\n",
    "\n",
    "10. Input validation means prompted a user when input is required.\n",
    "\n",
    "False.\n",
    "\n",
    "Input validation code checks that values entered by the user, such as text from the input() function, are formatted correctly.\n",
    "\n",
    "# 9/10 or 90%"
   ]
  },
  {
   "cell_type": "markdown",
   "metadata": {},
   "source": [
    "## Multiple choice\n",
    "\n",
    "1. A statement that controls the execution of other statements is called a \n",
    "\n",
    "    a. boss structure\n",
    "    \n",
    "    b. super structure\n",
    "    \n",
    "    c. control strucutre\n",
    "    \n",
    "    d. branch\n",
    "    \n",
    "    \n",
    "c. Control structure is the programming language statement that control the execution of other statements (e.g., if and while).\n",
    "    \n",
    "    \n",
    "2. The best structures for implementing a multi-way decision in python is\n",
    "\n",
    "    a. if\n",
    "    \n",
    "    b. if-else\n",
    "    \n",
    "    c. if-elif-else\n",
    "    \n",
    "    d. try\n",
    "    \n",
    "    \n",
    "c. Multi-way decisions are implemented with if-elif-else.\n",
    "    \n",
    "\n",
    "3. An expression that evaluates to either true or false is called\n",
    "\n",
    "    a. operational\n",
    "    \n",
    "    b. Boolean\n",
    "    \n",
    "    c. simple\n",
    "    \n",
    "    d. compound\n",
    "    \n",
    "b. Boolean expressions are a truth statement. A Boolean expression evaluates to either true or false.\n",
    "    \n",
    "    \n",
    "4. When a program is being run directly (not imported), the value of __name__ is\n",
    "\n",
    "    a. script\n",
    "    \n",
    "    b. main\n",
    "    \n",
    "    c. __main__\n",
    "    \n",
    "    d. True\n",
    "    \n",
    "    \n",
    "a. script? WRONG\n",
    "\n",
    "c. __main__ is correct.\n",
    "    \n",
    "\n",
    "5. The literals for type bool are\n",
    "\n",
    "    a. T, F\n",
    "    \n",
    "    b. True, False\n",
    "    \n",
    "    c. true, false\n",
    "    \n",
    "    d. 1, 0\n",
    "    \n",
    "    \n",
    "b. Literals are a notation for writing a specific value in a programming language. For example, 3 is an int literal and \"Hello\" is a string literal.\n",
    "    \n",
    "\n",
    "6. Placing a decision inside of another decision is an example of\n",
    "\n",
    "    a. cloning\n",
    "    \n",
    "    b. spooining\n",
    "    \n",
    "    c. nesting\n",
    "    \n",
    "    d. procrastination\n",
    "    \n",
    "    \n",
    "b. Nesting is the process of placing one control structure inside of another. Loops and decisions may be arbitrarily nested.\n",
    "    \n",
    "\n",
    "7. In Python, the body of a decision is indicated by\n",
    "\n",
    "    a. indentation\n",
    "    \n",
    "    b. parentheses\n",
    "    \n",
    "    c. curly braces\n",
    "    \n",
    "    d. a colon\n",
    "    \n",
    "    \n",
    "a. Indentations\n",
    "    \n",
    "\n",
    "8. A structure in which one decision leads to another set of decisions, which leads to another set of decisions, etc., is called a decision\n",
    "\n",
    "    a. network\n",
    "    \n",
    "    b. web\n",
    "    \n",
    "    c. tree\n",
    "    \n",
    "    d. trap\n",
    " \n",
    " \n",
    "c. Decision tree is a more complex strucutre is which an inital decision branches into more decisions, which branch into more decisions in a cascading fashion.\n",
    "    \n",
    "\n",
    "9. Taking the square root of a negative value with math.sqrt produces a (n)\n",
    "\n",
    "    a. ValueError\n",
    "    \n",
    "    b. imaginary number\n",
    "    \n",
    "    c. program crash\n",
    "    \n",
    "    d. stomachache\n",
    "    \n",
    "    \n",
    "a. ValueError as you cannot square root a negativev number.\n",
    "    \n",
    "\n",
    "10. A multiple choice question is most similar to\n",
    "\n",
    "    a. simple decision\n",
    "    \n",
    "    b. two-way decision\n",
    "    \n",
    "    c. multi-way decisions\n",
    "    \n",
    "    d. an exception handler\n",
    "    \n",
    "    \n",
    "c. A multi way decision as you have 4 choices.\n",
    "\n",
    "\n",
    "## 9/10 or 90%"
   ]
  },
  {
   "cell_type": "markdown",
   "metadata": {},
   "source": [
    "## Discussion\n",
    "\n",
    "1. Explain the following patterns in your own words:\n",
    "\n",
    "    a. simple decision\n",
    "    \n",
    "      if statement.\n",
    "      \n",
    "      This is the most simple decision making statement. It is used to decide whether a certain statement or block of statements will be executed or not i.e if a certain condition is true then a block of statement is executed otherwise not.\n",
    "      \n",
    "    \n",
    "    b. two-way decision\n",
    "    \n",
    "      if-else.\n",
    "       \n",
    "      When the Python interpreter encounters this structure, it will first evaluate the condition. If the condition is true, the statements under the if are executed. If this condition is false, the statement under the else are executed. In either case, control then passes to the statement following the if-else.\n",
    "      \n",
    "    \n",
    "    c. multi-way decision\n",
    "    \n",
    "      if-elif-else.\n",
    "\n",
    "     Python will evaluate each condition in turn looking for the first on that is true. If a true condition is found, the statements indented under that condition are executed, and control passes to the next statement after the entire if-elif-else. If none of the conditions are true, the statements under the else are performed. \n",
    "     \n",
    "     The else clause is optional. it is possible that no indented statement block will be executed.\n",
    "     \n",
    "\n",
    "2. How is exception handling using try/except similar to and different from handling exceptional cases using ordinary decision structures (variations on if)?\n",
    "\n",
    "Exception handling is a programming language mechanism that allows the programmer to gracefully deal with errors that are detected when a program is running.\n",
    "\n",
    "Try and except statements allows us to write a bullet-proof prgorams. This allows us to use decisions to protect against rare but poosilbe errors that may occur when using ordinary decision structures.\n",
    "\n",
    "\n",
    "3. The following is a (silly) decision strucutre:\n",
    "\n",
    "    a, b, c = eval(input(\"Enter three numbers: \"))\n",
    "    \n",
    "   if a > b:\n",
    "       if b > c:\n",
    "           print(\"Spam Please!\")\n",
    "       else:\n",
    "           print(\"It's a late parrot!\")\n",
    "           \n",
    "   elif b > c:\n",
    "       print(\"Cheese Shoppe\")\n",
    "       if a >= c:\n",
    "           print(\"Cheddar\")\n",
    "       elif a < b:\n",
    "           print(\"Gouda\")\n",
    "       elif c == b:\n",
    "           print(\"Swiss\")\n",
    "           \n",
    "    else:\n",
    "        print(\"Trees\")\n",
    "        if a == b:\n",
    "            print(\"Chestnut\")\n",
    "        else:\n",
    "            print(\"Larch\")\n",
    "    \n",
    "    print(\"Done\")\n",
    "    \n",
    "    \n",
    "    Show the output that would result from each of the following possible inputs:\n",
    "    \n",
    "        a. 3,4,5\n",
    "        \n",
    "            Trees, Larch, Done\n",
    "        \n",
    "        b. 3,3,3\n",
    "            Trees, Chestnut, Done\n",
    "        \n",
    "        c. 5,4,3\n",
    "            Spam Please!, Done\n",
    "        \n",
    "        d. 3,5,2\n",
    "            Cheese, Shoppe, Done\n",
    "        \n",
    "        e. 5,4,7\n",
    "            It's a late parrot!, Done\n",
    "        \n",
    "        f. 3,3,2\n",
    "            Cheese Shoppe, Cheddar, Done"
   ]
  },
  {
   "cell_type": "code",
   "execution_count": 78,
   "metadata": {},
   "outputs": [
    {
     "name": "stdout",
     "output_type": "stream",
     "text": [
      "Enter three numbers: 3,3,2\n",
      "Cheese Shoppe\n",
      "Cheddar\n",
      "Done\n"
     ]
    }
   ],
   "source": [
    "a, b, c = eval(input(\"Enter three numbers: \"))\n",
    "    \n",
    "if a > b:\n",
    "    if b > c:\n",
    "        print(\"Spam Please!\")\n",
    "    else:\n",
    "        print(\"It's a late parrot!\")\n",
    "           \n",
    "elif b > c:\n",
    "    print(\"Cheese Shoppe\")\n",
    "    if a >= c:\n",
    "        print(\"Cheddar\")\n",
    "    elif a < b:\n",
    "        print(\"Gouda\")\n",
    "    elif c == b:\n",
    "        print(\"Swiss\")\n",
    "           \n",
    "else:\n",
    "    print(\"Trees\")\n",
    "    if a == b:\n",
    "        print(\"Chestnut\")\n",
    "    else:\n",
    "        print(\"Larch\")\n",
    "    \n",
    "print(\"Done\")"
   ]
  },
  {
   "cell_type": "markdown",
   "metadata": {},
   "source": [
    "## Programming Exercises"
   ]
  },
  {
   "cell_type": "markdown",
   "metadata": {},
   "source": [
    "1. Many companies pay time-and-a-half for any hours working above 40 in a given week. Write a program to input the number of hours worked and the hourly rate and calculate the total wages for the week."
   ]
  },
  {
   "cell_type": "code",
   "execution_count": 100,
   "metadata": {},
   "outputs": [
    {
     "name": "stdout",
     "output_type": "stream",
     "text": [
      "Input the amount of hours you've worked this week: 50\n",
      "Input your hourly rate: 1\n",
      "\n",
      "The amount of hours you've worked is 50\n",
      "The amount you get paid per hour is $1.\n",
      "Therefore this week's paycheck will be $55.0\n"
     ]
    }
   ],
   "source": [
    "#wages.py\n",
    "\n",
    "def hoursWorked(hours):\n",
    "    return hours \n",
    "\n",
    "def hourlyRate(rates):\n",
    "    return rates\n",
    "\n",
    "def main():\n",
    "    \n",
    "    hours = float(input(\"Input the amount of hours you've worked this week: \"))\n",
    "    rates = float(input(\"Input your hourly rate: \"))\n",
    "    \n",
    "    h = hoursWorked(hours)\n",
    "    r = hourlyRate(rates)\n",
    "    \n",
    "    if h > 40:\n",
    "        weeklyPay = (h - 40) * (1.5 * r) + 40 * r\n",
    "        \n",
    "    else:\n",
    "        weeklyPay = h * r\n",
    "        \n",
    "    print(\"\\nThe amount of hours you've worked is {0}\".format(round(h, 2)))\n",
    "    print(\"The amount you get paid per hour is ${0}.\".format(round(r, 2)))\n",
    "    print(\"Therefore this week's paycheck will be ${0}\".format(round(weeklyPay,2)))\n",
    "    \n",
    "main()"
   ]
  },
  {
   "cell_type": "markdown",
   "metadata": {},
   "source": [
    "3. A certain CS professor gives 100-point exams that are graded on the scale 90-100:A, 80-89:B, 70-79:C, 60-69:D, <60:F. Write a program that accepts an exam score as input and uses a decision strucutre to calculate the corresponding grade."
   ]
  },
  {
   "cell_type": "code",
   "execution_count": 9,
   "metadata": {},
   "outputs": [
    {
     "name": "stdout",
     "output_type": "stream",
     "text": [
      "Input the score out of 100 that you've recieved on your exam: 59\n",
      "You have recieved a F on your exam\n"
     ]
    }
   ],
   "source": [
    "# Examscores.py\n",
    "\n",
    "def main():\n",
    "    \n",
    "    s = float(input(\"Input the score out of 100 that you've recieved on your exam: \"))\n",
    "    \n",
    "    try:\n",
    "        if s >= 90:\n",
    "            print(\"You have recieved an A on your exam\")\n",
    "            \n",
    "        elif s <= 89 and s >= 80:\n",
    "            print(\"You have recieved a B on your exam\")\n",
    "        \n",
    "        elif s <= 79 and s >= 70:\n",
    "            print(\"You have recieved a C on your exam\")\n",
    "            \n",
    "        elif s <= 69 and s >= 60:\n",
    "            print(\"You have recieved a D on your exam\")\n",
    "        \n",
    "        else: \n",
    "            if s <= 60:\n",
    "                print(\"You have recieved a F on your exam\")\n",
    "        \n",
    "    except:\n",
    "        print(\"You have inputted an incorrect score. Please try again.\")\n",
    "        \n",
    "main()"
   ]
  },
  {
   "cell_type": "markdown",
   "metadata": {},
   "source": [
    "5. The body mass index (BMI) is calculated as a peron's weight (in pounds) times 720, divided by the square of the person's height (in inches). A BMI in the range 19-25, inclusive, is considered healthy. Write a program that calculates a person's BMI and prints a message telling whether they are above, within, or below the healthy range."
   ]
  },
  {
   "cell_type": "code",
   "execution_count": 16,
   "metadata": {},
   "outputs": [
    {
     "name": "stdout",
     "output_type": "stream",
     "text": [
      "Input your weight in pounds: 190\n",
      "Input your height in inches: 6\n",
      "You BMI is in an unhealthy range. Start losing weight fat ass\n"
     ]
    }
   ],
   "source": [
    "#BMI_calculator.py\n",
    "\n",
    "import math as m\n",
    "\n",
    "def BMICalc(weight,height):\n",
    "    \n",
    "    weight_calc = weight * 720\n",
    "    BMI = weight_calc / m.sqrt(height)\n",
    "    \n",
    "    return BMI\n",
    "\n",
    "def main():\n",
    "\n",
    "    weight = float(input(\"Input your weight in pounds: \"))\n",
    "    height = float(input(\"Input your height in inches: \"))\n",
    "    \n",
    "    b = BMICalc(weight,height)\n",
    "    \n",
    " \n",
    "    if 19 <= b and b <= 25:\n",
    "        print(\"Your BMI is in a health range\")\n",
    "        \n",
    "    else:\n",
    "        print(\"You BMI is in an unhealthy range. Start losing weight fat ass\")\n",
    "    \n",
    "main()"
   ]
  },
  {
   "cell_type": "markdown",
   "metadata": {},
   "source": [
    "7. A babysitter charges 2.50 an hour until 9:00PM when the rate drops to $1.75 an hour (the children are in bed). Write a program that accepts a starting time and ending time in hours and minutes and calculates the total babysitting bill. You may assume that the starting and ending times are in a single 24-hour period. Partial hours should be appropriately prorated."
   ]
  },
  {
   "cell_type": "code",
   "execution_count": 35,
   "metadata": {},
   "outputs": [
    {
     "name": "stdout",
     "output_type": "stream",
     "text": [
      "$33.31\n"
     ]
    }
   ],
   "source": [
    "#BabySitterWages.py\n",
    "\n",
    "#Can be simplified by creating two functions\n",
    "\n",
    "def main():\n",
    "    \n",
    "    # Test numbers\n",
    "    # starTime = '9:15'\n",
    "    # endTime = '23:15'\n",
    "    \n",
    "    starTime = input(\"Input your start time in the 24 hour format: \")\n",
    "    endTime = input(\"Input your end time int he 24 hour format: \")\n",
    "    \n",
    "    starMin = eval(starTime[-2:len(starTime)])\n",
    "    starHr = eval(starTime[:len(starTime)-3])\n",
    "    endMin = eval(endTime[-2:len(endTime)])\n",
    "    endHr = eval(endTime[:len(endTime)-3])\n",
    "\n",
    "    starTime = starHr + 1 / (60/starMin) # formula from Google\n",
    "    endTime = endHr + 1 / (60/endMin) # formula from Google\n",
    "\n",
    "    time = endTime - starTime\n",
    "    \n",
    "    if endTime < 21:\n",
    "        bill = time * 2.50\n",
    "    else:\n",
    "        x = endTime - 21\n",
    "        bill = (time - x) * 2.50 + (x * 1.75)\n",
    "    print(\"${0}\".format(round(bill, 2)))\n",
    "    \n",
    "main()"
   ]
  },
  {
   "cell_type": "markdown",
   "metadata": {},
   "source": [
    "9. A formula for computing Easter in years 1982 - 2048, inclusive, is as follows:\n",
    "\n",
    "    a = year % 19\n",
    "    \n",
    "    b = year % 4\n",
    "    \n",
    "    c = year % 7\n",
    "    \n",
    "    d = (19a + 24) % 30\n",
    "    \n",
    "    e = (2b + 4c + 6d +5) % 7\n",
    "    \n",
    "   The date of Easter is March 22 + d + e (which could be in April) Write a program that inputs a year, verifies that it is  in the proper range, and the prints out the date of Easter that year."
   ]
  },
  {
   "cell_type": "code",
   "execution_count": 45,
   "metadata": {},
   "outputs": [
    {
     "name": "stdout",
     "output_type": "stream",
     "text": [
      "Input a year between 1982 and 2048: 2000\n",
      "Easter falls on April 23.\n"
     ]
    }
   ],
   "source": [
    "#Easterdates.py\n",
    "\n",
    "def easterCalc(year):\n",
    "    \n",
    "    a = year % 19\n",
    "    b = year % 4\n",
    "    c = year % 7\n",
    "    d = (19 * a + 24) % 30\n",
    "    e = (2 * b + 4 * c + 6 * d + 5) % 7\n",
    "    date = d + e\n",
    "    \n",
    "    return date\n",
    "\n",
    "def main():\n",
    "    \n",
    "    year = int(input(\"Input a year between 1982 and 2048: \"))\n",
    "    \n",
    "    if year > 2048 or year < 1982:\n",
    "        print(\"Please input a correct year between 1982 and 2048\")\n",
    "    \n",
    "    else:\n",
    "        date = easterCalc(year)\n",
    "        if (date) > 9:\n",
    "            print(\"Easter falls on April {}.\".format(date - 9))\n",
    "        else:\n",
    "            print(\"Easter falls on March {}.\".format(22 + date))\n",
    "\n",
    "main()"
   ]
  },
  {
   "cell_type": "markdown",
   "metadata": {},
   "source": [
    "11. A year is a leap year if it is divisible by 4, unless it is a century year that is not divisible by 400. (1800 and 1900 are not leap years while 1600 and 2000 are.) Write a program that calculates whether a year is a leap year."
   ]
  },
  {
   "cell_type": "code",
   "execution_count": 46,
   "metadata": {},
   "outputs": [
    {
     "name": "stdout",
     "output_type": "stream",
     "text": [
      "Input a year you believe is a leap year or century year: 2000\n",
      "2000 is a leap year.\n"
     ]
    }
   ],
   "source": [
    "#leapYearCalc.py\n",
    "\n",
    "def leapYear(year):\n",
    "    \n",
    "    if (year % 4) != 0:\n",
    "        print(\"{} is not a leap year.\".format(year))\n",
    "    \n",
    "    else:\n",
    "        if (year % 100) == 0:\n",
    "            if (year % 400) == 0:\n",
    "                print(\"{} is a leap year.\".format(year))\n",
    "            else:\n",
    "                print(\"{} is not a leap year.\".format(year))\n",
    "        else:\n",
    "            print(\"{} is a leap year.\".format(year))\n",
    "\n",
    "def main():\n",
    "    \n",
    "    year = int(input(\"Input a year you believe is a leap year or century year: \"))\n",
    "    leapYear(year)\n",
    "    \n",
    "main()"
   ]
  },
  {
   "cell_type": "markdown",
   "metadata": {},
   "source": [
    "14. Do Programming Exercise 7 from Chapter 4, but add a decision to handle the case where the line does not intersect the circle."
   ]
  },
  {
   "cell_type": "code",
   "execution_count": 48,
   "metadata": {},
   "outputs": [
    {
     "name": "stdout",
     "output_type": "stream",
     "text": [
      "What is the radius of the circle? 5\n",
      "Where does the line cross the y axis? 6\n",
      "The line does not intersect.\n"
     ]
    }
   ],
   "source": [
    "from graphics import *\n",
    "import math as m\n",
    "\n",
    "def main():\n",
    "    #Create a square window and set coordinates -10,-10 to 10,10\n",
    "    win = GraphWin(\"Intersection of a line through a Circle\", 500,500)\n",
    "    win.setCoords(-10, -10, 10, 10)\n",
    "\n",
    "    #Input: Radius of the circle and the y-intercept of the line\n",
    "    r = eval(input(\"What is the radius of the circle? \"))\n",
    "    y = eval(input(\"Where does the line cross the y axis? \"))\n",
    "\n",
    "    #Draw a circle centered at 0,0\n",
    "    c = Circle(Point(0,0), r)\n",
    "    c.draw(win)\n",
    "\n",
    "    #Draw a horizontal line across the window with teh given y-intercept\n",
    "    line = Line(Point(-10, y), Point(10, y))\n",
    "    line.draw(win)\n",
    "\n",
    "    if r < y:\n",
    "        print(\"The line does not intersect.\")\n",
    "    else:\n",
    "        #Compute x\n",
    "        x = m.sqrt(r**2 - y**2)\n",
    "\n",
    "        #Print the two x values of intersection textually\n",
    "        print(-x, x)\n",
    "\n",
    "        #Print the two x values graphically\n",
    "        x1 = Text(Point(-x, y + 2),-x)\n",
    "        x2 = Text(Point(x, y + 2), x)\n",
    "        x1.draw(win)\n",
    "        x2.draw(win)\n",
    "\n",
    "main()"
   ]
  },
  {
   "cell_type": "markdown",
   "metadata": {},
   "source": [
    "15. Do Programming Exercise 8 from Chapter 4, but add a decision to handle the case where the line does not intercet the cirle"
   ]
  },
  {
   "cell_type": "code",
   "execution_count": 1,
   "metadata": {},
   "outputs": [],
   "source": [
    "import math as m\n",
    "from graphics import *\n",
    "\n",
    "def main():\n",
    "    win = GraphWin(\"Line Drawing Tool\", 400, 400)\n",
    "    win.setCoords(-10, -10, 10, 10)\n",
    "#Prompt the User for 2 mouse clicks\n",
    "    message = Text(Point(-5, 8), \"Click on 2 points to create a line\")\n",
    "    message.draw(win)\n",
    "#Store coordinates in variables x1, x2 etc\n",
    "    point1 = win.getMouse()\n",
    "    point2 = win.getMouse()\n",
    "    x1 = point1.getX()\n",
    "    x2 = point2.getX()\n",
    "    y1 = point1.getY()\n",
    "    y2 = point2.getY()\n",
    "\n",
    "#Create a Line w/ midpoint \"cyan\"\n",
    "    line = Line(point1, point2)\n",
    "    line.draw(win)\n",
    "    mx, my = (x1+x2)/2, (y1+y2)/2\n",
    "    win.plot(mx, my, \"cyan\")\n",
    "\n",
    "#Calculate the length and slope of the Line\n",
    "    length = m.sqrt((x2 - x1)**2 + (y2 - y1)**2)\n",
    "    if (x2 - x1) == 0:\n",
    "        message3 = Text(Point(-5,6), (\"The slope of the line is vertical.\"))\n",
    "    else:\n",
    "        slope = (y2-y1)/(x2 -x1)\n",
    "        message3 = Text(Point(-5, 6), (\"The slope of the line is: \", round(slope, 2)))\n",
    "#Print length and slope of line\n",
    "    message2 = Text(Point(-5, 7), (\"The length of the line is: \", round(length, 2)))\n",
    "    message2.draw(win)\n",
    "    message3.draw(win)\n",
    "\n",
    "main()"
   ]
  },
  {
   "cell_type": "markdown",
   "metadata": {},
   "source": [
    "16. Archery Scorer. Write a rpgoram that draws an Archery taget (see Programming Exercise 2 from Chapter 4) and allows the user to click five times to represent arrows shot at the target. Using five-band scoring, a bulls-eye (yellow) is worth 9 points and each succesive ring is worth 2 fewer points down to 1 for white. The program should output a score for each click and keep track of a running sum for the entire series."
   ]
  },
  {
   "cell_type": "code",
   "execution_count": 2,
   "metadata": {},
   "outputs": [
    {
     "name": "stdout",
     "output_type": "stream",
     "text": [
      "Point: 9    Total: 9\n",
      "Point: 7    Total: 16\n",
      "Point: 3    Total: 19\n",
      "Point: 3    Total: 22\n",
      "Point: 9    Total: 31\n"
     ]
    }
   ],
   "source": [
    "from graphics import *\n",
    "import math as m\n",
    "\n",
    "def main():\n",
    "    win = GraphWin()\n",
    "    win.setCoords(-5, -5, 5, 5)\n",
    "    c = Circle(Point(0,0), 5)\n",
    "    c.setOutline(\"green4\")\n",
    "    c.setFill(\"white\")\n",
    "    c.setWidth(1)\n",
    "    c.draw(win)\n",
    "\n",
    "    c2 = Circle(Point(0,0), 4)\n",
    "    c2.setOutline(\"green4\")\n",
    "    c2.setFill(\"red\")\n",
    "    c2.setWidth(1)\n",
    "    c2.draw(win)\n",
    "\n",
    "    c3 = Circle(Point(0,0), 3)\n",
    "    c3.setOutline(\"green4\")\n",
    "    c3.setFill(\"blue\")\n",
    "    c3.setWidth(1)\n",
    "    c3.draw(win)\n",
    "\n",
    "    c4 = Circle(Point(0,0), 2)\n",
    "    c4.setOutline(\"green4\")\n",
    "    c4.setFill(\"black\")\n",
    "    c4.setWidth(1)\n",
    "    c4.draw(win)\n",
    "\n",
    "    c5 = Circle(Point(0,0), 1)\n",
    "    c5.setOutline(\"green4\")\n",
    "    c5.setFill(\"white\")\n",
    "    c5.setWidth(1)\n",
    "    c5.draw(win)\n",
    "\n",
    "    sum = 0\n",
    "    for x in range (5):\n",
    "        arrow = win.getMouse()\n",
    "        x = arrow.getX()\n",
    "        y = arrow.getY()\n",
    "        z = m.sqrt(x ** 2 + y ** 2)\n",
    "        \n",
    "        if 5 >= z > 4:\n",
    "            y = 1\n",
    "            sum = y + sum\n",
    "        elif 4 >= z > 3:\n",
    "            y = 3\n",
    "            sum = y + sum\n",
    "        elif 3 >= z > 2:\n",
    "            y = 5\n",
    "            sum = y + sum\n",
    "        elif 2 >= z > 1:\n",
    "            y = 7\n",
    "            sum = y + sum\n",
    "        elif 1 > z:\n",
    "            y = 9\n",
    "            sum = y + sum\n",
    "        else:\n",
    "            y = 0\n",
    "            print(\"You missed!\")\n",
    "        print(\"Point: {0}    Total: {1}\".format(y, sum))\n",
    "\n",
    "main()"
   ]
  },
  {
   "cell_type": "code",
   "execution_count": null,
   "metadata": {},
   "outputs": [],
   "source": []
  }
 ],
 "metadata": {
  "kernelspec": {
   "display_name": "Python 3",
   "language": "python",
   "name": "python3"
  },
  "language_info": {
   "codemirror_mode": {
    "name": "ipython",
    "version": 3
   },
   "file_extension": ".py",
   "mimetype": "text/x-python",
   "name": "python",
   "nbconvert_exporter": "python",
   "pygments_lexer": "ipython3",
   "version": "3.7.6"
  }
 },
 "nbformat": 4,
 "nbformat_minor": 4
}
