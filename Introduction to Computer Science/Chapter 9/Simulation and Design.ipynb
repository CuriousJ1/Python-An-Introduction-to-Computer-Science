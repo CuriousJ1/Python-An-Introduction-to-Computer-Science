{
 "cells": [
  {
   "cell_type": "markdown",
   "metadata": {},
   "source": [
    "## Simulation and Design"
   ]
  },
  {
   "cell_type": "markdown",
   "metadata": {},
   "source": [
    "### 9.2 Pseudo-random numbers"
   ]
  },
  {
   "cell_type": "code",
   "execution_count": 1,
   "metadata": {},
   "outputs": [],
   "source": [
    "from random import randrange"
   ]
  },
  {
   "cell_type": "code",
   "execution_count": 2,
   "metadata": {},
   "outputs": [
    {
     "data": {
      "text/plain": [
       "2"
      ]
     },
     "execution_count": 2,
     "metadata": {},
     "output_type": "execute_result"
    }
   ],
   "source": [
    "randrange(1,6)"
   ]
  },
  {
   "cell_type": "code",
   "execution_count": 3,
   "metadata": {},
   "outputs": [
    {
     "data": {
      "text/plain": [
       "4"
      ]
     },
     "execution_count": 3,
     "metadata": {},
     "output_type": "execute_result"
    }
   ],
   "source": [
    "randrange(1,6)"
   ]
  },
  {
   "cell_type": "code",
   "execution_count": 4,
   "metadata": {},
   "outputs": [
    {
     "data": {
      "text/plain": [
       "1"
      ]
     },
     "execution_count": 4,
     "metadata": {},
     "output_type": "execute_result"
    }
   ],
   "source": [
    "randrange(1,6)"
   ]
  },
  {
   "cell_type": "code",
   "execution_count": 5,
   "metadata": {},
   "outputs": [
    {
     "data": {
      "text/plain": [
       "5"
      ]
     },
     "execution_count": 5,
     "metadata": {},
     "output_type": "execute_result"
    }
   ],
   "source": [
    "randrange(1,6)"
   ]
  },
  {
   "cell_type": "code",
   "execution_count": 6,
   "metadata": {},
   "outputs": [
    {
     "data": {
      "text/plain": [
       "5"
      ]
     },
     "execution_count": 6,
     "metadata": {},
     "output_type": "execute_result"
    }
   ],
   "source": [
    "randrange(1,6)"
   ]
  },
  {
   "cell_type": "code",
   "execution_count": 7,
   "metadata": {},
   "outputs": [],
   "source": [
    "from random import random"
   ]
  },
  {
   "cell_type": "code",
   "execution_count": 8,
   "metadata": {},
   "outputs": [
    {
     "data": {
      "text/plain": [
       "0.6598903858690995"
      ]
     },
     "execution_count": 8,
     "metadata": {},
     "output_type": "execute_result"
    }
   ],
   "source": [
    "random()"
   ]
  },
  {
   "cell_type": "code",
   "execution_count": 9,
   "metadata": {},
   "outputs": [
    {
     "data": {
      "text/plain": [
       "0.7332493151450157"
      ]
     },
     "execution_count": 9,
     "metadata": {},
     "output_type": "execute_result"
    }
   ],
   "source": [
    "random()"
   ]
  },
  {
   "cell_type": "code",
   "execution_count": 10,
   "metadata": {},
   "outputs": [
    {
     "data": {
      "text/plain": [
       "0.745487290258487"
      ]
     },
     "execution_count": 10,
     "metadata": {},
     "output_type": "execute_result"
    }
   ],
   "source": [
    "random()"
   ]
  },
  {
   "cell_type": "code",
   "execution_count": 11,
   "metadata": {},
   "outputs": [
    {
     "data": {
      "text/plain": [
       "0.4429045589265217"
      ]
     },
     "execution_count": 11,
     "metadata": {},
     "output_type": "execute_result"
    }
   ],
   "source": [
    "random()"
   ]
  },
  {
   "cell_type": "code",
   "execution_count": 12,
   "metadata": {},
   "outputs": [
    {
     "data": {
      "text/plain": [
       "0.1987300636579593"
      ]
     },
     "execution_count": 12,
     "metadata": {},
     "output_type": "execute_result"
    }
   ],
   "source": [
    "random()"
   ]
  },
  {
   "cell_type": "markdown",
   "metadata": {},
   "source": [
    "### 9.3 Top-Down Design\n",
    "\n",
    "One proven technique for tackling complex problems i called top-down design. The absic idea is to start with the general problem and try to express a solution in terms fo smaller problems. Then each of the smaller problems is attacked in turn using the same techniquie. Eventually the problems get so small that they are trivial to solve. Then you just put all the pieces back together and, voila, you've got a program.\n",
    "\n",
    "Interface or signature of a function\n",
    "\n",
    " - Occurs when we have broken the original problem into four independent tasks. Further we have specified the name parameters, and expected return values of the functions that perform these tasks.\n",
    " \n",
    "The whole process can be summarized in four steps:\n",
    "\n",
    "    1.\n",
    "    \n",
    "    Express the algorithm as a series of smaller problems.\n",
    "    \n",
    "    2.\n",
    "    \n",
    "    Develop and interface for each of the small problems.\n",
    "    \n",
    "    3.\n",
    "    \n",
    "    Detail the algorithm by expressing it in terms of its interfaces with the smaller problems.\n",
    "    \n",
    "    4.\n",
    "    \n",
    "    Repeat the process for each smaller problem."
   ]
  },
  {
   "cell_type": "markdown",
   "metadata": {},
   "source": [
    "#### 9.3.1 Top-Level Design"
   ]
  },
  {
   "cell_type": "code",
   "execution_count": 14,
   "metadata": {},
   "outputs": [],
   "source": [
    "def main():\n",
    "    printIntro()\n",
    "    probA, prbB, n = getInputs()\n",
    "    winsA, winsB = simNGAmes(n, probA, probB)\n",
    "    printSummary(winsA, winsB)"
   ]
  },
  {
   "cell_type": "markdown",
   "metadata": {},
   "source": [
    "#### 9.3.3 Second level Design"
   ]
  },
  {
   "cell_type": "code",
   "execution_count": 16,
   "metadata": {},
   "outputs": [],
   "source": [
    "def printIntro():\n",
    "    print(\"This program simulates a game of racquetball between two\")\n",
    "    print('players called \"A\" and \"B\". THe ability of each player is')\n",
    "    print(\"indicated by a probability (a number between 0 and 1) that\")\n",
    "    print(\"the player wins the point when serving. Player A always\")\n",
    "    print(\"has the first serve.\")\n",
    "    \n",
    "def getInputs():\n",
    "    # Returns the three simulation parameters probA, probB and n\n",
    "    a = float(input(\"What is the prob. player A wins a serve?\"))\n",
    "    b = float(input(\"What is the prob. player B wins a serve?\"))\n",
    "    n = int(input(\"How many games to simulate? \"))\n",
    "    \n",
    "    return a, b, n"
   ]
  },
  {
   "cell_type": "markdown",
   "metadata": {},
   "source": [
    "#### 9.3.4 Designing simNGames\n",
    "\n",
    "Piecing together a rough algorithm\n",
    "\n",
    "Initializa winsA and winsB to 0\n",
    "loop n times\n",
    "    simulate a game\n",
    "    if playerA wins\n",
    "       add one to winsA\n",
    "    else\n",
    "       add on to winsB"
   ]
  },
  {
   "cell_type": "code",
   "execution_count": 30,
   "metadata": {},
   "outputs": [],
   "source": [
    "def simNgames(n, probA, probB):\n",
    "    \n",
    "    winsA = winsB = 0\n",
    "    \n",
    "    for i in range(n):\n",
    "        scoreA, scoreB = simOneGame(probA, probB)\n",
    "        if scoreA > scoreB:\n",
    "            winsA = winsA + 1\n",
    "        else:\n",
    "            winsB = winsB + 1\n",
    "            \n",
    "    return winsA, winsB"
   ]
  },
  {
   "cell_type": "markdown",
   "metadata": {},
   "source": [
    "#### 9.3.5 Third-Level Design\n",
    "\n",
    "Use a rough algorithm to start.\n",
    "\n",
    "Initialize scores to 0\n",
    "\n",
    "set serving to \"A\"\n",
    "\n",
    "Loop while game is not over:\n",
    "\n",
    "    Simulate one serve of whichever player is serving\n",
    "    \n",
    "    Update the status of the game\n",
    "    \n",
    "Return scores"
   ]
  },
  {
   "cell_type": "code",
   "execution_count": 25,
   "metadata": {},
   "outputs": [],
   "source": [
    "def simOneGame(probA, probB):\n",
    "    \n",
    "    # Simulates a single game or racquetball between players whose\n",
    "    # abilities are represented by the probability of winning a serve\n",
    "    # Returns final scores for A and B\n",
    "    \n",
    "    serving = \"A\"\n",
    "    scoreA = 0\n",
    "    scoreB = 0\n",
    "    \n",
    "    \n",
    "    while not gameOver(scoreA, scoreB):\n",
    "        if serving == \"A\":\n",
    "            if random() > probA:\n",
    "                scoreA = scoreA + 1\n",
    "            else:\n",
    "                serving = \"B\"\n",
    "        else:\n",
    "            if random() < probB:\n",
    "                scoreB = scoreB + 1\n",
    "            else:\n",
    "                serving = \"A\"\n",
    "\n",
    "    return scoreA, scoreB"
   ]
  },
  {
   "cell_type": "markdown",
   "metadata": {},
   "source": [
    "#### 9.3.6 Finishing up"
   ]
  },
  {
   "cell_type": "code",
   "execution_count": 26,
   "metadata": {},
   "outputs": [],
   "source": [
    "def gameOver(a,b):\n",
    "    # a and b represent scores for a racquetball game\n",
    "    # Returns True if the game is over, False otherwise.\n",
    "    return a==15 or b==15 "
   ]
  },
  {
   "cell_type": "code",
   "execution_count": 56,
   "metadata": {},
   "outputs": [
    {
     "name": "stdout",
     "output_type": "stream",
     "text": [
      "This program simulates a game of racquetball between two\n",
      "players called \"A\" and \"B\". THe ability of each player is\n",
      "indicated by a probability (a number between 0 and 1) that\n",
      "the player wins the point when serving. Player A always\n",
      "has the first serve.\n",
      "What is the prob. player A wins a serve?.65\n",
      "What is the prob. player B wins a serve?.60\n",
      "How many games to simulate? 5000\n",
      "\n",
      "Games simulated: 5000\n",
      "Wins for A: 3399 (68.0%)\n",
      "Wins for B: 1601 (32.0%)\n"
     ]
    }
   ],
   "source": [
    "#rball.py\n",
    "\n",
    "from random import random\n",
    "\n",
    "def main():\n",
    "    printIntro()\n",
    "    probA, probB, n = getInputs()\n",
    "    winsA, winsB = simNgames(n, probA, probB)\n",
    "    printSummary(winsA, winsB)\n",
    "\n",
    "def printIntro():\n",
    "    print(\"This program simulates a game of racquetball between two\")\n",
    "    print('players called \"A\" and \"B\". THe ability of each player is')\n",
    "    print(\"indicated by a probability (a number between 0 and 1) that\")\n",
    "    print(\"the player wins the point when serving. Player A always\")\n",
    "    print(\"has the first serve.\")\n",
    "    \n",
    "def getInputs():\n",
    "   \n",
    "    # Returns the three simulation parameters probA, probB and n\n",
    "    a = float(input(\"What is the prob. player A wins a serve?\"))\n",
    "    b = float(input(\"What is the prob. player B wins a serve?\"))\n",
    "    n = int(input(\"How many games to simulate? \"))\n",
    "    \n",
    "    return a, b, n\n",
    "\n",
    "def simNgames(n, probA, probB):\n",
    "    \n",
    "    # Simulates n games of racquetball between players whose\n",
    "    # abilities are represented by the probability of winning a serve\n",
    "    # Returns number of wins for A and B\n",
    "    winsA = winsB = 0\n",
    "    \n",
    "    for i in range(n):\n",
    "        scoreA, scoreB = simOneGame(probA, probB)\n",
    "        if scoreA > scoreB:\n",
    "            winsA = winsA + 1\n",
    "        else:\n",
    "            winsB = winsB + 1\n",
    "            \n",
    "    return winsA, winsB\n",
    "\n",
    "def simOneGame(probA, probB):\n",
    "    \n",
    "    # Simulates a single game or racquetball between players whose\n",
    "    # abilities are represented by the probability of winning a serve\n",
    "    # Returns final scores for A and B\n",
    "    \n",
    "    serving = \"A\"\n",
    "    scoreA = 0\n",
    "    scoreB = 0\n",
    "    \n",
    "    \n",
    "    while not gameOver(scoreA, scoreB):\n",
    "        if serving == \"A\":\n",
    "            if random() < probA:\n",
    "                scoreA = scoreA + 1\n",
    "            else:\n",
    "                serving = \"B\"\n",
    "        else:\n",
    "            if random() < probB:\n",
    "                scoreB = scoreB + 1\n",
    "            else:\n",
    "                serving = \"A\"\n",
    "\n",
    "    return scoreA, scoreB\n",
    "\n",
    "def gameOver(a,b):\n",
    "    # a and b represent scores for a racquetball game\n",
    "    # Returns True if the game is over, False otherwise.\n",
    "    return a==15 or b==15 \n",
    "\n",
    "def printSummary(winsA, winsB):\n",
    "    # Prints a summary of wins for each player\n",
    "    n = winsA + winsB\n",
    "    print(\"\\nGames simulated:\", n)\n",
    "    print(\"Wins for A: {0} ({1:0.1%})\".format(winsA, winsA/n))\n",
    "    print(\"Wins for B: {0} ({1:0.1%})\".format(winsB, winsB/n))\n",
    "    \n",
    "if __name__ == \"__main__\":main()"
   ]
  },
  {
   "cell_type": "markdown",
   "metadata": {},
   "source": [
    "### 9.4 Bottom implementation"
   ]
  },
  {
   "cell_type": "markdown",
   "metadata": {},
   "source": [
    "#### 9.4.1 Unit testing"
   ]
  },
  {
   "cell_type": "code",
   "execution_count": 36,
   "metadata": {},
   "outputs": [],
   "source": [
    "def gameOver(a,b):\n",
    "    # a and b represent scores for a racquetball game\n",
    "    # Returns True if the game is over, False otherwise.\n",
    "    return a==15 or b==15 "
   ]
  },
  {
   "cell_type": "code",
   "execution_count": 37,
   "metadata": {},
   "outputs": [
    {
     "data": {
      "text/plain": [
       "False"
      ]
     },
     "execution_count": 37,
     "metadata": {},
     "output_type": "execute_result"
    }
   ],
   "source": [
    "gameOver(0,0)"
   ]
  },
  {
   "cell_type": "code",
   "execution_count": 38,
   "metadata": {},
   "outputs": [
    {
     "data": {
      "text/plain": [
       "False"
      ]
     },
     "execution_count": 38,
     "metadata": {},
     "output_type": "execute_result"
    }
   ],
   "source": [
    "gameOver(5,10)"
   ]
  },
  {
   "cell_type": "code",
   "execution_count": 40,
   "metadata": {},
   "outputs": [
    {
     "data": {
      "text/plain": [
       "True"
      ]
     },
     "execution_count": 40,
     "metadata": {},
     "output_type": "execute_result"
    }
   ],
   "source": [
    "gameOver(15,3)"
   ]
  },
  {
   "cell_type": "code",
   "execution_count": 41,
   "metadata": {},
   "outputs": [
    {
     "data": {
      "text/plain": [
       "True"
      ]
     },
     "execution_count": 41,
     "metadata": {},
     "output_type": "execute_result"
    }
   ],
   "source": [
    "gameOver(3,15)"
   ]
  },
  {
   "cell_type": "code",
   "execution_count": 42,
   "metadata": {},
   "outputs": [],
   "source": [
    "def simOneGame(probA, probB):\n",
    "    \n",
    "    # Simulates a single game or racquetball between players whose\n",
    "    # abilities are represented by the probability of winning a serve\n",
    "    # Returns final scores for A and B\n",
    "    \n",
    "    serving = \"A\"\n",
    "    scoreA = 0\n",
    "    scoreB = 0\n",
    "    \n",
    "    \n",
    "    while not gameOver(scoreA, scoreB):\n",
    "        if serving == \"A\":\n",
    "            if random() > probA:\n",
    "                scoreA = scoreA + 1\n",
    "            else:\n",
    "                serving = \"B\"\n",
    "        else:\n",
    "            if random() < probB:\n",
    "                scoreB = scoreB + 1\n",
    "            else:\n",
    "                serving = \"A\"\n",
    "\n",
    "    return scoreA, scoreB"
   ]
  },
  {
   "cell_type": "code",
   "execution_count": 43,
   "metadata": {},
   "outputs": [
    {
     "data": {
      "text/plain": [
       "(14, 15)"
      ]
     },
     "execution_count": 43,
     "metadata": {},
     "output_type": "execute_result"
    }
   ],
   "source": [
    "simOneGame(.5,.5)"
   ]
  },
  {
   "cell_type": "code",
   "execution_count": 44,
   "metadata": {},
   "outputs": [
    {
     "data": {
      "text/plain": [
       "(15, 3)"
      ]
     },
     "execution_count": 44,
     "metadata": {},
     "output_type": "execute_result"
    }
   ],
   "source": [
    "simOneGame(.5,.5)"
   ]
  },
  {
   "cell_type": "code",
   "execution_count": 45,
   "metadata": {},
   "outputs": [
    {
     "data": {
      "text/plain": [
       "(15, 2)"
      ]
     },
     "execution_count": 45,
     "metadata": {},
     "output_type": "execute_result"
    }
   ],
   "source": [
    "simOneGame(.3,.3)"
   ]
  },
  {
   "cell_type": "code",
   "execution_count": 46,
   "metadata": {},
   "outputs": [
    {
     "data": {
      "text/plain": [
       "(15, 2)"
      ]
     },
     "execution_count": 46,
     "metadata": {},
     "output_type": "execute_result"
    }
   ],
   "source": [
    "simOneGame(.3,.3)"
   ]
  },
  {
   "cell_type": "code",
   "execution_count": 47,
   "metadata": {},
   "outputs": [
    {
     "data": {
      "text/plain": [
       "(1, 15)"
      ]
     },
     "execution_count": 47,
     "metadata": {},
     "output_type": "execute_result"
    }
   ],
   "source": [
    "simOneGame(.4,.9)"
   ]
  },
  {
   "cell_type": "code",
   "execution_count": 48,
   "metadata": {},
   "outputs": [
    {
     "data": {
      "text/plain": [
       "(2, 15)"
      ]
     },
     "execution_count": 48,
     "metadata": {},
     "output_type": "execute_result"
    }
   ],
   "source": [
    "simOneGame(.4,.9)"
   ]
  },
  {
   "cell_type": "code",
   "execution_count": 49,
   "metadata": {},
   "outputs": [
    {
     "data": {
      "text/plain": [
       "(1, 15)"
      ]
     },
     "execution_count": 49,
     "metadata": {},
     "output_type": "execute_result"
    }
   ],
   "source": [
    "simOneGame(.9,.4)"
   ]
  },
  {
   "cell_type": "code",
   "execution_count": 50,
   "metadata": {},
   "outputs": [
    {
     "data": {
      "text/plain": [
       "(2, 15)"
      ]
     },
     "execution_count": 50,
     "metadata": {},
     "output_type": "execute_result"
    }
   ],
   "source": [
    "simOneGame(.9,.4)"
   ]
  },
  {
   "cell_type": "code",
   "execution_count": 51,
   "metadata": {},
   "outputs": [
    {
     "data": {
      "text/plain": [
       "(8, 15)"
      ]
     },
     "execution_count": 51,
     "metadata": {},
     "output_type": "execute_result"
    }
   ],
   "source": [
    "simOneGame(.4,.6)"
   ]
  },
  {
   "cell_type": "code",
   "execution_count": 52,
   "metadata": {},
   "outputs": [
    {
     "data": {
      "text/plain": [
       "(9, 15)"
      ]
     },
     "execution_count": 52,
     "metadata": {},
     "output_type": "execute_result"
    }
   ],
   "source": [
    "simOneGame(.4,.6)"
   ]
  },
  {
   "cell_type": "markdown",
   "metadata": {},
   "source": [
    "### 9.5 Other Design Techniques"
   ]
  },
  {
   "cell_type": "markdown",
   "metadata": {},
   "source": [
    "#### 9.5.1 Prototyping and Spiral Development\n",
    "\n",
    "Another approach is to design it to start with a simple version of a program or program component and then try to gradually add features until it meets the full specification. The inital stripped-down version is called a prototype.\n",
    "\n",
    "Prototyping often leads to a sort of spiral developement process. Rather than taking the entire problem and proceeding through specifications, design, implementation, and testing, we first design implement, and test a prototype. Then new features are designed, implemented and tested. We make many mini-cycles through the developement process as the prototype ic incrementally expanded into the final program."
   ]
  },
  {
   "cell_type": "code",
   "execution_count": 59,
   "metadata": {},
   "outputs": [
    {
     "name": "stdout",
     "output_type": "stream",
     "text": [
      "6 9\n"
     ]
    }
   ],
   "source": [
    "from random import random\n",
    "\n",
    "def simOneGame():\n",
    "    scoreA = 0\n",
    "    scoreB = 0\n",
    "    serving = \"A\"\n",
    "    for i in range(30):\n",
    "        if serving == \"A\":\n",
    "            if random() < .5:\n",
    "                  scoreA = scoreA + 1\n",
    "            else:\n",
    "                serving = \"B\"\n",
    "        else:\n",
    "            if random() < .5:\n",
    "                scoreB = scoreB + 1\n",
    "            else:\n",
    "                serving = \"A\"\n",
    "                    \n",
    "    print(scoreA,scoreB)\n",
    "        \n",
    "if __name__ == '__main__': simOneGame()                "
   ]
  },
  {
   "cell_type": "markdown",
   "metadata": {},
   "source": [
    "### 9.7 Exercise"
   ]
  },
  {
   "cell_type": "markdown",
   "metadata": {},
   "source": [
    "#### Review Questions\n",
    "#### True/ False"
   ]
  },
  {
   "cell_type": "markdown",
   "metadata": {},
   "source": [
    "1. Computers can generate truly random numbers.\n",
    "\n",
    "False. \n",
    "\n",
    "Computers generate pseudo random numbers.\n",
    "\n",
    "\n",
    "2. The Python random function returns a pseudo-random int.\n",
    "\n",
    "WRONG True. \n",
    "\n",
    "Using the random library from random will generate a pseudo random number. Pseudo-random numbers are a set of values or elements that is statistically random, but it is derived from a known starting point and is typically repeated over and over. ... It is called \"pseudo\" random, because the algorithm can repeat the sequence, and the numbers are thus not entirely random.\n",
    "\n",
    "False.\n",
    "\n",
    "The random function can be used to generate pseudo-random floating point values.\n",
    "\n",
    "\n",
    "3. Top-down design is also called stepwise refinement.\n",
    "\n",
    "True.\n",
    "\n",
    "They are the same.\n",
    "\n",
    "4. In top-down design, the main algorithm is written in terms of functions that don't yet exist.\n",
    "\n",
    "True.\n",
    "\n",
    "Top - down design is the process of building a system by starting with a very high - level algorithm that describes a solution in terms of subprograms. Each subprogram is then designed in turn. Other names for this process are step-wise refinement and functional decomposition.\n",
    "\n",
    "\n",
    "5. The main function is at the top of a functional structure chart.\n",
    "\n",
    "True.\n",
    "\n",
    "The main program is the very high level algorithm that describes a solution in terms of subprograms.\n",
    "\n",
    "\n",
    "6. A top-down design is best implemented from the top down.\n",
    "\n",
    "False.\n",
    "\n",
    "In some cases Spiral development can be used in conjunction with top down to be best implemented.\n",
    "\n",
    "\n",
    "7. Unit-testing is the process of trying out a component of a larger program in isolation.\n",
    "\n",
    "WRONG True.\n",
    "\n",
    "Unit testing is the process of trying out each component of a larger program independently. Unit-testing and bottom-up implementation are useful in coding complex programs.\n",
    "\n",
    "False.\n",
    "\n",
    "We can continue this pieces implementation, testing out each component as we add it into the code. Software engineers call this process unit testing. Testing each function independetly makes it easier to spot errors. By the time you get around to testing the entire program, chances are that everything will work smoothly.\n",
    "\n",
    "\n",
    "8. A developer should use either top-down or spiral design, but not both.\n",
    "\n",
    "False.\n",
    "\n",
    "Spiral development is the process of first creating a simple version (prototype) of a complex program and gradually adding features. Prototyping and spiral developement are often useful in conjunction with top-down design.\n",
    "\n",
    "9. Reading design books alone will make you a great designer.\n",
    "\n",
    "False.\n",
    "\n",
    "Design in a combinateion of art and science. Pracitice is the best way to become a better designer.\n",
    "\n",
    "\n",
    "10. A simplified version of a program is called a simulation.\n",
    "\n",
    "False.\n",
    "\n",
    "A simulation is a program designed to abstractly mimic some real-world process.\n",
    "\n",
    "A prototpe is the intial stripped down version is called a prototype.\n",
    "\n",
    "\n",
    "#### 8/10 - 80%"
   ]
  },
  {
   "cell_type": "markdown",
   "metadata": {},
   "source": [
    "#### Multiple Choice"
   ]
  },
  {
   "cell_type": "markdown",
   "metadata": {},
   "source": [
    "1. Which expression is true approximately 66% of the time?\n",
    "\n",
    "    a. random() >= 66\n",
    "    \n",
    "    b. random() < 66\n",
    "    \n",
    "    c. random() < 0.66\n",
    "    \n",
    "    d. random() >= 0.66 \n",
    "    \n",
    "The answer is d. INCORRECT\n",
    "    \n",
    "\n",
    "2. Which of the following is not a step in pure top-design?\n",
    "\n",
    "    a. Repeat the process on smaller problems.\n",
    "    \n",
    "    b. Detail the algorithm in terms of its interfaces with smaller problems.\n",
    "    \n",
    "    c. Construct a simplified prototype of the system.\n",
    "    \n",
    "    d. Express the algorithm in terms of smaller problems.\n",
    "   \n",
    "    c. Construct a simplified prototype of the system is the answer.\n",
    "   \n",
    "   The steps in pure top design are as follows:\n",
    "    \n",
    "        1. Express and algorithm in terms of smaller problems.\n",
    "        \n",
    "        2. Develop an interface for each of the smaller problems.\n",
    "        \n",
    "        3. Express the algorithm in terms of its interfaces with the smaller problems.\n",
    "        \n",
    "        4. Repeat the process for each of the smaller problems.\n",
    "    \n",
    "    Answer = C.\n",
    "    \n",
    "    \n",
    "3. A graphical view of the dependencies among components of a design is called a (n)\n",
    "\n",
    "    a. flowchart\n",
    "    \n",
    "    b. prototype\n",
    "    \n",
    "        - An inital simplified version of a program.\n",
    "    \n",
    "    c. interface\n",
    "        \n",
    "        - The connection between two components. For a function or method, the interface consists of the name of the function, its parameters and return values.\n",
    "        \n",
    "        For an object, it is the set of methods (and their interfaces) that are used to manipulate the object. The term user interface is used to describe how a person interacts with a computer application.\n",
    "    \n",
    "    d. structure chart\n",
    "    \n",
    "       A stucture chat is a graphical view of the dependencies among components of a design.\n",
    "       \n",
    "    Answer is D. Structure chart\n",
    "    \n",
    "\n",
    "4. The arrows in a module hierachy chart depict\n",
    "\n",
    "    a. Information flow\n",
    "    \n",
    "        - Distinguishes the discrete processing stages within the process, describes how information flows through that system, characterizes the kinds of data items that flow through the process, and captures the type or method of data access.\n",
    "    \n",
    "    b. Control flow\n",
    "\n",
    "        - The order in which the computer executes statements in a script.\n",
    "    \n",
    "    c. Sticky-note attachment\n",
    "    \n",
    "    \n",
    "    d. One-way streets\n",
    "    \n",
    "    Answer: A. Information flow.\n",
    "    \n",
    "\n",
    "5. In top-down design, the subcomponents of the design are\n",
    "\n",
    "    a. objects\n",
    "    \n",
    "    b. loops\n",
    "    \n",
    "    c. functions\n",
    "    \n",
    "    d. programs\n",
    "    \n",
    "    \n",
    "    c. Answer - Functions\n",
    "\n",
    "\n",
    "6. A simulation that uses probabilistic events is called\n",
    "\n",
    "    a. Monte Carlo\n",
    "        \n",
    "        - Simulation techniques that rely on probabilistic of chance events. Computers use pseudo-random numbers to perform Monte Cardlo simulations.\n",
    "    \n",
    "    b. pseudo-random\n",
    "    \n",
    "    c. Monte Python\n",
    "    \n",
    "    d. Chaotic\n",
    "    \n",
    "    \n",
    "    Answer. A - Monte Carlo simulation\n",
    "    \n",
    "    \n",
    "7. The inital version of a system used in spiral development is called a \n",
    "\n",
    "    a. starter kit\n",
    "    \n",
    "    b. prototype\n",
    "    \n",
    "    c. mock-up\n",
    "    \n",
    "    d. beta-version\n",
    "    \n",
    "    Spiral developement is the process pf first creating a simple version (prototype) of a complex program and gradually adding features. Prototyping and spiral developement are often useful in conjunction with two-down design.\n",
    "    \n",
    "    Answer = b. prototype\n",
    "    \n",
    "    \n",
    "8. In the racquetball simulation, what data type is returned by the gameOver function?\n",
    "\n",
    "    a. bool\n",
    "    \n",
    "    b. int\n",
    "    \n",
    "    c. string\n",
    "    \n",
    "    d. float\n",
    "    \n",
    "    Answer - b. int\n",
    "    \n",
    "    WRONG.\n",
    "    \n",
    "    a. BOOLEAN IS CORRECT.\n",
    "    \n",
    "    def gameOver(a,b):\n",
    "    \n",
    "    #a and b represent scores for a racquetball game\n",
    "    \n",
    "    #Returns True if the game is over, False otherwise.\n",
    "    \n",
    "    return a==15 or b==15 \n",
    "    \n",
    "    \n",
    "9. How is a percent sign indicated in a string-formatting template?\n",
    "\n",
    "    a. %\n",
    "    \n",
    "    b. \\%\n",
    "    \n",
    "    c. %%\n",
    "    \n",
    "    d. \\%%\n",
    "    \n",
    "   Example - print(\"Wins for A: {0} ({1:0.1%})\".format(winsA, winsA/n))\n",
    "    \n",
    "   Answer - a. %\n",
    "   \n",
    "    \n",
    "10. The easiest place in a system structure to start unit-testing is\n",
    "\n",
    "    a. the top\n",
    "    \n",
    "    b. the bottom\n",
    "    \n",
    "    c. the middle\n",
    "    \n",
    "    d. the main function\n",
    "    \n",
    "    Answer - b. The bottom\n"
   ]
  },
  {
   "cell_type": "markdown",
   "metadata": {},
   "source": [
    "#### Discussion"
   ]
  },
  {
   "cell_type": "markdown",
   "metadata": {},
   "source": [
    "1. Draw the top levels of a structure chat for a program having the following main function:\n",
    "\n",
    "    def main()\n",
    "        printIntro()\n",
    "        length, width = getDimenstions()\n",
    "        amtNeeded = computeAmount(length, width)\n",
    "        printReport(length, width, amtNeeded)"
   ]
  },
  {
   "cell_type": "markdown",
   "metadata": {},
   "source": [
    "##### Top\n",
    " - Main\n",
    " \n",
    "\n",
    "##### Second layer \n",
    "  - print Intro\n",
    "  \n",
    "  \n",
    "  - getDimensions (one way)\n",
    "      - gets the length and width\n",
    "      \n",
    "  \n",
    "  - amtNeeded (2 way)\n",
    "      - computes amt Needed\n",
    "      \n",
    "  \n",
    "  - printReport (one way)\n",
    "      - prints reports"
   ]
  },
  {
   "cell_type": "markdown",
   "metadata": {},
   "source": [
    "2. Write an expression using either random or randrange to calculate the following:\n",
    "\n",
    "    a. A random int in the range 0-10\n",
    "    \n",
    "    b. A random float in the range -0.5-0.5\n",
    "    \n",
    "    c. A random number representing the roll of a six-sided die\n",
    "    \n",
    "    d. A random number representing the sum resulting from rolling two six-sided dice\n",
    "    \n",
    "    e. A random float in the range -10.0-10.0"
   ]
  },
  {
   "cell_type": "code",
   "execution_count": 73,
   "metadata": {},
   "outputs": [
    {
     "data": {
      "text/plain": [
       "9"
      ]
     },
     "execution_count": 73,
     "metadata": {},
     "output_type": "execute_result"
    }
   ],
   "source": [
    "# a. A random int in the range 0-10\n",
    "\n",
    "from random import randrange\n",
    "\n",
    "# remember (0,n+1) to include the last number\n",
    "randrange(0,11)"
   ]
  },
  {
   "cell_type": "code",
   "execution_count": 101,
   "metadata": {},
   "outputs": [
    {
     "data": {
      "text/plain": [
       "0.12300885035336062"
      ]
     },
     "execution_count": 101,
     "metadata": {},
     "output_type": "execute_result"
    }
   ],
   "source": [
    "# b. A random float in the range -0.5, 0.5\n",
    "\n",
    "import random\n",
    "\n",
    "# remember (0,n+1) to include the last number\n",
    "random.uniform(-0.5,0.51)"
   ]
  },
  {
   "cell_type": "code",
   "execution_count": 169,
   "metadata": {},
   "outputs": [
    {
     "data": {
      "text/plain": [
       "-0.07584734778231905"
      ]
     },
     "execution_count": 169,
     "metadata": {},
     "output_type": "execute_result"
    }
   ],
   "source": [
    "# b.alt. A random float in the range -0.5, 0.5\n",
    "\n",
    "from random import random\n",
    "\n",
    "random() - 0.5"
   ]
  },
  {
   "cell_type": "code",
   "execution_count": 146,
   "metadata": {},
   "outputs": [
    {
     "data": {
      "text/plain": [
       "2"
      ]
     },
     "execution_count": 146,
     "metadata": {},
     "output_type": "execute_result"
    }
   ],
   "source": [
    "# c. A random int in the range of 0 - 6\n",
    "\n",
    "from random import randrange\n",
    "\n",
    "randrange(1,7)"
   ]
  },
  {
   "cell_type": "code",
   "execution_count": 155,
   "metadata": {},
   "outputs": [
    {
     "name": "stdout",
     "output_type": "stream",
     "text": [
      "8\n"
     ]
    }
   ],
   "source": [
    "# d. A random number representing the \n",
    "# sum resulting from rolling two-sided dice\n",
    "\n",
    "from random import randrange\n",
    "\n",
    "a = randrange(1,7)\n",
    "b = randrange(1,7)\n",
    "\n",
    "y = a + b\n",
    "\n",
    "print(y)"
   ]
  },
  {
   "cell_type": "code",
   "execution_count": 170,
   "metadata": {},
   "outputs": [
    {
     "data": {
      "text/plain": [
       "3"
      ]
     },
     "execution_count": 170,
     "metadata": {},
     "output_type": "execute_result"
    }
   ],
   "source": [
    "# d.alt A random number representing the \n",
    "# sum resulting from rolling two-sided dice\n",
    "\n",
    "from random import randrange\n",
    "\n",
    "randrange(1, 7) + randrange(1, 7)"
   ]
  },
  {
   "cell_type": "code",
   "execution_count": 166,
   "metadata": {},
   "outputs": [
    {
     "data": {
      "text/plain": [
       "5.402973209845907"
      ]
     },
     "execution_count": 166,
     "metadata": {},
     "output_type": "execute_result"
    }
   ],
   "source": [
    "# e. A random float in the range from -10.0 to 10.0\n",
    "\n",
    "random.uniform(-10,10)"
   ]
  },
  {
   "cell_type": "code",
   "execution_count": 171,
   "metadata": {},
   "outputs": [
    {
     "data": {
      "text/plain": [
       "-2.3907381766937186"
      ]
     },
     "execution_count": 171,
     "metadata": {},
     "output_type": "execute_result"
    }
   ],
   "source": [
    "# e.alt A random float in the range from -10.0 to 10.0\n",
    "\n",
    "20 * (random() - 0.5)"
   ]
  },
  {
   "cell_type": "markdown",
   "metadata": {},
   "source": [
    "3. In your own words, describe what factors might lead a designer to choose spiral developement over a top-down approach."
   ]
  },
  {
   "cell_type": "markdown",
   "metadata": {},
   "source": [
    "Spiral developement is particularly useful when dealing with new or unfamiliar features or technologies. It's helpful to \"get your hands dirty\" with a quick prototype just to see what you can do. As a novice programmer, everything may seem new to you, so prototyping might prove useful. If full-blown top-down design does not seem to be working for you, try some spiral developement."
   ]
  },
  {
   "cell_type": "markdown",
   "metadata": {},
   "source": [
    "#### Programming Exercises"
   ]
  },
  {
   "cell_type": "markdown",
   "metadata": {},
   "source": [
    "1. Revise the racquetball simulation so that it computes the results for best of n game matches. First service alternates, so player A serves first in the odd games of the match, and player B serves first in the even games."
   ]
  },
  {
   "cell_type": "code",
   "execution_count": 10,
   "metadata": {},
   "outputs": [
    {
     "name": "stdout",
     "output_type": "stream",
     "text": [
      "This program simulates a game of racquetball between two\n",
      "players called \"A\" and \"B\". THe ability of each player is\n",
      "indicated by a probability (a number between 0 and 1) that\n",
      "the player wins the point when serving. Player A always\n",
      "has the first serve.\n",
      "What is the prob. player A wins a serve?0.7\n",
      "What is the prob. player B wins a serve?0.3\n",
      "How many games to simulate? 15\n",
      "\n",
      "Games simulated: 15\n",
      "Wins for A: 15 (100.0%)\n",
      "Wins for B: 0 (0.0%)\n"
     ]
    }
   ],
   "source": [
    "#rball.py\n",
    "\n",
    "from random import random\n",
    "\n",
    "def main():\n",
    "    printIntro()\n",
    "    probA, probB, n = getInputs()\n",
    "    winsA, winsB = simNgames(n, probA, probB)\n",
    "    printSummary(winsA, winsB)\n",
    "\n",
    "def printIntro():\n",
    "    print(\"This program simulates a game of racquetball between two\")\n",
    "    print('players called \"A\" and \"B\". THe ability of each player is')\n",
    "    print(\"indicated by a probability (a number between 0 and 1) that\")\n",
    "    print(\"the player wins the point when serving. Player A always\")\n",
    "    print(\"has the first serve.\")\n",
    "    \n",
    "def getInputs():\n",
    "   \n",
    "    # Returns the three simulation parameters probA, probB and n\n",
    "    a = float(input(\"What is the prob. player A wins a serve?\"))\n",
    "    b = float(input(\"What is the prob. player B wins a serve?\"))\n",
    "    n = int(input(\"How many games to simulate? \"))\n",
    "    \n",
    "    return a, b, n\n",
    "\n",
    "def simNgames(n, probA, probB):\n",
    "    \n",
    "    # Simulates n games of racquetball between players whose\n",
    "    # abilities are represented by the probability of winning a serve\n",
    "    # Returns number of wins for A and B\n",
    "    winsA = winsB = 0\n",
    "    \n",
    "    for i in range(n):\n",
    "        scoreA, scoreB = simOneGame(probA, probB)\n",
    "        if scoreA > scoreB:\n",
    "            winsA = winsA + 1\n",
    "        else:\n",
    "            winsB = winsB + 1\n",
    "            \n",
    "    return winsA, winsB\n",
    "\n",
    "def simOneGame(probA, probB):\n",
    "    \n",
    "    # Simulates a single game or racquetball between players whose\n",
    "    # abilities are represented by the probability of winning a serve\n",
    "    # Returns final scores for A and B\n",
    "    \n",
    "    serving = \"A\"\n",
    "    scoreA = 0\n",
    "    scoreB = 0\n",
    "    \n",
    "    \n",
    "    while not gameOver(scoreA, scoreB):\n",
    "        if serving == \"A\":\n",
    "            if random() < probA:\n",
    "                scoreA = scoreA + 1\n",
    "            else:\n",
    "                serving = \"B\"\n",
    "        else:\n",
    "            if random() < probB:\n",
    "                scoreB = scoreB + 1\n",
    "            else:\n",
    "                serving = \"A\"\n",
    "\n",
    "    return scoreA, scoreB\n",
    "\n",
    "def gameOver(a,b):\n",
    "    # a and b represent scores for a racquetball game\n",
    "    # Returns True if the game is over, False otherwise.\n",
    "    return a==15 or b==15 \n",
    "\n",
    "def printSummary(winsA, winsB):\n",
    "    # Prints a summary of wins for each player\n",
    "    n = winsA + winsB\n",
    "    print(\"\\nGames simulated:\", n)\n",
    "    print(\"Wins for A: {0} ({1:0.1%})\".format(winsA, winsA/n))\n",
    "    print(\"Wins for B: {0} ({1:0.1%})\".format(winsB, winsB/n))\n",
    "    \n",
    "if __name__ == \"__main__\":main()"
   ]
  },
  {
   "cell_type": "code",
   "execution_count": 9,
   "metadata": {},
   "outputs": [
    {
     "name": "stdout",
     "output_type": "stream",
     "text": [
      "This program simulates a game of racquetball between two\n",
      "players called \"A\" and \"B\". The abilities of each player is\n",
      "indicated by a probability (a number between 0 and 1) that\n",
      "reflects the likelihood of a player winning the serve.\n",
      "Player A has the first serve.\n",
      "What is the prob. player A wins a serve? 0.7\n",
      "What is the prob. player B wins a serve? 0.3\n",
      "How many games to simulate? 15\n",
      "\n",
      "Games simulated:  15\n",
      "Wins for A: 13 (86.7%)\n",
      "Wins for B: 2 (13.3%)\n"
     ]
    }
   ],
   "source": [
    "from random import random\n",
    "\n",
    "def main():\n",
    "    printIntro()\n",
    "    probA, probB, n = getInputs()\n",
    "    matchA, matchB = simNMatches(n, probA, probB)\n",
    "    printSummary(matchA, matchB)\n",
    "\n",
    "def printIntro():\n",
    "    print(\"This program simulates a game of racquetball between two\")\n",
    "    print('players called \"A\" and \"B\". The abilities of each player is')\n",
    "    print(\"indicated by a probability (a number between 0 and 1) that\")\n",
    "    print(\"reflects the likelihood of a player winning the serve.\")\n",
    "    print(\"Player A has the first serve.\")\n",
    "\n",
    "def getInputs():\n",
    "    #Returns the three simulation parameters\n",
    "    a = eval(input(\"What is the prob. player A wins a serve? \"))\n",
    "    b = eval(input(\"What is the prob. player B wins a serve? \"))\n",
    "    n = eval(input(\"How many games to simulate? \"))\n",
    "    return a, b, n\n",
    "\n",
    "# Study below functions and break down\n",
    "\n",
    "def simNMatches(n, probA, probB):\n",
    "    #Simulates n Matches of racquetball between players whos\n",
    "    #   abilities are represented by the probability of winning a serve.\n",
    "    #Returns number of match wins for A and B. Matches are determined\n",
    "    #by best of 3 games. Service alternates per game\n",
    "    matchA = matchB = 0\n",
    "    for i in range(n):\n",
    "        winsA, winsB = simOneMatch(probA, probB)\n",
    "\n",
    "        if winsA > winsB:\n",
    "            matchA = matchA + 1\n",
    "        else:\n",
    "            matchB = matchB + 1\n",
    "    return matchA, matchB\n",
    "\n",
    "def simOneMatch(probA, probB):\n",
    "    winsA = winsB = 0\n",
    "    #accumulate number of games\n",
    "    x = 1\n",
    "    while winsA !=2 and winsB !=2:\n",
    "        scoreA, scoreB = simOneGame(probA, probB, x)\n",
    "        if scoreA > scoreB:\n",
    "            winsA = winsA + 1\n",
    "            x = x+1\n",
    "        else:\n",
    "            winsB = winsB + 1\n",
    "            x = x+1\n",
    "    return winsA, winsB\n",
    "\n",
    "def simOneGame(probA, probB, x):\n",
    "    #Simulates a single game of racquetball between players whoe\n",
    "    #   abilities are represented by the probability of winning a serve.\n",
    "    #Returns final scores for A and B\n",
    "    serving = findService(x)\n",
    "    scoreA = 0\n",
    "    scoreB = 0\n",
    "    while not gameOver(scoreA, scoreB):\n",
    "        if serving == \"A\":\n",
    "            if random() < probA:\n",
    "                scoreA = scoreA + 1\n",
    "            else:\n",
    "                serving = \"B\"\n",
    "        elif serving == \"B\":\n",
    "            if random() < probB:\n",
    "                scoreB = scoreB + 1\n",
    "            else:\n",
    "                serving = \"A\"\n",
    "    return scoreA, scoreB\n",
    "\n",
    "def findService(x):\n",
    "    if x % 2 == 0:\n",
    "        return \"A\"\n",
    "    else:\n",
    "        return \"B\"\n",
    "\n",
    "def gameOver(a, b):\n",
    "    #a and b represent scores for a racquetball game\n",
    "    #Returns True if the game is over, False otherwise\n",
    "    #Must win by 2\n",
    "    #7-0 is a shutout\n",
    "    if a == 0 and b == 7:\n",
    "        return b == 7\n",
    "    elif b == 0 and a == 7:\n",
    "        return a == 7\n",
    "    elif abs(a-b) >= 2:\n",
    "        return True\n",
    "    else:\n",
    "        return False\n",
    "\n",
    "def printSummary(matchA, matchB):\n",
    "    # Prints a summary of wins for each players\n",
    "    n = matchA + matchB\n",
    "    print(\"\\nGames simulated: \", n)\n",
    "    print(\"Wins for A: {0} ({1:0.1%})\".format(matchA, matchA/n))\n",
    "    print(\"Wins for B: {0} ({1:0.1%})\".format(matchB, matchB/n))\n",
    "\n",
    "if __name__ == '__main__': main()"
   ]
  },
  {
   "cell_type": "markdown",
   "metadata": {},
   "source": [
    "3. Design and implement a simulation of the game of volleyball. Normal volleyball is played like racquetball in that a team can only score points when it is serving. Games are played to 15, but must be won by at least two points."
   ]
  },
  {
   "cell_type": "code",
   "execution_count": 43,
   "metadata": {},
   "outputs": [],
   "source": [
    "def main():\n",
    "    printIntro()\n",
    "    probA, probB, n = getInputs()\n",
    "    matchA, matchB = simNMatches(n, probA, probB)\n",
    "    printSummary(matchA, matchB)"
   ]
  },
  {
   "cell_type": "code",
   "execution_count": 44,
   "metadata": {},
   "outputs": [],
   "source": [
    "def printIntro():\n",
    "    print(\"This program simulates a game of Volleyball between two\")\n",
    "    print('players called \"A\" and \"B\". The abilities of each player is')\n",
    "    print(\"indicated by a probability (a number between 0 and 1) that\")\n",
    "    print(\"reflects the likelihood of a player winning the serve.\")\n",
    "    print(\"Player A has the first serve.\")\n",
    "    print(\"Starting serve alternates each game. Players win the serve\")\n",
    "    print(\"with a winnin volley, and can score only on their own serve.\")\n",
    "    # test - completed"
   ]
  },
  {
   "cell_type": "code",
   "execution_count": 45,
   "metadata": {},
   "outputs": [],
   "source": [
    "def getInputs():\n",
    "    #Returns the three simulation parameters\n",
    "    a = eval(input(\"What is the prob. player A wins a serve? \"))\n",
    "    b = eval(input(\"What is the prob. player B wins a serve? \"))\n",
    "    n = eval(input(\"How many games to simulate? \"))\n",
    "    return a, b, n\n",
    "    # test - completed"
   ]
  },
  {
   "cell_type": "code",
   "execution_count": 46,
   "metadata": {},
   "outputs": [],
   "source": [
    "def simNgames(n, probA, probB):\n",
    "    \n",
    "    # Simulates n games of racquetball between players whose\n",
    "    # abilities are represented by the probability of winning a serve\n",
    "    # Returns number of wins for A and B\n",
    "    winsA = winsB = 0\n",
    "    \n",
    "    for i in range(n):\n",
    "        scoreA, scoreB = simOneGame(probA, probB, n)\n",
    "        if scoreA > scoreB:\n",
    "            winsA = winsA + 1\n",
    "        else:\n",
    "            winsB = winsB + 1\n",
    "            \n",
    "    return winsA, winsB"
   ]
  },
  {
   "cell_type": "code",
   "execution_count": 51,
   "metadata": {},
   "outputs": [
    {
     "ename": "TypeError",
     "evalue": "simOneGame() takes 2 positional arguments but 3 were given",
     "output_type": "error",
     "traceback": [
      "\u001b[0;31m---------------------------------------------------------------------------\u001b[0m",
      "\u001b[0;31mTypeError\u001b[0m                                 Traceback (most recent call last)",
      "\u001b[0;32m<ipython-input-51-c6a5e74ed961>\u001b[0m in \u001b[0;36m<module>\u001b[0;34m\u001b[0m\n\u001b[0;32m----> 1\u001b[0;31m \u001b[0msimOneMatch\u001b[0m\u001b[0;34m(\u001b[0m\u001b[0;36m0.5\u001b[0m\u001b[0;34m,\u001b[0m\u001b[0;36m0.5\u001b[0m\u001b[0;34m)\u001b[0m\u001b[0;34m\u001b[0m\u001b[0;34m\u001b[0m\u001b[0m\n\u001b[0m\u001b[1;32m      2\u001b[0m \u001b[0msimNMatches\u001b[0m\u001b[0;34m(\u001b[0m\u001b[0;36m10\u001b[0m\u001b[0;34m,\u001b[0m\u001b[0;36m0.5\u001b[0m\u001b[0;34m,\u001b[0m\u001b[0;36m0.5\u001b[0m\u001b[0;34m)\u001b[0m\u001b[0;34m\u001b[0m\u001b[0;34m\u001b[0m\u001b[0m\n",
      "\u001b[0;32m<ipython-input-9-4b570bca025e>\u001b[0m in \u001b[0;36msimOneMatch\u001b[0;34m(probA, probB)\u001b[0m\n\u001b[1;32m     41\u001b[0m     \u001b[0mx\u001b[0m \u001b[0;34m=\u001b[0m \u001b[0;36m1\u001b[0m\u001b[0;34m\u001b[0m\u001b[0;34m\u001b[0m\u001b[0m\n\u001b[1;32m     42\u001b[0m     \u001b[0;32mwhile\u001b[0m \u001b[0mwinsA\u001b[0m \u001b[0;34m!=\u001b[0m\u001b[0;36m2\u001b[0m \u001b[0;32mand\u001b[0m \u001b[0mwinsB\u001b[0m \u001b[0;34m!=\u001b[0m\u001b[0;36m2\u001b[0m\u001b[0;34m:\u001b[0m\u001b[0;34m\u001b[0m\u001b[0;34m\u001b[0m\u001b[0m\n\u001b[0;32m---> 43\u001b[0;31m         \u001b[0mscoreA\u001b[0m\u001b[0;34m,\u001b[0m \u001b[0mscoreB\u001b[0m \u001b[0;34m=\u001b[0m \u001b[0msimOneGame\u001b[0m\u001b[0;34m(\u001b[0m\u001b[0mprobA\u001b[0m\u001b[0;34m,\u001b[0m \u001b[0mprobB\u001b[0m\u001b[0;34m,\u001b[0m \u001b[0mx\u001b[0m\u001b[0;34m)\u001b[0m\u001b[0;34m\u001b[0m\u001b[0;34m\u001b[0m\u001b[0m\n\u001b[0m\u001b[1;32m     44\u001b[0m         \u001b[0;32mif\u001b[0m \u001b[0mscoreA\u001b[0m \u001b[0;34m>\u001b[0m \u001b[0mscoreB\u001b[0m\u001b[0;34m:\u001b[0m\u001b[0;34m\u001b[0m\u001b[0;34m\u001b[0m\u001b[0m\n\u001b[1;32m     45\u001b[0m             \u001b[0mwinsA\u001b[0m \u001b[0;34m=\u001b[0m \u001b[0mwinsA\u001b[0m \u001b[0;34m+\u001b[0m \u001b[0;36m1\u001b[0m\u001b[0;34m\u001b[0m\u001b[0;34m\u001b[0m\u001b[0m\n",
      "\u001b[0;31mTypeError\u001b[0m: simOneGame() takes 2 positional arguments but 3 were given"
     ]
    }
   ],
   "source": [
    "simOneMatch(0.5,0.5)\n",
    "simNMatches(10,0.5,0.5)"
   ]
  },
  {
   "cell_type": "code",
   "execution_count": null,
   "metadata": {},
   "outputs": [],
   "source": [
    "def simOneGame(probA, probB, n):\n",
    "    #Simulates a single game of racquetball between players whoe\n",
    "    #   abilities are represented by the probability of winning a serve.\n",
    "    #Returns final scores for A and B\n",
    "    serving = findService(n)\n",
    "    scoreA = 0\n",
    "    scoreB = 0\n",
    "    while not gameOver(scoreA, scoreB):\n",
    "        if serving == \"A\":\n",
    "            if random() < probA:\n",
    "                scoreA = scoreA + 1\n",
    "            else:\n",
    "                serving = \"B\"\n",
    "        elif serving == \"B\":\n",
    "            if random() < probB:\n",
    "                scoreB = scoreB + 1\n",
    "            else:\n",
    "                serving = \"A\"\n",
    "    return scoreA, scoreB"
   ]
  },
  {
   "cell_type": "code",
   "execution_count": null,
   "metadata": {},
   "outputs": [],
   "source": []
  },
  {
   "cell_type": "code",
   "execution_count": null,
   "metadata": {},
   "outputs": [],
   "source": [
    "def findService(x):\n",
    "    if x % 2 == 0:\n",
    "        return \"A\"\n",
    "    else:\n",
    "        return \"B\""
   ]
  },
  {
   "cell_type": "code",
   "execution_count": null,
   "metadata": {},
   "outputs": [],
   "source": []
  },
  {
   "cell_type": "code",
   "execution_count": 52,
   "metadata": {},
   "outputs": [],
   "source": [
    "def gameOver(a, b):\n",
    "    #a and b represent scores for a racquetball game\n",
    "    #Returns True if the game is over, False otherwise\n",
    "    #Must win by 2\n",
    "    if a > 15 or b >15:\n",
    "        if abs(a-b) >= 2:\n",
    "            return True\n",
    "        else:\n",
    "            return False\n",
    "    else:\n",
    "        return False"
   ]
  },
  {
   "cell_type": "code",
   "execution_count": null,
   "metadata": {},
   "outputs": [],
   "source": []
  },
  {
   "cell_type": "code",
   "execution_count": null,
   "metadata": {},
   "outputs": [],
   "source": [
    "def printSummary(matchA, matchB):\n",
    "    # Prints a summary of wins for each players\n",
    "    n = matchA + matchB\n",
    "    print(\"\\nGames simulated: \", n)\n",
    "    print(\"Wins for A: {0} ({1:0.1%})\".format(matchA, matchA/n))\n",
    "    print(\"Wins for B: {0} ({1:0.1%})\".format(matchB, matchB/n))\n",
    "\n",
    "if __name__ == '__main__': main()"
   ]
  },
  {
   "cell_type": "code",
   "execution_count": null,
   "metadata": {},
   "outputs": [],
   "source": []
  },
  {
   "cell_type": "code",
   "execution_count": 53,
   "metadata": {},
   "outputs": [
    {
     "name": "stdout",
     "output_type": "stream",
     "text": [
      "This program simulates a game of volleyball between two\n",
      "teams called \"A\" and \"B\". The abilities of each team is\n",
      "indicated by a probability (a number between 0 and 1) that\n",
      "reflects the likelihood of a team winning the serve.\n",
      "Starting serve alternates each game. Players win the serve with\n",
      "a winning volley, and can score only on their own serve.\n",
      "What is the prob. player A wins a serve? 0.5\n",
      "What is the prob. player B wins a serve? 0.5\n",
      "How many games to simulate? 15\n",
      "\n",
      "Games simulated:  15\n",
      "Wins for A: 8 (53.3%)\n",
      "Wins for B: 7 (46.7%)\n"
     ]
    }
   ],
   "source": [
    "from random import random\n",
    "\n",
    "def main():\n",
    "    printIntro()\n",
    "    probA, probB, n = getInputs()\n",
    "    winsA, winsB = simNGames(n, probA, probB)\n",
    "    printSummary(winsA, winsB, n)\n",
    "\n",
    "def printIntro():\n",
    "    print(\"This program simulates a game of volleyball between two\")\n",
    "    print('teams called \"A\" and \"B\". The abilities of each team is')\n",
    "    print(\"indicated by a probability (a number between 0 and 1) that\")\n",
    "    print(\"reflects the likelihood of a team winning the serve.\")\n",
    "    print(\"Starting serve alternates each game. Players win the serve with\")\n",
    "    print(\"a winning volley, and can score only on their own serve.\")\n",
    "    \n",
    "def getInputs():\n",
    "    #Returns the three simulation parameters\n",
    "    a = eval(input(\"What is the prob. player A wins a serve? \"))\n",
    "    b = eval(input(\"What is the prob. player B wins a serve? \"))\n",
    "    n = eval(input(\"How many games to simulate? \"))\n",
    "    return a, b, n\n",
    "\n",
    "def simNGames(n, probA, probB):\n",
    "    #Simulates n games of racquetball between players whos\n",
    "    #   abilities are represented by the probability of winning a serve.\n",
    "    #Returns number of wins for A and B\n",
    "    winsA = winsB = 0\n",
    "    for i in range(n):\n",
    "        scoreA, scoreB = simOneGame(probA, probB, n)\n",
    "        if scoreA > scoreB:\n",
    "            winsA = winsA + 1\n",
    "        else:\n",
    "            winsB = winsB + 1\n",
    "    return winsA, winsB\n",
    "\n",
    "def simOneGame(probA, probB, n):\n",
    "    #Simulates a single game of volleyball between players whose\n",
    "    #   abilities are represented by the probability of winning a serve.\n",
    "    #Returns final scores for A and B\n",
    "    #starting serve alternates each game\n",
    "    serving = findService(n)\n",
    "    scoreA = 0\n",
    "    scoreB = 0\n",
    "    while not gameOver(scoreA, scoreB):\n",
    "        if serving == \"A\":\n",
    "            if random() < probA:\n",
    "                scoreA = scoreA + 1\n",
    "            else:\n",
    "                serving = \"B\"\n",
    "        if serving == \"B\":\n",
    "            if random() < probB:\n",
    "                scoreB = scoreB + 1\n",
    "            else:\n",
    "                serving = \"A\"\n",
    "    return scoreA, scoreB\n",
    "\n",
    "def findService(n):\n",
    "    if n % 2 == 0:\n",
    "        return \"A\"\n",
    "    else:\n",
    "        return \"B\"\n",
    "\n",
    "def gameOver(a, b):\n",
    "    #a and b represent scores for a racquetball game\n",
    "    #Returns True if the game is over, False otherwise\n",
    "    if a > 15 or b > 15:\n",
    "        if abs(a-b) >= 2:\n",
    "            return True\n",
    "        else:\n",
    "            return False\n",
    "    else:\n",
    "        return False\n",
    "\n",
    "def printSummary(winsA, winsB, n):\n",
    "    # Prints a summary of wins for each players\n",
    "    print(\"\\nGames simulated: \", n)\n",
    "    print(\"Wins for A: {0} ({1:0.1%})\".format(winsA, winsA/n))\n",
    "    print(\"Wins for B: {0} ({1:0.1%})\".format(winsB, winsB/n))\n",
    "\n",
    "if __name__ == '__main__': main()"
   ]
  },
  {
   "cell_type": "markdown",
   "metadata": {},
   "source": [
    "4. Most sanctioned volleyball is now played using rally scoring. In this system, the team that wins a rally is awarded a point, even if they were not the serving team. Games are played to a score of 15, but must be won by at least two points."
   ]
  },
  {
   "cell_type": "code",
   "execution_count": 54,
   "metadata": {},
   "outputs": [
    {
     "name": "stdout",
     "output_type": "stream",
     "text": [
      "This program simulates a game of volleyball between two\n",
      "teams called \"A\" and \"B\". The abilities of each team is\n",
      "indicated by a probability (a number between 0 and 1) that\n",
      "reflects the likelihood of a team winning the serve.\n",
      "Starting serve alternates each game. Players win the serve with\n",
      "a winning volley, and can score on either teams serve per Rally rules.\n",
      "What is the prob. player A wins a serve? 0.5\n",
      "What is the prob. player B wins a serve? 0.5\n",
      "How many games to simulate? 15\n",
      "\n",
      "Games simulated:  15\n",
      "Wins for A: 4 (26.7%)\n",
      "Wins for B: 11 (73.3%)\n"
     ]
    }
   ],
   "source": [
    "from random import random\n",
    "\n",
    "def main():\n",
    "    printIntro()\n",
    "    probA, probB, n = getInputs()\n",
    "    winsA, winsB = simNGames(n, probA, probB)\n",
    "    printSummary(winsA, winsB, n)\n",
    "\n",
    "def printIntro():\n",
    "    print(\"This program simulates a game of volleyball between two\")\n",
    "    print('teams called \"A\" and \"B\". The abilities of each team is')\n",
    "    print(\"indicated by a probability (a number between 0 and 1) that\")\n",
    "    print(\"reflects the likelihood of a team winning the serve.\")\n",
    "    print(\"Starting serve alternates each game. Players win the serve with\")\n",
    "    print(\"a winning volley, and can score on either teams serve per Rally rules.\")\n",
    "\n",
    "def getInputs():\n",
    "    #Returns the three simulation parameters\n",
    "    a = eval(input(\"What is the prob. player A wins a serve? \"))\n",
    "    b = eval(input(\"What is the prob. player B wins a serve? \"))\n",
    "    n = eval(input(\"How many games to simulate? \"))\n",
    "    return a, b, n\n",
    "\n",
    "def simNGames(n, probA, probB):\n",
    "    #Simulates a single game of volleyball between players whose\n",
    "    #   abilities are represented by the probability of winning a serve.\n",
    "    #Returns final scores for A and B\n",
    "    #starting serve alternates each game\n",
    "    winsA = winsB = 0\n",
    "    for i in range(n):\n",
    "        scoreA, scoreB = simOneGame(probA, probB, n)\n",
    "        if scoreA > scoreB:\n",
    "            winsA = winsA + 1\n",
    "        else:\n",
    "            winsB = winsB + 1\n",
    "    return winsA, winsB\n",
    "\n",
    "def simOneGame(probA, probB, n):\n",
    "    #Simulates a single game of volleyball between players whose\n",
    "    #   abilities are represented by the probability of winning a serve.\n",
    "    #Returns final scores for A and B\n",
    "    #starting serve alternates each game\n",
    "    serving = findService(n)\n",
    "    scoreA = 0\n",
    "    scoreB = 0\n",
    "    while not gameOver(scoreA, scoreB):\n",
    "        if serving == \"A\":\n",
    "            if random() < probA:\n",
    "                scoreA = scoreA + 1\n",
    "            else:\n",
    "                serving = \"B\"\n",
    "                scoreB = scoreB + 1\n",
    "        elif serving == \"B\":\n",
    "            if random() < probB:\n",
    "                scoreB = scoreB + 1\n",
    "            else:\n",
    "                serving = \"A\"\n",
    "                scoreA = scoreA + 1\n",
    "    return scoreA, scoreB\n",
    "\n",
    "def findService(n):\n",
    "    if n % 2 == 0:\n",
    "        return \"A\"\n",
    "    else:\n",
    "        return \"B\"\n",
    "\n",
    "def gameOver(a, b):\n",
    "    #a and b represent scores for a racquetball game\n",
    "    #Returns True if the game is over, False otherwise\n",
    "    if a > 25 or b > 25:\n",
    "        if abs(a-b) >= 2:\n",
    "            return True\n",
    "        else:\n",
    "            return False\n",
    "    else:\n",
    "        return False\n",
    "\n",
    "def printSummary(winsA, winsB, n):\n",
    "    # Prints a summary of wins for each players\n",
    "    print(\"\\nGames simulated: \", n)\n",
    "    print(\"Wins for A: {0} ({1:0.1%})\".format(winsA, winsA/n))\n",
    "    print(\"Wins for B: {0} ({1:0.1%})\".format(winsB, winsB/n))\n",
    "\n",
    "if __name__ == '__main__': main()"
   ]
  },
  {
   "cell_type": "markdown",
   "metadata": {},
   "source": [
    "5. Design and implement  a system that compares regulate volleyball games to those using rally scoring. Your program should be able to investigate whether rally scoring magnified, reduces, or has no effect on the relative advantage enyjoed by the better team."
   ]
  },
  {
   "cell_type": "code",
   "execution_count": 56,
   "metadata": {},
   "outputs": [
    {
     "name": "stdout",
     "output_type": "stream",
     "text": [
      "This program is designed to compare the difference between Normal\n",
      "and Rally scoring in a simulation of (n) games of Volleyball\n",
      "given a probability (a number between 0 and 1) that reflects the\n",
      "likelihood of a team winning the serve.\n",
      "What is the prob. player A wins a serve? .3\n",
      "What is the prob. player B wins a serve? .7\n",
      "How many games to simulate? 1000\n",
      "\n",
      "Games simulated:  1000\n",
      "Results for Normal Volleyball to 15, score on own serve.\n",
      "Wins for A: 4 (0.4%)\n",
      "Wins for B: 996 (99.6%)\n",
      "\n",
      "Results for Rally Volleyball to 25, score on any serve.\n",
      "Wins for A: 2 (0.2%)\n",
      "Wins for B: 998 (99.8%)\n",
      "\n",
      "Team B's advantage was magnified 0.2% in their favor\n",
      "during the rally scoring match.\n"
     ]
    }
   ],
   "source": [
    "from random import random\n",
    "\n",
    "def main():\n",
    "    printIntro()\n",
    "    probA, probB, n = getInputs()\n",
    "    winsA1, winsB1 = normalVolley(n, probA, probB)\n",
    "    winsA2, winsB2 = rallyVolley(n, probA, probB)\n",
    "    printSummary(winsA1, winsB1, winsA2, winsB2, n)\n",
    "\n",
    "def printIntro():\n",
    "    print(\"This program is designed to compare the difference between Normal\")\n",
    "    print(\"and Rally scoring in a simulation of (n) games of Volleyball\")\n",
    "    print(\"given a probability (a number between 0 and 1) that reflects the\")\n",
    "    print(\"likelihood of a team winning the serve.\")\n",
    "\n",
    "def getInputs():\n",
    "    #Returns the three simulation parameters\n",
    "    a = eval(input(\"What is the prob. player A wins a serve? \"))\n",
    "    b = eval(input(\"What is the prob. player B wins a serve? \"))\n",
    "    n = eval(input(\"How many games to simulate? \"))\n",
    "    return a, b, n\n",
    "\n",
    "def normalVolley(n, probA, probB):\n",
    "    #Simulates a single game of volleyball between players whose\n",
    "    #abilities are represented by the probability of winning a serve.\n",
    "    #Returns final scores for A and B\n",
    "    #starting serve alternates each game\n",
    "    #Games to 15, can only score on own serve\n",
    "    winsA = winsB = 0\n",
    "    for i in range(n):\n",
    "        scoreA, scoreB = simOneGame(probA, probB, n)\n",
    "        if scoreA > scoreB:\n",
    "            winsA = winsA + 1\n",
    "        else:\n",
    "            winsB = winsB + 1\n",
    "    return winsA, winsB\n",
    "\n",
    "def simOneGame(probA, probB, n):\n",
    "    #Simulates a single game of volleyball between players whose\n",
    "    #abilities are represented by the probability of winning a serve.\n",
    "    #Returns final scores for A and B\n",
    "    #starting serve alternates each game\n",
    "    serving = findService(n)\n",
    "    scoreA = 0\n",
    "    scoreB = 0\n",
    "    while not gameOver(scoreA, scoreB):\n",
    "        if serving == \"A\":\n",
    "            if random() < probA:\n",
    "                scoreA = scoreA + 1\n",
    "            else:\n",
    "                serving = \"B\"\n",
    "        if serving == \"B\":\n",
    "            if random() < probB:\n",
    "                scoreB = scoreB + 1\n",
    "            else:\n",
    "                serving = \"A\"\n",
    "    return scoreA, scoreB\n",
    "\n",
    "def findService(n):\n",
    "    if n % 2 == 0:\n",
    "        return \"A\"\n",
    "    else:\n",
    "        return \"B\"\n",
    "\n",
    "def gameOver(a, b):\n",
    "    #a and b represent scores for a racquetball game\n",
    "    #Returns True if the game is over, False otherwise\n",
    "    if a > 15 or b > 15:\n",
    "        if abs(a-b) >= 2:\n",
    "            return True\n",
    "        else:\n",
    "            return False\n",
    "    else:\n",
    "        return False\n",
    "\n",
    "def rallyVolley(n, probA, probB):\n",
    "    #Simulates a single game of volleyball between players whose\n",
    "    #abilities are represented by the probability of winning a serve.\n",
    "    #Returns final scores for A and B\n",
    "    #starting serve alternates each game\n",
    "    winsA = winsB = 0\n",
    "    for i in range(n):\n",
    "        scoreA, scoreB = simOneGame(probA, probB, n)\n",
    "        if scoreA > scoreB:\n",
    "            winsA = winsA + 1\n",
    "        else:\n",
    "            winsB = winsB + 1\n",
    "    return winsA, winsB\n",
    "\n",
    "def simOneGame(probA, probB, n):\n",
    "    #Simulates a single game of volleyball between players whose\n",
    "    #abilities are represented by the probability of winning a serve.\n",
    "    #Returns final scores for A and B\n",
    "    #starting serve alternates each game\n",
    "    serving = findService(n)\n",
    "    scoreA = 0\n",
    "    scoreB = 0\n",
    "    while not gameOver(scoreA, scoreB):\n",
    "        if serving == \"A\":\n",
    "            if random() < probA:\n",
    "                scoreA = scoreA + 1\n",
    "            else:\n",
    "                serving = \"B\"\n",
    "                scoreB = scoreB + 1\n",
    "        elif serving == \"B\":\n",
    "            if random() < probB:\n",
    "                scoreB = scoreB + 1\n",
    "            else:\n",
    "                serving = \"A\"\n",
    "                scoreA = scoreA + 1\n",
    "    return scoreA, scoreB\n",
    "\n",
    "def findService(n):\n",
    "    if n % 2 == 0:\n",
    "        return \"A\"\n",
    "    else:\n",
    "        return \"B\"\n",
    "\n",
    "def gameOver(a, b):\n",
    "    #a and b represent scores for a racquetball game\n",
    "    #Returns True if the game is over, False otherwise\n",
    "    if a > 25 or b > 25:\n",
    "        if abs(a-b) >= 2:\n",
    "            return True\n",
    "        else:\n",
    "            return False\n",
    "    else:\n",
    "        return False\n",
    "\n",
    "def printSummary(winsA1, winsB1, winsA2, winsB2, n):\n",
    "    # Prints a summary of wins for each players\n",
    "    print(\"\\nGames simulated: \", n)\n",
    "    print(\"Results for Normal Volleyball to 15, score on own serve.\")\n",
    "    print(\"Wins for A: {0} ({1:0.1%})\".format(winsA1, winsA1/n))\n",
    "    print(\"Wins for B: {0} ({1:0.1%})\".format(winsB1, winsB1/n))\n",
    "    print()\n",
    "    print(\"Results for Rally Volleyball to 25, score on any serve.\")\n",
    "    print(\"Wins for A: {0} ({1:0.1%})\".format(winsA2, winsA2/n))\n",
    "    print(\"Wins for B: {0} ({1:0.1%})\".format(winsB2, winsB2/n))\n",
    "    print()\n",
    "\n",
    "\n",
    "    devA = (winsA2/n - winsA1/n)\n",
    "    devB = (winsB2/n - winsB1/n)\n",
    "    if (winsA1 > winsB1) and (winsA2 > winsB2):\n",
    "        if devA > 0:\n",
    "            print(\"Team A's advantage was magnified {0:0.1%} in their favor\".format(devA))\n",
    "            print(\"during the rally scoring match.\")\n",
    "        elif devA < 0:\n",
    "            print(\"Team A's advantage was reduced {0:0.1%} in their favor\".format(abs(devA)))\n",
    "            print(\"during the rally scoring match.\")\n",
    "        else:\n",
    "            print(\"The scoring differences were not statistically significant.\")\n",
    "   \n",
    "    elif (winsB1 > winsA1) and (winsB2 > winsA2):\n",
    "        if devB > 0:\n",
    "            print(\"Team B's advantage was magnified {0:0.1%} in their favor\".format(devB))\n",
    "            print(\"during the rally scoring match.\")\n",
    "        elif devB < 0:\n",
    "            print(\"Team B's advantage was reduced {0:0.1%} in their favor\".format(abs(devB)))\n",
    "            print(\"during the rally scoring match.\")\n",
    "        else:\n",
    "            print(\"The scoring differences were not statistically significant.\")\n",
    "    else:\n",
    "        print(\"Neither team's advantage was statistically significant.\")\n",
    "        print(\"If the initial probabilities were near equal, it is impossible to\")\n",
    "        print(\"derive significance from the data.\")\n",
    "        print(\"Try a larger sample size.\")\n",
    "\n",
    "\n",
    "if __name__ == '__main__': main()"
   ]
  },
  {
   "cell_type": "markdown",
   "metadata": {},
   "source": [
    "7. Craps is a dice game played at many casions. A player rolls a pair of normal six sided dice. If the inital roll is 2,3 or 12, the player loses. If the roll is 7 or 11, the player wins. Any other inital roll causes the player to \"toll for point.\" That is, the player keeps rolling the dice until either rolling a 7 or re-rolling the value of the inital roll. If the player re-rolls the inital value before rolling a 7, it's a win. Rolling a 7 first is a loss.\n",
    "\n",
    "   Write a program to simulate multiple games of craps and estiamte the probability that the player wins. For example, if the player wins 249 out of 500 games, then the estimates probaiolity of winning is 249/500 = 0.498."
   ]
  },
  {
   "cell_type": "code",
   "execution_count": 57,
   "metadata": {},
   "outputs": [
    {
     "name": "stdout",
     "output_type": "stream",
     "text": [
      "This program is designed to simulate (n) games of craps\n",
      "and will return the probability of winning based on the\n",
      "simulation.\n",
      "How many rolls should I simulate? >> 15\n",
      "\n",
      "Games simulated:  15\n",
      "Winning rolls: 6 (40.0%)\n",
      "Losing rolls: 9 (60.0%)\n"
     ]
    }
   ],
   "source": [
    "#2, 3, or 12 the player loses\n",
    "#7 or 11 the player wins\n",
    "#Any other roll initiates roll for points\n",
    "#Roll for 7 (loss) or 11 (win)\n",
    "from random import randrange\n",
    "\n",
    "def main():\n",
    "    printIntro()\n",
    "    n = eval(input(\"How many rolls should I simulate? >> \"))\n",
    "    wins, losses = simNCraps(n)\n",
    "    printSummary(wins, losses, n)\n",
    "\n",
    "def printIntro():\n",
    "    print(\"This program is designed to simulate (n) games of craps\")\n",
    "    print(\"and will return the probability of winning based on the\")\n",
    "    print(\"simulation.\")\n",
    "\n",
    "def simNCraps(n):\n",
    "    wins = 0\n",
    "    losses = 0\n",
    "    for i in range(n):\n",
    "        if simOneCraps() is True:\n",
    "            wins = wins + 1\n",
    "        else:\n",
    "            losses = losses + 1\n",
    "    return wins, losses\n",
    "\n",
    "\n",
    "def simOneCraps():\n",
    "    x = randrange(2,12)\n",
    "    if x == 2 or x == 3 or x == 12:\n",
    "        return False\n",
    "    elif x == 7 or x == 11:\n",
    "        return True\n",
    "    else:\n",
    "        y = 0\n",
    "        while x != y and x != 7:\n",
    "            y = randrange(2, 12)\n",
    "            if y == 7:\n",
    "                return False\n",
    "            elif y == x:\n",
    "                return True\n",
    "\n",
    "def printSummary(wins, losses, n):\n",
    "    print(\"\\nGames simulated: \", n)\n",
    "    print(\"Winning rolls: {0} ({1:0.1%})\".format(wins, wins/n))\n",
    "    print(\"Losing rolls: {0} ({1:0.1%})\".format(losses, losses/n))\n",
    "\n",
    "\n",
    "if __name__ == '__main__': main()"
   ]
  },
  {
   "cell_type": "markdown",
   "metadata": {},
   "source": [
    "9. A blackjack dealer always starts with one card showing. It would be useful for a player to know the dealer's bust probability (see previous problems) for each possible starting value. Write a simulation program that runs multiple hands of blackjack for each possible starting value (ace-10) and estimates the probability that the dealer busts for each starting value."
   ]
  },
  {
   "cell_type": "code",
   "execution_count": null,
   "metadata": {},
   "outputs": [],
   "source": [
    "from random import randrange\n",
    "\n",
    "def main():\n",
    "     printIntro()\n",
    "     n = eval(input(\"Iterations: \"))\n",
    "     for i in range (13):\n",
    "        i = i + 1\n",
    "        busts = simNHands(n, i)\n",
    "        printSummary(busts, n, i)\n",
    "\n",
    "def printIntro():\n",
    "    print(\"This program simulates (n) hands of blackjack for each possible\")\n",
    "    print(\"starting card and displays the probability of the dealer busting\")\n",
    "    print(\"for a particular draw.\")\n",
    "    print(\"Enter the number of iterations you would like the simulation to\")\n",
    "    print(\"perform. Note: the higher the number, the more precise the results.\")\n",
    "    print(\"Enter a number greater than 100.\")\n",
    "\n",
    "def simNHands(n, startCard):\n",
    "    print(startCard)\n",
    "    busts = 0\n",
    "    for i in range(n):\n",
    "        if not simOneHand(startCard):\n",
    "            busts = busts + 1\n",
    "    return busts\n",
    "\n",
    "def simOneHand(startCard):\n",
    "    x = startCard\n",
    "    if x == 11 or x == 12 or x == 13:\n",
    "        x = 10\n",
    "    y = simOneCard()\n",
    "    hand = x + y\n",
    "\n",
    "    while hand < 17:\n",
    "        if hasAce(x) is False and hasAce(y) is False:\n",
    "            z = simOneCard()\n",
    "            if hasAce(z) is False:\n",
    "                hand = hand + z\n",
    "            else:\n",
    "                if 10 >= hand >= 6:\n",
    "                    hand = hand + 11\n",
    "                else:\n",
    "                    hand = hand + 1\n",
    "        elif hasAce(x) is True and hasAce(y) is True:\n",
    "            z = simOneCard()\n",
    "            if hasAce(z) is False:\n",
    "                hand = hand + z\n",
    "                if 10 >= hand >= 6:\n",
    "                    hand = hand + 11\n",
    "                else:\n",
    "                    hand = hand + 1\n",
    "            else:\n",
    "                if 10 >= hand >= 6:\n",
    "                    hand = hand + 11\n",
    "                else:\n",
    "                    hand = hand + 1\n",
    "\n",
    "        else:\n",
    "            if 10 >= hand >= 6:\n",
    "                hand = hand + 11\n",
    "            else:\n",
    "                if hand < 15:\n",
    "                    z = simOneCard()\n",
    "                    hand = hand + 1 + z\n",
    "                else:\n",
    "                    break\n",
    "    if hand > 21:\n",
    "        #bust\n",
    "        return False\n",
    "    else:\n",
    "        return True\n",
    "\n",
    "def simOneCard():\n",
    "    x = randrange(1, 13)\n",
    "    if x == 11 or x == 12 or x == 13:\n",
    "        x = 10\n",
    "        return x\n",
    "    else:\n",
    "        return x\n",
    "\n",
    "def hasAce(x):\n",
    "    if x == 1:\n",
    "        return True\n",
    "    else:\n",
    "        return False\n",
    "\n",
    "def printSummary(busts, n, i):\n",
    "    cards = ['1','Ace', '2', '3', '4','5','6','7','8','9','10','Jack','Queen','King']\n",
    "    print()\n",
    "    print(\"{0}: {1:0.1%} \".format(cards[i],busts/n))\n",
    "\n",
    "if __name__ == '__main__': main()"
   ]
  },
  {
   "cell_type": "markdown",
   "metadata": {},
   "source": [
    "11. Write a program that performs a simulation to estimate the probability of rolling five of a kind in a single roll of five six-sided dice."
   ]
  },
  {
   "cell_type": "code",
   "execution_count": null,
   "metadata": {},
   "outputs": [],
   "source": [
    "from random import randrange\n",
    "\n",
    "def main():\n",
    "    printIntro()\n",
    "    n = eval(input(\"Simulations: \"))\n",
    "    totFive = simNRolls(n)\n",
    "\n",
    "def printIntro():\n",
    "    print(\"This program is intended to simulate the rolling of five six-sided\")\n",
    "    print(\"dice to approximate the probability of rolling five-of-a-kind.\")\n",
    "\n",
    "def simNRolls(n):\n",
    "    totFive = 0\n",
    "    for i in range (n):\n",
    "        if not fiveOfAKind():\n",
    "            totFive = totFive\n",
    "        else:\n",
    "            totFive = totFive + 1\n",
    "    return totFive\n",
    "\n",
    "def fiveOfAKind():\n",
    "    a, b, c, d, e = simOneRoll()\n",
    "    if a == b == c == d == e:\n",
    "        return True\n",
    "    else:\n",
    "        return False\n",
    "\n",
    "def simOneRoll():\n",
    "    dice = []\n",
    "    for i in range (5):\n",
    "        x = randrange(1, 6)\n",
    "        dice.append(x)\n",
    "    return dice\n",
    "\n",
    "if __name__ == '__main__': main()"
   ]
  },
  {
   "cell_type": "markdown",
   "metadata": {},
   "source": [
    "12. A random walk is a particular kind of probabilistic simulation that models certain statistical systems such as the Brownian motion of molecules. You can think of a one-dimensional random walk in terms of coin flipping. Suppose you are standing on a very long straight sidewalk that extends both in front of and behind you. You flip a coin. If it comes up heads, you take a step foward; tails means to take a step backward.\n",
    "\n",
    "    Suppose you take a random walk of n steps. On average, how many steps away from the starting point will you end up? Write a program to help you investigate this question."
   ]
  },
  {
   "cell_type": "code",
   "execution_count": null,
   "metadata": {},
   "outputs": [],
   "source": [
    "from random import random\n",
    "\n",
    "def main():\n",
    "    printIntro()\n",
    "    n = eval(input(\"How many steps do you intend to take per trip? \"))\n",
    "    avgTravel = avgSteps(n)\n",
    "    print(\"The object will travel an average of\", avgTravel, \"based on the simulation.\")\n",
    "\n",
    "def printIntro():\n",
    "    print(\"This program simulates a random walk in one dimension, where the\")\n",
    "    print(\"object will move either forward or backward at random. Varialble\")\n",
    "    print('\"n\" represents the number of random steps per trip. The program')\n",
    "    print(\"will simulate 1000 trips by default, and will return the average\")\n",
    "    print(\"distance traveled per trip.\")\n",
    "\n",
    "def avgSteps(n):\n",
    "    totTravel = 0\n",
    "    for i in range (1000):\n",
    "        steps = simNSteps(n)\n",
    "        totTravel = totTravel + steps\n",
    "    if totTravel == 0:\n",
    "        avgTravel = 0\n",
    "    else:\n",
    "        avgTravel = totTravel / 1000\n",
    "    return avgTravel\n",
    "\n",
    "def simNSteps(n):\n",
    "    steps = 0\n",
    "    for i in range (n):\n",
    "        x = 2 * random() - 1\n",
    "        if x > 0:\n",
    "            steps = steps + 1\n",
    "        elif x < 0:\n",
    "            steps = steps - 1\n",
    "        else:\n",
    "            steps = steps\n",
    "    return steps\n",
    "\n",
    "if __name__ == '__main__': main()"
   ]
  },
  {
   "cell_type": "markdown",
   "metadata": {},
   "source": [
    "13. Suppose you are doing a random walk (see previous problem) on the blocks of a city street. At each \"step\" you choose to walk one block (at random) either foward, backward, left or right. In n steps, how far do you expect to be from your starting point? Write a program to help answer this questions."
   ]
  },
  {
   "cell_type": "code",
   "execution_count": null,
   "metadata": {},
   "outputs": [],
   "source": [
    "#One-dimensional random walk\n",
    "from random import random\n",
    "import math as m\n",
    "\n",
    "def main():\n",
    "    printIntro()\n",
    "    n = eval(input(\"How many steps do you intend to take per trip? \"))\n",
    "    avgDist = avgTravel(n)\n",
    "    printSummary(avgDist)\n",
    "\n",
    "def printIntro():\n",
    "    print(\"This program simulates a random walk in two dimensions, where the\")\n",
    "    print(\"object will move either forward or backward, left of right at random.\")\n",
    "    print('Varialble \"n\" represents the number of random steps per trip. The program')\n",
    "    print(\"will simulate 1000 trips by default, and will return the average\")\n",
    "    print(\"distance 'as the crow flies' traveled per trip.\")\n",
    "\n",
    "def avgTravel(n):\n",
    "    totBlocks = 0\n",
    "    avgDist = 0\n",
    "    for i in range (1000):\n",
    "        avgBlocks = simNBlocks(n)\n",
    "        totBlocks = totBlocks + avgBlocks\n",
    "    if totBlocks == 0:\n",
    "        avgDist = 0\n",
    "    else:\n",
    "        avgDist = totBlocks / 1000\n",
    "    return avgDist\n",
    "\n",
    "def simNBlocks(n):\n",
    "    blocksX = blocksY = 0\n",
    "    for i in range (n):\n",
    "        x = 4 * random()\n",
    "        if 0 <= x < 1:\n",
    "            blocksX = blocksX + 1\n",
    "        elif 1 <= x < 2:\n",
    "            blocksX = blocksX - 1\n",
    "        elif 2 <= x < 3:\n",
    "            blocksY = blocksY + 1\n",
    "        else:\n",
    "            blocksY = blocksY - 1\n",
    "\n",
    "    avgBlocks = m.sqrt((blocksX ** 2 + blocksY ** 2))\n",
    "    return avgBlocks\n",
    "\n",
    "def printSummary(avgDist):\n",
    "    print(\"The object will travel an average of {0:0.2f} blocks based on the simulation.\".format(avgDist))\n",
    "\n",
    "if __name__ == '__main__': main()"
   ]
  },
  {
   "cell_type": "code",
   "execution_count": null,
   "metadata": {},
   "outputs": [],
   "source": []
  },
  {
   "cell_type": "code",
   "execution_count": null,
   "metadata": {},
   "outputs": [],
   "source": []
  }
 ],
 "metadata": {
  "kernelspec": {
   "display_name": "Python 3",
   "language": "python",
   "name": "python3"
  },
  "language_info": {
   "codemirror_mode": {
    "name": "ipython",
    "version": 3
   },
   "file_extension": ".py",
   "mimetype": "text/x-python",
   "name": "python",
   "nbconvert_exporter": "python",
   "pygments_lexer": "ipython3",
   "version": "3.7.6"
  }
 },
 "nbformat": 4,
 "nbformat_minor": 4
}
