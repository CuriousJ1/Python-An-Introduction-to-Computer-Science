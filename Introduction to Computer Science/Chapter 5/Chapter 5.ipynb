{
 "cells": [
  {
   "cell_type": "markdown",
   "metadata": {},
   "source": [
    "# Chapter 5\n",
    "**Sequnces: Strings, Lists, and Files"
   ]
  },
  {
   "cell_type": "markdown",
   "metadata": {},
   "source": [
    "5.1 The String data types"
   ]
  },
  {
   "cell_type": "code",
   "execution_count": 3,
   "metadata": {},
   "outputs": [
    {
     "name": "stdout",
     "output_type": "stream",
     "text": [
      "Hello spam\n"
     ]
    }
   ],
   "source": [
    "# String Types example\n",
    "\n",
    "str1 = \"Hello\"\n",
    "str2 = 'spam'\n",
    "print(str1, str2)"
   ]
  },
  {
   "cell_type": "code",
   "execution_count": 4,
   "metadata": {},
   "outputs": [
    {
     "data": {
      "text/plain": [
       "str"
      ]
     },
     "execution_count": 4,
     "metadata": {},
     "output_type": "execute_result"
    }
   ],
   "source": [
    "type(str1)"
   ]
  },
  {
   "cell_type": "code",
   "execution_count": 5,
   "metadata": {},
   "outputs": [
    {
     "data": {
      "text/plain": [
       "str"
      ]
     },
     "execution_count": 5,
     "metadata": {},
     "output_type": "execute_result"
    }
   ],
   "source": [
    "type(str2)"
   ]
  },
  {
   "cell_type": "code",
   "execution_count": 6,
   "metadata": {},
   "outputs": [],
   "source": [
    "# Indexing Example\n",
    "\n",
    "greet = \"Hello Bob\""
   ]
  },
  {
   "cell_type": "code",
   "execution_count": 7,
   "metadata": {},
   "outputs": [
    {
     "data": {
      "text/plain": [
       "'H'"
      ]
     },
     "execution_count": 7,
     "metadata": {},
     "output_type": "execute_result"
    }
   ],
   "source": [
    "greet[0]"
   ]
  },
  {
   "cell_type": "code",
   "execution_count": 8,
   "metadata": {},
   "outputs": [
    {
     "name": "stdout",
     "output_type": "stream",
     "text": [
      "H l o\n"
     ]
    }
   ],
   "source": [
    "print(greet[0], greet[2], greet[4])"
   ]
  },
  {
   "cell_type": "code",
   "execution_count": 9,
   "metadata": {},
   "outputs": [],
   "source": [
    "x = 8"
   ]
  },
  {
   "cell_type": "code",
   "execution_count": 10,
   "metadata": {},
   "outputs": [
    {
     "name": "stdout",
     "output_type": "stream",
     "text": [
      "B\n"
     ]
    }
   ],
   "source": [
    "print(greet[x-2])"
   ]
  },
  {
   "cell_type": "code",
   "execution_count": 11,
   "metadata": {},
   "outputs": [
    {
     "data": {
      "text/plain": [
       "'b'"
      ]
     },
     "execution_count": 11,
     "metadata": {},
     "output_type": "execute_result"
    }
   ],
   "source": [
    "greet[-1]"
   ]
  },
  {
   "cell_type": "code",
   "execution_count": 12,
   "metadata": {},
   "outputs": [
    {
     "data": {
      "text/plain": [
       "'B'"
      ]
     },
     "execution_count": 12,
     "metadata": {},
     "output_type": "execute_result"
    }
   ],
   "source": [
    "greet[-3]"
   ]
  },
  {
   "cell_type": "code",
   "execution_count": 13,
   "metadata": {},
   "outputs": [],
   "source": [
    "# Slicing example"
   ]
  },
  {
   "cell_type": "code",
   "execution_count": 14,
   "metadata": {},
   "outputs": [
    {
     "data": {
      "text/plain": [
       "'Hel'"
      ]
     },
     "execution_count": 14,
     "metadata": {},
     "output_type": "execute_result"
    }
   ],
   "source": [
    "greet[0:3]"
   ]
  },
  {
   "cell_type": "code",
   "execution_count": 15,
   "metadata": {},
   "outputs": [
    {
     "data": {
      "text/plain": [
       "' Bob'"
      ]
     },
     "execution_count": 15,
     "metadata": {},
     "output_type": "execute_result"
    }
   ],
   "source": [
    "greet[5:9]"
   ]
  },
  {
   "cell_type": "code",
   "execution_count": 16,
   "metadata": {},
   "outputs": [
    {
     "data": {
      "text/plain": [
       "'Hello'"
      ]
     },
     "execution_count": 16,
     "metadata": {},
     "output_type": "execute_result"
    }
   ],
   "source": [
    "greet[:5]"
   ]
  },
  {
   "cell_type": "code",
   "execution_count": 17,
   "metadata": {},
   "outputs": [
    {
     "data": {
      "text/plain": [
       "' Bob'"
      ]
     },
     "execution_count": 17,
     "metadata": {},
     "output_type": "execute_result"
    }
   ],
   "source": [
    "greet[5:]"
   ]
  },
  {
   "cell_type": "code",
   "execution_count": 18,
   "metadata": {},
   "outputs": [
    {
     "data": {
      "text/plain": [
       "'Hello Bob'"
      ]
     },
     "execution_count": 18,
     "metadata": {},
     "output_type": "execute_result"
    }
   ],
   "source": [
    "greet[:]"
   ]
  },
  {
   "cell_type": "code",
   "execution_count": 19,
   "metadata": {},
   "outputs": [],
   "source": [
    "# Examples of various string operations"
   ]
  },
  {
   "cell_type": "code",
   "execution_count": 20,
   "metadata": {},
   "outputs": [
    {
     "data": {
      "text/plain": [
       "'spameggs'"
      ]
     },
     "execution_count": 20,
     "metadata": {},
     "output_type": "execute_result"
    }
   ],
   "source": [
    "\"spam\" + \"eggs\""
   ]
  },
  {
   "cell_type": "code",
   "execution_count": 22,
   "metadata": {},
   "outputs": [
    {
     "data": {
      "text/plain": [
       "'SpamAndEggs'"
      ]
     },
     "execution_count": 22,
     "metadata": {},
     "output_type": "execute_result"
    }
   ],
   "source": [
    "\"Spam\" + \"And\" + \"Eggs\""
   ]
  },
  {
   "cell_type": "markdown",
   "metadata": {},
   "source": [
    "### "
   ]
  },
  {
   "cell_type": "code",
   "execution_count": 23,
   "metadata": {},
   "outputs": [
    {
     "data": {
      "text/plain": [
       "'spamspamspam'"
      ]
     },
     "execution_count": 23,
     "metadata": {},
     "output_type": "execute_result"
    }
   ],
   "source": [
    "3 * \"spam\""
   ]
  },
  {
   "cell_type": "code",
   "execution_count": 24,
   "metadata": {},
   "outputs": [
    {
     "data": {
      "text/plain": [
       "'spamspamspamspamspam'"
      ]
     },
     "execution_count": 24,
     "metadata": {},
     "output_type": "execute_result"
    }
   ],
   "source": [
    "\"spam\" * 5"
   ]
  },
  {
   "cell_type": "code",
   "execution_count": 25,
   "metadata": {},
   "outputs": [
    {
     "data": {
      "text/plain": [
       "'spamspamspameggseggseggseggseggs'"
      ]
     },
     "execution_count": 25,
     "metadata": {},
     "output_type": "execute_result"
    }
   ],
   "source": [
    "(3 * \"spam\") + (\"eggs\" * 5)"
   ]
  },
  {
   "cell_type": "code",
   "execution_count": 26,
   "metadata": {},
   "outputs": [
    {
     "data": {
      "text/plain": [
       "4"
      ]
     },
     "execution_count": 26,
     "metadata": {},
     "output_type": "execute_result"
    }
   ],
   "source": [
    "len(\"spam\")"
   ]
  },
  {
   "cell_type": "code",
   "execution_count": 27,
   "metadata": {},
   "outputs": [
    {
     "data": {
      "text/plain": [
       "11"
      ]
     },
     "execution_count": 27,
     "metadata": {},
     "output_type": "execute_result"
    }
   ],
   "source": [
    "len(\"SpamAndEggs\")"
   ]
  },
  {
   "cell_type": "code",
   "execution_count": 29,
   "metadata": {},
   "outputs": [
    {
     "name": "stdout",
     "output_type": "stream",
     "text": [
      "S p a m ! "
     ]
    }
   ],
   "source": [
    "for ch in \"Spam!\":\n",
    "    print(ch, end=\" \")"
   ]
  },
  {
   "cell_type": "markdown",
   "metadata": {},
   "source": [
    "5.2 Simple String Processing"
   ]
  },
  {
   "cell_type": "code",
   "execution_count": 32,
   "metadata": {},
   "outputs": [
    {
     "name": "stdout",
     "output_type": "stream",
     "text": [
      "This program generates computer usernames. \n",
      "\n",
      "Please enter your first name (all lower cases): zaphod\n",
      "Please eneter your last name (all lower cases) beeblebrox\n",
      "Your username is: zbeebleb\n"
     ]
    }
   ],
   "source": [
    "# username.py\n",
    "#   Simple string processing prgram to generate usernames.\n",
    "\n",
    "def main():\n",
    "    print(\"This program generates computer usernames. \\n\")\n",
    "    \n",
    "    # get users's first and last names\n",
    "    first = input(\"Please enter your first name (all lower cases): \")\n",
    "    last = input(\"Please eneter your last name (all lower cases) \")\n",
    "    \n",
    "    # concatenate first inital with 7 chars of the last name.\n",
    "    uname = first[0] + last[:7]\n",
    "    \n",
    "    # output the username\n",
    "    print(\"Your username is:\", uname)\n",
    "    \n",
    "main()"
   ]
  },
  {
   "cell_type": "code",
   "execution_count": 33,
   "metadata": {},
   "outputs": [
    {
     "name": "stdout",
     "output_type": "stream",
     "text": [
      "Enter a month number (1-12): 1\n",
      "The month abbreviation is Jan.\n"
     ]
    }
   ],
   "source": [
    "# month.py\n",
    "# A Program to print the abbreviation of a month, given it's number\n",
    "\n",
    "def main():\n",
    "    # months is used as a lookup table\n",
    "    months = \"JanFebMarAprMayJunJulAugSepOctNovDec\"\n",
    "    \n",
    "    n = int(input(\"Enter a month number (1-12): \"))\n",
    "    \n",
    "    # compute starting position of month n in months\n",
    "    pos = (n-1) * 3\n",
    "    \n",
    "    # grab the appropriate slice from months\n",
    "    monthAbbrev = months[pos:pos+3]\n",
    "    \n",
    "    # print the result\n",
    "    print(\"The month abbreviation is\", monthAbbrev + \".\")\n",
    "    \n",
    "main()"
   ]
  },
  {
   "cell_type": "markdown",
   "metadata": {},
   "source": [
    "5.3 Lists as sequences"
   ]
  },
  {
   "cell_type": "code",
   "execution_count": 35,
   "metadata": {},
   "outputs": [],
   "source": [
    "# Operations for lists example"
   ]
  },
  {
   "cell_type": "code",
   "execution_count": 36,
   "metadata": {},
   "outputs": [
    {
     "data": {
      "text/plain": [
       "[1, 2, 3, 4]"
      ]
     },
     "execution_count": 36,
     "metadata": {},
     "output_type": "execute_result"
    }
   ],
   "source": [
    "[1,2] + [3,4]"
   ]
  },
  {
   "cell_type": "code",
   "execution_count": 37,
   "metadata": {},
   "outputs": [
    {
     "data": {
      "text/plain": [
       "[1, 2, 1, 2, 1, 2]"
      ]
     },
     "execution_count": 37,
     "metadata": {},
     "output_type": "execute_result"
    }
   ],
   "source": [
    "[1,2]*3"
   ]
  },
  {
   "cell_type": "code",
   "execution_count": 38,
   "metadata": {},
   "outputs": [],
   "source": [
    "grades = [\"A\",\"B\",\"C\",\"D\",\"F\"]"
   ]
  },
  {
   "cell_type": "code",
   "execution_count": 39,
   "metadata": {},
   "outputs": [
    {
     "data": {
      "text/plain": [
       "'A'"
      ]
     },
     "execution_count": 39,
     "metadata": {},
     "output_type": "execute_result"
    }
   ],
   "source": [
    "grades[0]"
   ]
  },
  {
   "cell_type": "code",
   "execution_count": 40,
   "metadata": {},
   "outputs": [
    {
     "data": {
      "text/plain": [
       "['C', 'D']"
      ]
     },
     "execution_count": 40,
     "metadata": {},
     "output_type": "execute_result"
    }
   ],
   "source": [
    "grades[2:4]"
   ]
  },
  {
   "cell_type": "code",
   "execution_count": 41,
   "metadata": {},
   "outputs": [
    {
     "data": {
      "text/plain": [
       "5"
      ]
     },
     "execution_count": 41,
     "metadata": {},
     "output_type": "execute_result"
    }
   ],
   "source": [
    "len(grades)"
   ]
  },
  {
   "cell_type": "code",
   "execution_count": 42,
   "metadata": {},
   "outputs": [],
   "source": [
    "myList = [1, \"Spam\", 4, \"U\"]"
   ]
  },
  {
   "cell_type": "code",
   "execution_count": 44,
   "metadata": {},
   "outputs": [
    {
     "name": "stdout",
     "output_type": "stream",
     "text": [
      "Enter a month number (1-12): 1\n",
      "The month abbreviation is Jan.\n"
     ]
    }
   ],
   "source": [
    "# month2.py\n",
    "#   A program to print the month abbreviation, given its number.\n",
    "\n",
    "def main():\n",
    "    \n",
    "    # months is a list used as a look up table\n",
    "    months = [\"Jan\", \"Feb\", \"Mar\", \"Apr\", \"May\", \"Jun\", \"Jul\", \"Aug\", \"Sep\", \"Oct\", \"Nov\", \"Dec\"]\n",
    "    \n",
    "    n = int(input(\"Enter a month number (1-12): \"))\n",
    "    \n",
    "    print(\"The month abbreviation is\", months[n-1] + \".\")\n",
    "    \n",
    "main()"
   ]
  },
  {
   "cell_type": "code",
   "execution_count": 45,
   "metadata": {},
   "outputs": [],
   "source": [
    "# Lists are mutable, whilst strings are not example"
   ]
  },
  {
   "cell_type": "code",
   "execution_count": 46,
   "metadata": {},
   "outputs": [],
   "source": [
    "myList = [34, 36, 15, 10]"
   ]
  },
  {
   "cell_type": "code",
   "execution_count": 47,
   "metadata": {},
   "outputs": [
    {
     "data": {
      "text/plain": [
       "15"
      ]
     },
     "execution_count": 47,
     "metadata": {},
     "output_type": "execute_result"
    }
   ],
   "source": [
    "myList[2]"
   ]
  },
  {
   "cell_type": "code",
   "execution_count": 49,
   "metadata": {},
   "outputs": [],
   "source": [
    "myList[2] = 0"
   ]
  },
  {
   "cell_type": "code",
   "execution_count": 50,
   "metadata": {},
   "outputs": [
    {
     "data": {
      "text/plain": [
       "[34, 36, 0, 10]"
      ]
     },
     "execution_count": 50,
     "metadata": {},
     "output_type": "execute_result"
    }
   ],
   "source": [
    "myList"
   ]
  },
  {
   "cell_type": "code",
   "execution_count": 51,
   "metadata": {},
   "outputs": [],
   "source": [
    "myString = \"Hello World\""
   ]
  },
  {
   "cell_type": "code",
   "execution_count": 52,
   "metadata": {},
   "outputs": [
    {
     "data": {
      "text/plain": [
       "'l'"
      ]
     },
     "execution_count": 52,
     "metadata": {},
     "output_type": "execute_result"
    }
   ],
   "source": [
    "myString[2]"
   ]
  },
  {
   "cell_type": "code",
   "execution_count": 53,
   "metadata": {
    "scrolled": true
   },
   "outputs": [
    {
     "ename": "TypeError",
     "evalue": "'str' object does not support item assignment",
     "output_type": "error",
     "traceback": [
      "\u001b[0;31m---------------------------------------------------------------------------\u001b[0m",
      "\u001b[0;31mTypeError\u001b[0m                                 Traceback (most recent call last)",
      "\u001b[0;32m<ipython-input-53-e9d1cebc8dc9>\u001b[0m in \u001b[0;36m<module>\u001b[0;34m\u001b[0m\n\u001b[0;32m----> 1\u001b[0;31m \u001b[0mmyString\u001b[0m\u001b[0;34m[\u001b[0m\u001b[0;36m2\u001b[0m\u001b[0;34m]\u001b[0m \u001b[0;34m=\u001b[0m \u001b[0;34m\"z\"\u001b[0m\u001b[0;34m\u001b[0m\u001b[0;34m\u001b[0m\u001b[0m\n\u001b[0m",
      "\u001b[0;31mTypeError\u001b[0m: 'str' object does not support item assignment"
     ]
    }
   ],
   "source": [
    "myString[2] = \"z\""
   ]
  },
  {
   "cell_type": "markdown",
   "metadata": {},
   "source": [
    "5.4 String Representation and Message Encoding"
   ]
  },
  {
   "cell_type": "code",
   "execution_count": 55,
   "metadata": {},
   "outputs": [
    {
     "data": {
      "text/plain": [
       "97"
      ]
     },
     "execution_count": 55,
     "metadata": {},
     "output_type": "execute_result"
    }
   ],
   "source": [
    "ord(\"a\")"
   ]
  },
  {
   "cell_type": "code",
   "execution_count": 56,
   "metadata": {},
   "outputs": [
    {
     "data": {
      "text/plain": [
       "65"
      ]
     },
     "execution_count": 56,
     "metadata": {},
     "output_type": "execute_result"
    }
   ],
   "source": [
    "ord(\"A\")"
   ]
  },
  {
   "cell_type": "code",
   "execution_count": 57,
   "metadata": {},
   "outputs": [
    {
     "data": {
      "text/plain": [
       "'a'"
      ]
     },
     "execution_count": 57,
     "metadata": {},
     "output_type": "execute_result"
    }
   ],
   "source": [
    "chr(97)"
   ]
  },
  {
   "cell_type": "code",
   "execution_count": 58,
   "metadata": {},
   "outputs": [
    {
     "data": {
      "text/plain": [
       "'Z'"
      ]
     },
     "execution_count": 58,
     "metadata": {},
     "output_type": "execute_result"
    }
   ],
   "source": [
    "chr(90)"
   ]
  },
  {
   "cell_type": "code",
   "execution_count": 62,
   "metadata": {},
   "outputs": [
    {
     "name": "stdout",
     "output_type": "stream",
     "text": [
      "This program converts a textual message into a sequence\n",
      " of numbers representing the Unicode encoding of the message. \n",
      "\n",
      "Please enter the message to encode: Sourpuss!\n",
      "\n",
      "Here are the Unicode codes: \n",
      "83 111 117 114 112 117 115 115 33 \n"
     ]
    }
   ],
   "source": [
    "# test2numbers.py\n",
    "#    A Program to convert a textual message into a sequqnce of numbers utilising the underyling Unicode encoding.\n",
    "\n",
    "def main():\n",
    "    print(\"This program converts a textual message into a sequence\")\n",
    "    print(\" of numbers representing the Unicode encoding of the message. \\n\")\n",
    "    \n",
    "    # Get the message to encode\n",
    "    message = input(\"Please enter the message to encode: \")\n",
    "    \n",
    "    print(\"\\nHere are the Unicode codes: \")\n",
    "    \n",
    "    # Loop through the message and print out the Unicode values\n",
    "    for ch in message:\n",
    "        print(ord(ch),end=\" \" )\n",
    "        \n",
    "    print() # blank line before prompt\n",
    "    \n",
    "main()"
   ]
  },
  {
   "cell_type": "markdown",
   "metadata": {},
   "source": [
    "5.5 String Methods"
   ]
  },
  {
   "cell_type": "code",
   "execution_count": 64,
   "metadata": {},
   "outputs": [],
   "source": [
    "# Split strings example"
   ]
  },
  {
   "cell_type": "code",
   "execution_count": 65,
   "metadata": {},
   "outputs": [],
   "source": [
    "myString = \"Hello, string methods!\""
   ]
  },
  {
   "cell_type": "code",
   "execution_count": 66,
   "metadata": {},
   "outputs": [
    {
     "data": {
      "text/plain": [
       "['Hello,', 'string', 'methods!']"
      ]
     },
     "execution_count": 66,
     "metadata": {},
     "output_type": "execute_result"
    }
   ],
   "source": [
    "myString.split()"
   ]
  },
  {
   "cell_type": "code",
   "execution_count": 1,
   "metadata": {},
   "outputs": [
    {
     "data": {
      "text/plain": [
       "['32', ' 24', ' 25', ' 57']"
      ]
     },
     "execution_count": 1,
     "metadata": {},
     "output_type": "execute_result"
    }
   ],
   "source": [
    "\"32, 24, 25, 57\".split(\",\")"
   ]
  },
  {
   "cell_type": "code",
   "execution_count": 2,
   "metadata": {},
   "outputs": [
    {
     "name": "stdout",
     "output_type": "stream",
     "text": [
      "Enter the point of coordinates (x,y): 3.4, 6.25\n"
     ]
    },
    {
     "data": {
      "text/plain": [
       "['3.4', ' 6.25']"
      ]
     },
     "execution_count": 2,
     "metadata": {},
     "output_type": "execute_result"
    }
   ],
   "source": [
    "coords = input(\"Enter the point of coordinates (x,y): \").split(\",\")\n",
    "\n",
    "# Enter the point coordinates (x,y)\n",
    "\n",
    "coords"
   ]
  },
  {
   "cell_type": "code",
   "execution_count": 4,
   "metadata": {},
   "outputs": [
    {
     "data": {
      "text/plain": [
       "'3.4'"
      ]
     },
     "execution_count": 4,
     "metadata": {},
     "output_type": "execute_result"
    }
   ],
   "source": [
    "coords[0]"
   ]
  },
  {
   "cell_type": "code",
   "execution_count": 5,
   "metadata": {},
   "outputs": [
    {
     "data": {
      "text/plain": [
       "' 6.25'"
      ]
     },
     "execution_count": 5,
     "metadata": {},
     "output_type": "execute_result"
    }
   ],
   "source": [
    "coords[1]"
   ]
  },
  {
   "cell_type": "code",
   "execution_count": 9,
   "metadata": {},
   "outputs": [
    {
     "name": "stdout",
     "output_type": "stream",
     "text": [
      "Enter the point coordinates (x,y): 3, 6\n"
     ]
    },
    {
     "ename": "NameError",
     "evalue": "name 'flat' is not defined",
     "output_type": "error",
     "traceback": [
      "\u001b[0;31m---------------------------------------------------------------------------\u001b[0m",
      "\u001b[0;31mNameError\u001b[0m                                 Traceback (most recent call last)",
      "\u001b[0;32m<ipython-input-9-7ed54ef2e806>\u001b[0m in \u001b[0;36m<module>\u001b[0;34m\u001b[0m\n\u001b[1;32m      1\u001b[0m \u001b[0mcoords\u001b[0m \u001b[0;34m=\u001b[0m \u001b[0minput\u001b[0m\u001b[0;34m(\u001b[0m\u001b[0;34m\"Enter the point coordinates (x,y): \"\u001b[0m\u001b[0;34m)\u001b[0m\u001b[0;34m.\u001b[0m\u001b[0msplit\u001b[0m\u001b[0;34m(\u001b[0m\u001b[0;34m\",\"\u001b[0m\u001b[0;34m)\u001b[0m\u001b[0;34m\u001b[0m\u001b[0;34m\u001b[0m\u001b[0m\n\u001b[1;32m      2\u001b[0m \u001b[0;34m\u001b[0m\u001b[0m\n\u001b[0;32m----> 3\u001b[0;31m \u001b[0mx\u001b[0m\u001b[0;34m,\u001b[0m\u001b[0my\u001b[0m \u001b[0;34m=\u001b[0m \u001b[0mflat\u001b[0m\u001b[0;34m(\u001b[0m\u001b[0mcoords\u001b[0m\u001b[0;34m[\u001b[0m\u001b[0;36m0\u001b[0m\u001b[0;34m]\u001b[0m\u001b[0;34m,\u001b[0m \u001b[0mflat\u001b[0m\u001b[0;34m(\u001b[0m\u001b[0mcoords\u001b[0m\u001b[0;34m[\u001b[0m\u001b[0;36m1\u001b[0m\u001b[0;34m]\u001b[0m\u001b[0;34m)\u001b[0m\u001b[0;34m)\u001b[0m\u001b[0;34m\u001b[0m\u001b[0;34m\u001b[0m\u001b[0m\n\u001b[0m",
      "\u001b[0;31mNameError\u001b[0m: name 'flat' is not defined"
     ]
    }
   ],
   "source": [
    "coords = input(\"Enter the point coordinates (x,y): \").split(\",\")\n",
    "\n",
    "x,y = flat(coords[0], flat(coords[1]))"
   ]
  },
  {
   "cell_type": "code",
   "execution_count": 14,
   "metadata": {},
   "outputs": [
    {
     "name": "stdout",
     "output_type": "stream",
     "text": [
      "This program converts a sequence of Unicode numbers into\n",
      "a string of text\n",
      "Please enter the Unicode-encoded message: 83 116 114 105 110 103 115 32 97 114 101 32 70 117 110 33\n",
      "\n",
      "The decoded message is:  Strings are Fun!\n"
     ]
    }
   ],
   "source": [
    "# numbers2text.py\n",
    "#   A program to convert a sequence of Unicode numbers into a \n",
    "#      a string of text.\n",
    "\n",
    "def main():\n",
    "    print(\"This program converts a sequence of Unicode numbers into\")\n",
    "    print(\"a string of text\")\n",
    "    \n",
    "    # Get the message to encode\n",
    "    inString = input(\"Please enter the Unicode-encoded message: \")\n",
    "    \n",
    "    # Loop through each substring and build Unicode message\n",
    "    message = \" \"\n",
    "    for numStr in inString.split():\n",
    "        codeNum = int(numStr)            # converts digits to a number\n",
    "        message = message + chr(codeNum)  # concatentate character to message\n",
    "        \n",
    "    print(\"\\nThe decoded message is:\", message)\n",
    "    \n",
    "main()"
   ]
  },
  {
   "cell_type": "code",
   "execution_count": 16,
   "metadata": {},
   "outputs": [
    {
     "data": {
      "text/plain": [
       "'Hello, i came here for an argument'"
      ]
     },
     "execution_count": 16,
     "metadata": {},
     "output_type": "execute_result"
    }
   ],
   "source": [
    " s = \"hello, I came here for an argument\"\n",
    "s.capitalize()"
   ]
  },
  {
   "cell_type": "code",
   "execution_count": 17,
   "metadata": {},
   "outputs": [
    {
     "data": {
      "text/plain": [
       "'Hello, I Came Here For An Argument'"
      ]
     },
     "execution_count": 17,
     "metadata": {},
     "output_type": "execute_result"
    }
   ],
   "source": [
    "s.title()"
   ]
  },
  {
   "cell_type": "code",
   "execution_count": 18,
   "metadata": {},
   "outputs": [
    {
     "data": {
      "text/plain": [
       "'hello, i came here for an argument'"
      ]
     },
     "execution_count": 18,
     "metadata": {},
     "output_type": "execute_result"
    }
   ],
   "source": [
    "s.lower()"
   ]
  },
  {
   "cell_type": "code",
   "execution_count": 19,
   "metadata": {},
   "outputs": [
    {
     "data": {
      "text/plain": [
       "'HELLO, I CAME HERE FOR AN ARGUMENT'"
      ]
     },
     "execution_count": 19,
     "metadata": {},
     "output_type": "execute_result"
    }
   ],
   "source": [
    "s.upper()"
   ]
  },
  {
   "cell_type": "code",
   "execution_count": 20,
   "metadata": {},
   "outputs": [
    {
     "data": {
      "text/plain": [
       "'hello, you came here for an argument'"
      ]
     },
     "execution_count": 20,
     "metadata": {},
     "output_type": "execute_result"
    }
   ],
   "source": [
    "s.replace(\"I\", \"you\")"
   ]
  },
  {
   "cell_type": "code",
   "execution_count": 21,
   "metadata": {},
   "outputs": [
    {
     "data": {
      "text/plain": [
       "'hello, I came here for an argument'"
      ]
     },
     "execution_count": 21,
     "metadata": {},
     "output_type": "execute_result"
    }
   ],
   "source": [
    "s.center(30)"
   ]
  },
  {
   "cell_type": "code",
   "execution_count": 22,
   "metadata": {},
   "outputs": [
    {
     "data": {
      "text/plain": [
       "'        hello, I came here for an argument        '"
      ]
     },
     "execution_count": 22,
     "metadata": {},
     "output_type": "execute_result"
    }
   ],
   "source": [
    "s.center(50)"
   ]
  },
  {
   "cell_type": "code",
   "execution_count": 23,
   "metadata": {},
   "outputs": [
    {
     "data": {
      "text/plain": [
       "5"
      ]
     },
     "execution_count": 23,
     "metadata": {},
     "output_type": "execute_result"
    }
   ],
   "source": [
    "s.count(\"e\")"
   ]
  },
  {
   "cell_type": "code",
   "execution_count": 24,
   "metadata": {},
   "outputs": [
    {
     "data": {
      "text/plain": [
       "5"
      ]
     },
     "execution_count": 24,
     "metadata": {},
     "output_type": "execute_result"
    }
   ],
   "source": [
    "s.find(\",\")"
   ]
  },
  {
   "cell_type": "code",
   "execution_count": 27,
   "metadata": {},
   "outputs": [
    {
     "data": {
      "text/plain": [
       "'Number one the Larch'"
      ]
     },
     "execution_count": 27,
     "metadata": {},
     "output_type": "execute_result"
    }
   ],
   "source": [
    "\" \".join([\"Number\", \"one\", \"the\", \"Larch\"])"
   ]
  },
  {
   "cell_type": "code",
   "execution_count": 28,
   "metadata": {},
   "outputs": [
    {
     "data": {
      "text/plain": [
       "'NumberspamonespamthespamLarch'"
      ]
     },
     "execution_count": 28,
     "metadata": {},
     "output_type": "execute_result"
    }
   ],
   "source": [
    "\"spam\".join([\"Number\", \"one\", \"the\", \"Larch\"])"
   ]
  },
  {
   "cell_type": "code",
   "execution_count": 30,
   "metadata": {},
   "outputs": [],
   "source": [
    "#5.6 Lists have methods, Too\n",
    "\n",
    "# This programs starts with an empty list ([])\n",
    "#   and each number from 1 to 100 and squared and appended to the list\n",
    "squares = []\n",
    "for x in range(1,101):\n",
    "        squares.append(x*x)"
   ]
  },
  {
   "cell_type": "code",
   "execution_count": 35,
   "metadata": {},
   "outputs": [
    {
     "name": "stdout",
     "output_type": "stream",
     "text": [
      "This program converts a sequence of Unicode numbers into\n",
      "a string of text\n",
      "Please enter the Unicode-encoded message: 83 116 114 105 110 103 115 32 97 114 101 32 70 117 110 33\n",
      "\n",
      "The decoded message is: Strings are Fun!\n"
     ]
    }
   ],
   "source": [
    "# numbers2text.py\n",
    "#   A program to convert a sequence of Unicode numbers into a \n",
    "#      a string of text.\n",
    "\n",
    "def main():\n",
    "    print(\"This program converts a sequence of Unicode numbers into\")\n",
    "    print(\"a string of text\")\n",
    "    \n",
    "    # Get the message to encode\n",
    "    inString = input(\"Please enter the Unicode-encoded message: \")\n",
    "    \n",
    "    # Loop through each substring and build Unicode message\n",
    "    chars = []\n",
    "    for numStr in inString.split():\n",
    "        codeNum = int(numStr)            # converts digits to a number\n",
    "        chars.append(chr(codeNum))         # accumulate new character\n",
    "        \n",
    "    message = \"\".join(chars)\n",
    "    print(\"\\nThe decoded message is:\", message)\n",
    "    \n",
    "main()\n",
    "\n",
    "# In this code, we call the characters by appending them to a list called chars.\n",
    "# The final message is obtained by joining these characters together using \n",
    "# an empty string as an operator."
   ]
  },
  {
   "cell_type": "markdown",
   "metadata": {},
   "source": [
    "5.8 Input/Output as String Manipulation"
   ]
  },
  {
   "cell_type": "markdown",
   "metadata": {},
   "source": [
    "5.8.1 Example application: Date Converstion"
   ]
  },
  {
   "cell_type": "code",
   "execution_count": 2,
   "metadata": {},
   "outputs": [
    {
     "name": "stdout",
     "output_type": "stream",
     "text": [
      "Enter a data (mm/dd/yyyy): 05/24/2020\n",
      "The converted date is: May 24, 2020\n"
     ]
    }
   ],
   "source": [
    "# dataconvert.py\n",
    "#   Converts a date in form \"mm/dd/yyyy\" to month day, year\"\n",
    "#   American format\n",
    "\n",
    "def main():\n",
    "    # get the date\n",
    "    dateStr = input(\"Enter a data (mm/dd/yyyy): \")\n",
    "    \n",
    "    # split into components (splits at the \"/\" of the above)\n",
    "    monthStr, dayStr, yearStr = dateStr.split(\"/\")\n",
    "    \n",
    "    # convert monthStr to the month name\n",
    "    months = [\"January\", \"February\", \"March\", \"April\", \"May\", \"June\", \"July\", \"August\", \"September\", \"October\", \"November\", \"December\"]\n",
    "    monthStr = months[int(monthStr)-1]\n",
    "    \n",
    "    # Output result in month day, year format\n",
    "    print(\"The converted date is:\", monthStr, dayStr+\",\", yearStr)\n",
    "\n",
    "main()"
   ]
  },
  {
   "cell_type": "code",
   "execution_count": 3,
   "metadata": {},
   "outputs": [
    {
     "name": "stdout",
     "output_type": "stream",
     "text": [
      "Enter a data (dd/mm/yyyy): 21/09/1995\n",
      "The converted date is: September 21, 1995\n"
     ]
    }
   ],
   "source": [
    "# dataconvert.py\n",
    "#   Converts a date in form \"dd/mm/yyyy\" to month day, year\"\n",
    "#   Australian format\n",
    "\n",
    "def main():\n",
    "    # get the date\n",
    "    dateStr = input(\"Enter a data (dd/mm/yyyy): \")\n",
    "    \n",
    "    # split into components (splits at the \"/\" of the above)\n",
    "    dayStr, monthStr, yearStr = dateStr.split(\"/\")\n",
    "    \n",
    "    # convert monthStr to the month name\n",
    "    months = [\"January\", \"February\", \"March\", \"April\", \"May\", \"June\", \"July\", \"August\", \"September\", \"October\", \"November\", \"December\"]\n",
    "    monthStr = months[int(monthStr)-1]\n",
    "    \n",
    "    # Output result in month day, year format\n",
    "    print(\"The converted date is:\", monthStr, dayStr+\",\", yearStr)\n",
    "\n",
    "main()"
   ]
  },
  {
   "cell_type": "markdown",
   "metadata": {},
   "source": [
    "## Notes\n",
    "\n",
    "Often it is also necessary to turn a number into a stirng. In Python,\n",
    "most data types can be converted into strings using the str function.\n",
    "\n",
    "By turning value into a string, we can use string concatenation to put a period at the end of a sentence. If we didn't first turn value into a string, Python would interpret the + as a numerical operation and produce an error, because \".\" is not a number."
   ]
  },
  {
   "cell_type": "code",
   "execution_count": 4,
   "metadata": {},
   "outputs": [
    {
     "data": {
      "text/plain": [
       "'500'"
      ]
     },
     "execution_count": 4,
     "metadata": {},
     "output_type": "execute_result"
    }
   ],
   "source": [
    "str(500)"
   ]
  },
  {
   "cell_type": "code",
   "execution_count": 5,
   "metadata": {},
   "outputs": [],
   "source": [
    "value = 3.14"
   ]
  },
  {
   "cell_type": "code",
   "execution_count": 6,
   "metadata": {},
   "outputs": [
    {
     "data": {
      "text/plain": [
       "'3.14'"
      ]
     },
     "execution_count": 6,
     "metadata": {},
     "output_type": "execute_result"
    }
   ],
   "source": [
    "str(value)"
   ]
  },
  {
   "cell_type": "code",
   "execution_count": 7,
   "metadata": {},
   "outputs": [
    {
     "name": "stdout",
     "output_type": "stream",
     "text": [
      "The value is 3.14.\n"
     ]
    }
   ],
   "source": [
    "print(\"The value is\", str(value) + \".\")"
   ]
  },
  {
   "cell_type": "markdown",
   "metadata": {},
   "source": [
    "5.8.3 Better change Counter"
   ]
  },
  {
   "cell_type": "code",
   "execution_count": 7,
   "metadata": {},
   "outputs": [
    {
     "name": "stdout",
     "output_type": "stream",
     "text": [
      "Change Counter/n\n",
      "Please enter the count of each coin type.\n",
      "Quarters: 10\n",
      "Dimes: 10\n",
      "Nickles: 10\n",
      "Pennies: 10\n",
      "The total value of your change is $4.10\n"
     ]
    }
   ],
   "source": [
    "# change2.py\n",
    "#    A program to calculate the value of some change in dollars\n",
    "#    This version represents the total cash in cents.\n",
    "\n",
    "def main():\n",
    "    print(\"Change Counter/n\")\n",
    "    print(\"Please enter the count of each coin type.\")\n",
    "    quarters = int(input(\"Quarters: \"))\n",
    "    dimes = int(input(\"Dimes: \"))\n",
    "    nickels = int(input(\"Nickles: \"))\n",
    "    pennies = int(input(\"Pennies: \"))\n",
    "    \n",
    "    total = quarters * 25 + dimes * 10 + nickels * 5 + pennies\n",
    "    \n",
    "    print(\"The total value of your change is ${}.{}\".format(total//100, total%100))\n",
    "    \n",
    "main()"
   ]
  },
  {
   "cell_type": "markdown",
   "metadata": {},
   "source": [
    "## 5.9 File Processing\n",
    "\n",
    "### 5.9.1 Multi-line Strings\n",
    "\n",
    "Conceptually, a file is a sequence of data that is stored in secondary memory (usually on a disk drive).\n",
    "\n",
    "### 5.9.2 File Processing\n",
    "\n",
    "All languages share certain underlying file-manipulation concepts. \n",
    "\n",
    "First, we need some way to associate a file on disk with an object in a program. This process is called opening a file.\n",
    "\n",
    "Second, we need a set of operations that can manipulate the file object. At the very least, this includes operations that allow us to read the information from a file and write new information to a file.\n",
    "\n",
    "### 5.9.3 Example program: Batch Usernames\n",
    "\n",
    "In batch processing, program input and output is done through files.\n",
    "\n",
    "Our new program is designed to process a file of names. Each line of the input file will contain the first and last names of a new user seperated by one or more spaces. The program will produce an output file containing a line for each generated use.\n",
    "\n",
    "See below 5.9.3 example\n",
    "\n",
    "### 5.9.4 File dialog (Optional)"
   ]
  },
  {
   "cell_type": "code",
   "execution_count": 13,
   "metadata": {},
   "outputs": [
    {
     "name": "stdout",
     "output_type": "stream",
     "text": [
      "Enter filename: 1\n"
     ]
    },
    {
     "ename": "FileNotFoundError",
     "evalue": "[Errno 2] No such file or directory: '1'",
     "output_type": "error",
     "traceback": [
      "\u001b[0;31m---------------------------------------------------------------------------\u001b[0m",
      "\u001b[0;31mFileNotFoundError\u001b[0m                         Traceback (most recent call last)",
      "\u001b[0;32m<ipython-input-13-d770b23be507>\u001b[0m in \u001b[0;36m<module>\u001b[0;34m\u001b[0m\n\u001b[1;32m     11\u001b[0m     \u001b[0mprint\u001b[0m\u001b[0;34m(\u001b[0m\u001b[0mdata\u001b[0m\u001b[0;34m)\u001b[0m\u001b[0;34m\u001b[0m\u001b[0;34m\u001b[0m\u001b[0m\n\u001b[1;32m     12\u001b[0m \u001b[0;34m\u001b[0m\u001b[0m\n\u001b[0;32m---> 13\u001b[0;31m \u001b[0mmain\u001b[0m\u001b[0;34m(\u001b[0m\u001b[0;34m)\u001b[0m\u001b[0;34m\u001b[0m\u001b[0;34m\u001b[0m\u001b[0m\n\u001b[0m\u001b[1;32m     14\u001b[0m \u001b[0;34m\u001b[0m\u001b[0m\n\u001b[1;32m     15\u001b[0m \u001b[0;31m# The program first prompts the user for a file name and then opens\u001b[0m\u001b[0;34m\u001b[0m\u001b[0;34m\u001b[0m\u001b[0;34m\u001b[0m\u001b[0m\n",
      "\u001b[0;32m<ipython-input-13-d770b23be507>\u001b[0m in \u001b[0;36mmain\u001b[0;34m()\u001b[0m\n\u001b[1;32m      7\u001b[0m \u001b[0;32mdef\u001b[0m \u001b[0mmain\u001b[0m\u001b[0;34m(\u001b[0m\u001b[0;34m)\u001b[0m\u001b[0;34m:\u001b[0m\u001b[0;34m\u001b[0m\u001b[0;34m\u001b[0m\u001b[0m\n\u001b[1;32m      8\u001b[0m     \u001b[0mfname\u001b[0m \u001b[0;34m=\u001b[0m \u001b[0minput\u001b[0m\u001b[0;34m(\u001b[0m\u001b[0;34m\"Enter filename: \"\u001b[0m\u001b[0;34m)\u001b[0m\u001b[0;34m\u001b[0m\u001b[0;34m\u001b[0m\u001b[0m\n\u001b[0;32m----> 9\u001b[0;31m     \u001b[0minfile\u001b[0m \u001b[0;34m=\u001b[0m \u001b[0mopen\u001b[0m\u001b[0;34m(\u001b[0m\u001b[0mfname\u001b[0m\u001b[0;34m,\u001b[0m\u001b[0;34m\"r\"\u001b[0m\u001b[0;34m)\u001b[0m\u001b[0;34m\u001b[0m\u001b[0;34m\u001b[0m\u001b[0m\n\u001b[0m\u001b[1;32m     10\u001b[0m     \u001b[0mdata\u001b[0m \u001b[0;34m=\u001b[0m \u001b[0minfile\u001b[0m\u001b[0;34m.\u001b[0m\u001b[0mread\u001b[0m\u001b[0;34m(\u001b[0m\u001b[0;34m)\u001b[0m\u001b[0;34m\u001b[0m\u001b[0;34m\u001b[0m\u001b[0m\n\u001b[1;32m     11\u001b[0m     \u001b[0mprint\u001b[0m\u001b[0;34m(\u001b[0m\u001b[0mdata\u001b[0m\u001b[0;34m)\u001b[0m\u001b[0;34m\u001b[0m\u001b[0;34m\u001b[0m\u001b[0m\n",
      "\u001b[0;31mFileNotFoundError\u001b[0m: [Errno 2] No such file or directory: '1'"
     ]
    }
   ],
   "source": [
    "# 5.9.2 An example prgoram that prints the contents of a file to the screen\n",
    "# using the read operation.\n",
    "\n",
    "# printfile.py\n",
    "#    Prints a file to the screen.\n",
    "\n",
    "def main():\n",
    "    fname = input(\"Enter filename: \")\n",
    "    infile = open(fname,\"r\")\n",
    "    data = infile.read()\n",
    "    print(data)\n",
    "    \n",
    "main()\n",
    "\n",
    "# The program first prompts the user for a file name and then opens\n",
    "# the file for reading through variable infile."
   ]
  },
  {
   "cell_type": "code",
   "execution_count": 18,
   "metadata": {},
   "outputs": [
    {
     "name": "stdout",
     "output_type": "stream",
     "text": [
      "This program creates a file of usernames from a\n",
      "file of names\n",
      "What file are the names in? 1\n",
      "What file should the usernames go in jj\n"
     ]
    },
    {
     "ename": "FileNotFoundError",
     "evalue": "[Errno 2] No such file or directory: '1'",
     "output_type": "error",
     "traceback": [
      "\u001b[0;31m---------------------------------------------------------------------------\u001b[0m",
      "\u001b[0;31mFileNotFoundError\u001b[0m                         Traceback (most recent call last)",
      "\u001b[0;32m<ipython-input-18-3522815b1f3a>\u001b[0m in \u001b[0;36m<module>\u001b[0;34m\u001b[0m\n\u001b[1;32m     29\u001b[0m     \u001b[0mprint\u001b[0m\u001b[0;34m(\u001b[0m\u001b[0;34m\"Usernames have been written to\"\u001b[0m\u001b[0;34m,\u001b[0m \u001b[0moutfileName\u001b[0m\u001b[0;34m)\u001b[0m\u001b[0;34m\u001b[0m\u001b[0;34m\u001b[0m\u001b[0m\n\u001b[1;32m     30\u001b[0m \u001b[0;34m\u001b[0m\u001b[0m\n\u001b[0;32m---> 31\u001b[0;31m \u001b[0mmain\u001b[0m\u001b[0;34m(\u001b[0m\u001b[0;34m)\u001b[0m\u001b[0;34m\u001b[0m\u001b[0;34m\u001b[0m\u001b[0m\n\u001b[0m",
      "\u001b[0;32m<ipython-input-18-3522815b1f3a>\u001b[0m in \u001b[0;36mmain\u001b[0;34m()\u001b[0m\n\u001b[1;32m     11\u001b[0m \u001b[0;34m\u001b[0m\u001b[0m\n\u001b[1;32m     12\u001b[0m     \u001b[0;31m# open the files\u001b[0m\u001b[0;34m\u001b[0m\u001b[0;34m\u001b[0m\u001b[0;34m\u001b[0m\u001b[0m\n\u001b[0;32m---> 13\u001b[0;31m     \u001b[0minfile\u001b[0m \u001b[0;34m=\u001b[0m \u001b[0mopen\u001b[0m\u001b[0;34m(\u001b[0m\u001b[0minfileName\u001b[0m\u001b[0;34m,\u001b[0m \u001b[0;34m\"r\"\u001b[0m\u001b[0;34m)\u001b[0m\u001b[0;34m\u001b[0m\u001b[0;34m\u001b[0m\u001b[0m\n\u001b[0m\u001b[1;32m     14\u001b[0m     \u001b[0moutfile\u001b[0m \u001b[0;34m=\u001b[0m \u001b[0mopen\u001b[0m\u001b[0;34m(\u001b[0m\u001b[0moutfileName\u001b[0m\u001b[0;34m,\u001b[0m \u001b[0;34m\"w\"\u001b[0m\u001b[0;34m)\u001b[0m\u001b[0;34m\u001b[0m\u001b[0;34m\u001b[0m\u001b[0m\n\u001b[1;32m     15\u001b[0m \u001b[0;34m\u001b[0m\u001b[0m\n",
      "\u001b[0;31mFileNotFoundError\u001b[0m: [Errno 2] No such file or directory: '1'"
     ]
    }
   ],
   "source": [
    "# userfile.py\n",
    "#    Program to create a file of usernames in batch mode.\n",
    "\n",
    "def main():\n",
    "    print(\"This program creates a file of usernames from a\")\n",
    "    print(\"file of names\")\n",
    "    \n",
    "    # get the file names\n",
    "    infileName = input(\"What file are the names in? \")\n",
    "    outfileName = input(\"What file should the usernames go in \")\n",
    "    \n",
    "    # open the files\n",
    "    infile = open(infileName, \"r\")\n",
    "    outfile = open(outfileName, \"w\")\n",
    "\n",
    "    # process each line of the input file for line in infile:\n",
    "    for line in infile:\n",
    "        # get the first and last names from line\n",
    "        first, last = line.split()\n",
    "        # create the username\n",
    "        uname = (first[0]+last[:7]).lower()\n",
    "        # write it to the output file\n",
    "        print(uname, file=outfile)\n",
    "    \n",
    "    # close both files\n",
    "    infile.close()\n",
    "    outfile.close()\n",
    "    \n",
    "    print(\"Usernames have been written to\", outfileName)\n",
    "    \n",
    "main()"
   ]
  },
  {
   "cell_type": "markdown",
   "metadata": {},
   "source": [
    "## Chapter summary\n",
    "\n",
    "This chapter has covered important elements of the Python string, list and file objects. Here is a summary of highlights.\n",
    "\n",
    "- Strings are sequences of characters. String literals can be delimited with either single or double quotes.\n",
    "\n",
    "- Strings and lists can be manipulated with the built-in sequence operations for concatenation (+), repition (*), indexing ([]), slicing ([:]), and length (len()). A for loop can be used to iterate through the characters of a string, items in a list, or lines of a file.\n",
    "\n",
    "- One way of converting numberic information into string information is to use a string or a list as a lookup table.\n",
    "\n",
    "- Lists are more general than strings.\n",
    "\n",
    "  - Strings are always sequences of characters, whereas lists can contain values of any type.\n",
    "  - Lists are mutable, which means that items in a list can be modified by assigning new values.\n",
    "  \n",
    "- Strings are represented in the computer as numeric codes. ASCII and Unicode are compatible standards that are used for specifiying the correspondance between characters and the underlying codes. Python provides the ord and chr functions for translating between Unicode codes and characters.\n",
    "\n",
    "- Python string and list objects include many useful built-in methods for string and list processing.\n",
    "\n",
    "- The process of encoding data to keep it private is called encryption. There are two different kinds of encryption systems: private and and public key.\n",
    "\n",
    "- Program input and output oftem involve string processing. Python provides numerous operators for converting back and forth between numbers and strings. The string formatting methods (format) is particularly useful for producing nucely formatted output.\n",
    "\n",
    "- Text files are multi-line strings stored in secondary memory. A text file may be opened for readning or writing. When opened for writing, the exisiting contects of the file are erased. Python provides three file-reading methods: read(), readline(), and readlines(). It is also possible to iterate through the lines of a file with a for loop. Data is written to a file using the print function. When processing is finished, a file should be closed."
   ]
  },
  {
   "cell_type": "markdown",
   "metadata": {},
   "source": [
    "## 5.11 Exercises\n",
    "\n",
    "### Review Questions\n",
    "#### True/ False\n",
    "\n",
    "1. A Python string literal is always enclosed in double quotes.\n",
    "\n",
    "False.\n",
    "\n",
    "A string is a data type for representing a sequence of characters (text). Also, all strings are enclosed in quotations (Single or double) on both sides of the sentence/word.\n",
    "\n",
    "Example you can use:\n",
    "\n",
    "\"testing\" = 'testing'\n",
    "\n",
    "2. The last character of a string is s is at position len(s)-1.\n",
    "\n",
    "False. WRONG\n",
    "\n",
    "Last characters of strings are len(s)+1 as the numerica positions in Python exclude the last number.\n",
    "\n",
    "#### True.\n",
    "##### The len function provides the length of the string. But because indexses start at 0, the last position (index) is the length of the string minus one.\n",
    "\n",
    "3. A string always contains a single line of text.\n",
    "\n",
    "False.\n",
    "\n",
    "A string is a data type for representing a sequence of characters. This sequence can be of any length.In fact, it is also possible to have an empty string, i.e. \"\".\n",
    "\n",
    "4. In Python \"4\" + \"5\" is \"45\".\n",
    "\n",
    "True.\n",
    "\n",
    "As they are in string formats. They will equal the value of \"45\".\n",
    "\n",
    "This is not the case of using the additional operator on integers. Since the literals are enclosed in double quotations, we know that we were dealing with values of the data type string. The operator + thus indicates the string oepration, concatenation. \n",
    "\n",
    "5. Python lists are mutable, but strings are not.\n",
    "\n",
    "True.\n",
    "\n",
    "Lists are more general than strings.\n",
    "\n",
    "- Strings are always sequences of characters, whereas lists can contain values of any type.\n",
    "\n",
    "- Lists are mutable, which means that items in a list can be modified by assigning new values.\n",
    "\n",
    "6. ASCII is a standard for representing characters using numeric codes.\n",
    "\n",
    "True.\n",
    "\n",
    "ASCII and the Unicode are compatible standards that are used for specifying the correspondance between characters and the underlying codes. Python provides the ord and chr functions for translating between Unicodes codes and characters.\n",
    "\n",
    "To avoid this sort of problem, computer systems today use industry standard ecnodings. One important standard is called ASCII (American Standard Code for Information Interchange). ASCII uses the number 0 through 127 to represent characters typically found on an (American) computer keyboard, as well as certain special values known as control codds that are used to coordinate the sending and recieving of information.\n",
    "\n",
    "7. The split method breaks a string into a list of substrings, and join does the opposite.\n",
    "\n",
    "True. WRONG.\n",
    "\n",
    "\n",
    "The split method breaks a string into a list of substring while the join method joins all items into a string, using the hash character as a seperator.\n",
    "\n",
    "#### False.\n",
    "##### Split method splits a string into a list of substrings. By default, it will split the string whenever a space occurs.\n",
    "\n",
    "8. A substitution cipher is a good way to keep sensitive information secure.\n",
    "\n",
    "True. WRONG.\n",
    "\n",
    "In a substituion cipher, any character of plain text from the given fixed set of characters is substituted by some other character from the same set depending on the key.\n",
    "\n",
    "#### False.\n",
    "##### Our simple  encoding/decoding programs use a very weak form of encryption known as a substitution cipher. Since each letter is always encoded by the same symbol, a code breaker could use statistical information about the frequency of various letters and some simple trial and error testing to discover the original message.\n",
    "\n",
    "\n",
    "9. The add method can be used to add an item to the end of a list.\n",
    "\n",
    "False.\n",
    "\n",
    "Append methods adds an item to the end of a list. This is often used to build a list an item at a time.\n",
    "\n",
    "10. The process of associating a file with an object in a program is called \"reading\" the file.\n",
    "\n",
    "True. WRONG.\n",
    "\n",
    "#### False.\n",
    "##### We need some way to associate a file on disk with an object in a program. This process is called opening a file. Once a file has been opened, its contents can be accessing through the associated file object.\n",
    "\n",
    "## 6/10\n",
    "## 60% - C"
   ]
  },
  {
   "cell_type": "markdown",
   "metadata": {},
   "source": [
    "### Multiple Choice\n",
    "\n",
    "1. Accesing a single character out of a string is called: \n",
    "\n",
    "D. Indexing\n",
    "\n",
    "a. Slicing\n",
    "\n",
    "Slicing is extracting a subsequence of a string, list, or other sequence object.\n",
    "\n",
    "b. Concatenation\n",
    "\n",
    "String concatenation means add strings together. Use the + character to add a variable to another variable.\n",
    "\n",
    "c. Assignment\n",
    "\n",
    "The process of giving a value to a variable.\n",
    "\n",
    "d. Indexing\n",
    "\n",
    "Selecting a single item from a sequence based on its relative position in the sequence.\n",
    "\n",
    "2. Which of the following is the same as s[0:-1]? \n",
    " \n",
    "c.s[0:len(s)-1]\n",
    "\n",
    "Example s = (0,1,2,3,4,5,6,7,8,9,10)\n",
    "\n",
    "s[0:-1] \n",
    "\n",
    "(1,2,3,4,5,6,7,8,9)\n",
    "\n",
    "a. s[-1]\n",
    "\n",
    "10\n",
    "\n",
    "b. s[:]\n",
    "\n",
    "(1,2,3,4,5,6,7,8,9,10)\n",
    "\n",
    "c. s[:len(s)-1]\n",
    "\n",
    "(1,2,3,4,5,6,7,8,9)\n",
    "\n",
    "d. s[0:len(s)]\n",
    "\n",
    "(1,2,3,4,5,6,7,8,9,10)\n",
    "\n",
    "3. What function gives the Unicode value of a character? \n",
    "\n",
    "C. chr\n",
    "\n",
    "WRONG\n",
    "\n",
    "a. ord\n",
    "Python provides a couple of built-in functions that allow us to switch back and forth between characters and the numberic values used to represent them in strings. The ord function returns the numeric (\"ordinal\") code of a sungle character string, while chr goes the other direction.\n",
    "\n",
    "a. ord\n",
    "\n",
    "The ord function returns the number representing the unicode code of a specificed character.\n",
    "\n",
    "b. ASCII\n",
    "\n",
    "American Standard Code for Information Interchange. A standard for encoding text where each character is represented by a numnber 0-127)\n",
    "\n",
    "c. chr\n",
    "\n",
    "The chr() method returns a string representing a charcater whose Unicode code point is an intger.\n",
    "\n",
    "d. eval\n",
    "\n",
    "eval is a built-in function used in python, eval function pasrses the expression argument and evaluates it as a python expression. In simple words, the eval function evaluates the \"String\" like a python epxression and returns the result as an integer.\n",
    "\n",
    "4. Which of the following can not be used to convert a string of digits into a number?\n",
    "\n",
    "D. Eval\n",
    "\n",
    "a. int\n",
    "The int method returns an integer object from an number or string.\n",
    "\n",
    "b. float\n",
    "The float method returns a floating pint number from a number or a stirng.\n",
    "\n",
    "c. str\n",
    "\n",
    "The str function converts values to a string form. \n",
    "\n",
    "d. eval\n",
    "\n",
    "eval is a built-in function used in python, eval function pasrses the expression argument and evaluates it as a python expression. In simple words, the eval function evaluates the \"String\" like a python epxression and returns the result as an intger.\n",
    "\n",
    "5. A successor to ASCII that includes characters from (nearly) all written languages is\n",
    "\n",
    "C. Unicode\n",
    "\n",
    "a. TELLI\n",
    "\n",
    "b. ASCII++\n",
    "\n",
    "c. Unicode\n",
    "\n",
    "An alternative to ASCII that encodes characters from virtually all of the world's written languages. Unicode is disgned to by ASCII-compatible.\n",
    "\n",
    "d. ISO\n",
    "\n",
    "6. Which string method converts all the characters of a string to upper case?\n",
    "\n",
    "D. upper\n",
    "\n",
    "a. capitalize\n",
    "\n",
    "b. capwords\n",
    "\n",
    "c. uppercase\n",
    "\n",
    "d. upper\n",
    "\n",
    "Upper is a built-in method used for string handling. The upper() methods returns the uppercased string from the givein string. It converts all lowervace character to uppercase.\n",
    "\n",
    "7. The string \"slots\" that are filled in by the format method are marked by:\n",
    "\n",
    "The format method returns the formatted string.\n",
    "\n",
    "<template-string>.format(<values>)\n",
    "\n",
    "D. {}.\n",
    "\n",
    "Curly braces inside the template-string mark \"slots\" inwhich whcich the provided values are inserted.\n",
    "\n",
    "a. %\n",
    "\n",
    "b. $\n",
    "\n",
    "c. []\n",
    "\n",
    "d. {}\n",
    "\n",
    "\n",
    "8. Which of the following is not a file reading method in Python?\n",
    "\n",
    "D. Readlines\n",
    "\n",
    "WRONG\n",
    "\n",
    "c. readall\n",
    "\n",
    "Python provides three related operations for reading information from a file [read,readline, readlines.]\n",
    "\n",
    "a. read\n",
    "\n",
    "Returns the entire remaining contents of the file as a single (potentially large, multi-line) string.\n",
    "\n",
    "b. readline\n",
    "\n",
    "Returns the next line of the file. That is, all text up to and including the next newline character.\n",
    "\n",
    "c. readall\n",
    "\n",
    "d. readlines\n",
    "\n",
    "Returns a list of the remaining lines in the file. Each list item is a single line including the newline character at the end.\n",
    "\n",
    "9. The term for a program that does its input and output with files is\n",
    "\n",
    "a. file-orientated\n",
    "\n",
    "WRONG\n",
    "\n",
    "c.Batch\n",
    "\n",
    "a. file-orientated\n",
    "\n",
    "b. multi-line\n",
    "\n",
    "c. batch\n",
    "\n",
    "d. lame\n",
    "\n",
    "10. Before reading or writing to a file, a file object must be created via\n",
    "\n",
    "a. Open\n",
    "\n",
    "a. open\n",
    "\n",
    "b. create\n",
    "\n",
    "c. File\n",
    "\n",
    "d. Folder\n",
    "\n",
    "## 7/10\n",
    "## 70% - B"
   ]
  },
  {
   "cell_type": "code",
   "execution_count": 1,
   "metadata": {},
   "outputs": [],
   "source": [
    "s = (1,2,3,4,5,6,7,8,9,10)"
   ]
  },
  {
   "cell_type": "code",
   "execution_count": 2,
   "metadata": {},
   "outputs": [
    {
     "data": {
      "text/plain": [
       "(1, 2, 3, 4, 5, 6, 7, 8, 9)"
      ]
     },
     "execution_count": 2,
     "metadata": {},
     "output_type": "execute_result"
    }
   ],
   "source": [
    "s[0:-1]"
   ]
  },
  {
   "cell_type": "code",
   "execution_count": 3,
   "metadata": {},
   "outputs": [
    {
     "data": {
      "text/plain": [
       "10"
      ]
     },
     "execution_count": 3,
     "metadata": {},
     "output_type": "execute_result"
    }
   ],
   "source": [
    "s[-1]"
   ]
  },
  {
   "cell_type": "code",
   "execution_count": 4,
   "metadata": {},
   "outputs": [
    {
     "data": {
      "text/plain": [
       "(1, 2, 3, 4, 5, 6, 7, 8, 9, 10)"
      ]
     },
     "execution_count": 4,
     "metadata": {},
     "output_type": "execute_result"
    }
   ],
   "source": [
    "s[:]"
   ]
  },
  {
   "cell_type": "code",
   "execution_count": 5,
   "metadata": {},
   "outputs": [
    {
     "data": {
      "text/plain": [
       "(1, 2, 3, 4, 5, 6, 7, 8, 9)"
      ]
     },
     "execution_count": 5,
     "metadata": {},
     "output_type": "execute_result"
    }
   ],
   "source": [
    "s[:len(s)-1]"
   ]
  },
  {
   "cell_type": "code",
   "execution_count": 6,
   "metadata": {},
   "outputs": [
    {
     "data": {
      "text/plain": [
       "(1, 2, 3, 4, 5, 6, 7, 8, 9, 10)"
      ]
     },
     "execution_count": 6,
     "metadata": {},
     "output_type": "execute_result"
    }
   ],
   "source": [
    "s[0:len(s)]"
   ]
  },
  {
   "cell_type": "markdown",
   "metadata": {},
   "source": [
    "### Discussion"
   ]
  },
  {
   "cell_type": "markdown",
   "metadata": {},
   "source": [
    "1. \n",
    "Given the initial statements:\n",
    "    \n",
    "    s1 = \"spam\"\n",
    "    s2 = \"ni!\"\n",
    "    \n",
    "Show the result of evaluating each of the following expressions:\n",
    "    \n",
    "    a.\n",
    "    \"The knights who say, \" + s2\n",
    "    'the knights who say, ni!'\n",
    "    \n",
    "    b.\n",
    "    3 * s1 + 2 * s2\n",
    "    'spamspamspamni!ni!'\n",
    "    \n",
    "    c.\n",
    "    s1[1]\n",
    "    'p'\n",
    "    \n",
    "    d.\n",
    "    s1[1:3]\n",
    "    'pa'\n",
    "    \n",
    "    e.\n",
    "    s2[2] + s2[:2]\n",
    "    '!ni'\n",
    "    \n",
    "    f.\n",
    "    s1+s2[-1]\n",
    "    'spam!'\n",
    "    \n",
    "    g.\n",
    "    s1.upper()\n",
    "    'SPAM'\n",
    "    \n",
    "    h.\n",
    "    s2.upper().ljust(4) * 2\n",
    "    'NI! NI! '\n",
    "    \n",
    "    Space at the 3rd count"
   ]
  },
  {
   "cell_type": "code",
   "execution_count": 3,
   "metadata": {},
   "outputs": [],
   "source": [
    "s1 = \"spam\"\n",
    "s2 = \"ni!\""
   ]
  },
  {
   "cell_type": "code",
   "execution_count": 4,
   "metadata": {},
   "outputs": [
    {
     "data": {
      "text/plain": [
       "'the knights who say, ni!'"
      ]
     },
     "execution_count": 4,
     "metadata": {},
     "output_type": "execute_result"
    }
   ],
   "source": [
    "\"the knights who say, \" + s2"
   ]
  },
  {
   "cell_type": "code",
   "execution_count": 5,
   "metadata": {},
   "outputs": [
    {
     "data": {
      "text/plain": [
       "'spamspamspamni!ni!'"
      ]
     },
     "execution_count": 5,
     "metadata": {},
     "output_type": "execute_result"
    }
   ],
   "source": [
    "3 * s1 + 2 * s2"
   ]
  },
  {
   "cell_type": "code",
   "execution_count": 6,
   "metadata": {},
   "outputs": [
    {
     "data": {
      "text/plain": [
       "'p'"
      ]
     },
     "execution_count": 6,
     "metadata": {},
     "output_type": "execute_result"
    }
   ],
   "source": [
    "s1[1]"
   ]
  },
  {
   "cell_type": "code",
   "execution_count": 7,
   "metadata": {},
   "outputs": [
    {
     "data": {
      "text/plain": [
       "'pa'"
      ]
     },
     "execution_count": 7,
     "metadata": {},
     "output_type": "execute_result"
    }
   ],
   "source": [
    "s1[1:3]"
   ]
  },
  {
   "cell_type": "code",
   "execution_count": 8,
   "metadata": {},
   "outputs": [
    {
     "data": {
      "text/plain": [
       "'!ni'"
      ]
     },
     "execution_count": 8,
     "metadata": {},
     "output_type": "execute_result"
    }
   ],
   "source": [
    "s2[2]+s2[:2]"
   ]
  },
  {
   "cell_type": "code",
   "execution_count": 9,
   "metadata": {},
   "outputs": [
    {
     "data": {
      "text/plain": [
       "'spam!'"
      ]
     },
     "execution_count": 9,
     "metadata": {},
     "output_type": "execute_result"
    }
   ],
   "source": [
    "s1+s2[-1]"
   ]
  },
  {
   "cell_type": "code",
   "execution_count": 10,
   "metadata": {},
   "outputs": [
    {
     "data": {
      "text/plain": [
       "'SPAM'"
      ]
     },
     "execution_count": 10,
     "metadata": {},
     "output_type": "execute_result"
    }
   ],
   "source": [
    "s1.upper()"
   ]
  },
  {
   "cell_type": "code",
   "execution_count": 11,
   "metadata": {},
   "outputs": [
    {
     "data": {
      "text/plain": [
       "'NI! NI! '"
      ]
     },
     "execution_count": 11,
     "metadata": {},
     "output_type": "execute_result"
    }
   ],
   "source": [
    "s2.upper().ljust(4)*2"
   ]
  },
  {
   "cell_type": "code",
   "execution_count": 14,
   "metadata": {},
   "outputs": [
    {
     "data": {
      "text/plain": [
       "'ni! ni! '"
      ]
     },
     "execution_count": 14,
     "metadata": {},
     "output_type": "execute_result"
    }
   ],
   "source": [
    "s2.ljust(4)*2"
   ]
  },
  {
   "cell_type": "code",
   "execution_count": 19,
   "metadata": {},
   "outputs": [
    {
     "data": {
      "text/plain": [
       "'ni!ni!'"
      ]
     },
     "execution_count": 19,
     "metadata": {},
     "output_type": "execute_result"
    }
   ],
   "source": [
    "s2.ljust(2)*2"
   ]
  },
  {
   "cell_type": "code",
   "execution_count": 16,
   "metadata": {},
   "outputs": [
    {
     "data": {
      "text/plain": [
       "'ni!ni!'"
      ]
     },
     "execution_count": 16,
     "metadata": {},
     "output_type": "execute_result"
    }
   ],
   "source": [
    "s2*2"
   ]
  },
  {
   "cell_type": "markdown",
   "metadata": {},
   "source": [
    "2.\n",
    "Given the same inital staements as in the previous problem, show a Python expression that could construct each of the following results by performing string operations on s1 and s2.\n",
    "\n",
    "a.\n",
    "\"NI\"\n",
    "\n",
    "\n",
    "b.\n",
    "\"ni!spamni!\"\n",
    "\n",
    "\n",
    "c.\n",
    "\"SPAM NI!  SPAM NI!  SPAM NI!\"\n",
    "\n",
    "\n",
    "d.\n",
    "\"spam\"\n",
    "\n",
    "\n",
    "e.\n",
    "[\"sp\", \"m\"]\n",
    "\n",
    "\n",
    "f.\n",
    "\"spm\"\n",
    "\n"
   ]
  },
  {
   "cell_type": "code",
   "execution_count": 23,
   "metadata": {},
   "outputs": [
    {
     "data": {
      "text/plain": [
       "'NI'"
      ]
     },
     "execution_count": 23,
     "metadata": {},
     "output_type": "execute_result"
    }
   ],
   "source": [
    "s2[:2].upper()"
   ]
  },
  {
   "cell_type": "code",
   "execution_count": 24,
   "metadata": {},
   "outputs": [
    {
     "data": {
      "text/plain": [
       "'ni!spamni!'"
      ]
     },
     "execution_count": 24,
     "metadata": {},
     "output_type": "execute_result"
    }
   ],
   "source": [
    "s2+s1+s2"
   ]
  },
  {
   "cell_type": "code",
   "execution_count": 35,
   "metadata": {},
   "outputs": [
    {
     "data": {
      "text/plain": [
       "'Spam  Ni!Spam  Ni!Spam  Ni!'"
      ]
     },
     "execution_count": 35,
     "metadata": {},
     "output_type": "execute_result"
    }
   ],
   "source": [
    "(s1.capitalize().ljust(6) + s2.capitalize()).ljust(4) * 3"
   ]
  },
  {
   "cell_type": "code",
   "execution_count": 38,
   "metadata": {},
   "outputs": [
    {
     "data": {
      "text/plain": [
       "'spam'"
      ]
     },
     "execution_count": 38,
     "metadata": {},
     "output_type": "execute_result"
    }
   ],
   "source": [
    "s1[:4]"
   ]
  },
  {
   "cell_type": "code",
   "execution_count": 54,
   "metadata": {},
   "outputs": [
    {
     "data": {
      "text/plain": [
       "['sp', 'm']"
      ]
     },
     "execution_count": 54,
     "metadata": {},
     "output_type": "execute_result"
    }
   ],
   "source": [
    "s1.split(\"a\")"
   ]
  },
  {
   "cell_type": "code",
   "execution_count": 48,
   "metadata": {},
   "outputs": [
    {
     "data": {
      "text/plain": [
       "'sp'"
      ]
     },
     "execution_count": 48,
     "metadata": {},
     "output_type": "execute_result"
    }
   ],
   "source": [
    "s1[:2]"
   ]
  },
  {
   "cell_type": "code",
   "execution_count": 51,
   "metadata": {},
   "outputs": [
    {
     "data": {
      "text/plain": [
       "'m'"
      ]
     },
     "execution_count": 51,
     "metadata": {},
     "output_type": "execute_result"
    }
   ],
   "source": [
    "s1[3:]"
   ]
  },
  {
   "cell_type": "code",
   "execution_count": 55,
   "metadata": {},
   "outputs": [
    {
     "data": {
      "text/plain": [
       "'spm'"
      ]
     },
     "execution_count": 55,
     "metadata": {},
     "output_type": "execute_result"
    }
   ],
   "source": [
    "s1[:2]+s1[3:]"
   ]
  },
  {
   "cell_type": "markdown",
   "metadata": {},
   "source": [
    "3.\n",
    "Show the output that would be generated by each of the following program fragments:\n",
    "\n",
    "a. for ch in \"aardvark\"\n",
    "       print(ch)\n",
    "    \n",
    "   a\n",
    "   a\n",
    "   r\n",
    "   d\n",
    "   v\n",
    "   a\n",
    "   r\n",
    "   k\n",
    "     \n",
    "b. for w in \"Now is the swing of our discontent...\"split():\n",
    "       print(w)\n",
    "    \n",
    "   Now\n",
    "   is\n",
    "   the\n",
    "   swing\n",
    "   of\n",
    "   our\n",
    "   discontent...\n",
    "\n",
    "\n",
    "c. for w in \"Mississippi\".split(\"i\"):\n",
    "       print(w, end=\" \")\n",
    "    \n",
    "   m ss ss pp\n",
    "\n",
    "d. msg = \" \"\n",
    "   for s in \"secret\".split(\"e\"):\n",
    "       msg = msg + s\n",
    "   print(msg)\n",
    "   \n",
    "   scrt\n",
    "\n",
    "   for the above Msg = a blank space, consequently beggining the print  state with a space.\n",
    "\n",
    "e. msg = \" \"\n",
    "   for ch in \"secret\":\n",
    "       msg = msg + chr(ord(ch)+1)\n",
    "   print(msg)\n",
    "   \n",
    "   tfdsfu\n",
    "   \n",
    "   The fragment prints a string by taking the Unicode value of each letter,adding 1 to it, and then evaluating the in to return the corresponding Unicode character, thus altering the unicode of each character in \"secret\" by +1, by concatenating the result in msg each time the loop iterates.\n",
    "   \n",
    "   s = 115 + 1 = 116 = t\n",
    "   e = 101 + 1 = 102 = f\n",
    "   c = 99 + 1 = 100 = d\n",
    "   r = 114 + 1 = 115 = s\n",
    "   e = 101 + 1 = 102 = f\n",
    "   t = 116 + 1 = 117 = u"
   ]
  },
  {
   "cell_type": "code",
   "execution_count": 1,
   "metadata": {},
   "outputs": [
    {
     "name": "stdout",
     "output_type": "stream",
     "text": [
      "a\n",
      "a\n",
      "r\n",
      "d\n",
      "v\n",
      "a\n",
      "r\n",
      "k\n"
     ]
    }
   ],
   "source": [
    "for ch in \"aardvark\":\n",
    "    print(ch)"
   ]
  },
  {
   "cell_type": "code",
   "execution_count": 5,
   "metadata": {},
   "outputs": [
    {
     "name": "stdout",
     "output_type": "stream",
     "text": [
      "Now\n",
      "is\n",
      "the\n",
      "winter\n",
      "of\n",
      "our\n",
      "discontect...\n"
     ]
    }
   ],
   "source": [
    "for w in \"Now is the winter of our discontect...\".split():\n",
    "    print(w)"
   ]
  },
  {
   "cell_type": "code",
   "execution_count": 7,
   "metadata": {},
   "outputs": [
    {
     "name": "stdout",
     "output_type": "stream",
     "text": [
      "M ss ss pp  "
     ]
    }
   ],
   "source": [
    "for w in \"Mississippi\".split(\"i\"):\n",
    "    print(w, end = \" \")"
   ]
  },
  {
   "cell_type": "code",
   "execution_count": 13,
   "metadata": {},
   "outputs": [
    {
     "name": "stdout",
     "output_type": "stream",
     "text": [
      " scrt\n"
     ]
    }
   ],
   "source": [
    "msg = \" \"\n",
    "for s in \"secret\".split(\"e\"):\n",
    "    msg = msg + s\n",
    "print(msg)"
   ]
  },
  {
   "cell_type": "code",
   "execution_count": 10,
   "metadata": {},
   "outputs": [
    {
     "name": "stdout",
     "output_type": "stream",
     "text": [
      " tfdsfu\n"
     ]
    }
   ],
   "source": [
    "msg = \" \"\n",
    "for ch in \"secret\":\n",
    "    msg = msg + chr(ord(ch)+1)\n",
    "print(msg)"
   ]
  },
  {
   "cell_type": "code",
   "execution_count": 16,
   "metadata": {},
   "outputs": [
    {
     "name": "stdout",
     "output_type": "stream",
     "text": [
      " secret\n"
     ]
    }
   ],
   "source": [
    "msg = \" \"\n",
    "for ch in \"secret\":\n",
    "    msg = msg + chr(ord(ch)+0)\n",
    "print(msg)"
   ]
  },
  {
   "cell_type": "markdown",
   "metadata": {},
   "source": [
    "4.\n",
    "Show the string that would result from each of the following string formatting operations. If the operation is not legal, explain why.\n",
    "\n",
    "a.\n",
    "\"Looks like {1} and {0} for breakfast\".format(\"eggs\", \"spam\")\n",
    "\n",
    "'Looks like spam and eggs for breakfast'\n",
    "\n",
    "b.\n",
    "\"There is {0} {1} {2} {3}\".format(1, \"spam\", 4, \"you\")\n",
    "\n",
    "'There is 1 spam 4 you'\n",
    "\n",
    "c.\n",
    "\"Hello {0}\".format(\"Susan\", \"Computewell\")\n",
    "\n",
    "'Hello Susan'\n",
    "\n",
    "d.\n",
    "\"{0:0.2f} {0:02f}\".format(2.3, 2.3468)\n",
    "\n",
    "'2.30 2.300000'\n",
    "\n",
    "e.\n",
    "\"{7.5f} {7.5f}\".format(2.3, 2.3468)\n",
    "\n",
    "Error occured.\n",
    "\n",
    "The reason the error occured is because there is no tupple at index 7.5.\n",
    "\n",
    "f.\n",
    "\"Time left {0:02}:{1:05.2f}\".format(1, 37.374)\n",
    "\n",
    "'Time left 01:37.37'\n",
    "\n",
    "g.\n",
    "\"{1:3}\".format(\"14\")\n",
    "\n",
    "Error occured.\n",
    "\n",
    "The reason the error occured is because we only have established a tuple at index 0."
   ]
  },
  {
   "cell_type": "code",
   "execution_count": 17,
   "metadata": {},
   "outputs": [
    {
     "data": {
      "text/plain": [
       "'Looks like spam and eggs for breakfast'"
      ]
     },
     "execution_count": 17,
     "metadata": {},
     "output_type": "execute_result"
    }
   ],
   "source": [
    "\"Looks like {1} and {0} for breakfast\".format(\"eggs\",\"spam\")"
   ]
  },
  {
   "cell_type": "code",
   "execution_count": 19,
   "metadata": {},
   "outputs": [
    {
     "data": {
      "text/plain": [
       "'There is 1 spam 4 you'"
      ]
     },
     "execution_count": 19,
     "metadata": {},
     "output_type": "execute_result"
    }
   ],
   "source": [
    "\"There is {0} {1} {2} {3}\".format(1, \"spam\", 4, \"you\")"
   ]
  },
  {
   "cell_type": "code",
   "execution_count": 20,
   "metadata": {},
   "outputs": [
    {
     "data": {
      "text/plain": [
       "'Hello Susan'"
      ]
     },
     "execution_count": 20,
     "metadata": {},
     "output_type": "execute_result"
    }
   ],
   "source": [
    "\"Hello {0}\".format(\"Susan\", \"Computewell\")"
   ]
  },
  {
   "cell_type": "code",
   "execution_count": 21,
   "metadata": {},
   "outputs": [
    {
     "data": {
      "text/plain": [
       "'2.30 2.300000'"
      ]
     },
     "execution_count": 21,
     "metadata": {},
     "output_type": "execute_result"
    }
   ],
   "source": [
    "\"{0:0.2f} {0:02f}\".format(2.3, 2.3468)"
   ]
  },
  {
   "cell_type": "code",
   "execution_count": 28,
   "metadata": {},
   "outputs": [
    {
     "ename": "IndexError",
     "evalue": "tuple index out of range",
     "output_type": "error",
     "traceback": [
      "\u001b[0;31m---------------------------------------------------------------------------\u001b[0m",
      "\u001b[0;31mIndexError\u001b[0m                                Traceback (most recent call last)",
      "\u001b[0;32m<ipython-input-28-22ed3c02e226>\u001b[0m in \u001b[0;36m<module>\u001b[0;34m\u001b[0m\n\u001b[0;32m----> 1\u001b[0;31m \u001b[0;34m\"{7.5f} {7.5f}\"\u001b[0m\u001b[0;34m.\u001b[0m\u001b[0mformat\u001b[0m\u001b[0;34m(\u001b[0m\u001b[0;36m2.3\u001b[0m\u001b[0;34m,\u001b[0m \u001b[0;36m2.3468\u001b[0m\u001b[0;34m)\u001b[0m\u001b[0;34m\u001b[0m\u001b[0;34m\u001b[0m\u001b[0m\n\u001b[0m",
      "\u001b[0;31mIndexError\u001b[0m: tuple index out of range"
     ]
    }
   ],
   "source": [
    "\"{7.5f} {7.5f}\".format(2.3, 2.3468)"
   ]
  },
  {
   "cell_type": "code",
   "execution_count": 23,
   "metadata": {},
   "outputs": [
    {
     "data": {
      "text/plain": [
       "'Time left 01:37.37'"
      ]
     },
     "execution_count": 23,
     "metadata": {},
     "output_type": "execute_result"
    }
   ],
   "source": [
    "\"Time left {0:02}:{1:05.2f}\".format(1, 37.374)"
   ]
  },
  {
   "cell_type": "code",
   "execution_count": 26,
   "metadata": {},
   "outputs": [
    {
     "ename": "IndexError",
     "evalue": "tuple index out of range",
     "output_type": "error",
     "traceback": [
      "\u001b[0;31m---------------------------------------------------------------------------\u001b[0m",
      "\u001b[0;31mIndexError\u001b[0m                                Traceback (most recent call last)",
      "\u001b[0;32m<ipython-input-26-85badca196ba>\u001b[0m in \u001b[0;36m<module>\u001b[0;34m\u001b[0m\n\u001b[0;32m----> 1\u001b[0;31m \u001b[0;34m\"{1:3}\"\u001b[0m\u001b[0;34m.\u001b[0m\u001b[0mformat\u001b[0m\u001b[0;34m(\u001b[0m\u001b[0;34m\"14\"\u001b[0m\u001b[0;34m)\u001b[0m\u001b[0;34m\u001b[0m\u001b[0;34m\u001b[0m\u001b[0m\n\u001b[0m",
      "\u001b[0;31mIndexError\u001b[0m: tuple index out of range"
     ]
    }
   ],
   "source": [
    "\"{1:3}\".format(\"14\")"
   ]
  },
  {
   "cell_type": "markdown",
   "metadata": {},
   "source": [
    "5.\n",
    "Explain why public key encryption is more useful for securing communications on the Internet than private (shared) key encryption.\n",
    "\n",
    "In a private key (also called shared key) system, the same key is used for encrypting and decrypting messages. All parties that wish to communicate need to know the key, but it must be kept secret from the outside world. The is the usually system people think of when considering secret codes.\n",
    "\n",
    "In public key systems, there are seperate but related keys for encrypting and decrypting. Knowing the encryption key does not allow you to decrypt messages or discover the decrypting key. In a public key system, the encrypting key can be made pubblicly available, while the decryption key is kept private. Anyone can safely send a message using the pubblic key for encryption. Only the party holding the decryption key will be able to decipher it. For exmaple, a secure website can send your web browser its public key, and the browser can use it to encode your credit card information before sending it to the Internet. Then only the company that is requesting the information will be able to decrypt and read it using the proper private key.\n",
    "\n",
    "Private key's are more secure than public keys however private keys run the risk of losing encryption and decryption keys which is highly dangerous.\n",
    "\n",
    "Public keys however can only be decrypted with another key that is specific to the recipient."
   ]
  },
  {
   "cell_type": "markdown",
   "metadata": {},
   "source": [
    "### Programming exercises"
   ]
  },
  {
   "cell_type": "markdown",
   "metadata": {},
   "source": [
    "1.\n",
    "The example code files for Chapter 5 include a date conversion program dateconvert2.py. This program could be simplified with string formatting. Modify the program to used the string format method for its output."
   ]
  },
  {
   "cell_type": "code",
   "execution_count": 30,
   "metadata": {},
   "outputs": [
    {
     "name": "stdout",
     "output_type": "stream",
     "text": [
      "Enter a data (dd/mm/yyyy): 22/09/1995\n",
      "The converted date is: September 22, 1995\n"
     ]
    }
   ],
   "source": [
    "# dataconvert2.py\n",
    "#   Converts a date in form \"dd/mm/yyyy\" to month day, year\"\n",
    "#   Australian format\n",
    "\n",
    "def main():\n",
    "    # get the date\n",
    "    dateStr = input(\"Enter a data (dd/mm/yyyy): \")\n",
    "    \n",
    "    # split into components (splits at the \"/\" of the above)\n",
    "    dayStr, monthStr, yearStr = dateStr.split(\"/\")\n",
    "    \n",
    "    # convert monthStr to the month name\n",
    "    months = [\"January\", \"February\", \"March\", \"April\", \"May\", \"June\", \"July\", \"August\", \"September\", \"October\", \"November\", \"December\"]\n",
    "    monthStr = months[int(monthStr)-1]\n",
    "    \n",
    "    # Output result in month day, year format\n",
    "    print(\"The converted date is:\", monthStr, dayStr+\",\", yearStr)\n",
    "\n",
    "main()"
   ]
  },
  {
   "cell_type": "code",
   "execution_count": 7,
   "metadata": {},
   "outputs": [
    {
     "name": "stdout",
     "output_type": "stream",
     "text": [
      "Enter the day number: 01\n",
      "Enter the month number: 01\n",
      "Enter the year: 2020\n",
      "The date is 1/1/2020 or January 1, 2020.\n"
     ]
    }
   ],
   "source": [
    "def main():\n",
    "    # get the day month and year as numbers\n",
    "    day = int(input(\"Enter the day number: \"))\n",
    "    month = int(input(\"Enter the month number: \"))\n",
    "    year = int(input(\"Enter the year: \"))\n",
    "\n",
    "    # Add components\n",
    "    date1 = str(month)+\"/\"+str(day)+\"/\"+str(year)\n",
    "\n",
    "    # convert monthStr to the month name\n",
    "    months = [\"January\", \"February\", \"March\", \"April\", \n",
    "              \"May\", \"June\", \"July\", \"August\", \n",
    "              \"September\", \"October\", \"November\", \"December\"]\n",
    "    monthStr = months[month-1]\n",
    "    date2 = monthStr+\" \" + str(day) + \", \" + str(year)\n",
    "\n",
    "    # Output result in month day, year format\n",
    "    print(\"The date is {0} or {1}.\".format(date1, date2))\n",
    "\n",
    "main()"
   ]
  },
  {
   "cell_type": "markdown",
   "metadata": {},
   "source": [
    "2. A certain CS professor give 5-point quizzes that are graded on the scale 5-A, 4-B, 3-C, 2-B, 1-A, 0-F. Write a program that accepts a quiz score as an input and prints out the corresponding grade."
   ]
  },
  {
   "cell_type": "code",
   "execution_count": null,
   "metadata": {},
   "outputs": [],
   "source": [
    "# Gradeconvert.py \n",
    "\n",
    "    # Input a quiz score ranging from 0 - 5\n",
    "    # Output a grade from A - F\n",
    "    # Create a sequence of grades as a string, where index/position correspons to letter grade\n",
    "    # For a number supplied by user, convery to int and get the index, print the appropriate grade\n",
    "\n",
    "def main()\n"
   ]
  }
 ],
 "metadata": {
  "kernelspec": {
   "display_name": "Python 3",
   "language": "python",
   "name": "python3"
  },
  "language_info": {
   "codemirror_mode": {
    "name": "ipython",
    "version": 3
   },
   "file_extension": ".py",
   "mimetype": "text/x-python",
   "name": "python",
   "nbconvert_exporter": "python",
   "pygments_lexer": "ipython3",
   "version": "3.7.6"
  }
 },
 "nbformat": 4,
 "nbformat_minor": 4
}
