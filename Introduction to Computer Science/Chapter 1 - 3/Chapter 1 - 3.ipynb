{
 "cells": [
  {
   "cell_type": "code",
   "execution_count": 18,
   "metadata": {},
   "outputs": [],
   "source": [
    "#Chapter 1"
   ]
  },
  {
   "cell_type": "code",
   "execution_count": 19,
   "metadata": {},
   "outputs": [],
   "source": [
    "# Text examples \n",
    "def hello(name = \" NAME\"):\n",
    "    print (\"Hello \" + name)\n",
    "    print (\"How are you?\")"
   ]
  },
  {
   "cell_type": "code",
   "execution_count": 20,
   "metadata": {},
   "outputs": [
    {
     "name": "stdout",
     "output_type": "stream",
     "text": [
      "Hello JJ\n",
      "How are you?\n"
     ]
    }
   ],
   "source": [
    "hello(\"JJ\")"
   ]
  },
  {
   "cell_type": "code",
   "execution_count": 21,
   "metadata": {},
   "outputs": [],
   "source": [
    "# File: chaos.py\n",
    "# A simple program illustrating chaotic behaviour\n",
    "def main():\n",
    "    print(\"This program illustrates a chaotic function\")\n",
    "    x = eval(input(\"Enter a number between 0 and 1: \"))\n",
    "    for i in range(10):\n",
    "        x = 3.9 * x * (1-x)\n",
    "        print(x)\n",
    "    "
   ]
  },
  {
   "cell_type": "code",
   "execution_count": 22,
   "metadata": {},
   "outputs": [
    {
     "name": "stdout",
     "output_type": "stream",
     "text": [
      "This program illustrates a chaotic function\n",
      "Enter a number between 0 and 1: 4\n",
      "-46.8\n",
      "-8724.455999999998\n",
      "-296886942.1125503\n",
      "-3.437532411059282e+17\n",
      "-4.608485340062386e+35\n",
      "-8.282873480532271e+71\n",
      "-2.6756337306856863e+144\n",
      "-2.7920161857053715e+289\n",
      "-inf\n",
      "-inf\n"
     ]
    }
   ],
   "source": [
    "main()"
   ]
  },
  {
   "cell_type": "markdown",
   "metadata": {},
   "source": [
    "main()"
   ]
  },
  {
   "cell_type": "code",
   "execution_count": 23,
   "metadata": {},
   "outputs": [],
   "source": [
    "# File: chaos.py\n",
    "# A simple program illustrating chaotic behaviour\n",
    "def main():\n",
    "    print(\"This program illustrates a chaotic function\")\n",
    "    x = eval(input(\"Enter a number between 0 and 1: \"))\n",
    "    for i in range(10):\n",
    "        x = 3.9 * x * (1-x)\n",
    "        print(x)\n",
    "    "
   ]
  },
  {
   "cell_type": "code",
   "execution_count": 24,
   "metadata": {},
   "outputs": [
    {
     "name": "stdout",
     "output_type": "stream",
     "text": [
      "This program illustrates a chaotic function\n",
      "Enter a number between 0 and 1: 1\n",
      "0.0\n",
      "0.0\n",
      "0.0\n",
      "0.0\n",
      "0.0\n",
      "0.0\n",
      "0.0\n",
      "0.0\n",
      "0.0\n",
      "0.0\n"
     ]
    }
   ],
   "source": [
    "main()"
   ]
  },
  {
   "cell_type": "code",
   "execution_count": 25,
   "metadata": {},
   "outputs": [],
   "source": [
    "# Programming exercises"
   ]
  },
  {
   "cell_type": "code",
   "execution_count": 26,
   "metadata": {},
   "outputs": [
    {
     "name": "stdout",
     "output_type": "stream",
     "text": [
      "Hello, world!\n"
     ]
    }
   ],
   "source": [
    "# Exercise 1\n",
    "print(\"Hello, world!\")"
   ]
  },
  {
   "cell_type": "code",
   "execution_count": 27,
   "metadata": {},
   "outputs": [
    {
     "name": "stdout",
     "output_type": "stream",
     "text": [
      "Hello world!\n"
     ]
    }
   ],
   "source": [
    "print(\"Hello\", \"world!\")"
   ]
  },
  {
   "cell_type": "code",
   "execution_count": 28,
   "metadata": {},
   "outputs": [
    {
     "name": "stdout",
     "output_type": "stream",
     "text": [
      "3\n"
     ]
    }
   ],
   "source": [
    "print(3)"
   ]
  },
  {
   "cell_type": "code",
   "execution_count": 29,
   "metadata": {},
   "outputs": [
    {
     "name": "stdout",
     "output_type": "stream",
     "text": [
      "3.0\n"
     ]
    }
   ],
   "source": [
    "print(3.0)"
   ]
  },
  {
   "cell_type": "code",
   "execution_count": 30,
   "metadata": {},
   "outputs": [
    {
     "name": "stdout",
     "output_type": "stream",
     "text": [
      "5\n"
     ]
    }
   ],
   "source": [
    "print(2+3)"
   ]
  },
  {
   "cell_type": "code",
   "execution_count": 31,
   "metadata": {},
   "outputs": [
    {
     "name": "stdout",
     "output_type": "stream",
     "text": [
      "5.0\n"
     ]
    }
   ],
   "source": [
    "print(2.0+3.0)"
   ]
  },
  {
   "cell_type": "code",
   "execution_count": 32,
   "metadata": {},
   "outputs": [
    {
     "name": "stdout",
     "output_type": "stream",
     "text": [
      "23\n"
     ]
    }
   ],
   "source": [
    "print(\"2\" + \"3\")"
   ]
  },
  {
   "cell_type": "code",
   "execution_count": 33,
   "metadata": {},
   "outputs": [
    {
     "name": "stdout",
     "output_type": "stream",
     "text": [
      "2 + 3 = 5\n"
     ]
    }
   ],
   "source": [
    "print(\"2 + 3 =\",2+3)"
   ]
  },
  {
   "cell_type": "code",
   "execution_count": 34,
   "metadata": {},
   "outputs": [
    {
     "name": "stdout",
     "output_type": "stream",
     "text": [
      "6\n"
     ]
    }
   ],
   "source": [
    "print(2 * 3)"
   ]
  },
  {
   "cell_type": "code",
   "execution_count": 35,
   "metadata": {},
   "outputs": [
    {
     "name": "stdout",
     "output_type": "stream",
     "text": [
      "8\n"
     ]
    }
   ],
   "source": [
    "print(2 ** 3)"
   ]
  },
  {
   "cell_type": "code",
   "execution_count": 36,
   "metadata": {},
   "outputs": [
    {
     "name": "stdout",
     "output_type": "stream",
     "text": [
      "2.3333333333333335\n"
     ]
    }
   ],
   "source": [
    "print( 7 / 3)"
   ]
  },
  {
   "cell_type": "code",
   "execution_count": 37,
   "metadata": {},
   "outputs": [
    {
     "name": "stdout",
     "output_type": "stream",
     "text": [
      "2\n"
     ]
    }
   ],
   "source": [
    "print (7 //3)"
   ]
  },
  {
   "cell_type": "code",
   "execution_count": 38,
   "metadata": {},
   "outputs": [],
   "source": [
    "# Exercise 3"
   ]
  },
  {
   "cell_type": "code",
   "execution_count": 39,
   "metadata": {},
   "outputs": [],
   "source": [
    "# A simple program illustrating chaotic behaviour\n",
    "def main():\n",
    "    print(\"This program illustrates a chaotic function\")\n",
    "    x = eval(input(\"Enter a number between 0 and 1: \"))\n",
    "    for i in range(10):\n",
    "        x = 2.0 * x * (1-x)\n",
    "        print(x)"
   ]
  },
  {
   "cell_type": "code",
   "execution_count": 41,
   "metadata": {},
   "outputs": [
    {
     "name": "stdout",
     "output_type": "stream",
     "text": [
      "This program illustrates a chaotic function\n",
      "Enter a number between 0 and 1: 1\n",
      "0.0\n",
      "0.0\n",
      "0.0\n",
      "0.0\n",
      "0.0\n",
      "0.0\n",
      "0.0\n",
      "0.0\n",
      "0.0\n",
      "0.0\n"
     ]
    }
   ],
   "source": [
    "main()"
   ]
  },
  {
   "cell_type": "code",
   "execution_count": 42,
   "metadata": {},
   "outputs": [
    {
     "name": "stdout",
     "output_type": "stream",
     "text": [
      "This program illustrates a chaotic function\n",
      "Enter a number between 0 and 1: \n"
     ]
    },
    {
     "ename": "SyntaxError",
     "evalue": "unexpected EOF while parsing (<string>, line 0)",
     "output_type": "error",
     "traceback": [
      "Traceback \u001b[0;36m(most recent call last)\u001b[0m:\n",
      "  File \u001b[1;32m\"/anaconda3/lib/python3.7/site-packages/IPython/core/interactiveshell.py\"\u001b[0m, line \u001b[1;32m2961\u001b[0m, in \u001b[1;35mrun_code\u001b[0m\n    exec(code_obj, self.user_global_ns, self.user_ns)\n",
      "  File \u001b[1;32m\"<ipython-input-42-263240bbee7e>\"\u001b[0m, line \u001b[1;32m1\u001b[0m, in \u001b[1;35m<module>\u001b[0m\n    main()\n",
      "\u001b[0;36m  File \u001b[0;32m\"<ipython-input-39-de4bd046c49a>\"\u001b[0;36m, line \u001b[0;32m4\u001b[0;36m, in \u001b[0;35mmain\u001b[0;36m\u001b[0m\n\u001b[0;31m    x = eval(input(\"Enter a number between 0 and 1: \"))\u001b[0m\n",
      "\u001b[0;36m  File \u001b[0;32m\"<string>\"\u001b[0;36m, line \u001b[0;32munknown\u001b[0m\n\u001b[0;31m    \u001b[0m\n\u001b[0m    ^\u001b[0m\n\u001b[0;31mSyntaxError\u001b[0m\u001b[0;31m:\u001b[0m unexpected EOF while parsing\n"
     ]
    }
   ],
   "source": [
    "main()"
   ]
  },
  {
   "cell_type": "code",
   "execution_count": 43,
   "metadata": {},
   "outputs": [],
   "source": [
    "# The key differences in both chaotic functions seems to be the function \n",
    "# results max is 5 while the other chatoic functions max is 1"
   ]
  },
  {
   "cell_type": "code",
   "execution_count": 44,
   "metadata": {},
   "outputs": [],
   "source": [
    "# A simple program illustrating chaotic behaviour\n",
    "def main():\n",
    "    print(\"This program illustrates a chaotic function\")\n",
    "    x = eval(input(\"Enter a number between 0 and 1: \"))\n",
    "    for i in range(20):\n",
    "        x = 3.9 * x * (1-x)\n",
    "        print(x)"
   ]
  },
  {
   "cell_type": "code",
   "execution_count": 45,
   "metadata": {},
   "outputs": [
    {
     "name": "stdout",
     "output_type": "stream",
     "text": [
      "This program illustrates a chaotic function\n",
      "Enter a number between 0 and 1: 6\n",
      "-117.0\n",
      "-53843.4\n",
      "-11306745711.144001\n",
      "-4.98585744492342e+20\n",
      "-9.694922039828336e+41\n",
      "-3.6656690209756194e+84\n",
      "-5.2404804548227384e+169\n",
      "-inf\n",
      "-inf\n",
      "-inf\n",
      "-inf\n",
      "-inf\n",
      "-inf\n",
      "-inf\n",
      "-inf\n",
      "-inf\n",
      "-inf\n",
      "-inf\n",
      "-inf\n",
      "-inf\n"
     ]
    }
   ],
   "source": [
    "main()"
   ]
  },
  {
   "cell_type": "code",
   "execution_count": 46,
   "metadata": {},
   "outputs": [],
   "source": [
    "# A simple program illustrating chaotic behaviour\n",
    "def main():\n",
    "    print(\"This program illustrates a chaotic function\")\n",
    "    n = eval(input(\"How many number should I print? \"))\n",
    "    x = eval(input(\"Enter a number between 0 and 1: \"))\n",
    "    for i in range(n):\n",
    "        x = 3.9 * x * (1-x)\n",
    "        print(x)"
   ]
  },
  {
   "cell_type": "code",
   "execution_count": 47,
   "metadata": {},
   "outputs": [
    {
     "name": "stdout",
     "output_type": "stream",
     "text": [
      "This program illustrates a chaotic function\n",
      "How many number should I print? \n"
     ]
    },
    {
     "ename": "SyntaxError",
     "evalue": "unexpected EOF while parsing (<string>, line 0)",
     "output_type": "error",
     "traceback": [
      "Traceback \u001b[0;36m(most recent call last)\u001b[0m:\n",
      "  File \u001b[1;32m\"/anaconda3/lib/python3.7/site-packages/IPython/core/interactiveshell.py\"\u001b[0m, line \u001b[1;32m2961\u001b[0m, in \u001b[1;35mrun_code\u001b[0m\n    exec(code_obj, self.user_global_ns, self.user_ns)\n",
      "  File \u001b[1;32m\"<ipython-input-47-263240bbee7e>\"\u001b[0m, line \u001b[1;32m1\u001b[0m, in \u001b[1;35m<module>\u001b[0m\n    main()\n",
      "\u001b[0;36m  File \u001b[0;32m\"<ipython-input-46-2a0d270325fb>\"\u001b[0;36m, line \u001b[0;32m4\u001b[0;36m, in \u001b[0;35mmain\u001b[0;36m\u001b[0m\n\u001b[0;31m    n = eval(input(\"How many number should I print? \"))\u001b[0m\n",
      "\u001b[0;36m  File \u001b[0;32m\"<string>\"\u001b[0;36m, line \u001b[0;32munknown\u001b[0m\n\u001b[0;31m    \u001b[0m\n\u001b[0m    ^\u001b[0m\n\u001b[0;31mSyntaxError\u001b[0m\u001b[0;31m:\u001b[0m unexpected EOF while parsing\n"
     ]
    }
   ],
   "source": [
    "main()"
   ]
  },
  {
   "cell_type": "markdown",
   "metadata": {},
   "source": []
  },
  {
   "cell_type": "markdown",
   "metadata": {},
   "source": []
  },
  {
   "cell_type": "code",
   "execution_count": 48,
   "metadata": {},
   "outputs": [
    {
     "name": "stdout",
     "output_type": "stream",
     "text": [
      "This program computes the average of two exam scores.\n",
      "Enter two scores seperated by a comma:\n"
     ]
    },
    {
     "ename": "SyntaxError",
     "evalue": "unexpected EOF while parsing (<string>, line 0)",
     "output_type": "error",
     "traceback": [
      "Traceback \u001b[0;36m(most recent call last)\u001b[0m:\n",
      "  File \u001b[1;32m\"/anaconda3/lib/python3.7/site-packages/IPython/core/interactiveshell.py\"\u001b[0m, line \u001b[1;32m2961\u001b[0m, in \u001b[1;35mrun_code\u001b[0m\n    exec(code_obj, self.user_global_ns, self.user_ns)\n",
      "  File \u001b[1;32m\"<ipython-input-48-dc2a735d2b43>\"\u001b[0m, line \u001b[1;32m17\u001b[0m, in \u001b[1;35m<module>\u001b[0m\n    main()\n",
      "\u001b[0;36m  File \u001b[0;32m\"<ipython-input-48-dc2a735d2b43>\"\u001b[0;36m, line \u001b[0;32m12\u001b[0;36m, in \u001b[0;35mmain\u001b[0;36m\u001b[0m\n\u001b[0;31m    score1, score2 = eval(input(\"Enter two scores seperated by a comma:\"))\u001b[0m\n",
      "\u001b[0;36m  File \u001b[0;32m\"<string>\"\u001b[0;36m, line \u001b[0;32munknown\u001b[0m\n\u001b[0;31m    \u001b[0m\n\u001b[0m    ^\u001b[0m\n\u001b[0;31mSyntaxError\u001b[0m\u001b[0;31m:\u001b[0m unexpected EOF while parsing\n"
     ]
    }
   ],
   "source": [
    "#Chapter 2\n",
    "\n",
    "# Writing simple programs\n",
    "\n",
    "#  avg2.py\n",
    "#  A simple program to average two exam scores\n",
    "#  Illustrates use of multiple input\n",
    "\n",
    "def main():\n",
    "    print(\"This program computes the average of two exam scores.\")\n",
    "    \n",
    "    score1, score2 = eval(input(\"Enter two scores seperated by a comma:\"))\n",
    "    average = (score1 + score2) / 2\n",
    "    \n",
    "    print(\"The average of the scores is: \", average)\n",
    "\n",
    "main()"
   ]
  },
  {
   "cell_type": "code",
   "execution_count": 49,
   "metadata": {},
   "outputs": [
    {
     "data": {
      "text/plain": [
       "[0, 1, 2, 3, 4, 5, 6, 7, 8, 9]"
      ]
     },
     "execution_count": 49,
     "metadata": {},
     "output_type": "execute_result"
    }
   ],
   "source": [
    "# Turns range(10) into an explicit list\n",
    "list(range(10))"
   ]
  },
  {
   "cell_type": "code",
   "execution_count": 50,
   "metadata": {},
   "outputs": [],
   "source": [
    "# Example program - future value\n",
    "# Print an introduction\n",
    "# Input the amount of the principal (principal)\n",
    "# Input the annual percentagerate (apr)\n",
    "# Repeat 10 times:\n",
    "#    principal = principal * (1 + apr)\n",
    "#Output the value of the principal"
   ]
  },
  {
   "cell_type": "code",
   "execution_count": 51,
   "metadata": {},
   "outputs": [],
   "source": [
    "#futval.py\n",
    "#  A program to compute the value of an investment\n",
    "#  carried 10 years in the future\n",
    "\n",
    "def main():\n",
    "    print(\"This program calculates the future value\")\n",
    "    print(\"of a 10-year investment.\")\n",
    "    \n",
    "    principal = eval(input(\"Enter the initial principal: \"))\n",
    "    apr = eval(input(\"Enter the annual interest rate: \"))\n",
    "    \n",
    "    for i in range(10):\n",
    "        principal = principal * (1 + apr)\n",
    "        \n",
    "    print(\"The value in 10 years is:\",principal)\n",
    "    \n",
    "    #Below line of code I want to go over\n",
    "    #Above line of code has a few blank spaces to make the code\n",
    "    #Much more readable which is pretty cool"
   ]
  },
  {
   "cell_type": "code",
   "execution_count": 52,
   "metadata": {},
   "outputs": [
    {
     "name": "stdout",
     "output_type": "stream",
     "text": [
      "This program calculates the future value\n",
      "of a 10-year investment.\n",
      "Enter the initial principal: 6\n",
      "Enter the annual interest rate: 6\n",
      "The value in 10 years is: 1694851494\n"
     ]
    }
   ],
   "source": [
    "main()"
   ]
  },
  {
   "cell_type": "markdown",
   "metadata": {},
   "source": [
    "\n"
   ]
  },
  {
   "cell_type": "code",
   "execution_count": 35,
   "metadata": {},
   "outputs": [],
   "source": [
    "#Discussion question 2.\n",
    "def main():\n",
    "    print(\"This program illustrates a chaotic function\")\n",
    "    n = eval(input(\"How many number should I print? \"))\n",
    "    x = eval(input(\"Enter a number between 0 and 1: \"))\n",
    "    for i in range(n):\n",
    "        x = 3.9 * x * (1-x)\n",
    "        print(x)\n",
    "        \n",
    "# The output statement in the above line of code is the print statemenets\n",
    "# The assignment points of code are the def,n,x lines of code\n",
    "# The input portion of the code is the eval and input portion of the code\n",
    "# The loop part of the code is the for i in range(n) part of the code"
   ]
  },
  {
   "cell_type": "code",
   "execution_count": 36,
   "metadata": {},
   "outputs": [
    {
     "name": "stdout",
     "output_type": "stream",
     "text": [
      "0\n",
      "1\n",
      "4\n",
      "9\n",
      "16\n"
     ]
    }
   ],
   "source": [
    "#Discussion question 4\n",
    "#a\n",
    "for i in range(5):\n",
    "    print(i*i)"
   ]
  },
  {
   "cell_type": "code",
   "execution_count": 37,
   "metadata": {},
   "outputs": [
    {
     "name": "stdout",
     "output_type": "stream",
     "text": [
      "3 1 4 1 5 "
     ]
    }
   ],
   "source": [
    "#Discussion question 4\n",
    "#b\n",
    "for d in [3, 1, 4, 1, 5]:\n",
    "    print (d, end=\" \")"
   ]
  },
  {
   "cell_type": "code",
   "execution_count": 38,
   "metadata": {},
   "outputs": [
    {
     "name": "stdout",
     "output_type": "stream",
     "text": [
      "Hello\n",
      "Hello\n",
      "Hello\n",
      "Hello\n"
     ]
    }
   ],
   "source": [
    "for i in range(4):\n",
    "    print(\"Hello\")"
   ]
  },
  {
   "cell_type": "code",
   "execution_count": 39,
   "metadata": {},
   "outputs": [
    {
     "name": "stdout",
     "output_type": "stream",
     "text": [
      "0 1\n",
      "1 2\n",
      "2 4\n",
      "3 8\n",
      "4 16\n"
     ]
    }
   ],
   "source": [
    "for i in range(5):\n",
    "    print(i, 2**i)"
   ]
  },
  {
   "cell_type": "code",
   "execution_count": 40,
   "metadata": {},
   "outputs": [
    {
     "name": "stdout",
     "output_type": "stream",
     "text": [
      "3\n",
      "1\n",
      "4\n",
      "1\n",
      "5\n"
     ]
    }
   ],
   "source": [
    "for d in [3, 1, 4, 1, 5]:\n",
    "    print (d, sep=\"\")"
   ]
  },
  {
   "cell_type": "code",
   "execution_count": 41,
   "metadata": {},
   "outputs": [
    {
     "name": "stdout",
     "output_type": "stream",
     "text": [
      "start\n",
      "end\n"
     ]
    }
   ],
   "source": [
    "print(\"start\")\n",
    "for i in range (0):\n",
    "    print(\"Hello\")\n",
    "print(\"end\")"
   ]
  },
  {
   "cell_type": "code",
   "execution_count": 42,
   "metadata": {},
   "outputs": [],
   "source": [
    "#Programming exercises\n",
    "#Question 1\n",
    "#convert.py\n",
    "#    A program to convert Celcius temps to Fahrenheight\n",
    "#By JJ Takhar\n",
    "\n",
    "def main():\n",
    "    print(\"Fahrenheit conversion program\")\n",
    "    celcius = eval(input(\"What is the Celcius temeperature? \"))\n",
    "    fahrenheit = 9/5 * celcius +32\n",
    "    print(\"The temperature is\", fahrenheit, \"degrees Fahrenheit.\")"
   ]
  },
  {
   "cell_type": "code",
   "execution_count": 43,
   "metadata": {},
   "outputs": [
    {
     "name": "stdout",
     "output_type": "stream",
     "text": [
      "Fahrenheit conversion program\n",
      "What is the Celcius temeperature? 20\n",
      "The temperature is 68.0 degrees Fahrenheit.\n"
     ]
    }
   ],
   "source": [
    "main()"
   ]
  },
  {
   "cell_type": "code",
   "execution_count": 44,
   "metadata": {},
   "outputs": [
    {
     "name": "stdout",
     "output_type": "stream",
     "text": [
      "This program comuputes the average of two exam scores.\n",
      "Enter two scores seperated by a comma:60,50\n",
      "The average of the scores are: 55.0\n"
     ]
    }
   ],
   "source": [
    "#Question 3\n",
    "#avg2.py\n",
    "#   A simple program to average two exam scores\n",
    "#   Illustrates useof multiple input\n",
    "\n",
    "def main():\n",
    "    print(\"This program comuputes the average of two exam scores.\")\n",
    "    \n",
    "    score1,score2 = eval(input(\"Enter two scores seperated by a comma:\"))\n",
    "    average = ((score1+score2) / 2)\n",
    "    \n",
    "    print(\"The average of the scores are:\", average)\n",
    "\n",
    "main()"
   ]
  },
  {
   "cell_type": "code",
   "execution_count": null,
   "metadata": {},
   "outputs": [],
   "source": [
    "#avg2.py\n",
    "#   A simple program to average three exam scores\n",
    "#   Illustrates use of multiple input\n",
    "\n",
    "def main():\n",
    "    print(\"This program comuputes the average of three exam scores.\")\n",
    "    \n",
    "    score1,score2,score3 = eval(input(\"Enter three scores seperated by a comma:\"))\n",
    "    average = ((score1+score2+score3) / 3)\n",
    "    \n",
    "    print(\"The average of the scores are:\", average)\n",
    "\n",
    "main()"
   ]
  },
  {
   "cell_type": "code",
   "execution_count": 7,
   "metadata": {
    "scrolled": true
   },
   "outputs": [
    {
     "name": "stdout",
     "output_type": "stream",
     "text": [
      "Fahrenheit conversion program\n",
      "What is the Celcius temeperature? 30\n",
      "The temperature is 86.0 degrees Fahrenheit.\n"
     ]
    }
   ],
   "source": [
    "#Question 4\n",
    "#convert.py\n",
    "#    A program to convert Celcius temps to Fahrenheight\n",
    "#By JJ Takhar\n",
    "\n",
    "def main():\n",
    "    print(\"Fahrenheit conversion program\")\n",
    "    \n",
    "    celcius = eval(input(\"What is the Celcius temeperature? \"))\n",
    "   \n",
    "    for i in range(5):\n",
    "        fahrenheit = 9/5 * celcius +32\n",
    "        \n",
    "    print(\"The temperature is\", fahrenheit, \"degrees Fahrenheit.\")\n",
    "    \n",
    "main()"
   ]
  },
  {
   "cell_type": "markdown",
   "metadata": {},
   "source": []
  },
  {
   "cell_type": "markdown",
   "metadata": {},
   "source": []
  },
  {
   "cell_type": "code",
   "execution_count": 8,
   "metadata": {},
   "outputs": [],
   "source": [
    "#Question 5\n",
    "#convert.py\n",
    "#    A program to convert Celcius temps to Fahrenheight\n",
    "#By JJ Takhar"
   ]
  },
  {
   "cell_type": "markdown",
   "metadata": {},
   "source": []
  },
  {
   "cell_type": "markdown",
   "metadata": {},
   "source": [
    "main()"
   ]
  },
  {
   "cell_type": "markdown",
   "metadata": {},
   "source": []
  },
  {
   "cell_type": "code",
   "execution_count": 53,
   "metadata": {},
   "outputs": [
    {
     "name": "stdout",
     "output_type": "stream",
     "text": [
      "This program calculates the future value\n",
      "of a 10-year investment.\n",
      "Enter the initial principal: 1000\n",
      "Enter the annual interest rate: .10\n",
      "The value in 10 years is:  2593.742460100001\n"
     ]
    }
   ],
   "source": [
    "#Question 6\n",
    "#futval.py\n",
    "#     A program to compute the value of an investment\n",
    "#     carried 10 years into the future\n",
    "\n",
    "def main():\n",
    "    print(\"This program calculates the future value\")\n",
    "    print(\"of a 10-year investment.\")\n",
    "    \n",
    "    principal = eval(input(\"Enter the initial principal: \"))\n",
    "    apr = eval(input(\"Enter the annual interest rate: \"))\n",
    "    \n",
    "    for i in range(10):\n",
    "        principal = principal * (1 + apr)\n",
    "        \n",
    "    print(\"The value in 10 years is: \", principal)\n",
    "    \n",
    "main()"
   ]
  },
  {
   "cell_type": "code",
   "execution_count": 54,
   "metadata": {},
   "outputs": [
    {
     "name": "stdout",
     "output_type": "stream",
     "text": [
      "This program calculates the future value\n",
      "of your investment.\n",
      "Enter the initial principal: 1000\n",
      "Enter the annual interest rate: .1\n",
      "Enter the time horizon: 1\n",
      "The value in your chosen time horizion is:  1100.0\n"
     ]
    }
   ],
   "source": [
    "def main():\n",
    "    print(\"This program calculates the future value\")\n",
    "    print(\"of your investment.\")\n",
    "    \n",
    "    principal = eval(input(\"Enter the initial principal: \"))\n",
    "    apr = eval(input(\"Enter the annual interest rate: \"))\n",
    "    n = eval(input(\"Enter the time horizon: \"))\n",
    "    \n",
    "    for i in range(n):\n",
    "        principal = principal * (1 + apr)\n",
    "        \n",
    "    print(\"The value in your chosen time horizion is: \", principal)\n",
    "    \n",
    "main()"
   ]
  },
  {
   "cell_type": "code",
   "execution_count": 55,
   "metadata": {},
   "outputs": [
    {
     "name": "stdout",
     "output_type": "stream",
     "text": [
      "This program calculates the future value\n",
      "of your investment.\n",
      "Enter the annual amounts invested: 100\n",
      "Enter the annual interest rate: .1\n",
      "Enter the time horizon: 5\n",
      "The value of your investment in your chosen time horizion is:  100.00000000000009\n"
     ]
    }
   ],
   "source": [
    "#Question 7\n",
    "#futval.py\n",
    "#     A program to compute the value of an investment\n",
    "#     carried in your chosen time horizion\n",
    "#     Including the amount invested each year, interest rates\n",
    "#     and the no of years for the investment\n",
    "#     For n = 5, apr = 10, cashflow = 100, result should = $610.51\n",
    "\n",
    "def main():\n",
    "    print(\"This program calculates the future value\")\n",
    "    print(\"of your investment.\")\n",
    "    \n",
    "    cashflow = eval(input(\"Enter the annual amounts invested: \"))\n",
    "    apr = eval(input(\"Enter the annual interest rate: \"))\n",
    "    n = eval(input(\"Enter the time horizon: \"))\n",
    "    \n",
    "    for i in range(n):\n",
    "        principal = cashflow * (((1 + apr) - 1)/ apr)\n",
    "        \n",
    "    print(\"The value of your investment in your chosen time horizion is: \", principal)\n",
    "    \n",
    "main()"
   ]
  },
  {
   "cell_type": "code",
   "execution_count": 56,
   "metadata": {},
   "outputs": [
    {
     "name": "stdout",
     "output_type": "stream",
     "text": [
      "This program calculates the future value\n",
      "of your investment.\n",
      "Enter the annual amounts invested: \n"
     ]
    },
    {
     "ename": "SyntaxError",
     "evalue": "unexpected EOF while parsing (<string>, line 0)",
     "output_type": "error",
     "traceback": [
      "Traceback \u001b[0;36m(most recent call last)\u001b[0m:\n",
      "  File \u001b[1;32m\"/anaconda3/lib/python3.7/site-packages/IPython/core/interactiveshell.py\"\u001b[0m, line \u001b[1;32m2961\u001b[0m, in \u001b[1;35mrun_code\u001b[0m\n    exec(code_obj, self.user_global_ns, self.user_ns)\n",
      "  File \u001b[1;32m\"<ipython-input-56-6f3ddba341fa>\"\u001b[0m, line \u001b[1;32m22\u001b[0m, in \u001b[1;35m<module>\u001b[0m\n    main()\n",
      "\u001b[0;36m  File \u001b[0;32m\"<ipython-input-56-6f3ddba341fa>\"\u001b[0;36m, line \u001b[0;32m12\u001b[0;36m, in \u001b[0;35mmain\u001b[0;36m\u001b[0m\n\u001b[0;31m    cashflow = eval(input(\"Enter the annual amounts invested: \"))\u001b[0m\n",
      "\u001b[0;36m  File \u001b[0;32m\"<string>\"\u001b[0;36m, line \u001b[0;32munknown\u001b[0m\n\u001b[0;31m    \u001b[0m\n\u001b[0m    ^\u001b[0m\n\u001b[0;31mSyntaxError\u001b[0m\u001b[0;31m:\u001b[0m unexpected EOF while parsing\n"
     ]
    }
   ],
   "source": [
    "#Question 8\n",
    "#futval.py\n",
    "#     A program to compute the value of an investment\n",
    "#     carried into your chosen time horizion\n",
    "#     Including the amount invested each year, interest rates\n",
    "#     and the no of years for the investment\n",
    "\n",
    "def main():\n",
    "    print(\"This program calculates the total future value\")\n",
    "    print(\"of a multi-year investment with by describing\")\n",
    "    print(\"the interest accrued in terms of a nominal rate\")\n",
    "    print(\"and the number of compounding periods.\")\n",
    "\n",
    "    principal = eval(input(\"Enter the initial principal: \"))\n",
    "    interestrate = eval(input(\"Enter the interest rate: \"))\n",
    "    periods = eval(input(\"Enter the number of compounding periods per year: \"))\n",
    "    years = eval(input(\"Enter the number of years for the investment: \"))\n",
    "\n",
    "    nominalrate = interestrate / periods\n",
    "          \n",
    "    for i in range(periods * years):\n",
    "          principal = principal * (1 + nominalrate)\n",
    "\n",
    "main()"
   ]
  },
  {
   "cell_type": "code",
   "execution_count": null,
   "metadata": {},
   "outputs": [],
   "source": [
    "#Question 9\n",
    "#convert.py\n",
    "#    A program to convert Celcius temps to Fahrenheight\n",
    "#By JJ Takhar\n",
    "\n",
    "def main():\n",
    "    print(\"Fahrenheit conversion program\")\n",
    "    celcius = eval(input(\"What is the Celcius temeperature? \"))\n",
    "    fahrenheit = 9/5 * celcius + 32\n",
    "    print(\"The temperature is\", fahrenheit, \"degrees Fahrenheit.\")\n",
    "    \n",
    "main()"
   ]
  },
  {
   "cell_type": "code",
   "execution_count": null,
   "metadata": {},
   "outputs": [],
   "source": [
    "#Question 10\n",
    "#convert.py\n",
    "#    A program to convert kilometres to miles\n",
    "\n",
    "def main():\n",
    "    print(\"Kilometres conversion program\")\n",
    "    miles = eval(input(\"How many miles are you driving? \"))\n",
    "    kilometres = .62 * miles\n",
    "    print(\"The kilometres driven are \", kilometres)\n",
    "\n",
    "main()"
   ]
  },
  {
   "cell_type": "code",
   "execution_count": null,
   "metadata": {},
   "outputs": [],
   "source": [
    "#Question 11\n",
    "#convert.py\n",
    "#   A program to convert how many waves I'm going to rip\n",
    "\n",
    "def main()\n",
    "    print(\"The amount of waves that will be ripped this summer\")\n",
    "    waves = eval(input(\"How many waves will you be ripping this summer? \"))\n",
    "    rippers = 2 * waves\n",
    "    print(\"You will be ripping \", rippers, \"waves this year my friend =)\")\n",
    "\n",
    "main()"
   ]
  },
  {
   "cell_type": "code",
   "execution_count": 1,
   "metadata": {},
   "outputs": [],
   "source": [
    "#Question 12\n",
    "#python_interaction.py\n",
    "#   An interactive Python calculator program \n",
    "#Allow the user to type a mathmatical expression\n",
    "#then print a value of the expression\n",
    "#Include a loop so that the user can perform many calculations\n"
   ]
  },
  {
   "cell_type": "code",
   "execution_count": 2,
   "metadata": {},
   "outputs": [],
   "source": [
    "#Chapter 3 - Computing with Numbers"
   ]
  },
  {
   "cell_type": "code",
   "execution_count": 3,
   "metadata": {},
   "outputs": [
    {
     "name": "stdout",
     "output_type": "stream",
     "text": [
      "Change counter\n",
      "\n",
      "Please enter the count of each coin type.\n",
      "Quarters: 5\n",
      "Dimes: 3\n",
      "Nickels: 4\n",
      "Pennies: 6\n",
      "\n",
      "The total value of your change is 1.81\n"
     ]
    }
   ],
   "source": [
    "#change.py\n",
    "#   A Program to calculate the value of some change in dollars\n",
    "\n",
    "def main():\n",
    "    print(\"Change counter\")\n",
    "    print()\n",
    "    print(\"Please enter the count of each coin type.\")\n",
    "    quarters = eval(input(\"Quarters: \"))\n",
    "    dimes = eval(input(\"Dimes: \"))\n",
    "    nickels = eval(input(\"Nickels: \"))\n",
    "    pennies = eval(input(\"Pennies: \"))\n",
    "    total = quarters * .25 + dimes * .10 + nickels * .05 + pennies * .01\n",
    "    print()\n",
    "    print(\"The total value of your change is\", total)\n",
    "    \n",
    "main()"
   ]
  },
  {
   "cell_type": "code",
   "execution_count": 6,
   "metadata": {},
   "outputs": [],
   "source": [
    "#3.1 Float and Integer example"
   ]
  },
  {
   "cell_type": "markdown",
   "metadata": {},
   "source": []
  },
  {
   "cell_type": "code",
   "execution_count": 7,
   "metadata": {},
   "outputs": [
    {
     "data": {
      "text/plain": [
       "3.3333333333333335"
      ]
     },
     "execution_count": 7,
     "metadata": {},
     "output_type": "execute_result"
    }
   ],
   "source": [
    "10/3"
   ]
  },
  {
   "cell_type": "code",
   "execution_count": 8,
   "metadata": {},
   "outputs": [
    {
     "data": {
      "text/plain": [
       "3.3333333333333335"
      ]
     },
     "execution_count": 8,
     "metadata": {},
     "output_type": "execute_result"
    }
   ],
   "source": [
    "10.0/3.0"
   ]
  },
  {
   "cell_type": "code",
   "execution_count": 9,
   "metadata": {},
   "outputs": [
    {
     "data": {
      "text/plain": [
       "2.0"
      ]
     },
     "execution_count": 9,
     "metadata": {},
     "output_type": "execute_result"
    }
   ],
   "source": [
    "10/5"
   ]
  },
  {
   "cell_type": "code",
   "execution_count": 10,
   "metadata": {},
   "outputs": [
    {
     "data": {
      "text/plain": [
       "3"
      ]
     },
     "execution_count": 10,
     "metadata": {},
     "output_type": "execute_result"
    }
   ],
   "source": [
    "10//3"
   ]
  },
  {
   "cell_type": "code",
   "execution_count": 11,
   "metadata": {},
   "outputs": [
    {
     "data": {
      "text/plain": [
       "3.0"
      ]
     },
     "execution_count": 11,
     "metadata": {},
     "output_type": "execute_result"
    }
   ],
   "source": [
    "10.0//3.0"
   ]
  },
  {
   "cell_type": "code",
   "execution_count": 12,
   "metadata": {},
   "outputs": [
    {
     "data": {
      "text/plain": [
       "1"
      ]
     },
     "execution_count": 12,
     "metadata": {},
     "output_type": "execute_result"
    }
   ],
   "source": [
    "10 % 3"
   ]
  },
  {
   "cell_type": "code",
   "execution_count": 13,
   "metadata": {},
   "outputs": [
    {
     "data": {
      "text/plain": [
       "1.0"
      ]
     },
     "execution_count": 13,
     "metadata": {},
     "output_type": "execute_result"
    }
   ],
   "source": [
    "10.0 % 3.0"
   ]
  },
  {
   "cell_type": "code",
   "execution_count": 14,
   "metadata": {},
   "outputs": [],
   "source": [
    "#3.2 Type conversions and Rounding"
   ]
  },
  {
   "cell_type": "code",
   "execution_count": 19,
   "metadata": {},
   "outputs": [
    {
     "data": {
      "text/plain": [
       "10.0"
      ]
     },
     "execution_count": 19,
     "metadata": {},
     "output_type": "execute_result"
    }
   ],
   "source": [
    "x = 5.0 * 2\n",
    "\n",
    "x"
   ]
  },
  {
   "cell_type": "code",
   "execution_count": 20,
   "metadata": {},
   "outputs": [
    {
     "data": {
      "text/plain": [
       "4"
      ]
     },
     "execution_count": 20,
     "metadata": {},
     "output_type": "execute_result"
    }
   ],
   "source": [
    "int(4.5)"
   ]
  },
  {
   "cell_type": "code",
   "execution_count": 21,
   "metadata": {},
   "outputs": [
    {
     "data": {
      "text/plain": [
       "3"
      ]
     },
     "execution_count": 21,
     "metadata": {},
     "output_type": "execute_result"
    }
   ],
   "source": [
    "int(3.9)"
   ]
  },
  {
   "cell_type": "code",
   "execution_count": 22,
   "metadata": {},
   "outputs": [
    {
     "data": {
      "text/plain": [
       "4.0"
      ]
     },
     "execution_count": 22,
     "metadata": {},
     "output_type": "execute_result"
    }
   ],
   "source": [
    "float(4.0)"
   ]
  },
  {
   "cell_type": "code",
   "execution_count": 23,
   "metadata": {},
   "outputs": [
    {
     "data": {
      "text/plain": [
       "4.5"
      ]
     },
     "execution_count": 23,
     "metadata": {},
     "output_type": "execute_result"
    }
   ],
   "source": [
    "float(4.5)"
   ]
  },
  {
   "cell_type": "code",
   "execution_count": 24,
   "metadata": {},
   "outputs": [
    {
     "data": {
      "text/plain": [
       "3.0"
      ]
     },
     "execution_count": 24,
     "metadata": {},
     "output_type": "execute_result"
    }
   ],
   "source": [
    "float(int(3.3))"
   ]
  },
  {
   "cell_type": "code",
   "execution_count": 25,
   "metadata": {},
   "outputs": [
    {
     "data": {
      "text/plain": [
       "3"
      ]
     },
     "execution_count": 25,
     "metadata": {},
     "output_type": "execute_result"
    }
   ],
   "source": [
    "int(float(3.3))"
   ]
  },
  {
   "cell_type": "code",
   "execution_count": 26,
   "metadata": {},
   "outputs": [
    {
     "data": {
      "text/plain": [
       "3"
      ]
     },
     "execution_count": 26,
     "metadata": {},
     "output_type": "execute_result"
    }
   ],
   "source": [
    "int(float(3))"
   ]
  },
  {
   "cell_type": "code",
   "execution_count": 27,
   "metadata": {},
   "outputs": [
    {
     "data": {
      "text/plain": [
       "3"
      ]
     },
     "execution_count": 27,
     "metadata": {},
     "output_type": "execute_result"
    }
   ],
   "source": [
    "round(3.14)"
   ]
  },
  {
   "cell_type": "code",
   "execution_count": 28,
   "metadata": {},
   "outputs": [
    {
     "data": {
      "text/plain": [
       "4"
      ]
     },
     "execution_count": 28,
     "metadata": {},
     "output_type": "execute_result"
    }
   ],
   "source": [
    "round(3.5)"
   ]
  },
  {
   "cell_type": "code",
   "execution_count": 29,
   "metadata": {},
   "outputs": [],
   "source": [
    "pi = 3.141592653589793\n"
   ]
  },
  {
   "cell_type": "code",
   "execution_count": 30,
   "metadata": {},
   "outputs": [
    {
     "data": {
      "text/plain": [
       "3.14"
      ]
     },
     "execution_count": 30,
     "metadata": {},
     "output_type": "execute_result"
    }
   ],
   "source": [
    "round(pi, 2)"
   ]
  },
  {
   "cell_type": "code",
   "execution_count": 31,
   "metadata": {},
   "outputs": [
    {
     "data": {
      "text/plain": [
       "3.142"
      ]
     },
     "execution_count": 31,
     "metadata": {},
     "output_type": "execute_result"
    }
   ],
   "source": [
    "round(pi, 3)"
   ]
  },
  {
   "cell_type": "code",
   "execution_count": 32,
   "metadata": {},
   "outputs": [
    {
     "data": {
      "text/plain": [
       "32"
      ]
     },
     "execution_count": 32,
     "metadata": {},
     "output_type": "execute_result"
    }
   ],
   "source": [
    "int(\"32\")"
   ]
  },
  {
   "cell_type": "code",
   "execution_count": 33,
   "metadata": {},
   "outputs": [
    {
     "data": {
      "text/plain": [
       "32.0"
      ]
     },
     "execution_count": 33,
     "metadata": {},
     "output_type": "execute_result"
    }
   ],
   "source": [
    "float(\"32\")"
   ]
  },
  {
   "cell_type": "code",
   "execution_count": 34,
   "metadata": {},
   "outputs": [
    {
     "data": {
      "text/plain": [
       "9.8"
      ]
     },
     "execution_count": 34,
     "metadata": {},
     "output_type": "execute_result"
    }
   ],
   "source": [
    "float(\"9.8\")"
   ]
  },
  {
   "cell_type": "code",
   "execution_count": 35,
   "metadata": {},
   "outputs": [
    {
     "name": "stdout",
     "output_type": "stream",
     "text": [
      "Change counter\n",
      "\n",
      "Please enter the count of each coin type.\n",
      "Quarters: 5\n",
      "Dimes: 3\n",
      "Nickels: 4\n",
      "Pennies: 6\n",
      "\n",
      "The total value of your change is 1.81\n"
     ]
    }
   ],
   "source": [
    "#change2.py\n",
    "#   A Program to calculate the value of some change in dollars\n",
    "\n",
    "def main():\n",
    "    print(\"Change counter\")\n",
    "    print()\n",
    "    print(\"Please enter the count of each coin type.\")\n",
    "    quarters = int(input(\"Quarters: \"))\n",
    "    dimes = int(input(\"Dimes: \"))\n",
    "    nickels = int(input(\"Nickels: \"))\n",
    "    pennies = int(input(\"Pennies: \"))\n",
    "    total = quarters * .25 + dimes * .10 + nickels * .05 + pennies * .01\n",
    "    print()\n",
    "    print(\"The total value of your change is\", total)\n",
    "    \n",
    "main()"
   ]
  },
  {
   "cell_type": "code",
   "execution_count": 38,
   "metadata": {},
   "outputs": [
    {
     "name": "stdout",
     "output_type": "stream",
     "text": [
      "Enter (x,y):  3,4\n"
     ]
    }
   ],
   "source": [
    "#Simultaneous input using eval\n",
    "x,y = eval(input(\"Enter (x,y):  \"))"
   ]
  },
  {
   "cell_type": "code",
   "execution_count": 40,
   "metadata": {},
   "outputs": [
    {
     "name": "stdout",
     "output_type": "stream",
     "text": [
      "Enter (x,y):  3,4\n"
     ]
    },
    {
     "ename": "ValueError",
     "evalue": "could not convert string to float: '3,4'",
     "output_type": "error",
     "traceback": [
      "\u001b[0;31m---------------------------------------------------------------------------\u001b[0m",
      "\u001b[0;31mValueError\u001b[0m                                Traceback (most recent call last)",
      "\u001b[0;32m<ipython-input-40-3b08228241e3>\u001b[0m in \u001b[0;36m<module>\u001b[0;34m()\u001b[0m\n\u001b[1;32m      1\u001b[0m \u001b[0;31m#Does not work with float\u001b[0m\u001b[0;34m\u001b[0m\u001b[0;34m\u001b[0m\u001b[0m\n\u001b[0;32m----> 2\u001b[0;31m \u001b[0mx\u001b[0m\u001b[0;34m,\u001b[0m\u001b[0my\u001b[0m \u001b[0;34m=\u001b[0m \u001b[0mfloat\u001b[0m\u001b[0;34m(\u001b[0m\u001b[0minput\u001b[0m\u001b[0;34m(\u001b[0m\u001b[0;34m\"Enter (x,y):  \"\u001b[0m\u001b[0;34m)\u001b[0m\u001b[0;34m)\u001b[0m\u001b[0;34m\u001b[0m\u001b[0m\n\u001b[0m",
      "\u001b[0;31mValueError\u001b[0m: could not convert string to float: '3,4'"
     ]
    }
   ],
   "source": [
    "#Does not work with float\n",
    "x,y = float(input(\"Enter (x,y):  \"))"
   ]
  },
  {
   "cell_type": "code",
   "execution_count": 41,
   "metadata": {},
   "outputs": [],
   "source": [
    "#3.3 Using the Math Library"
   ]
  },
  {
   "cell_type": "code",
   "execution_count": 42,
   "metadata": {},
   "outputs": [
    {
     "name": "stdout",
     "output_type": "stream",
     "text": [
      "This program finds the real solutions to a quadratic\n",
      "\n",
      "Enter coefficient a: 3\n",
      "Enter coefficient b: 4\n",
      "Enter coefficient c: -2\n",
      "\n",
      "The solutions are: 0.38742588672279316 -1.7207592200561266\n"
     ]
    }
   ],
   "source": [
    "#quadratic.py\n",
    "#     A program that computes the real roots of a quadratic equation\n",
    "#     Illustrates use of the math library\n",
    "#     Note: This program crash if the equation has no real roots\n",
    "\n",
    "import math  # Makes the library available.\n",
    "\n",
    "def main():\n",
    "    print(\"This program finds the real solutions to a quadratic\")\n",
    "    print()\n",
    "    \n",
    "    a = float(input(\"Enter coefficient a: \"))\n",
    "    b = float(input(\"Enter coefficient b: \"))\n",
    "    c = float(input(\"Enter coefficient c: \"))\n",
    "    \n",
    "    discRoot = math.sqrt(b * b - 4 * a * c)\n",
    "    root1 = (-b + discRoot) / (2 * a)\n",
    "    root2 = (-b - discRoot) / (2 * a)\n",
    "    \n",
    "    print()\n",
    "    print(\"The solutions are:\", root1, root2)\n",
    "    \n",
    "main()\n",
    "\n",
    "# import math tells Python that we are using the math module\n",
    "# to compute sqaure root of x we use math.sqrt(x)\n",
    "#     - this . notation tells Python to use the sqrt function"
   ]
  },
  {
   "cell_type": "code",
   "execution_count": 43,
   "metadata": {},
   "outputs": [
    {
     "name": "stdout",
     "output_type": "stream",
     "text": [
      "This program finds the real solutions to a quadratic\n",
      "\n",
      "Enter coefficient a: 1\n",
      "Enter coefficient b: 2\n",
      "Enter coefficient c: 3\n"
     ]
    },
    {
     "ename": "ValueError",
     "evalue": "math domain error",
     "output_type": "error",
     "traceback": [
      "\u001b[0;31m---------------------------------------------------------------------------\u001b[0m",
      "\u001b[0;31mValueError\u001b[0m                                Traceback (most recent call last)",
      "\u001b[0;32m<ipython-input-43-c966e0679fbd>\u001b[0m in \u001b[0;36m<module>\u001b[0;34m()\u001b[0m\n\u001b[1;32m     21\u001b[0m     \u001b[0mprint\u001b[0m\u001b[0;34m(\u001b[0m\u001b[0;34m\"The solutions are:\"\u001b[0m\u001b[0;34m,\u001b[0m \u001b[0mroot1\u001b[0m\u001b[0;34m,\u001b[0m \u001b[0mroot2\u001b[0m\u001b[0;34m)\u001b[0m\u001b[0;34m\u001b[0m\u001b[0m\n\u001b[1;32m     22\u001b[0m \u001b[0;34m\u001b[0m\u001b[0m\n\u001b[0;32m---> 23\u001b[0;31m \u001b[0mmain\u001b[0m\u001b[0;34m(\u001b[0m\u001b[0;34m)\u001b[0m\u001b[0;34m\u001b[0m\u001b[0m\n\u001b[0m",
      "\u001b[0;32m<ipython-input-43-c966e0679fbd>\u001b[0m in \u001b[0;36mmain\u001b[0;34m()\u001b[0m\n\u001b[1;32m     14\u001b[0m     \u001b[0mc\u001b[0m \u001b[0;34m=\u001b[0m \u001b[0mfloat\u001b[0m\u001b[0;34m(\u001b[0m\u001b[0minput\u001b[0m\u001b[0;34m(\u001b[0m\u001b[0;34m\"Enter coefficient c: \"\u001b[0m\u001b[0;34m)\u001b[0m\u001b[0;34m)\u001b[0m\u001b[0;34m\u001b[0m\u001b[0m\n\u001b[1;32m     15\u001b[0m \u001b[0;34m\u001b[0m\u001b[0m\n\u001b[0;32m---> 16\u001b[0;31m     \u001b[0mdiscRoot\u001b[0m \u001b[0;34m=\u001b[0m \u001b[0mmath\u001b[0m\u001b[0;34m.\u001b[0m\u001b[0msqrt\u001b[0m\u001b[0;34m(\u001b[0m\u001b[0mb\u001b[0m \u001b[0;34m*\u001b[0m \u001b[0mb\u001b[0m \u001b[0;34m-\u001b[0m \u001b[0;36m4\u001b[0m \u001b[0;34m*\u001b[0m \u001b[0ma\u001b[0m \u001b[0;34m*\u001b[0m \u001b[0mc\u001b[0m\u001b[0;34m)\u001b[0m\u001b[0;34m\u001b[0m\u001b[0m\n\u001b[0m\u001b[1;32m     17\u001b[0m     \u001b[0mroot1\u001b[0m \u001b[0;34m=\u001b[0m \u001b[0;34m(\u001b[0m\u001b[0;34m-\u001b[0m\u001b[0mb\u001b[0m \u001b[0;34m+\u001b[0m \u001b[0mdiscRoot\u001b[0m\u001b[0;34m)\u001b[0m \u001b[0;34m/\u001b[0m \u001b[0;34m(\u001b[0m\u001b[0;36m2\u001b[0m \u001b[0;34m*\u001b[0m \u001b[0ma\u001b[0m\u001b[0;34m)\u001b[0m\u001b[0;34m\u001b[0m\u001b[0m\n\u001b[1;32m     18\u001b[0m     \u001b[0mroot2\u001b[0m \u001b[0;34m=\u001b[0m \u001b[0;34m(\u001b[0m\u001b[0;34m-\u001b[0m\u001b[0mb\u001b[0m \u001b[0;34m-\u001b[0m \u001b[0mdiscRoot\u001b[0m\u001b[0;34m)\u001b[0m \u001b[0;34m/\u001b[0m \u001b[0;34m(\u001b[0m\u001b[0;36m2\u001b[0m \u001b[0;34m*\u001b[0m \u001b[0ma\u001b[0m\u001b[0;34m)\u001b[0m\u001b[0;34m\u001b[0m\u001b[0m\n",
      "\u001b[0;31mValueError\u001b[0m: math domain error"
     ]
    }
   ],
   "source": [
    "#quadratic.py\n",
    "#     A program that computes the real roots of a quadratic equation\n",
    "#     Illustrates use of the math library\n",
    "#     Note: This program crash if the equation has no real roots\n",
    "\n",
    "import math  # Makes the library available.\n",
    "\n",
    "def main():\n",
    "    print(\"This program finds the real solutions to a quadratic\")\n",
    "    print()\n",
    "    \n",
    "    a = float(input(\"Enter coefficient a: \"))\n",
    "    b = float(input(\"Enter coefficient b: \"))\n",
    "    c = float(input(\"Enter coefficient c: \"))\n",
    "    \n",
    "    discRoot = math.sqrt(b * b - 4 * a * c)\n",
    "    root1 = (-b + discRoot) / (2 * a)\n",
    "    root2 = (-b - discRoot) / (2 * a)\n",
    "    \n",
    "    print()\n",
    "    print(\"The solutions are:\", root1, root2)\n",
    "    \n",
    "main()\n",
    "\n",
    "# math domain error error due to not being able to sqaure root a negative number\n",
    "# Also tells use that the negative numbers are not in the domain of the sqrt function"
   ]
  },
  {
   "cell_type": "code",
   "execution_count": 45,
   "metadata": {},
   "outputs": [],
   "source": [
    "#3.4 Accumlating results: Factorials"
   ]
  },
  {
   "cell_type": "code",
   "execution_count": 49,
   "metadata": {},
   "outputs": [],
   "source": [
    "fact = 1\n",
    "for factor in [6, 5, 4, 3, 2, 1]:\n",
    "    fact = fact * factor"
   ]
  },
  {
   "cell_type": "code",
   "execution_count": 50,
   "metadata": {},
   "outputs": [
    {
     "data": {
      "text/plain": [
       "[0, 1, 2, 3, 4, 5, 6, 7, 8, 9]"
      ]
     },
     "execution_count": 50,
     "metadata": {},
     "output_type": "execute_result"
    }
   ],
   "source": [
    "list(range(10))"
   ]
  },
  {
   "cell_type": "code",
   "execution_count": 51,
   "metadata": {},
   "outputs": [
    {
     "data": {
      "text/plain": [
       "[5, 6, 7, 8, 9]"
      ]
     },
     "execution_count": 51,
     "metadata": {},
     "output_type": "execute_result"
    }
   ],
   "source": [
    "list(range(5, 10))"
   ]
  },
  {
   "cell_type": "raw",
   "metadata": {},
   "source": []
  },
  {
   "cell_type": "code",
   "execution_count": 52,
   "metadata": {},
   "outputs": [
    {
     "data": {
      "text/plain": [
       "[5, 8]"
      ]
     },
     "execution_count": 52,
     "metadata": {},
     "output_type": "execute_result"
    }
   ],
   "source": [
    "list(range(5, 10, 3))"
   ]
  },
  {
   "cell_type": "code",
   "execution_count": 53,
   "metadata": {},
   "outputs": [
    {
     "name": "stdout",
     "output_type": "stream",
     "text": [
      "Please enter a whole number: 6\n",
      "the factorial of 6 is 720\n"
     ]
    }
   ],
   "source": [
    "#factorial.py\n",
    "#     Program to compute the factorial of a number\n",
    "#     Illustrates for loop with an accumulator\n",
    "\n",
    "def main():\n",
    "    n = int(input(\"Please enter a whole number: \"))\n",
    "    fact = 1\n",
    "    for factor in range(n, 1, -1):\n",
    "# - 1 causes the counting to go backwards\n",
    "\n",
    "        fact = fact * factor\n",
    "    print(\"the factorial of\", n, \"is\", fact)\n",
    "\n",
    "main()"
   ]
  },
  {
   "cell_type": "code",
   "execution_count": 54,
   "metadata": {},
   "outputs": [
    {
     "name": "stdout",
     "output_type": "stream",
     "text": [
      "Please enter a whole number: 100\n",
      "the factorial of 100 is 93326215443944152681699238856266700490715968264381621468592963895217599993229915608941463976156518286253697920827223758251185210916864000000000000000000000000\n"
     ]
    }
   ],
   "source": [
    "#factorial.py\n",
    "#     Program to compute the factorial of a number\n",
    "#     Illustrates for loop with an accumulator\n",
    "\n",
    "def main():\n",
    "    n = int(input(\"Please enter a whole number: \"))\n",
    "    fact = 1\n",
    "    for factor in range(n, 1, -1):\n",
    "# - 1 causes the counting to go backwards\n",
    "\n",
    "        fact = fact * factor\n",
    "    print(\"the factorial of\", n, \"is\", fact)\n",
    "\n",
    "main()"
   ]
  },
  {
   "cell_type": "code",
   "execution_count": 4,
   "metadata": {},
   "outputs": [],
   "source": [
    "# Exercise 3.7"
   ]
  },
  {
   "cell_type": "markdown",
   "metadata": {},
   "source": []
  },
  {
   "cell_type": "code",
   "execution_count": 5,
   "metadata": {},
   "outputs": [],
   "source": [
    "# Multiple choice"
   ]
  },
  {
   "cell_type": "markdown",
   "metadata": {},
   "source": []
  },
  {
   "cell_type": "code",
   "execution_count": 6,
   "metadata": {},
   "outputs": [],
   "source": [
    "# 4. The value of 4!"
   ]
  },
  {
   "cell_type": "code",
   "execution_count": 8,
   "metadata": {},
   "outputs": [
    {
     "name": "stdout",
     "output_type": "stream",
     "text": [
      "Please enter a whole number: 4\n",
      "the factorial of 4 is 24\n"
     ]
    }
   ],
   "source": [
    "#factorial.py\n",
    "#     Program to compute the factorial of a number\n",
    "#     Illustrates for loop with an accumulator\n",
    "\n",
    "def main():\n",
    "    n = int(input(\"Please enter a whole number: \"))\n",
    "    fact = 1\n",
    "    for factor in range(n, 1, -1):\n",
    "# - 1 causes the counting to go backwards\n",
    "\n",
    "        fact = fact * factor\n",
    "    print(\"the factorial of\", n, \"is\", fact)\n",
    "\n",
    "main()"
   ]
  },
  {
   "cell_type": "code",
   "execution_count": 10,
   "metadata": {},
   "outputs": [],
   "source": [
    "# 5. The number of distinct values that can be represented using 5 bits is:"
   ]
  },
  {
   "cell_type": "markdown",
   "metadata": {},
   "source": []
  },
  {
   "cell_type": "code",
   "execution_count": 14,
   "metadata": {},
   "outputs": [
    {
     "data": {
      "text/plain": [
       "32"
      ]
     },
     "execution_count": 14,
     "metadata": {},
     "output_type": "execute_result"
    }
   ],
   "source": [
    "2**5"
   ]
  },
  {
   "cell_type": "code",
   "execution_count": null,
   "metadata": {},
   "outputs": [],
   "source": [
    "# Discussion 1.\n",
    "# Show the result of evaluating each expression.\n",
    "# Be sure that the value is in proper form to indicate its type\n",
    "# int ot float. If the expression is illegal, explain why?"
   ]
  },
  {
   "cell_type": "code",
   "execution_count": 15,
   "metadata": {},
   "outputs": [
    {
     "data": {
      "text/plain": [
       "7.4"
      ]
     },
     "execution_count": 15,
     "metadata": {},
     "output_type": "execute_result"
    }
   ],
   "source": [
    "#a\n",
    "4.0 / 10.0 + 3.5 * 2"
   ]
  },
  {
   "cell_type": "code",
   "execution_count": 16,
   "metadata": {},
   "outputs": [
    {
     "data": {
      "text/plain": [
       "5.0"
      ]
     },
     "execution_count": 16,
     "metadata": {},
     "output_type": "execute_result"
    }
   ],
   "source": [
    "#b\n",
    "10 % 4 + 6 /2"
   ]
  },
  {
   "cell_type": "code",
   "execution_count": 65,
   "metadata": {},
   "outputs": [
    {
     "ename": "NameError",
     "evalue": "name 'pi' is not defined",
     "output_type": "error",
     "traceback": [
      "\u001b[0;31m---------------------------------------------------------------------------\u001b[0m",
      "\u001b[0;31mNameError\u001b[0m                                 Traceback (most recent call last)",
      "\u001b[0;32m<ipython-input-65-80ecc903451f>\u001b[0m in \u001b[0;36m<module>\u001b[0;34m()\u001b[0m\n\u001b[1;32m      1\u001b[0m \u001b[0;32mimport\u001b[0m \u001b[0mmath\u001b[0m\u001b[0;34m\u001b[0m\u001b[0m\n\u001b[0;32m----> 2\u001b[0;31m \u001b[0mpi\u001b[0m\u001b[0;34m(\u001b[0m\u001b[0;36m1\u001b[0m\u001b[0;34m)\u001b[0m\u001b[0;34m\u001b[0m\u001b[0m\n\u001b[0m",
      "\u001b[0;31mNameError\u001b[0m: name 'pi' is not defined"
     ]
    }
   ],
   "source": []
  },
  {
   "cell_type": "markdown",
   "metadata": {},
   "source": [
    "#### "
   ]
  },
  {
   "cell_type": "code",
   "execution_count": 17,
   "metadata": {},
   "outputs": [
    {
     "data": {
      "text/plain": [
       "8"
      ]
     },
     "execution_count": 17,
     "metadata": {},
     "output_type": "execute_result"
    }
   ],
   "source": [
    "#c/.\n",
    "abs(4 - 20 // 3) ** 3"
   ]
  },
  {
   "cell_type": "code",
   "execution_count": 25,
   "metadata": {},
   "outputs": [
    {
     "data": {
      "text/plain": [
       "21.25"
      ]
     },
     "execution_count": 25,
     "metadata": {},
     "output_type": "execute_result"
    }
   ],
   "source": [
    "#d/. Incorrect as sqrt are \n",
    "(4.5 - 5.0) ** 2 + 7 * 3"
   ]
  },
  {
   "cell_type": "code",
   "execution_count": 26,
   "metadata": {},
   "outputs": [
    {
     "data": {
      "text/plain": [
       "11"
      ]
     },
     "execution_count": 26,
     "metadata": {},
     "output_type": "execute_result"
    }
   ],
   "source": [
    "#e/.\n",
    "3 * 10 // 3 + 10 % 3"
   ]
  },
  {
   "cell_type": "markdown",
   "metadata": {},
   "source": []
  },
  {
   "cell_type": "code",
   "execution_count": 27,
   "metadata": {},
   "outputs": [
    {
     "data": {
      "text/plain": [
       "27"
      ]
     },
     "execution_count": 27,
     "metadata": {},
     "output_type": "execute_result"
    }
   ],
   "source": [
    "#f/.\n",
    "3 ** 3"
   ]
  },
  {
   "cell_type": "code",
   "execution_count": 28,
   "metadata": {},
   "outputs": [],
   "source": [
    "# 2. Translate each of the following mathmatical\n",
    "# expressions into an equivalent Python expression.\n",
    "# You may assume that the math library has been imported"
   ]
  },
  {
   "cell_type": "code",
   "execution_count": 30,
   "metadata": {},
   "outputs": [
    {
     "data": {
      "text/plain": [
       "35"
      ]
     },
     "execution_count": 30,
     "metadata": {},
     "output_type": "execute_result"
    }
   ],
   "source": [
    "# a.\n",
    "# A program that calculates (3+4)(5)\n",
    "(3 + 4) * (5)"
   ]
  },
  {
   "cell_type": "code",
   "execution_count": 32,
   "metadata": {},
   "outputs": [],
   "source": [
    "import math"
   ]
  },
  {
   "cell_type": "code",
   "execution_count": 33,
   "metadata": {},
   "outputs": [
    {
     "data": {
      "text/plain": [
       "5.0"
      ]
     },
     "execution_count": 33,
     "metadata": {},
     "output_type": "execute_result"
    }
   ],
   "source": [
    "math.sqrt(25)"
   ]
  },
  {
   "cell_type": "code",
   "execution_count": 53,
   "metadata": {},
   "outputs": [
    {
     "name": "stdout",
     "output_type": "stream",
     "text": [
      "Enter coeffecient n: 5\n",
      "\n",
      "The solutions is 10.0\n"
     ]
    }
   ],
   "source": [
    "# b. \n",
    "# A program to calculate n(n-1)/2\n",
    "\n",
    "def main():\n",
    "    \n",
    "    n = float(input(\"Enter coeffecient n: \"))\n",
    "    total = n*(n-1)/2\n",
    "    \n",
    "    print()\n",
    "    print(\"The solutions is\", total)\n",
    "\n",
    "main()"
   ]
  },
  {
   "cell_type": "code",
   "execution_count": 66,
   "metadata": {},
   "outputs": [
    {
     "name": "stdout",
     "output_type": "stream",
     "text": [
      "Enter coeffecient n: 5\n",
      "\n",
      "The solutions is 314.1592653589793\n"
     ]
    }
   ],
   "source": [
    "#c.\n",
    "# A program that calculates 4pir^2\n",
    "\n",
    "import math\n",
    "\n",
    "def main():\n",
    "    \n",
    "    r = float(input(\"Enter coeffecient r: \"))\n",
    "\n",
    "    total = 4 * math.pi * r ** 2\n",
    "    \n",
    "    print()\n",
    "    print(\"The solutions is\", total)\n",
    "\n",
    "main()"
   ]
  },
  {
   "cell_type": "code",
   "execution_count": 68,
   "metadata": {},
   "outputs": [
    {
     "name": "stdout",
     "output_type": "stream",
     "text": [
      "Enter coefficient a: 5\n",
      "Enter coefficient b: 5\n",
      "Enter coefficient c: 2\n",
      "\n",
      "The solution is: 0.5440211108893699\n"
     ]
    }
   ],
   "source": [
    "#d.\n",
    "# Sqrt(r(cos(a)^2 + r(sin b) ^ 2)\n",
    "\n",
    "import math  # Makes the library available.\n",
    "\n",
    "def main():\n",
    "\n",
    "    a = float(input(\"Enter coefficient a: \"))\n",
    "    b = float(input(\"Enter coefficient b: \"))\n",
    "    c = float(input(\"Enter coefficient c: \"))\n",
    "    \n",
    "    cos = (c * math.sin(a) ** 2)\n",
    "    sin = (c * math.cos(a) ** 2)\n",
    "    answer = math.sqrt(cos * sin)\n",
    "    \n",
    "    print()\n",
    "    print(\"The solution is:\", answer)\n",
    "    \n",
    "main()\n",
    "\n",
    "# Correct answer is:\n",
    "# math.sqrt(r * math.cos(a)) ** 2 + r * (math.sin(a)) ** 2"
   ]
  },
  {
   "cell_type": "code",
   "execution_count": 69,
   "metadata": {},
   "outputs": [
    {
     "name": "stdout",
     "output_type": "stream",
     "text": [
      "Enter coefficient y1: 5\n",
      "Enter coefficient y2: 10\n",
      "Enter coefficient x1: 5\n",
      "Enter coefficient x2: 10\n",
      "\n",
      "The solution is: 1.0\n"
     ]
    }
   ],
   "source": [
    "#f.\n",
    "# y^2 - y^1/ x^2 - X^1\n",
    "\n",
    "def main():\n",
    "    \n",
    "    a = float(input(\"Enter coefficient y1: \"))\n",
    "    b = float(input(\"Enter coefficient y2: \"))\n",
    "    c = float(input(\"Enter coefficient x1: \"))\n",
    "    d = float(input(\"Enter coefficient x2: \"))\n",
    "    \n",
    "    y = (b - a)\n",
    "    x = (d - c)\n",
    "    answer = (y / x)\n",
    "    \n",
    "    print()\n",
    "    print(\"The solution is:\", answer)\n",
    "    \n",
    "main()"
   ]
  },
  {
   "cell_type": "code",
   "execution_count": 70,
   "metadata": {},
   "outputs": [],
   "source": [
    "#3. Show the sequence of numbers that would be generated\n",
    "# by each of the following range expressions."
   ]
  },
  {
   "cell_type": "code",
   "execution_count": 72,
   "metadata": {},
   "outputs": [
    {
     "data": {
      "text/plain": [
       "[0, 1, 2, 3, 4]"
      ]
     },
     "execution_count": 72,
     "metadata": {},
     "output_type": "execute_result"
    }
   ],
   "source": [
    "#a/.\n",
    "# range(5)\n",
    "\n",
    "list(range(5))"
   ]
  },
  {
   "cell_type": "code",
   "execution_count": 73,
   "metadata": {},
   "outputs": [
    {
     "data": {
      "text/plain": [
       "[3, 4, 5, 6, 7, 8, 9]"
      ]
     },
     "execution_count": 73,
     "metadata": {},
     "output_type": "execute_result"
    }
   ],
   "source": [
    "#b/.\n",
    "# range(3, 10)\n",
    "\n",
    "list(range(3, 10))"
   ]
  },
  {
   "cell_type": "code",
   "execution_count": 74,
   "metadata": {},
   "outputs": [
    {
     "data": {
      "text/plain": [
       "[4, 7, 10]"
      ]
     },
     "execution_count": 74,
     "metadata": {},
     "output_type": "execute_result"
    }
   ],
   "source": [
    "#c/.\n",
    "# range(4, 13, 3)\n",
    "\n",
    "list(range(4, 13, 3))"
   ]
  },
  {
   "cell_type": "code",
   "execution_count": 75,
   "metadata": {},
   "outputs": [
    {
     "data": {
      "text/plain": [
       "[15, 13, 11, 9, 7]"
      ]
     },
     "execution_count": 75,
     "metadata": {},
     "output_type": "execute_result"
    }
   ],
   "source": [
    "#d/.\n",
    "# range(15, 5, -2)\n",
    "\n",
    "list(range(15, 5, -2))"
   ]
  },
  {
   "cell_type": "code",
   "execution_count": 76,
   "metadata": {},
   "outputs": [
    {
     "data": {
      "text/plain": [
       "[]"
      ]
     },
     "execution_count": 76,
     "metadata": {},
     "output_type": "execute_result"
    }
   ],
   "source": [
    "#e/.\n",
    "# range(5 , 3)\n",
    "\n",
    "list(range(5 , 3))"
   ]
  },
  {
   "cell_type": "code",
   "execution_count": 77,
   "metadata": {},
   "outputs": [],
   "source": [
    "#4/. Show the output that would be generated by each\n",
    "# of the following program fragments."
   ]
  },
  {
   "cell_type": "code",
   "execution_count": 78,
   "metadata": {},
   "outputs": [
    {
     "name": "stdout",
     "output_type": "stream",
     "text": [
      "1\n",
      "4\n",
      "9\n",
      "16\n",
      "25\n",
      "36\n",
      "49\n",
      "64\n",
      "81\n",
      "100\n"
     ]
    }
   ],
   "source": [
    "#a/.\n",
    "\n",
    "for i in range(1,11):\n",
    "    print(i * i)"
   ]
  },
  {
   "cell_type": "code",
   "execution_count": 81,
   "metadata": {},
   "outputs": [
    {
     "name": "stdout",
     "output_type": "stream",
     "text": [
      "1 : 1\n",
      "3 : 27\n",
      "5 : 125\n",
      "7 : 343\n",
      "9 : 729\n",
      "9\n"
     ]
    }
   ],
   "source": [
    "#b/.\n",
    "\n",
    "for i in [1, 3, 5, 7, 9]:\n",
    "    \n",
    "    print(i, \":\", i **3)\n",
    "\n",
    "print(i)"
   ]
  },
  {
   "cell_type": "code",
   "execution_count": 83,
   "metadata": {},
   "outputs": [
    {
     "name": "stdout",
     "output_type": "stream",
     "text": [
      "012\n",
      "212\n",
      "412\n",
      "612\n",
      "812\n",
      "done\n"
     ]
    }
   ],
   "source": [
    "#c/.\n",
    "\n",
    "x = 2\n",
    "y = 10\n",
    "\n",
    "for j in range(0, y, x):\n",
    "    print(j, end=\"\")\n",
    "    print(x + y)\n",
    "    \n",
    "print(\"done\")"
   ]
  },
  {
   "cell_type": "code",
   "execution_count": 84,
   "metadata": {},
   "outputs": [
    {
     "name": "stdout",
     "output_type": "stream",
     "text": [
      "1\n",
      "2\n",
      "3\n",
      "4\n",
      "5\n",
      "6\n",
      "7\n",
      "8\n",
      "9\n",
      "10\n",
      "385\n"
     ]
    }
   ],
   "source": [
    "#d/.\n",
    "# The end answer is the accumalation of the below\n",
    "\n",
    "ans = 0\n",
    "for i in range(1,11):\n",
    "    ans = ans + i*i\n",
    "    print(i)\n",
    "print(ans)"
   ]
  },
  {
   "cell_type": "code",
   "execution_count": 85,
   "metadata": {},
   "outputs": [],
   "source": [
    "#5/.\n",
    "# What do you think will happen if you use a negative nunber\n",
    "# as the second parameter in the round function?"
   ]
  },
  {
   "cell_type": "code",
   "execution_count": 86,
   "metadata": {},
   "outputs": [
    {
     "data": {
      "text/plain": [
       "314.2"
      ]
     },
     "execution_count": 86,
     "metadata": {},
     "output_type": "execute_result"
    }
   ],
   "source": [
    "round(314.159265, 1)"
   ]
  },
  {
   "cell_type": "code",
   "execution_count": 87,
   "metadata": {},
   "outputs": [],
   "source": [
    "# As above example I beleive the rationale would be to either\n",
    "# a/. Either not function and come up with an error\n",
    "\n",
    "# I WAS WRONG AND IT WENT BACK AN ADDITIONAL DECIMAL\n",
    "# PLACE AND ROUNDED IT TO THE NEAREST ZERO"
   ]
  },
  {
   "cell_type": "code",
   "execution_count": 88,
   "metadata": {},
   "outputs": [
    {
     "data": {
      "text/plain": [
       "310.0"
      ]
     },
     "execution_count": 88,
     "metadata": {},
     "output_type": "execute_result"
    }
   ],
   "source": [
    "round(314.159265, -1)"
   ]
  },
  {
   "cell_type": "code",
   "execution_count": 89,
   "metadata": {},
   "outputs": [],
   "source": [
    "#6/.\n",
    "# What do you think will happen when the operands to\n",
    "# the integer division or remainder operations are\n",
    "# negative?\n",
    "\n",
    "# // rounds down answers from /"
   ]
  },
  {
   "cell_type": "code",
   "execution_count": 90,
   "metadata": {},
   "outputs": [
    {
     "data": {
      "text/plain": [
       "-4"
      ]
     },
     "execution_count": 90,
     "metadata": {},
     "output_type": "execute_result"
    }
   ],
   "source": [
    "#a/.\n",
    "# -10 // 3\n",
    "\n",
    "-10//3"
   ]
  },
  {
   "cell_type": "code",
   "execution_count": 91,
   "metadata": {},
   "outputs": [
    {
     "data": {
      "text/plain": [
       "2"
      ]
     },
     "execution_count": 91,
     "metadata": {},
     "output_type": "execute_result"
    }
   ],
   "source": [
    "#b/.\n",
    "# -10 % 3\n",
    "\n",
    "-10 % 3"
   ]
  },
  {
   "cell_type": "code",
   "execution_count": 92,
   "metadata": {},
   "outputs": [
    {
     "data": {
      "text/plain": [
       "3"
      ]
     },
     "execution_count": 92,
     "metadata": {},
     "output_type": "execute_result"
    }
   ],
   "source": [
    "#c/.\n",
    "# 10 // 3\n",
    "\n",
    "10 // 3"
   ]
  },
  {
   "cell_type": "code",
   "execution_count": 93,
   "metadata": {},
   "outputs": [
    {
     "data": {
      "text/plain": [
       "-2"
      ]
     },
     "execution_count": 93,
     "metadata": {},
     "output_type": "execute_result"
    }
   ],
   "source": [
    "#d/.\n",
    "# 10 % -3\n",
    "\n",
    "10 % -3"
   ]
  },
  {
   "cell_type": "code",
   "execution_count": 94,
   "metadata": {},
   "outputs": [
    {
     "data": {
      "text/plain": [
       "3"
      ]
     },
     "execution_count": 94,
     "metadata": {},
     "output_type": "execute_result"
    }
   ],
   "source": [
    "#f/.\n",
    "# -10 // -3\n",
    "\n",
    "-10 // -3"
   ]
  },
  {
   "cell_type": "code",
   "execution_count": 95,
   "metadata": {},
   "outputs": [],
   "source": [
    "# Programming exercises"
   ]
  },
  {
   "cell_type": "code",
   "execution_count": 4,
   "metadata": {},
   "outputs": [
    {
     "name": "stdout",
     "output_type": "stream",
     "text": [
      "Enter coeffecient r: 5\n",
      "\n",
      "The area  is 314.1592653589793\n",
      "The volume is 523.5987755982989\n"
     ]
    }
   ],
   "source": [
    "# 1. \n",
    "# Write a program to calculate the volume and surface\n",
    "# area of a sphere from its radius, given as input.\n",
    "# Here are some formulas that might be useful:\n",
    "# V = 4/3pir^3\n",
    "# A = 4pir^2\n",
    "\n",
    "import math\n",
    "\n",
    "def main():\n",
    "    \n",
    "    r = float(input(\"Enter coeffecient r: \"))\n",
    "    \n",
    "    p = math.pi # have to create math. if you want to import from the math library\n",
    "    volume = 4 / 3 * p * (r ** 3)\n",
    "    area = 4 * p *  r ** 2\n",
    "    \n",
    "    print()\n",
    "    print(\"The area  is\", area)\n",
    "    print(\"The volume is\", volume)\n",
    "\n",
    "main()\n",
    "\n",
    "# Answer is:\n",
    "# import math\n",
    "# radius = eval(input(\"Enter the radius of the sphere: \"))\n",
    "# volume = (4/3) * pi * (radus ** 2)\n",
    "# surfarea = 4 * pi * (radius ** 2)\n",
    "# print(\"\\n The volume of the sphere is, volume\")\n",
    "# print(\"The surface area of the sphere is, surfarea\")\n"
   ]
  },
  {
   "cell_type": "code",
   "execution_count": 3,
   "metadata": {},
   "outputs": [
    {
     "name": "stdout",
     "output_type": "stream",
     "text": [
      "Enter radius of your pizza: 5\n",
      "Enter the price of the pizza: $5\n",
      "\n",
      "The cost of your slice is 0.06366197723675814\n"
     ]
    }
   ],
   "source": [
    "#2/.\n",
    "# Write a program that calculates the cost per square\n",
    "# inch of a circular pizza, given its diameter and price\n",
    "# the formula for area is A = pir^2\n",
    "\n",
    "import math\n",
    "\n",
    "def main():\n",
    "    \n",
    "    r = float(input(\"Enter radius of your pizza: \"))\n",
    "    p = float(input(\"Enter the price of the pizza: $\"))\n",
    " \n",
    "    pi = math.pi # have to create math. if you want to import from the math library\n",
    "    area = pi *  r ** 2\n",
    "    cps = p / area\n",
    "    \n",
    "    print()\n",
    "    print(\"The cost of your slice is\", cps)\n",
    "\n",
    "main()"
   ]
  },
  {
   "cell_type": "code",
   "execution_count": 8,
   "metadata": {},
   "outputs": [
    {
     "name": "stdout",
     "output_type": "stream",
     "text": [
      "Enter radius of your pizza: 5\n",
      "Enter the cost of the pizza: $5\n",
      "the is is $ 0.25 per sqaure inch.\n"
     ]
    }
   ],
   "source": [
    "#2/. Answer\n",
    "\n",
    "import math\n",
    "\n",
    "def main():\n",
    "    \n",
    "    # Obtain the diameter and price form the user\n",
    "    diameter = int(input(\"Enter radius of your pizza: \"))\n",
    "    cost = float(input(\"Enter the cost of the pizza: $\"))\n",
    "    # Why int?\n",
    "    # Int data types are there for whole numbers\n",
    "    \n",
    "    #Calculations\n",
    "    radius = diameter / 2\n",
    "    \n",
    "    area = math.pi * radius ** 2\n",
    "    cost_per_sqin = cost / area\n",
    "    \n",
    "    # Display the result for the user with the cost rounded to\n",
    "    # 2 decimal places\n",
    "    \n",
    "    print(\"the is is $\", round(cost_per_sqin, 2), \"per sqaure inch.\")\n",
    "    \n",
    "main() "
   ]
  },
  {
   "cell_type": "code",
   "execution_count": 9,
   "metadata": {},
   "outputs": [],
   "source": [
    "# 3/.\n",
    "# Write a program that computes the molecular weight of a\n",
    "# carbohydrate (in grams per mole) based on the number of \n",
    "# hydrogen, carbon and oxygen atoms in molecules.\n",
    "# The program should prompt the user to etner the number of\n",
    "# hydrogen atoms. The program then prints the total combined\n",
    "# molecular weight of all the atoms based on the individual\n",
    "# atom weights.\n",
    "# Example\n",
    "# The molecular weight of water (H2O) is: \n",
    "# 2(1.00794) + 15.9994 = 18.01528\n"
   ]
  },
  {
   "cell_type": "code",
   "execution_count": 26,
   "metadata": {},
   "outputs": [
    {
     "name": "stdout",
     "output_type": "stream",
     "text": [
      "Enter the number of hydrogen atoms: 2\n",
      "Enter the number of oxygen atoms: 1\n",
      "Enter the number of carbon atoms: 0\n",
      "The molecular weight of this carbohydrate is 18.0153 grams per mole.\n"
     ]
    }
   ],
   "source": [
    "# This piece of code computes the moelcular weight of a carb\n",
    "\n",
    "def main():\n",
    "\n",
    "    # Obtain the relevant number of atoms in the carbohydrate\n",
    "    hydrogen = int(input(\"Enter the number of hydrogen atoms: \"))\n",
    "    oxygen = int(input(\"Enter the number of oxygen atoms: \"))\n",
    "    carbon = int(input(\"Enter the number of carbon atoms: \"))\n",
    "    \n",
    "    # Constants\n",
    "    h = hydrogen * 1.00794 # grams / mole\n",
    "    o = oxygen * 15.9994 # grams / mole\n",
    "    c = carbon * 12.0107 # grams / mole\n",
    "    \n",
    "    # Calculations\n",
    "    weight = h + o + c\n",
    "    \n",
    "    #Display the result for the user rounded to 4 decimal places\n",
    "    print(\"The molecular weight of this carbohydrate is\", round(weight, 4), \"grams per mole.\")\n",
    "    \n",
    "main()"
   ]
  },
  {
   "cell_type": "code",
   "execution_count": 27,
   "metadata": {},
   "outputs": [],
   "source": [
    "# 4/.\n",
    "# Write a prgoram that determines the distatnce to a lightning\n",
    "# strike based on the times elapsed between the flash and\n",
    "# the sound of thunder. The speed of sound is approximately\n",
    "# 1100 ft/sec and 1 mile is 5280 ft."
   ]
  },
  {
   "cell_type": "code",
   "execution_count": 2,
   "metadata": {},
   "outputs": [
    {
     "name": "stdout",
     "output_type": "stream",
     "text": [
      " Enter the seconds past since you heard the lightning strike: 5\n",
      "The lightning is approximatly 1.04 miles away\n"
     ]
    }
   ],
   "source": [
    "# Metrics\n",
    "# feet = 1100\n",
    "# mile = 5280\n",
    "\n",
    "def main():\n",
    "    \n",
    "    # Input seconds past since seeing the lightning strike\n",
    "    seconds = float(input(\"Enter the seconds past since you heard the lightning strike: \"))\n",
    "    \n",
    "    # Calculation\n",
    "    feet_since_sound = seconds * 1100\n",
    "    miles_since_sound = feet_since_sound / 5280\n",
    "    \n",
    "    #Display the result to the user\n",
    "    print(\"The lightning is approximatly\", round(miles_since_sound, 2), \"miles away\")\n",
    "\n",
    "main()"
   ]
  },
  {
   "cell_type": "code",
   "execution_count": 7,
   "metadata": {},
   "outputs": [
    {
     "name": "stdout",
     "output_type": "stream",
     "text": [
      "Enter the time elapsed between the flast and the sound of thunder in seconds: 5\n",
      "The distance to the lightning is is about 1 miles and 220 feet from your current location.\n"
     ]
    }
   ],
   "source": [
    "# 4 Answer\n",
    "\n",
    "def main():\n",
    "\n",
    "# The constants\n",
    "    speed_of_sound = 1100   # ft / sec\n",
    "    mile_in_feet = 5280     # ft\n",
    "\n",
    "# Obtain the time elapsed from the user\n",
    "    time = int(input(\"Enter the time elapsed between the flast and the \" + \\\n",
    "                \"sound of thunder in seconds: \")) #sec\n",
    "\n",
    "# Calculations\n",
    "    distance = speed_of_sound * time\n",
    "    miles = distance // mile_in_feet\n",
    "    feet = distance % mile_in_feet\n",
    "\n",
    "# Display the result for the user\n",
    "    print(\"The distance to the lightning is is about\", miles, \"miles and\", \\\n",
    "     feet, \"feet from your current location.\")\n",
    "\n",
    "main()"
   ]
  },
  {
   "cell_type": "code",
   "execution_count": 8,
   "metadata": {},
   "outputs": [],
   "source": [
    "#5. The Konditorei coffee shop sells coffee at $10.50 a pound\n",
    "# plus the cost of shipping. Each order ships for $0.86 per\n",
    "# pound + $1.50 fixed cost for overhead.\n",
    "# Write a program that calculates the cost of an order."
   ]
  },
  {
   "cell_type": "code",
   "execution_count": 19,
   "metadata": {},
   "outputs": [
    {
     "name": "stdout",
     "output_type": "stream",
     "text": [
      "How much coffee would you like to order in pounds?: 1\n",
      " The total cost of your order is now 12.86\n"
     ]
    }
   ],
   "source": [
    "#5/.\n",
    "\n",
    "def main():\n",
    "    \n",
    "    # The constants\n",
    "    coffee = 10.50             # per pound (Fixed)\n",
    "    fixed_cost = 1.50          # per order (Fixed)\n",
    "    shipment_per_pound = 0.86  # cost per pound of coffee (Variable)\n",
    "    \n",
    "    # Obtain pounds the pounds of coffee the customer is buying\n",
    "    order = int(input(\"How much coffee would you like to order in pounds?: \"))\n",
    "\n",
    "    # Calculation\n",
    "    cost = order * coffee + fixed_cost + (order * shipment_per_pound)\n",
    "    \n",
    "    # Display the result for the user\n",
    "    print(\" The total cost of your order is now\", cost)\n",
    "\n",
    "main()\n",
    "    "
   ]
  },
  {
   "cell_type": "code",
   "execution_count": 24,
   "metadata": {},
   "outputs": [
    {
     "name": "stdout",
     "output_type": "stream",
     "text": [
      "Enter the number of pounds you wish to purchace: 1\n",
      "The order will cost $12.86 in total.\n"
     ]
    }
   ],
   "source": [
    "#5/. Answer\n",
    "\n",
    "def main():\n",
    "    \n",
    "    # The constants - Convention is to put them in capitals\n",
    "    COST_PER_POUND = 10.5\n",
    "    SHIPPING_PER_POUND = 0.86\n",
    "    SHIPPING_OVERHEAD = 1.5\n",
    "    \n",
    "    # Obtain the number of pounds from the user\n",
    "    pounds = int(input(\"Enter the number of pounds you wish to purchace: \"))\n",
    "\n",
    "    # Calculations\n",
    "    subtotal = pounds * COST_PER_POUND # Pre - shipping cost\n",
    "    shipping = SHIPPING_OVERHEAD + pounds * SHIPPING_PER_POUND\n",
    "    total = subtotal + shipping\n",
    "    \n",
    "    #Display the result for the user\n",
    "    print(\"The order will cost $\", round(total, 2), \" in total.\", sep=\"\")\n",
    "        # sep takes the space from the $ and 12.86\n",
    "    \n",
    "main()"
   ]
  },
  {
   "cell_type": "code",
   "execution_count": 25,
   "metadata": {},
   "outputs": [],
   "source": [
    "# 6/.\n",
    "# Two points in a place are specified using the coordinates\n",
    "# (x1, y1) and (x2, x1). Write a progarm that calculates\n",
    "# the slop of a line though two (non-vertical) points entered\n",
    "# by the user.\n",
    "# slope = y2 - y1 / x2 - x1"
   ]
  },
  {
   "cell_type": "code",
   "execution_count": 34,
   "metadata": {},
   "outputs": [
    {
     "name": "stdout",
     "output_type": "stream",
     "text": [
      "Enter the point given for x1: 1\n",
      "Enter the point given for x2: 2\n",
      "Enter the point given for y1: 1\n",
      "Enter the point given for y2: 2\n",
      "The gradient of the slope given the relative points is 1.0\n"
     ]
    }
   ],
   "source": [
    "#6/.\n",
    "\n",
    "def main():\n",
    "\n",
    "    # Obtain inputs for all points\n",
    "    x1 = float(input(\"Enter the point given for x1: \"))\n",
    "    x2 = float(input(\"Enter the point given for x2: \"))\n",
    "    y1 = float(input(\"Enter the point given for y1: \"))\n",
    "    y2 = float(input(\"Enter the point given for y2: \"))\n",
    "    \n",
    "    # Calculations\n",
    "    slope = (y2 - y1) / (x2 - x1)\n",
    "    \n",
    "    #Display the result for the user\n",
    "    print(\"The gradient of the slope given \" \\\n",
    "          \"the relative points is\", round(slope, 2))\n",
    "    \n",
    "main()"
   ]
  },
  {
   "cell_type": "code",
   "execution_count": 37,
   "metadata": {},
   "outputs": [
    {
     "name": "stdout",
     "output_type": "stream",
     "text": [
      "Slope Calculator\n",
      "To enter the coordinates of the point (x1, y1) you type the coordinates without the parentheses seperated by a coma. Example: to input the coordinates of the point (2,3) you would just type 2,3.\n",
      "Enter the coordinates of the first point: 2,3\n",
      "Enter the coordiantes of the second point: 5,6\n",
      "The slope of your line is 1.0.\n"
     ]
    }
   ],
   "source": [
    "#6/. Answer\n",
    "\n",
    "# Title of the program\n",
    "print(\"Slope Calculator\")\n",
    "\n",
    "# Obtain the coordinates of the 2 points from the user\n",
    "print(\"To enter the coordinates of the point (x1, y1) you \" \\\n",
    "     \"type the coordinates without the parentheses seperated \" \\\n",
    "     \"by a coma. Example: to input the coordinates of the point \" \\\n",
    "     \"(2,3) you would just type 2,3.\")\n",
    "\n",
    "x1, y1 = eval(input(\"Enter the coordinates of the first point: \"))\n",
    "x2, y2 = eval(input(\"Enter the coordiantes of the second point: \"))\n",
    "\n",
    "# Calculate the slope\n",
    "slope = (y2 - y1) / (x2 - x1)\n",
    "\n",
    "# Display the result of the user\n",
    "print(\"The slope of your line is \", slope, \".\", sep=\"\")"
   ]
  },
  {
   "cell_type": "code",
   "execution_count": 38,
   "metadata": {},
   "outputs": [],
   "source": [
    "#7/.\n",
    "# Write a program that accepts two point and determines the\n",
    "# distance between them."
   ]
  },
  {
   "cell_type": "code",
   "execution_count": 43,
   "metadata": {},
   "outputs": [
    {
     "name": "stdout",
     "output_type": "stream",
     "text": [
      "Distance between two points calculator\n",
      "To enter the coordinates of the point (x1, y1) you type the coordinates without the parentheses seperated by a coma. Example: to input the coordinates of the point (2,3) you would just type 2,3.\n",
      "Enter the coordinates of the first point: 2,2\n",
      "Enter the coordiantes of the second point: 5,5\n",
      "The distance between your chosen co-ordinates is 4.24.\n"
     ]
    }
   ],
   "source": [
    "#7/.\n",
    "\n",
    "#Title of the program\n",
    "print(\"Distance between two points calculator\")\n",
    "\n",
    "import math\n",
    "\n",
    "# Obtain the coordinates of the 2 points from the user\n",
    "print(\"To enter the coordinates of the point (x1, y1) you \" \\\n",
    "     \"type the coordinates without the parentheses seperated \" \\\n",
    "     \"by a coma. Example: to input the coordinates of the point \" \\\n",
    "     \"(2,3) you would just type 2,3.\")\n",
    "\n",
    "x1, y1 = eval(input(\"Enter the coordinates of the first point: \"))\n",
    "x2, y2 = eval(input(\"Enter the coordiantes of the second point: \"))\n",
    "\n",
    "# Calculate the distance\n",
    "distance = math.sqrt((y2 - y1)**2 +  (x2 - x1) ** 2)\n",
    "\n",
    "# Display the result of the user\n",
    "print(\"The distance between your chosen co-ordinates is \", round(distance, 2), \".\", sep=\"\")\n"
   ]
  },
  {
   "cell_type": "code",
   "execution_count": 44,
   "metadata": {},
   "outputs": [],
   "source": [
    "#8/.\n",
    "# The gregorian epact is the number of days between January 1st\n",
    "# and the previous new moon. This value is used to figure out\n",
    "# the date of Easter. It is calculated by these formulas.\n",
    "# C = year / 100\n",
    "# epact = (8 + (C//4) - C + ((8C + 13) // 25) + 11 (year % 19)) % 30\n",
    "# Write a program that prompts the user for a 4 digit year and\n",
    "# then outputs the value of the epact."
   ]
  },
  {
   "cell_type": "code",
   "execution_count": 51,
   "metadata": {},
   "outputs": [
    {
     "name": "stdout",
     "output_type": "stream",
     "text": [
      "Gregorian Epact calculator\n",
      "Enter the 4 digit year in question. For example 2010.\n",
      "Enter the 4 digit year: 2010\n",
      "The number of days between January 1st and the previous New moon is 14.\n"
     ]
    }
   ],
   "source": [
    "# Title of the program\n",
    "print(\"Gregorian Epact calculator\")\n",
    "\n",
    "# Obtain the 4 digit year\n",
    "print(\"Enter the 4 digit year in question. For example 2010.\")\n",
    "\n",
    "year = int(input(\"Enter the 4 digit year: \"))\n",
    "\n",
    "# Gregorian calculation\n",
    "C = year // 100\n",
    "epact = (8 + (C // 4) - C + ((8 * C + 13) // 25) + 11 * (year % 19)) % 30\n",
    "\n",
    "# Display the result of the user\n",
    "print(\"The number of days between January 1st and the previous\"\\\n",
    "     \" New moon is \", epact, \".\", sep = \"\")"
   ]
  },
  {
   "cell_type": "code",
   "execution_count": 54,
   "metadata": {},
   "outputs": [
    {
     "name": "stdout",
     "output_type": "stream",
     "text": [
      "Gregorian Epact calculator\n",
      "Enter the 4 digit year in question. For example 2010.\n",
      "Enter the 4 digit year: 2010\n",
      "The Gregorian epact for the year 2010 is 14.\n"
     ]
    }
   ],
   "source": [
    "# 8/. Answer\n",
    "# Title of the program\n",
    "print(\"Gregorian Epact calculator\")\n",
    "\n",
    "# Obtain the 4 digit year\n",
    "print(\"Enter the 4 digit year in question. For example 2010.\")\n",
    "\n",
    "year = int(input(\"Enter the 4 digit year: \"))\n",
    "\n",
    "# Gregorian calculation\n",
    "C = year // 100\n",
    "epact = (8 + (C // 4) - C + ((8 * C + 13) // 25) + 11 * (year % 19)) % 30\n",
    "\n",
    "# Display the result of the user\n",
    "print(\"The Gregorian epact for the year \", year, \" is \" , epact, \".\", sep=\"\")"
   ]
  },
  {
   "cell_type": "code",
   "execution_count": 55,
   "metadata": {},
   "outputs": [],
   "source": [
    "# 9/. \n",
    "# Write a program to calculate the area of a triangle givem\n",
    "# the length of its three sides - a,b, and c - using these forumulas\n",
    "# s = (a + b + c) / 2\n",
    "# a = math.sqrt(s * (s - a) * (s - b) * (s - c))"
   ]
  },
  {
   "cell_type": "code",
   "execution_count": 60,
   "metadata": {},
   "outputs": [
    {
     "name": "stdout",
     "output_type": "stream",
     "text": [
      "Area of a Triangle calculator\n",
      "Input the length of the first side of the triangle in cm: 10\n",
      "Input the length of the second side of the triangle in cm: 10\n",
      "Input the length of the third side of the triangle in cm: 10\n",
      "The area of the triangle is 43.3cm squared.\n"
     ]
    }
   ],
   "source": [
    "# Title of the program\n",
    "print(\"Area of a Triangle calculator\")\n",
    "\n",
    "import math\n",
    "\n",
    "# Input the length of all 3 sides of a triangle\n",
    "a = float(input(\"Input the length of the first side of the triangle in cm: \"))\n",
    "b = float(input(\"Input the length of the second side of the triangle in cm: \"))\n",
    "c = float(input(\"Input the length of the third side of the triangle in cm: \"))\n",
    "\n",
    "# Calculation\n",
    "s = (a + b + c) / 2\n",
    "area = math.sqrt(s * (s - a) * (s - b) * (s - c))\n",
    "\n",
    "# Display the area to the customer\n",
    "print(\"The area of the triangle is \", round(area, 2), \"cm squared.\", sep=\"\")"
   ]
  },
  {
   "cell_type": "markdown",
   "metadata": {},
   "source": []
  },
  {
   "cell_type": "code",
   "execution_count": 61,
   "metadata": {},
   "outputs": [],
   "source": [
    "# 10/.\n",
    "# Write a program to determine the length of a ladder required\n",
    "# to reach a gievn height when leaned against a house.\n",
    "# The height and angle of the ladder are given as inputs.\n",
    "# To compue length use:\n",
    "# length = height / math.sin(a)\n",
    "# Note the angle must be in radians. Prompt for an angle in\n",
    "# degrees and use this formula to convert:\n",
    "# radians = math.pi/180"
   ]
  },
  {
   "cell_type": "code",
   "execution_count": 67,
   "metadata": {},
   "outputs": [
    {
     "name": "stdout",
     "output_type": "stream",
     "text": [
      " Program that determines the length of a ladder requested to reach a given height.\n",
      "Input the height of the house in metres 10\n",
      "Input the angle in degrees for the ladder to sit at 10\n",
      "The length of the ladder needed for this job is 57.59 meters.\n"
     ]
    }
   ],
   "source": [
    "# 10/.\n",
    "\n",
    "# Title of the program\n",
    "print(\" Program that determines the length of a ladder requested to reach a given height.\")\n",
    "\n",
    "# Obtain the height and angle of the ladder\n",
    "height = float(input(\"Input the height of the house in metres \"))\n",
    "angle = float(input(\"Input the angle in degrees for the ladder to sit at \"))\n",
    "\n",
    "# Make the language more customer centric e.g.\n",
    "# \"How high must the ladder reach in metres?\"\n",
    "# \"What angle do you expect the ladder to sit at in degrees?\"\n",
    "\n",
    "# Calculations\n",
    "radian = (math.pi/180) * angle\n",
    "length = height / math.sin(radian)\n",
    "\n",
    "# Display output\n",
    "print(\"The length of the ladder needed for this job is \", \\\n",
    "     round(length, 2), \" meters.\", sep=\"\")"
   ]
  },
  {
   "cell_type": "code",
   "execution_count": 68,
   "metadata": {},
   "outputs": [],
   "source": [
    "# 11/.\n",
    "# Write a program to find a sum of the first n natrual numbers\n",
    "# where the value of n is provided by the user."
   ]
  },
  {
   "cell_type": "code",
   "execution_count": 72,
   "metadata": {},
   "outputs": [
    {
     "name": "stdout",
     "output_type": "stream",
     "text": [
      "Natural numbers calculator \n",
      "Upto what number would you like to retrieve natrual numbers for? 10\n",
      "The natural numbers that occur before 10 is [0, 1, 2, 3, 4, 5, 6, 7, 8, 9].\n"
     ]
    }
   ],
   "source": [
    "# Title of the program\n",
    "print(\"Natural numbers calculator \")\n",
    "\n",
    "# Obtain a number from the customer\n",
    "number = int(input(\"Upto what number would you like to retrieve natrual numbers for? \"))\n",
    "\n",
    "# Calculations\n",
    "answer = list(range(number))\n",
    "\n",
    "# Display output to customer\n",
    "print(\"The natural numbers that occur before \", number, \" is \", answer, \".\", sep=\"\")"
   ]
  },
  {
   "cell_type": "code",
   "execution_count": 78,
   "metadata": {},
   "outputs": [
    {
     "name": "stdout",
     "output_type": "stream",
     "text": [
      "Natural numbers calculator \n",
      "Upto what number would you like to retrieve the sum of natrual numbers for? 10\n",
      "The sum of natural numbers that occur before 10 is 55.\n"
     ]
    }
   ],
   "source": [
    "# 11/. Answer\n",
    "\n",
    "#Title of the program\n",
    "print(\"Sum calculator\")\n",
    "\n",
    "# Obtain a number from the customer\n",
    "n = int(input(\"Upto what number would you like to retrieve the sum of natrual numbers for? \"))\n",
    "\n",
    "# Calculations - important to run through again\n",
    "total = 0\n",
    "for i in range(1, n + 1):\n",
    "    total = total + i\n",
    "\n",
    "# Display output to customer\n",
    "print(\"The sum of natural numbers that occur before \", number, \" is \", total, \".\", sep=\"\")\n"
   ]
  },
  {
   "cell_type": "code",
   "execution_count": 79,
   "metadata": {},
   "outputs": [],
   "source": [
    "# 12/.\n",
    "# Write a program to find the sum of the cubers of the first\n",
    "# n natural numbers where the value of n is provided by\n",
    "# the user."
   ]
  },
  {
   "cell_type": "code",
   "execution_count": 84,
   "metadata": {},
   "outputs": [
    {
     "name": "stdout",
     "output_type": "stream",
     "text": [
      "Cubed calculator\n",
      "Upto what would would you like to retrieve the sum of cubed values for? 10\n",
      "The cubed sum of natural numbers that occur before 10 is 3025.\n"
     ]
    }
   ],
   "source": [
    "#12/.\n",
    "\n",
    "# Title of the program\n",
    "print(\"Cubed calculator\")\n",
    "\n",
    "# Obtain a number from the customer\n",
    "n = int(input(\"Upto what would would you like to retrieve the sum of cubed values for? \"))\n",
    "     \n",
    "# Calculation\n",
    "total = 0 # Means that the loop starts at zero\n",
    "for i in range(1, n + 1):# n + 1 so it includes the n output\n",
    "    total = total + i ** 3\n",
    "\n",
    "# Display output to customer\n",
    "print(\"The cubed sum of natural numbers that occur before \", number, \" is \", total, \".\", sep=\"\")"
   ]
  },
  {
   "cell_type": "code",
   "execution_count": 85,
   "metadata": {},
   "outputs": [],
   "source": [
    "# 13/.\n",
    "# Write a program to sum a series of numbers entered by\n",
    "# the user. The program should first prompt the user for\n",
    "# how many numbers are to be summed. The program should\n",
    "# then prompt the user for each of the numbers in turn\n",
    "# and print out a total sum after all the numbers have been\n",
    "# entered. Hint: Use an input statement in the body of the\n",
    "# loop."
   ]
  },
  {
   "cell_type": "code",
   "execution_count": 86,
   "metadata": {},
   "outputs": [
    {
     "name": "stdout",
     "output_type": "stream",
     "text": [
      "Sum of Arbitrary List Calculator\n",
      "This program calculates the sum of a list of numbers.\n",
      "Enter the number of numbers to be summed: 10\n",
      "Enter number: 10\n",
      "Enter number: 10\n",
      "Enter number: 10\n",
      "Enter number: 10\n",
      "Enter number: 10\n",
      "Enter number: 10\n",
      "Enter number: 10\n",
      "Enter number: 10\n",
      "Enter number: 10\n",
      "Enter number: 10\n",
      "The sum of your numbers is 100.0.\n"
     ]
    }
   ],
   "source": [
    "# 13/. - unable to answer (Currently have a headache)\n",
    "\n",
    "#Title of the program\n",
    "print(\"Sum of Arbitrary List Calculator\")\n",
    "print(\"This program calculates the sum of a list of numbers.\")\n",
    "\n",
    "# Obtain a number from the customer\n",
    "n = int(input(\"Enter the number of numbers to be summed: \"))\n",
    "\n",
    "# Calculations - important to run through again\n",
    "total = 0\n",
    "\n",
    "# Below loops till it hits N+1 and adds to the total which\n",
    "# = 0 at this point in time\n",
    "for i in range(1, n + 1):\n",
    "    num = float(input(\"Enter number: \"))\n",
    "    total = total + num  \n",
    "\n",
    "# Display output to customer\n",
    "print(\"The sum of your numbers is \", total, \".\", sep=\"\")"
   ]
  },
  {
   "cell_type": "markdown",
   "metadata": {},
   "source": []
  },
  {
   "cell_type": "code",
   "execution_count": 87,
   "metadata": {},
   "outputs": [],
   "source": [
    "# 14/.\n",
    "# Write a program that finds the average of a series of numbers\n",
    "# entered by the user. As in the previous problem, the program\n",
    "# will first ask the user how many numbers there are. Note:\n",
    "# The average should always be a float even the the users inputs\n",
    "# are all ints."
   ]
  },
  {
   "cell_type": "code",
   "execution_count": 91,
   "metadata": {},
   "outputs": [
    {
     "name": "stdout",
     "output_type": "stream",
     "text": [
      "Average of Arbitrary List Calculator\n",
      "This program calculates the average of a list of numbers.\n",
      "Enter the number of numbers to be averaged10\n",
      "Enter number: 10\n",
      "Enter number: 10\n",
      "Enter number: 10\n",
      "Enter number: 10\n",
      "Enter number: 10\n",
      "Enter number: 10\n",
      "Enter number: 10\n",
      "Enter number: 10\n",
      "Enter number: 10\n",
      "Enter number: 10\n",
      "The average of your numbers is 10.0.\n"
     ]
    }
   ],
   "source": [
    "# 14/.\n",
    "\n",
    "# Title of the program\n",
    "print(\"Average of Arbitrary List Calculator\")\n",
    "print(\"This program calculates the average of a list of numbers.\")\n",
    "\n",
    "# Customer inputs\n",
    "n = int(input(\"Enter the number of numbers to be averaged\"))\n",
    "\n",
    "# Calculation of averages\n",
    "total = 0\n",
    "for i in range(1, n + 1):\n",
    "    num = float(input(\"Enter number: \"))\n",
    "    total = (total + n / num)\n",
    "    \n",
    "#Display the result for the customer\n",
    "print(\"The average of your numbers is \", answer, \".\", sep=\"\")"
   ]
  },
  {
   "cell_type": "code",
   "execution_count": 92,
   "metadata": {},
   "outputs": [],
   "source": [
    "# 15/.\n",
    "# Write a program that appoximates the value of pi by summing\n",
    "# the terms of this series:\n",
    "# 4/1 - 4/3 - 4/5 - 4/7 + 4/9 - 4/11...\n",
    "# The program should prompt the user for n, the number of terms\n",
    "# to sum, and then output the sum of the first n terms of this\n",
    "# series. Have your program subtract the approximation from the\n",
    "# value of math.pi to see how accurate it is."
   ]
  },
  {
   "cell_type": "code",
   "execution_count": 93,
   "metadata": {},
   "outputs": [
    {
     "name": "stdout",
     "output_type": "stream",
     "text": [
      "Pi Approximator\n",
      "This program calculates an approximation of pi based on approximating on infinite sum by a finite one.\n",
      "Enter the number of numbers to be averaged10\n",
      "The approximate value of pi is 3.0418396189294032.\n",
      "The error in this approximation is 0.09975303466038987.\n"
     ]
    }
   ],
   "source": [
    "# 15/.\n",
    "import math\n",
    "\n",
    "# Title of the program\n",
    "print(\"Pi Approximator\")\n",
    "print(\"This program calculates an approximation of pi based on \" + \\\n",
    "     \"approximating on infinite sum by a finite one.\")\n",
    "\n",
    "# Customer inputs\n",
    "n = int(input(\"Enter the number of numbers to be averaged\"))\n",
    "\n",
    "# Calculation of averages\n",
    "total = 0\n",
    "for i in range(n):\n",
    "    total = total + 4 * (-1) ** i / (2 * i + 1)\n",
    "    \n",
    "# Range n is because we want to stat at 4/1\n",
    "# 4 * (-1) ** 1 so it will be minus 1\n",
    "    \n",
    "#Display the result for the customer\n",
    "print(\"The approximate value of pi is \", total, \".\", sep=\"\")\n",
    "print(\"The error in this approximation is \", math.pi - total, \".\", sep=\"\")"
   ]
  },
  {
   "cell_type": "code",
   "execution_count": 94,
   "metadata": {},
   "outputs": [],
   "source": [
    "# 16/.\n",
    "# A Fibonacci sequence is a sequence of numbers where each\n",
    "# sucessive number is the sum of the previous two. The classic\n",
    "# Fibonacci sequence beings: 1, 1, 2, 3, 5, 8, 13.\n",
    "# Write a program that computes the nth Fibonacci number\n",
    "# where n is a value input by the user. For example, n = 6,\n",
    "# then the result is 8."
   ]
  },
  {
   "cell_type": "code",
   "execution_count": 97,
   "metadata": {},
   "outputs": [
    {
     "name": "stdout",
     "output_type": "stream",
     "text": [
      "Fibonacci calculator\n",
      "This program calculates the nth Fibonacci number. \n",
      "Enter the number that you'd like to computethe Fibonacci number for 6\n",
      "The Fibonacci number for 6 is 8.\n"
     ]
    }
   ],
   "source": [
    "#16/.\n",
    "\n",
    "import math\n",
    "\n",
    "# Title and description of the program\n",
    "print(\"Fibonacci calculator\")\n",
    "print(\"This program calculates the nth Fibonacci number. \")\n",
    "\n",
    "# Determine which Fibonacci number to calculate\n",
    "n = int(input(\"Enter the number that you'd like to compute\" \\\n",
    "             \"the Fibonacci number for \"))\n",
    "\n",
    "# First two Fibonacci numbers\n",
    "n1 = 1\n",
    "n2 = 1\n",
    "\n",
    "# Calculate the nth Fibonacci numbers from the 2 before\n",
    "for i in range(3, n + 1):\n",
    "    n1, n2 = n2, n1 + n2\n",
    "    \n",
    "# Display the result for the user\n",
    "print(\"The Fibonacci number for \", n, \" is \", n2, \".\", sep = \"\")"
   ]
  },
  {
   "cell_type": "code",
   "execution_count": 98,
   "metadata": {},
   "outputs": [],
   "source": [
    "# 17/. -"
   ]
  },
  {
   "cell_type": "code",
   "execution_count": null,
   "metadata": {},
   "outputs": [],
   "source": [
    "# Chapter 4"
   ]
  }
 ],
 "metadata": {
  "kernelspec": {
   "display_name": "Python 3",
   "language": "python",
   "name": "python3"
  },
  "language_info": {
   "codemirror_mode": {
    "name": "ipython",
    "version": 3
   },
   "file_extension": ".py",
   "mimetype": "text/x-python",
   "name": "python",
   "nbconvert_exporter": "python",
   "pygments_lexer": "ipython3",
   "version": "3.7.6"
  }
 },
 "nbformat": 4,
 "nbformat_minor": 2
}
