{
 "cells": [
  {
   "cell_type": "markdown",
   "metadata": {},
   "source": [
    "# Algorithm Design and Recursion"
   ]
  },
  {
   "cell_type": "markdown",
   "metadata": {},
   "source": [
    "## 13.1 Searching"
   ]
  },
  {
   "cell_type": "markdown",
   "metadata": {},
   "source": [
    "### 13.1.2 Stratergy 1: Linear Search"
   ]
  },
  {
   "cell_type": "code",
   "execution_count": 42,
   "metadata": {},
   "outputs": [],
   "source": [
    "def search(x, nums):\n",
    "    \n",
    "    for i in range(len(nums)):\n",
    "        if nums[i] == x:     # Item found, return the index value\n",
    "            return i\n",
    "        \n",
    "    return -1               # loop finished, item was not in list"
   ]
  },
  {
   "cell_type": "code",
   "execution_count": 43,
   "metadata": {},
   "outputs": [
    {
     "data": {
      "text/plain": [
       "2"
      ]
     },
     "execution_count": 43,
     "metadata": {},
     "output_type": "execute_result"
    }
   ],
   "source": [
    "search(4,[3, 1, 4, 2, 5])"
   ]
  },
  {
   "cell_type": "code",
   "execution_count": 44,
   "metadata": {},
   "outputs": [
    {
     "data": {
      "text/plain": [
       "-1"
      ]
     },
     "execution_count": 44,
     "metadata": {},
     "output_type": "execute_result"
    }
   ],
   "source": [
    "search(7,[3, 1, 4, 2, 5])"
   ]
  },
  {
   "cell_type": "markdown",
   "metadata": {},
   "source": [
    "### 13.1.3 Stratergy 1: Binary Search"
   ]
  },
  {
   "cell_type": "code",
   "execution_count": 45,
   "metadata": {},
   "outputs": [],
   "source": [
    "def search(x, nums):\n",
    "   \n",
    "    low = 0\n",
    "    high = len(nums) - 1\n",
    "    \n",
    "    while low <= high:        # There is still a range to search\n",
    "        mid = (low+high)//2   # position of middle item\n",
    "        item = nums[mid]\n",
    "        \n",
    "        if x == item:         # Found it! Return the index\n",
    "            return mid\n",
    "    \n",
    "        elif x < item:        # x is in lower half of range\n",
    "            high = mid - 1    #     Move top marker down\n",
    "        \n",
    "        else:                 # x is in upper half\n",
    "            low = mid + 1     #     Move bottom marker up\n",
    "    \n",
    "    return -1                 # no range left to search, x is not there"
   ]
  },
  {
   "cell_type": "code",
   "execution_count": 46,
   "metadata": {},
   "outputs": [
    {
     "data": {
      "text/plain": [
       "2"
      ]
     },
     "execution_count": 46,
     "metadata": {},
     "output_type": "execute_result"
    }
   ],
   "source": [
    "search(4,[3, 1, 4, 2, 5])"
   ]
  },
  {
   "cell_type": "code",
   "execution_count": 47,
   "metadata": {},
   "outputs": [
    {
     "data": {
      "text/plain": [
       "-1"
      ]
     },
     "execution_count": 47,
     "metadata": {},
     "output_type": "execute_result"
    }
   ],
   "source": [
    "search(7,[3, 1, 4, 2, 5])"
   ]
  },
  {
   "cell_type": "markdown",
   "metadata": {},
   "source": [
    "## 13.2 Recursive Problem Solving"
   ]
  },
  {
   "cell_type": "code",
   "execution_count": null,
   "metadata": {},
   "outputs": [],
   "source": [
    "Algorithm: binarySearch -- search for x in numbs[low]...nums[high]\n",
    "\n",
    "mid = (low+high)\n",
    "\n",
    "if low > high\n",
    "    x is not in nums\n",
    "    \n",
    "elif x < nums[mid]\n",
    "    perform binary search for x in nums[low]...nums[mid-1]\n",
    "    \n",
    "else\n",
    "    perform binary search for x in numbs[mid+1]...nums[high]"
   ]
  },
  {
   "cell_type": "markdown",
   "metadata": {},
   "source": [
    "### 13.2.2 Recursive Functions"
   ]
  },
  {
   "cell_type": "code",
   "execution_count": 7,
   "metadata": {},
   "outputs": [],
   "source": [
    "def fact(n):\n",
    "    \n",
    "    if n == 0:\n",
    "        return 1\n",
    "    \n",
    "    else:\n",
    "        return n * fact(n-1)"
   ]
  },
  {
   "cell_type": "code",
   "execution_count": 8,
   "metadata": {},
   "outputs": [
    {
     "data": {
      "text/plain": [
       "24"
      ]
     },
     "execution_count": 8,
     "metadata": {},
     "output_type": "execute_result"
    }
   ],
   "source": [
    "fact(4)"
   ]
  },
  {
   "cell_type": "code",
   "execution_count": 9,
   "metadata": {},
   "outputs": [
    {
     "data": {
      "text/plain": [
       "3628800"
      ]
     },
     "execution_count": 9,
     "metadata": {},
     "output_type": "execute_result"
    }
   ],
   "source": [
    "fact(10)"
   ]
  },
  {
   "cell_type": "markdown",
   "metadata": {},
   "source": [
    "### 13.2.3 Example: String Reversal"
   ]
  },
  {
   "cell_type": "code",
   "execution_count": 11,
   "metadata": {},
   "outputs": [],
   "source": [
    "def reverse(s):\n",
    "    return reverse(s[1:]) + s[0]"
   ]
  },
  {
   "cell_type": "code",
   "execution_count": 12,
   "metadata": {},
   "outputs": [
    {
     "ename": "RecursionError",
     "evalue": "maximum recursion depth exceeded",
     "output_type": "error",
     "traceback": [
      "\u001b[0;31m---------------------------------------------------------------------------\u001b[0m",
      "\u001b[0;31mRecursionError\u001b[0m                            Traceback (most recent call last)",
      "\u001b[0;32m<ipython-input-12-bc9604f1d315>\u001b[0m in \u001b[0;36m<module>\u001b[0;34m\u001b[0m\n\u001b[0;32m----> 1\u001b[0;31m \u001b[0mreverse\u001b[0m\u001b[0;34m(\u001b[0m\u001b[0;34m\"Hello\"\u001b[0m\u001b[0;34m)\u001b[0m\u001b[0;34m\u001b[0m\u001b[0;34m\u001b[0m\u001b[0m\n\u001b[0m",
      "\u001b[0;32m<ipython-input-11-004763ba37ba>\u001b[0m in \u001b[0;36mreverse\u001b[0;34m(s)\u001b[0m\n\u001b[1;32m      1\u001b[0m \u001b[0;32mdef\u001b[0m \u001b[0mreverse\u001b[0m\u001b[0;34m(\u001b[0m\u001b[0ms\u001b[0m\u001b[0;34m)\u001b[0m\u001b[0;34m:\u001b[0m\u001b[0;34m\u001b[0m\u001b[0;34m\u001b[0m\u001b[0m\n\u001b[0;32m----> 2\u001b[0;31m     \u001b[0;32mreturn\u001b[0m \u001b[0mreverse\u001b[0m\u001b[0;34m(\u001b[0m\u001b[0ms\u001b[0m\u001b[0;34m[\u001b[0m\u001b[0;36m1\u001b[0m\u001b[0;34m:\u001b[0m\u001b[0;34m]\u001b[0m\u001b[0;34m)\u001b[0m \u001b[0;34m+\u001b[0m \u001b[0ms\u001b[0m\u001b[0;34m[\u001b[0m\u001b[0;36m0\u001b[0m\u001b[0;34m]\u001b[0m\u001b[0;34m\u001b[0m\u001b[0;34m\u001b[0m\u001b[0m\n\u001b[0m",
      "... last 1 frames repeated, from the frame below ...\n",
      "\u001b[0;32m<ipython-input-11-004763ba37ba>\u001b[0m in \u001b[0;36mreverse\u001b[0;34m(s)\u001b[0m\n\u001b[1;32m      1\u001b[0m \u001b[0;32mdef\u001b[0m \u001b[0mreverse\u001b[0m\u001b[0;34m(\u001b[0m\u001b[0ms\u001b[0m\u001b[0;34m)\u001b[0m\u001b[0;34m:\u001b[0m\u001b[0;34m\u001b[0m\u001b[0;34m\u001b[0m\u001b[0m\n\u001b[0;32m----> 2\u001b[0;31m     \u001b[0;32mreturn\u001b[0m \u001b[0mreverse\u001b[0m\u001b[0;34m(\u001b[0m\u001b[0ms\u001b[0m\u001b[0;34m[\u001b[0m\u001b[0;36m1\u001b[0m\u001b[0;34m:\u001b[0m\u001b[0;34m]\u001b[0m\u001b[0;34m)\u001b[0m \u001b[0;34m+\u001b[0m \u001b[0ms\u001b[0m\u001b[0;34m[\u001b[0m\u001b[0;36m0\u001b[0m\u001b[0;34m]\u001b[0m\u001b[0;34m\u001b[0m\u001b[0;34m\u001b[0m\u001b[0m\n\u001b[0m",
      "\u001b[0;31mRecursionError\u001b[0m: maximum recursion depth exceeded"
     ]
    }
   ],
   "source": [
    "reverse(\"Hello\")"
   ]
  },
  {
   "cell_type": "code",
   "execution_count": 13,
   "metadata": {},
   "outputs": [],
   "source": [
    "def reverse(s):\n",
    "    if s == \"\":\n",
    "        return s\n",
    "    else:\n",
    "        return reverse(s[1:]) + s[0]"
   ]
  },
  {
   "cell_type": "code",
   "execution_count": 14,
   "metadata": {},
   "outputs": [
    {
     "data": {
      "text/plain": [
       "'olleH'"
      ]
     },
     "execution_count": 14,
     "metadata": {},
     "output_type": "execute_result"
    }
   ],
   "source": [
    "reverse(\"Hello\")"
   ]
  },
  {
   "cell_type": "markdown",
   "metadata": {},
   "source": [
    "### 13.2.4 Example: Anagrams\n",
    "\n",
    "Come back to, as it's a little tricky."
   ]
  },
  {
   "cell_type": "code",
   "execution_count": 15,
   "metadata": {},
   "outputs": [],
   "source": [
    "def anagrams(s):\n",
    "    \n",
    "    if s == \"\":\n",
    "        return [s]\n",
    "    \n",
    "    else:\n",
    "        ans = []\n",
    "        for w in anagrams(s[1:]):\n",
    "            for pos in range(len(w) + 1):\n",
    "                ans.append(w[:pos] + s[0] + w[pos:])\n",
    "        \n",
    "        return ans"
   ]
  },
  {
   "cell_type": "code",
   "execution_count": 48,
   "metadata": {},
   "outputs": [],
   "source": [
    "s = \"abs\""
   ]
  },
  {
   "cell_type": "code",
   "execution_count": 49,
   "metadata": {},
   "outputs": [
    {
     "data": {
      "text/plain": [
       "'bs'"
      ]
     },
     "execution_count": 49,
     "metadata": {},
     "output_type": "execute_result"
    }
   ],
   "source": [
    "s[1:]"
   ]
  },
  {
   "cell_type": "code",
   "execution_count": 55,
   "metadata": {},
   "outputs": [
    {
     "data": {
      "text/plain": [
       "'a'"
      ]
     },
     "execution_count": 55,
     "metadata": {},
     "output_type": "execute_result"
    }
   ],
   "source": [
    "s[:1]"
   ]
  },
  {
   "cell_type": "code",
   "execution_count": 56,
   "metadata": {},
   "outputs": [
    {
     "data": {
      "text/plain": [
       "'a'"
      ]
     },
     "execution_count": 56,
     "metadata": {},
     "output_type": "execute_result"
    }
   ],
   "source": [
    "s[0]"
   ]
  },
  {
   "cell_type": "code",
   "execution_count": 52,
   "metadata": {},
   "outputs": [
    {
     "data": {
      "text/plain": [
       "3"
      ]
     },
     "execution_count": 52,
     "metadata": {},
     "output_type": "execute_result"
    }
   ],
   "source": [
    "len(s)"
   ]
  },
  {
   "cell_type": "code",
   "execution_count": null,
   "metadata": {},
   "outputs": [],
   "source": []
  },
  {
   "cell_type": "code",
   "execution_count": 16,
   "metadata": {},
   "outputs": [
    {
     "data": {
      "text/plain": [
       "['abs', 'bas', 'bsa', 'asb', 'sab', 'sba']"
      ]
     },
     "execution_count": 16,
     "metadata": {},
     "output_type": "execute_result"
    }
   ],
   "source": [
    "anagrams(\"abs\")"
   ]
  },
  {
   "cell_type": "markdown",
   "metadata": {},
   "source": [
    "### 13.2.5 Example: Fast Exponentiation"
   ]
  },
  {
   "cell_type": "code",
   "execution_count": 18,
   "metadata": {},
   "outputs": [],
   "source": [
    "def loopPower(a, n):\n",
    "    \n",
    "    ans = 1\n",
    "    \n",
    "    for i in range(n):\n",
    "        ans = ans * a\n",
    "    \n",
    "    return ans"
   ]
  },
  {
   "cell_type": "code",
   "execution_count": 57,
   "metadata": {},
   "outputs": [
    {
     "data": {
      "text/plain": [
       "32"
      ]
     },
     "execution_count": 57,
     "metadata": {},
     "output_type": "execute_result"
    }
   ],
   "source": [
    "loopPower(2,5)"
   ]
  },
  {
   "cell_type": "code",
   "execution_count": 21,
   "metadata": {},
   "outputs": [],
   "source": [
    "def recPower(a, n):\n",
    "    \n",
    "    # raises a to the int power n\n",
    "    if n == 0:\n",
    "        return 1\n",
    "    \n",
    "    else:\n",
    "        \n",
    "        factor = recPower(a, n//2)\n",
    "        \n",
    "        if n%2 == 0:                    # n is even\n",
    "            return factor * factor\n",
    "        \n",
    "        else:                          # n is odd\n",
    "            return factor * factor * a"
   ]
  },
  {
   "cell_type": "code",
   "execution_count": 58,
   "metadata": {},
   "outputs": [
    {
     "data": {
      "text/plain": [
       "32"
      ]
     },
     "execution_count": 58,
     "metadata": {},
     "output_type": "execute_result"
    }
   ],
   "source": [
    "recPower(2,5)"
   ]
  },
  {
   "cell_type": "code",
   "execution_count": 59,
   "metadata": {},
   "outputs": [
    {
     "data": {
      "text/plain": [
       "1"
      ]
     },
     "execution_count": 59,
     "metadata": {},
     "output_type": "execute_result"
    }
   ],
   "source": [
    "recPower(2,0)"
   ]
  },
  {
   "cell_type": "code",
   "execution_count": 60,
   "metadata": {},
   "outputs": [
    {
     "data": {
      "text/plain": [
       "64"
      ]
     },
     "execution_count": 60,
     "metadata": {},
     "output_type": "execute_result"
    }
   ],
   "source": [
    "recPower(2,6)"
   ]
  },
  {
   "cell_type": "code",
   "execution_count": 94,
   "metadata": {},
   "outputs": [
    {
     "data": {
      "text/plain": [
       "729"
      ]
     },
     "execution_count": 94,
     "metadata": {},
     "output_type": "execute_result"
    }
   ],
   "source": [
    "recPower(3,6)"
   ]
  },
  {
   "cell_type": "markdown",
   "metadata": {},
   "source": [
    "### 13.2.6 Example: Binary Search"
   ]
  },
  {
   "cell_type": "code",
   "execution_count": 23,
   "metadata": {},
   "outputs": [],
   "source": [
    "def recBinSearch(x, nums, low, high):\n",
    "    \n",
    "    if low > high:              # No place left to look, return -1\n",
    "        return -1\n",
    "    \n",
    "    mid = (low + high) // 2\n",
    "    item = nums[mid]\n",
    "    \n",
    "    if item == x:               # Found it! Return the index\n",
    "        return mid\n",
    "    \n",
    "    elif x < item:              # Look in lower half\n",
    "        return recBinSearch(x, nums, low, mid-1)\n",
    "    \n",
    "    else:                       # Look in upper half\n",
    "        return recBinSearch(x, nums, mid+1, high)"
   ]
  },
  {
   "cell_type": "code",
   "execution_count": 24,
   "metadata": {},
   "outputs": [],
   "source": [
    "def search(x, nums):\n",
    "    return recBinSearch(x, nums, 0, len(nums)-1)"
   ]
  },
  {
   "cell_type": "markdown",
   "metadata": {},
   "source": [
    "### 13.2.7 Recursion vs. Iteration"
   ]
  },
  {
   "cell_type": "code",
   "execution_count": 25,
   "metadata": {},
   "outputs": [],
   "source": [
    "def loopfib(n):\n",
    "    # returns the nth Fibonacci number\n",
    "    \n",
    "    curr = 1\n",
    "    prev = 1\n",
    "    \n",
    "    for i in range(n-2):\n",
    "        curr, prev = curr + prev, curr\n",
    "    \n",
    "    return curr"
   ]
  },
  {
   "cell_type": "code",
   "execution_count": 26,
   "metadata": {},
   "outputs": [],
   "source": [
    "def fib(n):\n",
    "    \n",
    "    if n < 3:\n",
    "        return 1\n",
    "    \n",
    "    else:\n",
    "        return fib(n-1) + fib(n02)"
   ]
  },
  {
   "cell_type": "markdown",
   "metadata": {},
   "source": [
    "## 13.3 Sorting Algorithm"
   ]
  },
  {
   "cell_type": "markdown",
   "metadata": {},
   "source": [
    "### 13.3.1 Naive Sorting: Selection Sort"
   ]
  },
  {
   "cell_type": "code",
   "execution_count": null,
   "metadata": {},
   "outputs": [],
   "source": [
    "nums[0] = nums[10]"
   ]
  },
  {
   "cell_type": "code",
   "execution_count": null,
   "metadata": {},
   "outputs": [],
   "source": [
    "nums[0], nums[10] = nums[10], nums[0]"
   ]
  },
  {
   "cell_type": "code",
   "execution_count": 28,
   "metadata": {},
   "outputs": [],
   "source": [
    "def selSort(nums):\n",
    "    # sort numbs into ascending order\n",
    "    \n",
    "    n = len(nums)\n",
    "    \n",
    "    # For each position in the list (except the very last)\n",
    "    for bottom in range(n-1):\n",
    "        # Find the smaller item in nums[bottom]..nums[n-1]\n",
    "        \n",
    "        mp = bottom                       # bottom is smallest initially\n",
    "        for i in range(bottom + 1, n):    # look at each position\n",
    "            if nums[i] < nums[mp]:        # this one is smaller\n",
    "                mp = i                    #      remember its index\n",
    "        \n",
    "        # swap smallest item to the bottom\n",
    "        nums[bottom], nums[mp] = nums[mp], nums[bottom]"
   ]
  },
  {
   "cell_type": "code",
   "execution_count": 61,
   "metadata": {},
   "outputs": [],
   "source": [
    "nums = [2,3,4,5,5,6,7,7,75,4,3,3,34,354,546]"
   ]
  },
  {
   "cell_type": "code",
   "execution_count": 70,
   "metadata": {},
   "outputs": [
    {
     "name": "stdout",
     "output_type": "stream",
     "text": [
      "[2, 3, 3, 3, 4, 4, 5, 5, 6, 7, 7, 34, 75, 354, 546]\n"
     ]
    }
   ],
   "source": [
    "selSort(nums)\n",
    "print(nums)"
   ]
  },
  {
   "cell_type": "markdown",
   "metadata": {},
   "source": [
    "### 13.3.2 Divide and Conquer: Merge Sort"
   ]
  },
  {
   "cell_type": "markdown",
   "metadata": {},
   "source": [
    "Algorithm : merge sort nums\n",
    "    \n",
    "split nums into two halves\n",
    "\n",
    "sort the first half\n",
    "\n",
    "sort the second half\n",
    "\n",
    "merge the two sorted halves back into nums"
   ]
  },
  {
   "cell_type": "code",
   "execution_count": 30,
   "metadata": {},
   "outputs": [],
   "source": [
    "def merge(lst1, lst2, lst3):\n",
    "    # merge sorted lists lst1 and lst2 into lst3\n",
    "    \n",
    "    # these indexes keep track of current position in each list\n",
    "    i1, i2, i3 = 0, 0, 0    # All start at the front\n",
    "    n1, n2 = len(lst1), len(lst2)\n",
    "    \n",
    "    # Loop while both lst1 and lst2 have more items\n",
    "    while i1 < n1 and i2 < n2:\n",
    "        if lst1[i1] < lst2[i2]:   # top of lst1 is smaller\n",
    "            lst3[i3] = lst1[i1]   #    copy it into current spot in lst 3\n",
    "            i1 = i1 + 1\n",
    "        \n",
    "        else:                     # top of lst2 is smaller\n",
    "            lst3[i3] = lst2[i2]   #    copy it into current spot in lst3\n",
    "            i2 = i2 + 1\n",
    "        \n",
    "        i3 = i3 + 1               # item added to lst3, update position\n",
    "        \n",
    "    # Here either lst1 or lst2 is done. One of the following loops will\n",
    "    # execute to finish up the merge.\n",
    "    \n",
    "    # Copy remaining items (if any) from lst1\n",
    "    while i1 < n1:\n",
    "        lst3[i3] = lst1[i1]\n",
    "        i1 = i1 + 1\n",
    "        i3 = i3 + 1\n",
    "        \n",
    "    # Copy remaining items (if any) from lst2\n",
    "    while i2 < n2:\n",
    "        lst3[i3] = lst2[i2]\n",
    "        i2 = i2 + 1\n",
    "        i3 = i3 + 1"
   ]
  },
  {
   "cell_type": "code",
   "execution_count": 71,
   "metadata": {},
   "outputs": [],
   "source": [
    "nums1 =  [2,3,4,5,5,6,7,7,75,4,3,3,34,354,546]"
   ]
  },
  {
   "cell_type": "code",
   "execution_count": 72,
   "metadata": {},
   "outputs": [],
   "source": [
    "nums2 = [435,435,23,54,76,98,67,234,23,654,76]"
   ]
  },
  {
   "cell_type": "code",
   "execution_count": 73,
   "metadata": {},
   "outputs": [],
   "source": [
    "nums3 = [456,876,546,345,243,645,543,465,576,8]"
   ]
  },
  {
   "cell_type": "code",
   "execution_count": 75,
   "metadata": {},
   "outputs": [
    {
     "ename": "IndexError",
     "evalue": "list assignment index out of range",
     "output_type": "error",
     "traceback": [
      "\u001b[0;31m---------------------------------------------------------------------------\u001b[0m",
      "\u001b[0;31mIndexError\u001b[0m                                Traceback (most recent call last)",
      "\u001b[0;32m<ipython-input-75-0c9a49e4eff8>\u001b[0m in \u001b[0;36m<module>\u001b[0;34m\u001b[0m\n\u001b[0;32m----> 1\u001b[0;31m \u001b[0mmerge\u001b[0m\u001b[0;34m(\u001b[0m\u001b[0mnums1\u001b[0m\u001b[0;34m,\u001b[0m \u001b[0mnums2\u001b[0m\u001b[0;34m,\u001b[0m \u001b[0mnums3\u001b[0m\u001b[0;34m)\u001b[0m\u001b[0;34m\u001b[0m\u001b[0;34m\u001b[0m\u001b[0m\n\u001b[0m",
      "\u001b[0;32m<ipython-input-30-b472a369b8bf>\u001b[0m in \u001b[0;36mmerge\u001b[0;34m(lst1, lst2, lst3)\u001b[0m\n\u001b[1;32m      9\u001b[0m     \u001b[0;32mwhile\u001b[0m \u001b[0mi1\u001b[0m \u001b[0;34m<\u001b[0m \u001b[0mn1\u001b[0m \u001b[0;32mand\u001b[0m \u001b[0mi2\u001b[0m \u001b[0;34m<\u001b[0m \u001b[0mn2\u001b[0m\u001b[0;34m:\u001b[0m\u001b[0;34m\u001b[0m\u001b[0;34m\u001b[0m\u001b[0m\n\u001b[1;32m     10\u001b[0m         \u001b[0;32mif\u001b[0m \u001b[0mlst1\u001b[0m\u001b[0;34m[\u001b[0m\u001b[0mi1\u001b[0m\u001b[0;34m]\u001b[0m \u001b[0;34m<\u001b[0m \u001b[0mlst2\u001b[0m\u001b[0;34m[\u001b[0m\u001b[0mi2\u001b[0m\u001b[0;34m]\u001b[0m\u001b[0;34m:\u001b[0m   \u001b[0;31m# top of lst1 is smaller\u001b[0m\u001b[0;34m\u001b[0m\u001b[0;34m\u001b[0m\u001b[0m\n\u001b[0;32m---> 11\u001b[0;31m             \u001b[0mlst3\u001b[0m\u001b[0;34m[\u001b[0m\u001b[0mi3\u001b[0m\u001b[0;34m]\u001b[0m \u001b[0;34m=\u001b[0m \u001b[0mlst1\u001b[0m\u001b[0;34m[\u001b[0m\u001b[0mi1\u001b[0m\u001b[0;34m]\u001b[0m   \u001b[0;31m#    copy it into current spot in lst 3\u001b[0m\u001b[0;34m\u001b[0m\u001b[0;34m\u001b[0m\u001b[0m\n\u001b[0m\u001b[1;32m     12\u001b[0m             \u001b[0mi1\u001b[0m \u001b[0;34m=\u001b[0m \u001b[0mi1\u001b[0m \u001b[0;34m+\u001b[0m \u001b[0;36m1\u001b[0m\u001b[0;34m\u001b[0m\u001b[0;34m\u001b[0m\u001b[0m\n\u001b[1;32m     13\u001b[0m \u001b[0;34m\u001b[0m\u001b[0m\n",
      "\u001b[0;31mIndexError\u001b[0m: list assignment index out of range"
     ]
    }
   ],
   "source": [
    "merge(nums1, nums2, nums3)"
   ]
  },
  {
   "cell_type": "markdown",
   "metadata": {},
   "source": [
    "if len(nums) > 1:\n",
    "    \n",
    "    split nums into two halves\n",
    "    \n",
    "    mergeSort the first half\n",
    "    \n",
    "    mergeSort the second half\n",
    "    \n",
    "    Merge the two sorted halves into nums"
   ]
  },
  {
   "cell_type": "code",
   "execution_count": 31,
   "metadata": {},
   "outputs": [],
   "source": [
    "def mergeSort(nums):\n",
    "    # Put items of nums in ascending order\n",
    "    \n",
    "    n = len(nums)\n",
    "    \n",
    "    # Do nothing if nums contains 0 or 1 item\n",
    "    \n",
    "    if n > 1:\n",
    "        # split into two sublists\n",
    "        \n",
    "        m = n // 2\n",
    "        nums1, nums2, = nums[:m], nums[m:]\n",
    "        \n",
    "        # recursively sort each piece\n",
    "        mergeSort(nums1)\n",
    "        mergeSort(nums2)\n",
    "        \n",
    "        # merge the sorted pieces back into original list\n",
    "        merge(nums1, nums2, nums)"
   ]
  },
  {
   "cell_type": "code",
   "execution_count": 77,
   "metadata": {},
   "outputs": [
    {
     "name": "stdout",
     "output_type": "stream",
     "text": [
      "[2, 3, 3, 3, 4, 4, 5, 5, 6, 7, 7, 34, 75, 354, 546]\n"
     ]
    }
   ],
   "source": [
    "mergeSort(nums1)\n",
    "print(nums1)"
   ]
  },
  {
   "cell_type": "markdown",
   "metadata": {},
   "source": [
    "## 13.4 Hard Problems"
   ]
  },
  {
   "cell_type": "markdown",
   "metadata": {},
   "source": [
    "### 13.4.1 Tower of Hanoi"
   ]
  },
  {
   "cell_type": "markdown",
   "metadata": {},
   "source": [
    "Algorithm: move n-disk tower from source to destination via resting place\n",
    "\n",
    "move n-1 disk tower from source to resting place\n",
    "\n",
    "move 1 disk tower from source to destination\n",
    "\n",
    "move n-1 disk tower from resting place to destination"
   ]
  },
  {
   "cell_type": "code",
   "execution_count": 90,
   "metadata": {},
   "outputs": [],
   "source": [
    "def moveTower(n, source, dest, temp):\n",
    "    \n",
    "    count = 0\n",
    "    \n",
    "    if n == 1:\n",
    "        print(\"Move disk from\", source, \"to\", dest + \".\")\n",
    "    \n",
    "    else:\n",
    "        moveTower(n - 1, source, temp, dest)\n",
    "        moveTower(1, source, dest, temp)\n",
    "        moveTower(n - 1, temp, dest, source)"
   ]
  },
  {
   "cell_type": "code",
   "execution_count": 91,
   "metadata": {},
   "outputs": [],
   "source": [
    "def hanoi(n):\n",
    "    moveTower(n, \"A\", \"C\", \"B\")"
   ]
  },
  {
   "cell_type": "code",
   "execution_count": 92,
   "metadata": {},
   "outputs": [
    {
     "name": "stdout",
     "output_type": "stream",
     "text": [
      "Move disk from A to C.\n",
      "Move disk from A to B.\n",
      "Move disk from C to B.\n",
      "Move disk from A to C.\n",
      "Move disk from B to A.\n",
      "Move disk from B to C.\n",
      "Move disk from A to C.\n"
     ]
    }
   ],
   "source": [
    "hanoi(3)"
   ]
  },
  {
   "cell_type": "code",
   "execution_count": 83,
   "metadata": {
    "scrolled": true
   },
   "outputs": [
    {
     "name": "stdout",
     "output_type": "stream",
     "text": [
      "Move disk from A to C.\n",
      "Move disk from A to B.\n",
      "Move disk from C to B.\n",
      "Move disk from A to C.\n",
      "Move disk from B to A.\n",
      "Move disk from B to C.\n",
      "Move disk from A to C.\n",
      "Move disk from A to B.\n",
      "Move disk from C to B.\n",
      "Move disk from C to A.\n",
      "Move disk from B to A.\n",
      "Move disk from C to B.\n",
      "Move disk from A to C.\n",
      "Move disk from A to B.\n",
      "Move disk from C to B.\n",
      "Move disk from A to C.\n",
      "Move disk from B to A.\n",
      "Move disk from B to C.\n",
      "Move disk from A to C.\n",
      "Move disk from B to A.\n",
      "Move disk from C to B.\n",
      "Move disk from C to A.\n",
      "Move disk from B to A.\n",
      "Move disk from B to C.\n",
      "Move disk from A to C.\n",
      "Move disk from A to B.\n",
      "Move disk from C to B.\n",
      "Move disk from A to C.\n",
      "Move disk from B to A.\n",
      "Move disk from B to C.\n",
      "Move disk from A to C.\n"
     ]
    }
   ],
   "source": [
    "hanoi(5)"
   ]
  },
  {
   "cell_type": "markdown",
   "metadata": {},
   "source": [
    "### 13.4.2 The Halting Problem"
   ]
  },
  {
   "cell_type": "code",
   "execution_count": null,
   "metadata": {},
   "outputs": [],
   "source": [
    "# turing.py\n",
    "\n",
    "def terminates(program, inputData):\n",
    "    # prgoram and inputData are both strings\n",
    "    # Returns true if program would halt when run with inputData\n",
    "    #    as its input.\n",
    "    \n",
    "def main():\n",
    "    # Read a proogram from standard input\n",
    "    lines = []\n",
    "    print(\"Type in a program (type 'done' to quit).\")\n",
    "    line = input(\"\")\n",
    "    \n",
    "    while line != \"done\":\n",
    "        lines.append(line)\n",
    "        line = input(\"\")\n",
    "    testProg = \"\\n\".join(lines)\n",
    "    \n",
    "    # If program halts on itself as input, go into an infinite loop\n",
    "    if terminates(testProg, testProg):\n",
    "        whie True:\n",
    "            pass       # a pass statement does nothing\n",
    "        \n",
    "main()"
   ]
  },
  {
   "cell_type": "markdown",
   "metadata": {},
   "source": [
    "## 13.6 Exercises\n",
    "### Review Questions\n",
    "#### True/ False"
   ]
  },
  {
   "cell_type": "markdown",
   "metadata": {},
   "source": [
    "1. Linear search requires a number of steps proportional to the size of the list being searched."
   ]
  },
  {
   "cell_type": "markdown",
   "metadata": {},
   "source": [
    "True.\n",
    "\n",
    "Linear search scans the collection from start to end and requires time linearly proportional to the size of the collection."
   ]
  },
  {
   "cell_type": "markdown",
   "metadata": {},
   "source": [
    "2. The Python operator in performs a binary search."
   ]
  },
  {
   "cell_type": "markdown",
   "metadata": {},
   "source": [
    "False.\n",
    "\n",
    "The Python Operator uses a Linear search.\n",
    "\n",
    "A Linear search scans the collectection from start to end and requires time linearly proportional to the size of the collection."
   ]
  },
  {
   "cell_type": "markdown",
   "metadata": {},
   "source": [
    "3. Binary search is an n log n algorithm."
   ]
  },
  {
   "cell_type": "markdown",
   "metadata": {},
   "source": [
    "False.\n",
    "\n",
    "log2 n\n",
    "\n",
    "Binary search is an example of a log time algorithm. The amount of time it takes to solve a given problem grows as the log of the problem size. In the case of binary search, each additional iteration doubles the size of the problem that we can solve."
   ]
  },
  {
   "cell_type": "markdown",
   "metadata": {},
   "source": [
    "4. The number of times n can be divided by 2 is exp(n)."
   ]
  },
  {
   "cell_type": "markdown",
   "metadata": {},
   "source": [
    "False.\n",
    "\n"
   ]
  },
  {
   "cell_type": "markdown",
   "metadata": {},
   "source": [
    "5. All proper recursive definitions must have exactly one non-recursive base case."
   ]
  },
  {
   "cell_type": "markdown",
   "metadata": {},
   "source": [
    "False.\n",
    "\n",
    "A definition or function is recursive if it refers to itself. To be well-founded, a recursive definition must meet two properties:\n",
    "\n",
    "    1. There must be one or more base cases that require no recursion.\n",
    "    \n",
    "    2. All chains of recursion must eventually reach a base year."
   ]
  },
  {
   "cell_type": "markdown",
   "metadata": {},
   "source": [
    "6. A sequence can be viewed as a recursive data collection."
   ]
  },
  {
   "cell_type": "markdown",
   "metadata": {},
   "source": [
    "True.\n",
    "\n",
    "Sequences can be considered recursive structures containing a first item followed by a sequence. Recursive functions can be written following this approach."
   ]
  },
  {
   "cell_type": "markdown",
   "metadata": {},
   "source": [
    "7. A word of length n has n! anagrams"
   ]
  },
  {
   "cell_type": "markdown",
   "metadata": {},
   "source": [
    "True."
   ]
  },
  {
   "cell_type": "markdown",
   "metadata": {},
   "source": [
    "8. Loops are more general than recursion."
   ]
  },
  {
   "cell_type": "markdown",
   "metadata": {},
   "source": [
    "False.\n",
    "\n",
    "Recursion is more general than iteration. Choosing between recursion and looping involves the considerations of effeciency and elegance."
   ]
  },
  {
   "cell_type": "markdown",
   "metadata": {},
   "source": [
    "9. Merge sort is an example of an n log n algorithm."
   ]
  },
  {
   "cell_type": "markdown",
   "metadata": {},
   "source": [
    "True.\n",
    "\n",
    "Merge sort is a divide and conquer algorithm that can sort a collection in nlogn time."
   ]
  },
  {
   "cell_type": "markdown",
   "metadata": {},
   "source": [
    "10. Exponential algorithms are generally considered intractable."
   ]
  },
  {
   "cell_type": "markdown",
   "metadata": {},
   "source": [
    "True.\n",
    "\n",
    "Problems that are solvable in theory but not in practice are called intractable. The solution to the famous Tower of Hanoi can be expressed as a simple recursive algorithm, but the algorithm is intractable."
   ]
  },
  {
   "cell_type": "markdown",
   "metadata": {},
   "source": [
    "#### Multiple Choice"
   ]
  },
  {
   "cell_type": "markdown",
   "metadata": {},
   "source": [
    "1. Which algorithm requires time directly proportional to the size of the input?\n",
    "\n",
    "    a. linear search\n",
    "    \n",
    "        Linear search scans the collection from start to end and requires time linearly proportional to the size of the collection.\n",
    "    \n",
    "    b. binary search\n",
    "    \n",
    "        Binary search is an example of a divide and conquer approach to algorithm development. Divide and conquer often yields effecient solutions.\n",
    "    \n",
    "    c. merge sort\n",
    "    \n",
    "        An effecient divide and conquer sorting algorithm.\n",
    "        \n",
    "            Example: splitting a deck then merging it in the end.\n",
    "    \n",
    "    d. selection sort\n",
    "    \n",
    "        An n squared-time sorting algorithm.\n",
    "        \n",
    "            Example: goes through a deck one by one from smallest to largerst."
   ]
  },
  {
   "cell_type": "markdown",
   "metadata": {},
   "source": [
    "My Answer. A. Linear search"
   ]
  },
  {
   "cell_type": "markdown",
   "metadata": {},
   "source": [
    "2. Approximately how many iterations will binary search need to find a value in a list of 512 items?\n",
    "\n",
    "    a. 512\n",
    "    \n",
    "    b. 256\n",
    "    \n",
    "    c. 9\n",
    "    \n",
    "    d. 3"
   ]
  },
  {
   "cell_type": "markdown",
   "metadata": {},
   "source": [
    "log2 n\n",
    "\n",
    "My answer.\n",
    "\n",
    "C. 9"
   ]
  },
  {
   "cell_type": "markdown",
   "metadata": {},
   "source": [
    "3. Recursions on sequences often use this as a base case:\n",
    "\n",
    "    a. 0\n",
    "    \n",
    "    b. 1\n",
    "    \n",
    "    c. an empty sequence\n",
    "    \n",
    "    d. None"
   ]
  },
  {
   "cell_type": "markdown",
   "metadata": {},
   "source": [
    "My answer:\n",
    "    \n",
    "b. 1"
   ]
  },
  {
   "cell_type": "markdown",
   "metadata": {},
   "source": [
    "4. An infinite recursion will result in\n",
    "\n",
    "    a. a program at \"hangs\"\n",
    "    \n",
    "    b. a broken computer\n",
    "    \n",
    "    c. a reboot\n",
    "    \n",
    "    d. a run-time exception"
   ]
  },
  {
   "cell_type": "markdown",
   "metadata": {},
   "source": [
    "My answer.\n",
    "\n",
    "d. a run-time exception.\n",
    "\n",
    "If a recursion never reaches a base case, it goes on making recursive calls forever, and the program never terminates."
   ]
  },
  {
   "cell_type": "markdown",
   "metadata": {},
   "source": [
    "5. The recursive Fibonacci function is ineffecient because\n",
    "\n",
    "    a. It does many repeated computations\n",
    "    \n",
    "    b. recursion is inherently ineffecient compared to iteration\n",
    "    \n",
    "    c. calculating Fibonacci numbers is intractable\n",
    "    \n",
    "    d. fibbing is morally wrong"
   ]
  },
  {
   "cell_type": "markdown",
   "metadata": {},
   "source": [
    "My Answer.\n",
    "\n",
    "a. it does mant repeated computations.\n",
    "\n",
    "The recursive function is only useful only upto around 30."
   ]
  },
  {
   "cell_type": "markdown",
   "metadata": {},
   "source": [
    "6. Which is a quadratic time algorithm?\n",
    "\n",
    "    a. Linear search\n",
    "    \n",
    "    b. Binary search\n",
    "    \n",
    "    c. Tower of hanoi\n",
    "    \n",
    "    d. Selection sort"
   ]
  },
  {
   "cell_type": "markdown",
   "metadata": {},
   "source": [
    "My Answer.\n",
    "\n",
    "d. Selection sort (n^2)"
   ]
  },
  {
   "cell_type": "markdown",
   "metadata": {},
   "source": [
    "7. The process of combining two sorted sequences is called\n",
    "\n",
    "    a. Sorting\n",
    "    \n",
    "    b. Shuffling\n",
    "    \n",
    "    c. Dovetailing\n",
    "    \n",
    "    d. Merging"
   ]
  },
  {
   "cell_type": "markdown",
   "metadata": {},
   "source": [
    "My Answer.\n",
    "\n",
    "d. Merging"
   ]
  },
  {
   "cell_type": "markdown",
   "metadata": {},
   "source": [
    "8. Recursion is related to the mathematical technique called\n",
    "\n",
    "    a. Looping\n",
    "    \n",
    "    b. Sequencing\n",
    "    \n",
    "    c. Induction\n",
    "    \n",
    "    d. Contradiction"
   ]
  },
  {
   "cell_type": "markdown",
   "metadata": {},
   "source": [
    "My Answer. \n",
    "\n",
    "b. Sequencing.\n",
    "\n",
    "Sequences can be considered recursive structures containing a first item followed by a sequence. Recursive functions can be written following this approach."
   ]
  },
  {
   "cell_type": "markdown",
   "metadata": {},
   "source": [
    "9. How many steps would be needed to solve the Tower of Hanoi for a tower of size 5?\n",
    "\n",
    "    a. 5\n",
    "    \n",
    "    b. 10\n",
    "    \n",
    "    c. 25\n",
    "    \n",
    "    d. 31"
   ]
  },
  {
   "cell_type": "markdown",
   "metadata": {},
   "source": [
    "My answer.\n",
    "\n",
    "d. 31"
   ]
  },
  {
   "cell_type": "markdown",
   "metadata": {},
   "source": [
    "10. Which of the following is not true of the halting problem?\n",
    "\n",
    "    a. It was studied by Alan Turing.\n",
    "    \n",
    "    b. It is harder than intractable.\n",
    "    \n",
    "    c. Someday a clever algorithm may be found to solve it.\n",
    "    \n",
    "    d. It involves a program that analyzes other programs."
   ]
  },
  {
   "cell_type": "markdown",
   "metadata": {},
   "source": [
    "My answer.\n",
    "\n",
    "b. It is harder than intractable."
   ]
  },
  {
   "cell_type": "markdown",
   "metadata": {},
   "source": [
    "#### Discussion"
   ]
  },
  {
   "cell_type": "markdown",
   "metadata": {},
   "source": [
    "1. Place these algorithm classes in order from fastest to slowest: nlogn, n, n^2, log n, 2^n."
   ]
  },
  {
   "cell_type": "markdown",
   "metadata": {},
   "source": [
    "    1. logn\n",
    "\n",
    "\n",
    "    2. nlogn\n",
    "\n",
    "\n",
    "    3. n\n",
    "\n",
    "\n",
    "    4. 2^n\n",
    "    \n",
    "    \n",
    "    5. n^2"
   ]
  },
  {
   "cell_type": "markdown",
   "metadata": {},
   "source": [
    "2. In your own words, explain the two rules that a proper recursive definition or function must follow."
   ]
  },
  {
   "cell_type": "markdown",
   "metadata": {},
   "source": [
    "A definition of function is recursive if it refers to itself. To be well-founded, a recursive definition must meet two properties.\n",
    "\n",
    "    1. There must be one or more base cases that require no recursion.\n",
    "    \n",
    "    \n",
    "    2. All chains of recursion must eventually reach a base case."
   ]
  },
  {
   "cell_type": "markdown",
   "metadata": {},
   "source": [
    "3. What is the exact result of anagram (\"foo\")?"
   ]
  },
  {
   "cell_type": "markdown",
   "metadata": {},
   "source": [
    "oof"
   ]
  },
  {
   "cell_type": "markdown",
   "metadata": {},
   "source": [
    "4. Trace recPower(3,6) and figure out exactly how many multiplications it performs."
   ]
  },
  {
   "cell_type": "markdown",
   "metadata": {},
   "source": [
    "729"
   ]
  },
  {
   "cell_type": "markdown",
   "metadata": {},
   "source": [
    "5. Why are divide-and-conquer algorithms often very effecient?"
   ]
  },
  {
   "cell_type": "markdown",
   "metadata": {},
   "source": [
    "Divide-and-conquer algorithms naturally tend to make efficient use of memory caches. The reason is that once a sub-problem is small enough, it and all its sub-problems can, in principle, be solved within the cache, without accessing the slower main memory."
   ]
  },
  {
   "cell_type": "markdown",
   "metadata": {},
   "source": [
    "#### Programming Exercises"
   ]
  },
  {
   "cell_type": "markdown",
   "metadata": {},
   "source": [
    "1. Modify the recursive Fibonacci program given in this chapter so that is prints tracing information. Specifically, have the function print a message when it is called and when it returns. For example, the out should should contain lines like these:\n",
    "\n",
    "    Computing fib(4)\n",
    "    ...\n",
    "    Leaving fib(4) returning 3\n",
    "    \n",
    "    Use your modified version of fib to compute fib(10) and count how many times fib(3) is computed in the process."
   ]
  },
  {
   "cell_type": "code",
   "execution_count": 98,
   "metadata": {},
   "outputs": [],
   "source": [
    "def moveTower(n, source, dest, temp):\n",
    "    \n",
    "    count = 0\n",
    "    \n",
    "    if n == 1:\n",
    "        print(\"Move disk from\", source, \"to\", dest + \".\")\n",
    "    \n",
    "    else:\n",
    "        moveTower(n - 1, source, temp, dest)\n",
    "        moveTower(1, source, dest, temp)\n",
    "        moveTower(n - 1, temp, dest, source)"
   ]
  },
  {
   "cell_type": "code",
   "execution_count": 99,
   "metadata": {},
   "outputs": [],
   "source": [
    "def hanoi(n):\n",
    "    moveTower(n, \"A\", \"C\", \"B\")"
   ]
  },
  {
   "cell_type": "code",
   "execution_count": 100,
   "metadata": {},
   "outputs": [
    {
     "name": "stdout",
     "output_type": "stream",
     "text": [
      "Move disk from A to C.\n",
      "Move disk from A to B.\n",
      "Move disk from C to B.\n",
      "Move disk from A to C.\n",
      "Move disk from B to A.\n",
      "Move disk from B to C.\n",
      "Move disk from A to C.\n"
     ]
    }
   ],
   "source": [
    "hanoi(3)"
   ]
  },
  {
   "cell_type": "code",
   "execution_count": 127,
   "metadata": {},
   "outputs": [],
   "source": [
    "def fib(n):\n",
    "    print(\"Computing fib({0})\".format(n))\n",
    "    \n",
    "    if n < 3:\n",
    "        return 1\n",
    "    \n",
    "    else:\n",
    "        print(\"Leaving fib({0}), returning fib({1})\".format(n, fib(n-1) + fib(n-2)))\n",
    "        return fib(n-1) + fib(n-2)"
   ]
  },
  {
   "cell_type": "code",
   "execution_count": 130,
   "metadata": {},
   "outputs": [
    {
     "name": "stdout",
     "output_type": "stream",
     "text": [
      "Computing fib(4)\n",
      "Computing fib(3)\n",
      "Computing fib(2)\n",
      "Computing fib(1)\n",
      "Leaving fib(3), returning fib(2)\n",
      "Computing fib(2)\n",
      "Computing fib(1)\n",
      "Computing fib(2)\n",
      "Leaving fib(4), returning fib(3)\n",
      "Computing fib(3)\n",
      "Computing fib(2)\n",
      "Computing fib(1)\n",
      "Leaving fib(3), returning fib(2)\n",
      "Computing fib(2)\n",
      "Computing fib(1)\n",
      "Computing fib(2)\n"
     ]
    },
    {
     "data": {
      "text/plain": [
       "3"
      ]
     },
     "execution_count": 130,
     "metadata": {},
     "output_type": "execute_result"
    }
   ],
   "source": [
    "fib(4)"
   ]
  },
  {
   "cell_type": "markdown",
   "metadata": {},
   "source": [
    "3. A palindrome is a sentence that contains the same sequence of letters reading either forwards or backwards. \n",
    "\n",
    "    Check the textbook for more information."
   ]
  },
  {
   "cell_type": "code",
   "execution_count": 133,
   "metadata": {},
   "outputs": [
    {
     "name": "stdout",
     "output_type": "stream",
     "text": [
      "Type a phrase to check for palindrome status....a man, a plan, a canal, Panama!\n",
      "The phrase is not a palindrome.\n"
     ]
    }
   ],
   "source": [
    "def palindrome(xStr, firstRun=True):\n",
    "    if firstRun == True:\n",
    "        for ch in '<}{ ][>.?/:;\\|+=-_),(*&^%$#@!~`':\n",
    "            xStr.replace(ch, \"\")\n",
    "        xStr = xStr.lower()\n",
    "    \n",
    "    if len(xStr) < 2:\n",
    "        return True\n",
    "    \n",
    "    elif xStr[0] == xStr[-1]:\n",
    "        xStr = xStr[1:-1]\n",
    "        palindrome(xStr, firstRun=False)\n",
    "        return True\n",
    "    \n",
    "    else:\n",
    "        return False\n",
    "        \n",
    "def main():\n",
    "    xStr = input(\"Type a phrase to check for palindrome status....\")\n",
    "    \n",
    "    if palindrome(xStr) is True:\n",
    "        print(\"The phrase is a palindrome.\")\n",
    "    else:\n",
    "        print(\"The phrase is not a palindrome.\")\n",
    "        \n",
    "main()"
   ]
  },
  {
   "cell_type": "markdown",
   "metadata": {},
   "source": [
    "4. Write and test a recursive function max to find the largest number in a list. The max is the larger of the first item and the max of all other other items."
   ]
  },
  {
   "cell_type": "code",
   "execution_count": null,
   "metadata": {},
   "outputs": [],
   "source": []
  },
  {
   "cell_type": "markdown",
   "metadata": {},
   "source": [
    "7. Write both an iterative and recursive function to compute combinations and compare the effeciency of your two solution.\n",
    "\n",
    "    Hint: when k = 1, cnk = n and when n < k, cnk = 0.\n",
    "    \n",
    "    Check the textbook for more information."
   ]
  },
  {
   "cell_type": "code",
   "execution_count": null,
   "metadata": {},
   "outputs": [],
   "source": []
  },
  {
   "cell_type": "markdown",
   "metadata": {},
   "source": [
    "8. Implement this algorithm with a Turtle classthat contains instance variables location (a Point) and Direction (a float) and methods such as moveTo(somePoint), draw(length), and turn(degrees).\n",
    "\n",
    "    If you maintain direction as an angle in radians, the point you are going to can easily be computed from your current location.\n",
    "    \n",
    "    Just use dx = length * cos(direction) and dy = length * sin(direction)."
   ]
  },
  {
   "cell_type": "code",
   "execution_count": null,
   "metadata": {},
   "outputs": [],
   "source": []
  },
  {
   "cell_type": "markdown",
   "metadata": {},
   "source": [
    "9. Using an approach similar to the previous exercise, write a program that draws a C-curve. Hint: your turtle will do the following:\n",
    "\n",
    "    Check the textbook for more information."
   ]
  },
  {
   "cell_type": "code",
   "execution_count": null,
   "metadata": {},
   "outputs": [],
   "source": []
  }
 ],
 "metadata": {
  "kernelspec": {
   "display_name": "Python 3",
   "language": "python",
   "name": "python3"
  },
  "language_info": {
   "codemirror_mode": {
    "name": "ipython",
    "version": 3
   },
   "file_extension": ".py",
   "mimetype": "text/x-python",
   "name": "python",
   "nbconvert_exporter": "python",
   "pygments_lexer": "ipython3",
   "version": "3.7.6"
  }
 },
 "nbformat": 4,
 "nbformat_minor": 4
}
