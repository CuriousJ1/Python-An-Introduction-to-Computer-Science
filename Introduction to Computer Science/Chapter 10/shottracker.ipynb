{
 "cells": [
  {
   "cell_type": "code",
   "execution_count": null,
   "metadata": {},
   "outputs": [],
   "source": [
    "class ShotTracker:   \n",
    "    \n",
    "    def __init__(self, win, angle, velocity, height):\n",
    "   \n",
    "        \"\"\"\n",
    "        Win is the GraphWin to display the shot. angle, velocity,\n",
    "        and height are initial projectile parameters.\n",
    "        \"\"\"\n",
    "    \n",
    "        self.proj = Projectile(angle, velocity, height)\n",
    "        self.marker = Circle(Point(0, height), 3)\n",
    "        self.marker.setFill(\"red\")\n",
    "        self.marker.setOutline(\"red\")\n",
    "        self.marker.draw(win)\n",
    "\n",
    "    def update(self, dt):\n",
    "    \n",
    "        \"\"\"\n",
    "        Move the shot dt seconds farther along its flight\n",
    "        \"\"\"\n",
    "    \n",
    "        # Update the projectile\n",
    "        self.proj.update(dt)\n",
    "    \n",
    "        # Move the circle to the new projectile location\n",
    "        center = self.marker.getCenter()\n",
    "        dx = self.proj.getX() - center.getX()\n",
    "        dy = self.proj.getY() - center.getY()\n",
    "        self.marker.move(dx, dy)\n",
    "    \n",
    "    def getX(self):\n",
    "    \n",
    "        \"\"\"\n",
    "        return the current x coordinate of the shot's center\n",
    "        \"\"\"\n",
    "    \n",
    "        return self.proj.getX()\n",
    "\n",
    "    def getY(self):\n",
    "    \n",
    "        \"\"\"\n",
    "        return the current y coorindate of the shot's center\n",
    "        \"\"\"\n",
    "    \n",
    "        return self.proj.getY()\n",
    "\n",
    "    def undraw(self):\n",
    "    \n",
    "        \"\"\"\n",
    "        undraw the shot\n",
    "        \"\"\"\n",
    "    \n",
    "        self.market.undraw()"
   ]
  }
 ],
 "metadata": {
  "kernelspec": {
   "display_name": "Python 3",
   "language": "python",
   "name": "python3"
  },
  "language_info": {
   "codemirror_mode": {
    "name": "ipython",
    "version": 3
   },
   "file_extension": ".py",
   "mimetype": "text/x-python",
   "name": "python",
   "nbconvert_exporter": "python",
   "pygments_lexer": "ipython3",
   "version": "3.7.6"
  }
 },
 "nbformat": 4,
 "nbformat_minor": 4
}
